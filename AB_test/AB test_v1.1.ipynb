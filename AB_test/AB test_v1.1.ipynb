{
 "cells": [
  {
   "cell_type": "markdown",
   "metadata": {},
   "source": [
    "# Приоритизация гипотез для увеличения выручки интернет магазина. Анализ A/B-теста."
   ]
  },
  {
   "cell_type": "markdown",
   "metadata": {},
   "source": [
    "Описание данных:\n",
    "\n",
    "- Данные для первой части:\n",
    "\n",
    "-  Файл /datasets/hypothesis.csv\n",
    " -  Hypothesis — краткое описание гипотезы;\n",
    " -  Reach — охват пользователей по 10-балльной шкале;\n",
    " -  Impact — влияние на пользователей по 10-балльной шкале;\n",
    " -  Confidence — уверенность в гипотезе по 10-балльной шкале;\n",
    " -  Efforts — затраты ресурсов на проверку гипотезы по 10-балльной шкале. Чем больше значение Efforts, тем дороже проверка гипотезы.\n",
    "\n",
    "- Данные для второй части:\n",
    "\n",
    "-  Файл /datasets/orders.csv\n",
    "  -  transactionId — идентификатор заказа;\n",
    "  -  visitorId — идентификатор пользователя, совершившего заказ;\n",
    "  -  date — дата, когда был совершён заказ;\n",
    "  -  revenue — выручка заказа;\n",
    "  -  group — группа A/B-теста, в которую попал заказ.\n",
    "  \n",
    "- Файл /datasets/visitors.csv\n",
    " \n",
    "  -  date — дата;\n",
    "  -  group — группа A/B-теста;\n",
    "  -  visitors — количество пользователей в указанную дату в указанной группе A/B-теста"
   ]
  },
  {
   "cell_type": "markdown",
   "metadata": {},
   "source": [
    "## Изучение данных из файла"
   ]
  },
  {
   "cell_type": "code",
   "execution_count": 1,
   "metadata": {},
   "outputs": [],
   "source": [
    "import pandas as pd\n",
    "import numpy as np\n",
    "import matplotlib.pyplot as plt\n",
    "import warnings\n",
    "import scipy.stats as st\n"
   ]
  },
  {
   "cell_type": "code",
   "execution_count": 2,
   "metadata": {},
   "outputs": [],
   "source": [
    "warnings.filterwarnings(\"ignore\")\n",
    "pd.set_option('display.max_colwidth', 200)"
   ]
  },
  {
   "cell_type": "code",
   "execution_count": 3,
   "metadata": {},
   "outputs": [],
   "source": [
    "hypothesis = pd.read_csv('/datasets/hypothesis.csv')\n",
    "orders = pd.read_csv('/datasets/orders.csv')\n",
    "visitors = pd.read_csv('/datasets/visitors.csv')\n"
   ]
  },
  {
   "cell_type": "code",
   "execution_count": 4,
   "metadata": {},
   "outputs": [
    {
     "data": {
      "text/html": [
       "<div>\n",
       "<style scoped>\n",
       "    .dataframe tbody tr th:only-of-type {\n",
       "        vertical-align: middle;\n",
       "    }\n",
       "\n",
       "    .dataframe tbody tr th {\n",
       "        vertical-align: top;\n",
       "    }\n",
       "\n",
       "    .dataframe thead th {\n",
       "        text-align: right;\n",
       "    }\n",
       "</style>\n",
       "<table border=\"1\" class=\"dataframe\">\n",
       "  <thead>\n",
       "    <tr style=\"text-align: right;\">\n",
       "      <th></th>\n",
       "      <th>Hypothesis</th>\n",
       "      <th>Reach</th>\n",
       "      <th>Impact</th>\n",
       "      <th>Confidence</th>\n",
       "      <th>Efforts</th>\n",
       "    </tr>\n",
       "  </thead>\n",
       "  <tbody>\n",
       "    <tr>\n",
       "      <td>0</td>\n",
       "      <td>Добавить два новых канала привлечения трафика, что позволит привлекать на 30% больше пользователей</td>\n",
       "      <td>3</td>\n",
       "      <td>10</td>\n",
       "      <td>8</td>\n",
       "      <td>6</td>\n",
       "    </tr>\n",
       "    <tr>\n",
       "      <td>1</td>\n",
       "      <td>Запустить собственную службу доставки, что сократит срок доставки заказов</td>\n",
       "      <td>2</td>\n",
       "      <td>5</td>\n",
       "      <td>4</td>\n",
       "      <td>10</td>\n",
       "    </tr>\n",
       "    <tr>\n",
       "      <td>2</td>\n",
       "      <td>Добавить блоки рекомендаций товаров на сайт интернет магазина, чтобы повысить конверсию и средний чек заказа</td>\n",
       "      <td>8</td>\n",
       "      <td>3</td>\n",
       "      <td>7</td>\n",
       "      <td>3</td>\n",
       "    </tr>\n",
       "    <tr>\n",
       "      <td>3</td>\n",
       "      <td>Изменить структура категорий, что увеличит конверсию, т.к. пользователи быстрее найдут нужный товар</td>\n",
       "      <td>8</td>\n",
       "      <td>3</td>\n",
       "      <td>3</td>\n",
       "      <td>8</td>\n",
       "    </tr>\n",
       "    <tr>\n",
       "      <td>4</td>\n",
       "      <td>Изменить цвет фона главной страницы, чтобы увеличить вовлеченность пользователей</td>\n",
       "      <td>3</td>\n",
       "      <td>1</td>\n",
       "      <td>1</td>\n",
       "      <td>1</td>\n",
       "    </tr>\n",
       "  </tbody>\n",
       "</table>\n",
       "</div>"
      ],
      "text/plain": [
       "                                                                                                     Hypothesis  \\\n",
       "0            Добавить два новых канала привлечения трафика, что позволит привлекать на 30% больше пользователей   \n",
       "1                                     Запустить собственную службу доставки, что сократит срок доставки заказов   \n",
       "2  Добавить блоки рекомендаций товаров на сайт интернет магазина, чтобы повысить конверсию и средний чек заказа   \n",
       "3           Изменить структура категорий, что увеличит конверсию, т.к. пользователи быстрее найдут нужный товар   \n",
       "4                              Изменить цвет фона главной страницы, чтобы увеличить вовлеченность пользователей   \n",
       "\n",
       "   Reach  Impact  Confidence  Efforts  \n",
       "0      3      10           8        6  \n",
       "1      2       5           4       10  \n",
       "2      8       3           7        3  \n",
       "3      8       3           3        8  \n",
       "4      3       1           1        1  "
      ]
     },
     "metadata": {},
     "output_type": "display_data"
    },
    {
     "data": {
      "text/html": [
       "<div>\n",
       "<style scoped>\n",
       "    .dataframe tbody tr th:only-of-type {\n",
       "        vertical-align: middle;\n",
       "    }\n",
       "\n",
       "    .dataframe tbody tr th {\n",
       "        vertical-align: top;\n",
       "    }\n",
       "\n",
       "    .dataframe thead th {\n",
       "        text-align: right;\n",
       "    }\n",
       "</style>\n",
       "<table border=\"1\" class=\"dataframe\">\n",
       "  <thead>\n",
       "    <tr style=\"text-align: right;\">\n",
       "      <th></th>\n",
       "      <th>transactionId</th>\n",
       "      <th>visitorId</th>\n",
       "      <th>date</th>\n",
       "      <th>revenue</th>\n",
       "      <th>group</th>\n",
       "    </tr>\n",
       "  </thead>\n",
       "  <tbody>\n",
       "    <tr>\n",
       "      <td>0</td>\n",
       "      <td>3667963787</td>\n",
       "      <td>3312258926</td>\n",
       "      <td>2019-08-15</td>\n",
       "      <td>1650</td>\n",
       "      <td>B</td>\n",
       "    </tr>\n",
       "    <tr>\n",
       "      <td>1</td>\n",
       "      <td>2804400009</td>\n",
       "      <td>3642806036</td>\n",
       "      <td>2019-08-15</td>\n",
       "      <td>730</td>\n",
       "      <td>B</td>\n",
       "    </tr>\n",
       "    <tr>\n",
       "      <td>2</td>\n",
       "      <td>2961555356</td>\n",
       "      <td>4069496402</td>\n",
       "      <td>2019-08-15</td>\n",
       "      <td>400</td>\n",
       "      <td>A</td>\n",
       "    </tr>\n",
       "    <tr>\n",
       "      <td>3</td>\n",
       "      <td>3797467345</td>\n",
       "      <td>1196621759</td>\n",
       "      <td>2019-08-15</td>\n",
       "      <td>9759</td>\n",
       "      <td>B</td>\n",
       "    </tr>\n",
       "    <tr>\n",
       "      <td>4</td>\n",
       "      <td>2282983706</td>\n",
       "      <td>2322279887</td>\n",
       "      <td>2019-08-15</td>\n",
       "      <td>2308</td>\n",
       "      <td>B</td>\n",
       "    </tr>\n",
       "  </tbody>\n",
       "</table>\n",
       "</div>"
      ],
      "text/plain": [
       "   transactionId   visitorId        date  revenue group\n",
       "0     3667963787  3312258926  2019-08-15     1650     B\n",
       "1     2804400009  3642806036  2019-08-15      730     B\n",
       "2     2961555356  4069496402  2019-08-15      400     A\n",
       "3     3797467345  1196621759  2019-08-15     9759     B\n",
       "4     2282983706  2322279887  2019-08-15     2308     B"
      ]
     },
     "metadata": {},
     "output_type": "display_data"
    },
    {
     "data": {
      "text/html": [
       "<div>\n",
       "<style scoped>\n",
       "    .dataframe tbody tr th:only-of-type {\n",
       "        vertical-align: middle;\n",
       "    }\n",
       "\n",
       "    .dataframe tbody tr th {\n",
       "        vertical-align: top;\n",
       "    }\n",
       "\n",
       "    .dataframe thead th {\n",
       "        text-align: right;\n",
       "    }\n",
       "</style>\n",
       "<table border=\"1\" class=\"dataframe\">\n",
       "  <thead>\n",
       "    <tr style=\"text-align: right;\">\n",
       "      <th></th>\n",
       "      <th>date</th>\n",
       "      <th>group</th>\n",
       "      <th>visitors</th>\n",
       "    </tr>\n",
       "  </thead>\n",
       "  <tbody>\n",
       "    <tr>\n",
       "      <td>0</td>\n",
       "      <td>2019-08-01</td>\n",
       "      <td>A</td>\n",
       "      <td>719</td>\n",
       "    </tr>\n",
       "    <tr>\n",
       "      <td>1</td>\n",
       "      <td>2019-08-02</td>\n",
       "      <td>A</td>\n",
       "      <td>619</td>\n",
       "    </tr>\n",
       "    <tr>\n",
       "      <td>2</td>\n",
       "      <td>2019-08-03</td>\n",
       "      <td>A</td>\n",
       "      <td>507</td>\n",
       "    </tr>\n",
       "    <tr>\n",
       "      <td>3</td>\n",
       "      <td>2019-08-04</td>\n",
       "      <td>A</td>\n",
       "      <td>717</td>\n",
       "    </tr>\n",
       "    <tr>\n",
       "      <td>4</td>\n",
       "      <td>2019-08-05</td>\n",
       "      <td>A</td>\n",
       "      <td>756</td>\n",
       "    </tr>\n",
       "  </tbody>\n",
       "</table>\n",
       "</div>"
      ],
      "text/plain": [
       "         date group  visitors\n",
       "0  2019-08-01     A       719\n",
       "1  2019-08-02     A       619\n",
       "2  2019-08-03     A       507\n",
       "3  2019-08-04     A       717\n",
       "4  2019-08-05     A       756"
      ]
     },
     "metadata": {},
     "output_type": "display_data"
    }
   ],
   "source": [
    "display(hypothesis.head())\n",
    "display(orders.head())\n",
    "display(visitors.head())"
   ]
  },
  {
   "cell_type": "code",
   "execution_count": 5,
   "metadata": {},
   "outputs": [
    {
     "name": "stdout",
     "output_type": "stream",
     "text": [
      "hypothesis\n",
      "<class 'pandas.core.frame.DataFrame'>\n",
      "RangeIndex: 9 entries, 0 to 8\n",
      "Data columns (total 5 columns):\n",
      "Hypothesis    9 non-null object\n",
      "Reach         9 non-null int64\n",
      "Impact        9 non-null int64\n",
      "Confidence    9 non-null int64\n",
      "Efforts       9 non-null int64\n",
      "dtypes: int64(4), object(1)\n",
      "memory usage: 488.0+ bytes\n"
     ]
    },
    {
     "data": {
      "text/plain": [
       "None"
      ]
     },
     "metadata": {},
     "output_type": "display_data"
    },
    {
     "name": "stdout",
     "output_type": "stream",
     "text": [
      "orders\n",
      "<class 'pandas.core.frame.DataFrame'>\n",
      "RangeIndex: 1197 entries, 0 to 1196\n",
      "Data columns (total 5 columns):\n",
      "transactionId    1197 non-null int64\n",
      "visitorId        1197 non-null int64\n",
      "date             1197 non-null object\n",
      "revenue          1197 non-null int64\n",
      "group            1197 non-null object\n",
      "dtypes: int64(3), object(2)\n",
      "memory usage: 46.9+ KB\n"
     ]
    },
    {
     "data": {
      "text/plain": [
       "None"
      ]
     },
     "metadata": {},
     "output_type": "display_data"
    },
    {
     "name": "stdout",
     "output_type": "stream",
     "text": [
      "visitors\n",
      "<class 'pandas.core.frame.DataFrame'>\n",
      "RangeIndex: 62 entries, 0 to 61\n",
      "Data columns (total 3 columns):\n",
      "date        62 non-null object\n",
      "group       62 non-null object\n",
      "visitors    62 non-null int64\n",
      "dtypes: int64(1), object(2)\n",
      "memory usage: 1.6+ KB\n"
     ]
    },
    {
     "data": {
      "text/plain": [
       "None"
      ]
     },
     "metadata": {},
     "output_type": "display_data"
    }
   ],
   "source": [
    "print('hypothesis')\n",
    "display(hypothesis.info())\n",
    "print('orders')\n",
    "display(orders.info())\n",
    "print('visitors')\n",
    "display(visitors.info())"
   ]
  },
  {
   "cell_type": "code",
   "execution_count": 6,
   "metadata": {},
   "outputs": [],
   "source": [
    "# def df_overview(df):\n",
    "#     df.info()\n",
    "#     print('\\nСлучайная выборка по данным\\n')\n",
    "#     display(df.sample(n=5, random_state=1))\n",
    "#     print('\\nПервичная статистика по данным\\n')\n",
    "#     display(df.describe().T)\n",
    "#     print('\\nКоличество полных дубликатов:',sum(df.duplicated()))\n",
    "# df_overview(orders)"
   ]
  },
  {
   "cell_type": "markdown",
   "metadata": {},
   "source": [
    "Изучив данные, видим, что необходимо изменить тип данных в столбцах  с датами и заменить стиль написания названий столбцов на snake case "
   ]
  },
  {
   "cell_type": "markdown",
   "metadata": {},
   "source": [
    "## Предобработка данных"
   ]
  },
  {
   "cell_type": "code",
   "execution_count": 7,
   "metadata": {},
   "outputs": [],
   "source": [
    "hypothesis.columns = hypothesis.columns.str.lower()\n",
    "orders = orders.rename(columns = {'transactionId':'transaction_id','visitorId':'visitor_id'})\n",
    "#display(hypothesis.head())\n",
    "#display(orders.head())"
   ]
  },
  {
   "cell_type": "code",
   "execution_count": 8,
   "metadata": {},
   "outputs": [
    {
     "name": "stdout",
     "output_type": "stream",
     "text": [
      "<class 'pandas.core.frame.DataFrame'>\n",
      "RangeIndex: 1197 entries, 0 to 1196\n",
      "Data columns (total 5 columns):\n",
      "transaction_id    1197 non-null int64\n",
      "visitor_id        1197 non-null int64\n",
      "date              1197 non-null datetime64[ns]\n",
      "revenue           1197 non-null int64\n",
      "group             1197 non-null object\n",
      "dtypes: datetime64[ns](1), int64(3), object(1)\n",
      "memory usage: 46.9+ KB\n",
      "<class 'pandas.core.frame.DataFrame'>\n",
      "RangeIndex: 62 entries, 0 to 61\n",
      "Data columns (total 3 columns):\n",
      "date        62 non-null datetime64[ns]\n",
      "group       62 non-null object\n",
      "visitors    62 non-null int64\n",
      "dtypes: datetime64[ns](1), int64(1), object(1)\n",
      "memory usage: 1.6+ KB\n"
     ]
    },
    {
     "data": {
      "text/plain": [
       "None"
      ]
     },
     "metadata": {},
     "output_type": "display_data"
    },
    {
     "data": {
      "text/plain": [
       "None"
      ]
     },
     "metadata": {},
     "output_type": "display_data"
    }
   ],
   "source": [
    "orders['date'] = pd.to_datetime(orders['date'])\n",
    "visitors['date'] = pd.to_datetime(visitors['date'])\n",
    "display(orders.info(), visitors.info())"
   ]
  },
  {
   "cell_type": "code",
   "execution_count": 9,
   "metadata": {},
   "outputs": [
    {
     "name": "stdout",
     "output_type": "stream",
     "text": [
      "Количество пользователей, находящихся одновременно в группе А и В: 58\n"
     ]
    },
    {
     "data": {
      "text/html": [
       "<div>\n",
       "<style scoped>\n",
       "    .dataframe tbody tr th:only-of-type {\n",
       "        vertical-align: middle;\n",
       "    }\n",
       "\n",
       "    .dataframe tbody tr th {\n",
       "        vertical-align: top;\n",
       "    }\n",
       "\n",
       "    .dataframe thead th {\n",
       "        text-align: right;\n",
       "    }\n",
       "</style>\n",
       "<table border=\"1\" class=\"dataframe\">\n",
       "  <thead>\n",
       "    <tr style=\"text-align: right;\">\n",
       "      <th></th>\n",
       "      <th>transaction_id</th>\n",
       "      <th>visitor_id</th>\n",
       "      <th>date</th>\n",
       "      <th>revenue</th>\n",
       "      <th>group</th>\n",
       "    </tr>\n",
       "  </thead>\n",
       "  <tbody>\n",
       "    <tr>\n",
       "      <td>703</td>\n",
       "      <td>4293855558</td>\n",
       "      <td>8300375</td>\n",
       "      <td>2019-08-07</td>\n",
       "      <td>1790</td>\n",
       "      <td>A</td>\n",
       "    </tr>\n",
       "    <tr>\n",
       "      <td>71</td>\n",
       "      <td>3679129301</td>\n",
       "      <td>8300375</td>\n",
       "      <td>2019-08-01</td>\n",
       "      <td>10510</td>\n",
       "      <td>B</td>\n",
       "    </tr>\n",
       "    <tr>\n",
       "      <td>823</td>\n",
       "      <td>2971973105</td>\n",
       "      <td>199603092</td>\n",
       "      <td>2019-08-27</td>\n",
       "      <td>2790</td>\n",
       "      <td>A</td>\n",
       "    </tr>\n",
       "    <tr>\n",
       "      <td>246</td>\n",
       "      <td>437656952</td>\n",
       "      <td>199603092</td>\n",
       "      <td>2019-08-02</td>\n",
       "      <td>3488</td>\n",
       "      <td>B</td>\n",
       "    </tr>\n",
       "    <tr>\n",
       "      <td>26</td>\n",
       "      <td>2223239646</td>\n",
       "      <td>199603092</td>\n",
       "      <td>2019-08-15</td>\n",
       "      <td>3488</td>\n",
       "      <td>A</td>\n",
       "    </tr>\n",
       "  </tbody>\n",
       "</table>\n",
       "</div>"
      ],
      "text/plain": [
       "     transaction_id  visitor_id       date  revenue group\n",
       "703      4293855558     8300375 2019-08-07     1790     A\n",
       "71       3679129301     8300375 2019-08-01    10510     B\n",
       "823      2971973105   199603092 2019-08-27     2790     A\n",
       "246       437656952   199603092 2019-08-02     3488     B\n",
       "26       2223239646   199603092 2019-08-15     3488     A"
      ]
     },
     "metadata": {},
     "output_type": "display_data"
    }
   ],
   "source": [
    "# Находим пользователей присутствующих как в группе А, так и в группе В. \n",
    "orders_a = orders[orders['group'] == 'A']\n",
    "orders_b = orders[orders['group'] == 'B']\n",
    "x = orders_b['visitor_id']\n",
    "double = orders_a.query('visitor_id in @x')\n",
    "double = double['visitor_id']\n",
    "\n",
    "print('Количество пользователей, находящихся одновременно в группе А и В:', double.nunique())\n",
    "display(orders.query('visitor_id in @double').sort_values(by = 'visitor_id').head())"
   ]
  },
  {
   "cell_type": "code",
   "execution_count": 10,
   "metadata": {},
   "outputs": [
    {
     "name": "stdout",
     "output_type": "stream",
     "text": [
      "<class 'pandas.core.frame.DataFrame'>\n",
      "Int64Index: 1016 entries, 0 to 1196\n",
      "Data columns (total 5 columns):\n",
      "transaction_id    1016 non-null int64\n",
      "visitor_id        1016 non-null int64\n",
      "date              1016 non-null datetime64[ns]\n",
      "revenue           1016 non-null int64\n",
      "group             1016 non-null object\n",
      "dtypes: datetime64[ns](1), int64(3), object(1)\n",
      "memory usage: 47.6+ KB\n",
      "None\n"
     ]
    }
   ],
   "source": [
    "#Убираем пользователей попавших в обе группы.\n",
    "orders = orders.query('visitor_id not in @double')\n",
    "print(orders.info())"
   ]
  },
  {
   "cell_type": "markdown",
   "metadata": {},
   "source": [
    "В таблицах были заменены типы данных, названия столбцов. Так же были удалены пользователи, одновременно входящие как в группу А так и в группу В, их количество - 58 человек."
   ]
  },
  {
   "cell_type": "markdown",
   "metadata": {},
   "source": [
    "## Приоритизация гипотез."
   ]
  },
  {
   "cell_type": "code",
   "execution_count": 11,
   "metadata": {},
   "outputs": [
    {
     "data": {
      "text/html": [
       "<div>\n",
       "<style scoped>\n",
       "    .dataframe tbody tr th:only-of-type {\n",
       "        vertical-align: middle;\n",
       "    }\n",
       "\n",
       "    .dataframe tbody tr th {\n",
       "        vertical-align: top;\n",
       "    }\n",
       "\n",
       "    .dataframe thead th {\n",
       "        text-align: right;\n",
       "    }\n",
       "</style>\n",
       "<table border=\"1\" class=\"dataframe\">\n",
       "  <thead>\n",
       "    <tr style=\"text-align: right;\">\n",
       "      <th></th>\n",
       "      <th>hypothesis</th>\n",
       "      <th>reach</th>\n",
       "      <th>impact</th>\n",
       "      <th>confidence</th>\n",
       "      <th>efforts</th>\n",
       "    </tr>\n",
       "  </thead>\n",
       "  <tbody>\n",
       "    <tr>\n",
       "      <td>0</td>\n",
       "      <td>Добавить два новых канала привлечения трафика, что позволит привлекать на 30% больше пользователей</td>\n",
       "      <td>3</td>\n",
       "      <td>10</td>\n",
       "      <td>8</td>\n",
       "      <td>6</td>\n",
       "    </tr>\n",
       "    <tr>\n",
       "      <td>1</td>\n",
       "      <td>Запустить собственную службу доставки, что сократит срок доставки заказов</td>\n",
       "      <td>2</td>\n",
       "      <td>5</td>\n",
       "      <td>4</td>\n",
       "      <td>10</td>\n",
       "    </tr>\n",
       "    <tr>\n",
       "      <td>2</td>\n",
       "      <td>Добавить блоки рекомендаций товаров на сайт интернет магазина, чтобы повысить конверсию и средний чек заказа</td>\n",
       "      <td>8</td>\n",
       "      <td>3</td>\n",
       "      <td>7</td>\n",
       "      <td>3</td>\n",
       "    </tr>\n",
       "    <tr>\n",
       "      <td>3</td>\n",
       "      <td>Изменить структура категорий, что увеличит конверсию, т.к. пользователи быстрее найдут нужный товар</td>\n",
       "      <td>8</td>\n",
       "      <td>3</td>\n",
       "      <td>3</td>\n",
       "      <td>8</td>\n",
       "    </tr>\n",
       "    <tr>\n",
       "      <td>4</td>\n",
       "      <td>Изменить цвет фона главной страницы, чтобы увеличить вовлеченность пользователей</td>\n",
       "      <td>3</td>\n",
       "      <td>1</td>\n",
       "      <td>1</td>\n",
       "      <td>1</td>\n",
       "    </tr>\n",
       "    <tr>\n",
       "      <td>5</td>\n",
       "      <td>Добавить страницу отзывов клиентов о магазине, что позволит увеличить количество заказов</td>\n",
       "      <td>3</td>\n",
       "      <td>2</td>\n",
       "      <td>2</td>\n",
       "      <td>3</td>\n",
       "    </tr>\n",
       "    <tr>\n",
       "      <td>6</td>\n",
       "      <td>Показать на главной странице баннеры с актуальными акциями и распродажами, чтобы увеличить конверсию</td>\n",
       "      <td>5</td>\n",
       "      <td>3</td>\n",
       "      <td>8</td>\n",
       "      <td>3</td>\n",
       "    </tr>\n",
       "    <tr>\n",
       "      <td>7</td>\n",
       "      <td>Добавить форму подписки на все основные страницы, чтобы собрать базу клиентов для email-рассылок</td>\n",
       "      <td>10</td>\n",
       "      <td>7</td>\n",
       "      <td>8</td>\n",
       "      <td>5</td>\n",
       "    </tr>\n",
       "    <tr>\n",
       "      <td>8</td>\n",
       "      <td>Запустить акцию, дающую скидку на товар в день рождения</td>\n",
       "      <td>1</td>\n",
       "      <td>9</td>\n",
       "      <td>9</td>\n",
       "      <td>5</td>\n",
       "    </tr>\n",
       "  </tbody>\n",
       "</table>\n",
       "</div>"
      ],
      "text/plain": [
       "                                                                                                     hypothesis  \\\n",
       "0            Добавить два новых канала привлечения трафика, что позволит привлекать на 30% больше пользователей   \n",
       "1                                     Запустить собственную службу доставки, что сократит срок доставки заказов   \n",
       "2  Добавить блоки рекомендаций товаров на сайт интернет магазина, чтобы повысить конверсию и средний чек заказа   \n",
       "3           Изменить структура категорий, что увеличит конверсию, т.к. пользователи быстрее найдут нужный товар   \n",
       "4                              Изменить цвет фона главной страницы, чтобы увеличить вовлеченность пользователей   \n",
       "5                      Добавить страницу отзывов клиентов о магазине, что позволит увеличить количество заказов   \n",
       "6          Показать на главной странице баннеры с актуальными акциями и распродажами, чтобы увеличить конверсию   \n",
       "7              Добавить форму подписки на все основные страницы, чтобы собрать базу клиентов для email-рассылок   \n",
       "8                                                       Запустить акцию, дающую скидку на товар в день рождения   \n",
       "\n",
       "   reach  impact  confidence  efforts  \n",
       "0      3      10           8        6  \n",
       "1      2       5           4       10  \n",
       "2      8       3           7        3  \n",
       "3      8       3           3        8  \n",
       "4      3       1           1        1  \n",
       "5      3       2           2        3  \n",
       "6      5       3           8        3  \n",
       "7     10       7           8        5  \n",
       "8      1       9           9        5  "
      ]
     },
     "metadata": {},
     "output_type": "display_data"
    }
   ],
   "source": [
    "display(hypothesis)"
   ]
  },
  {
   "cell_type": "markdown",
   "metadata": {},
   "source": [
    "### фреймворк ICE для приоритизации гипотез"
   ]
  },
  {
   "cell_type": "code",
   "execution_count": 12,
   "metadata": {},
   "outputs": [
    {
     "data": {
      "text/html": [
       "<div>\n",
       "<style scoped>\n",
       "    .dataframe tbody tr th:only-of-type {\n",
       "        vertical-align: middle;\n",
       "    }\n",
       "\n",
       "    .dataframe tbody tr th {\n",
       "        vertical-align: top;\n",
       "    }\n",
       "\n",
       "    .dataframe thead th {\n",
       "        text-align: right;\n",
       "    }\n",
       "</style>\n",
       "<table border=\"1\" class=\"dataframe\">\n",
       "  <thead>\n",
       "    <tr style=\"text-align: right;\">\n",
       "      <th></th>\n",
       "      <th>hypothesis</th>\n",
       "      <th>reach</th>\n",
       "      <th>impact</th>\n",
       "      <th>confidence</th>\n",
       "      <th>efforts</th>\n",
       "      <th>ice</th>\n",
       "    </tr>\n",
       "  </thead>\n",
       "  <tbody>\n",
       "    <tr>\n",
       "      <td>8</td>\n",
       "      <td>Запустить акцию, дающую скидку на товар в день рождения</td>\n",
       "      <td>1</td>\n",
       "      <td>9</td>\n",
       "      <td>9</td>\n",
       "      <td>5</td>\n",
       "      <td>16.0</td>\n",
       "    </tr>\n",
       "    <tr>\n",
       "      <td>0</td>\n",
       "      <td>Добавить два новых канала привлечения трафика, что позволит привлекать на 30% больше пользователей</td>\n",
       "      <td>3</td>\n",
       "      <td>10</td>\n",
       "      <td>8</td>\n",
       "      <td>6</td>\n",
       "      <td>13.0</td>\n",
       "    </tr>\n",
       "    <tr>\n",
       "      <td>7</td>\n",
       "      <td>Добавить форму подписки на все основные страницы, чтобы собрать базу клиентов для email-рассылок</td>\n",
       "      <td>10</td>\n",
       "      <td>7</td>\n",
       "      <td>8</td>\n",
       "      <td>5</td>\n",
       "      <td>11.0</td>\n",
       "    </tr>\n",
       "    <tr>\n",
       "      <td>6</td>\n",
       "      <td>Показать на главной странице баннеры с актуальными акциями и распродажами, чтобы увеличить конверсию</td>\n",
       "      <td>5</td>\n",
       "      <td>3</td>\n",
       "      <td>8</td>\n",
       "      <td>3</td>\n",
       "      <td>8.0</td>\n",
       "    </tr>\n",
       "    <tr>\n",
       "      <td>2</td>\n",
       "      <td>Добавить блоки рекомендаций товаров на сайт интернет магазина, чтобы повысить конверсию и средний чек заказа</td>\n",
       "      <td>8</td>\n",
       "      <td>3</td>\n",
       "      <td>7</td>\n",
       "      <td>3</td>\n",
       "      <td>7.0</td>\n",
       "    </tr>\n",
       "    <tr>\n",
       "      <td>1</td>\n",
       "      <td>Запустить собственную службу доставки, что сократит срок доставки заказов</td>\n",
       "      <td>2</td>\n",
       "      <td>5</td>\n",
       "      <td>4</td>\n",
       "      <td>10</td>\n",
       "      <td>2.0</td>\n",
       "    </tr>\n",
       "    <tr>\n",
       "      <td>3</td>\n",
       "      <td>Изменить структура категорий, что увеличит конверсию, т.к. пользователи быстрее найдут нужный товар</td>\n",
       "      <td>8</td>\n",
       "      <td>3</td>\n",
       "      <td>3</td>\n",
       "      <td>8</td>\n",
       "      <td>1.0</td>\n",
       "    </tr>\n",
       "    <tr>\n",
       "      <td>4</td>\n",
       "      <td>Изменить цвет фона главной страницы, чтобы увеличить вовлеченность пользователей</td>\n",
       "      <td>3</td>\n",
       "      <td>1</td>\n",
       "      <td>1</td>\n",
       "      <td>1</td>\n",
       "      <td>1.0</td>\n",
       "    </tr>\n",
       "    <tr>\n",
       "      <td>5</td>\n",
       "      <td>Добавить страницу отзывов клиентов о магазине, что позволит увеличить количество заказов</td>\n",
       "      <td>3</td>\n",
       "      <td>2</td>\n",
       "      <td>2</td>\n",
       "      <td>3</td>\n",
       "      <td>1.0</td>\n",
       "    </tr>\n",
       "  </tbody>\n",
       "</table>\n",
       "</div>"
      ],
      "text/plain": [
       "                                                                                                     hypothesis  \\\n",
       "8                                                       Запустить акцию, дающую скидку на товар в день рождения   \n",
       "0            Добавить два новых канала привлечения трафика, что позволит привлекать на 30% больше пользователей   \n",
       "7              Добавить форму подписки на все основные страницы, чтобы собрать базу клиентов для email-рассылок   \n",
       "6          Показать на главной странице баннеры с актуальными акциями и распродажами, чтобы увеличить конверсию   \n",
       "2  Добавить блоки рекомендаций товаров на сайт интернет магазина, чтобы повысить конверсию и средний чек заказа   \n",
       "1                                     Запустить собственную службу доставки, что сократит срок доставки заказов   \n",
       "3           Изменить структура категорий, что увеличит конверсию, т.к. пользователи быстрее найдут нужный товар   \n",
       "4                              Изменить цвет фона главной страницы, чтобы увеличить вовлеченность пользователей   \n",
       "5                      Добавить страницу отзывов клиентов о магазине, что позволит увеличить количество заказов   \n",
       "\n",
       "   reach  impact  confidence  efforts   ice  \n",
       "8      1       9           9        5  16.0  \n",
       "0      3      10           8        6  13.0  \n",
       "7     10       7           8        5  11.0  \n",
       "6      5       3           8        3   8.0  \n",
       "2      8       3           7        3   7.0  \n",
       "1      2       5           4       10   2.0  \n",
       "3      8       3           3        8   1.0  \n",
       "4      3       1           1        1   1.0  \n",
       "5      3       2           2        3   1.0  "
      ]
     },
     "metadata": {},
     "output_type": "display_data"
    }
   ],
   "source": [
    "hypothesis['ice'] = round(hypothesis['impact']*hypothesis['confidence']/hypothesis['efforts'])\n",
    "display(hypothesis.sort_values(by = 'ice', ascending = False))"
   ]
  },
  {
   "cell_type": "markdown",
   "metadata": {},
   "source": [
    "При проверке приоритета гипотез без учета количества пользователей, которых эта гипотеза затронет наиболее перспективными оказались гипотезы 8, 0 и 7."
   ]
  },
  {
   "cell_type": "markdown",
   "metadata": {},
   "source": [
    "### фреймворк RICE для приоритизации гипотез"
   ]
  },
  {
   "cell_type": "code",
   "execution_count": 13,
   "metadata": {},
   "outputs": [
    {
     "data": {
      "text/html": [
       "<div>\n",
       "<style scoped>\n",
       "    .dataframe tbody tr th:only-of-type {\n",
       "        vertical-align: middle;\n",
       "    }\n",
       "\n",
       "    .dataframe tbody tr th {\n",
       "        vertical-align: top;\n",
       "    }\n",
       "\n",
       "    .dataframe thead th {\n",
       "        text-align: right;\n",
       "    }\n",
       "</style>\n",
       "<table border=\"1\" class=\"dataframe\">\n",
       "  <thead>\n",
       "    <tr style=\"text-align: right;\">\n",
       "      <th></th>\n",
       "      <th>hypothesis</th>\n",
       "      <th>reach</th>\n",
       "      <th>impact</th>\n",
       "      <th>confidence</th>\n",
       "      <th>efforts</th>\n",
       "      <th>ice</th>\n",
       "      <th>rice</th>\n",
       "    </tr>\n",
       "  </thead>\n",
       "  <tbody>\n",
       "    <tr>\n",
       "      <td>7</td>\n",
       "      <td>Добавить форму подписки на все основные страницы, чтобы собрать базу клиентов для email-рассылок</td>\n",
       "      <td>10</td>\n",
       "      <td>7</td>\n",
       "      <td>8</td>\n",
       "      <td>5</td>\n",
       "      <td>11.0</td>\n",
       "      <td>112.0</td>\n",
       "    </tr>\n",
       "    <tr>\n",
       "      <td>2</td>\n",
       "      <td>Добавить блоки рекомендаций товаров на сайт интернет магазина, чтобы повысить конверсию и средний чек заказа</td>\n",
       "      <td>8</td>\n",
       "      <td>3</td>\n",
       "      <td>7</td>\n",
       "      <td>3</td>\n",
       "      <td>7.0</td>\n",
       "      <td>56.0</td>\n",
       "    </tr>\n",
       "    <tr>\n",
       "      <td>0</td>\n",
       "      <td>Добавить два новых канала привлечения трафика, что позволит привлекать на 30% больше пользователей</td>\n",
       "      <td>3</td>\n",
       "      <td>10</td>\n",
       "      <td>8</td>\n",
       "      <td>6</td>\n",
       "      <td>13.0</td>\n",
       "      <td>40.0</td>\n",
       "    </tr>\n",
       "    <tr>\n",
       "      <td>6</td>\n",
       "      <td>Показать на главной странице баннеры с актуальными акциями и распродажами, чтобы увеличить конверсию</td>\n",
       "      <td>5</td>\n",
       "      <td>3</td>\n",
       "      <td>8</td>\n",
       "      <td>3</td>\n",
       "      <td>8.0</td>\n",
       "      <td>40.0</td>\n",
       "    </tr>\n",
       "    <tr>\n",
       "      <td>8</td>\n",
       "      <td>Запустить акцию, дающую скидку на товар в день рождения</td>\n",
       "      <td>1</td>\n",
       "      <td>9</td>\n",
       "      <td>9</td>\n",
       "      <td>5</td>\n",
       "      <td>16.0</td>\n",
       "      <td>16.0</td>\n",
       "    </tr>\n",
       "    <tr>\n",
       "      <td>3</td>\n",
       "      <td>Изменить структура категорий, что увеличит конверсию, т.к. пользователи быстрее найдут нужный товар</td>\n",
       "      <td>8</td>\n",
       "      <td>3</td>\n",
       "      <td>3</td>\n",
       "      <td>8</td>\n",
       "      <td>1.0</td>\n",
       "      <td>9.0</td>\n",
       "    </tr>\n",
       "    <tr>\n",
       "      <td>1</td>\n",
       "      <td>Запустить собственную службу доставки, что сократит срок доставки заказов</td>\n",
       "      <td>2</td>\n",
       "      <td>5</td>\n",
       "      <td>4</td>\n",
       "      <td>10</td>\n",
       "      <td>2.0</td>\n",
       "      <td>4.0</td>\n",
       "    </tr>\n",
       "    <tr>\n",
       "      <td>5</td>\n",
       "      <td>Добавить страницу отзывов клиентов о магазине, что позволит увеличить количество заказов</td>\n",
       "      <td>3</td>\n",
       "      <td>2</td>\n",
       "      <td>2</td>\n",
       "      <td>3</td>\n",
       "      <td>1.0</td>\n",
       "      <td>4.0</td>\n",
       "    </tr>\n",
       "    <tr>\n",
       "      <td>4</td>\n",
       "      <td>Изменить цвет фона главной страницы, чтобы увеличить вовлеченность пользователей</td>\n",
       "      <td>3</td>\n",
       "      <td>1</td>\n",
       "      <td>1</td>\n",
       "      <td>1</td>\n",
       "      <td>1.0</td>\n",
       "      <td>3.0</td>\n",
       "    </tr>\n",
       "  </tbody>\n",
       "</table>\n",
       "</div>"
      ],
      "text/plain": [
       "                                                                                                     hypothesis  \\\n",
       "7              Добавить форму подписки на все основные страницы, чтобы собрать базу клиентов для email-рассылок   \n",
       "2  Добавить блоки рекомендаций товаров на сайт интернет магазина, чтобы повысить конверсию и средний чек заказа   \n",
       "0            Добавить два новых канала привлечения трафика, что позволит привлекать на 30% больше пользователей   \n",
       "6          Показать на главной странице баннеры с актуальными акциями и распродажами, чтобы увеличить конверсию   \n",
       "8                                                       Запустить акцию, дающую скидку на товар в день рождения   \n",
       "3           Изменить структура категорий, что увеличит конверсию, т.к. пользователи быстрее найдут нужный товар   \n",
       "1                                     Запустить собственную службу доставки, что сократит срок доставки заказов   \n",
       "5                      Добавить страницу отзывов клиентов о магазине, что позволит увеличить количество заказов   \n",
       "4                              Изменить цвет фона главной страницы, чтобы увеличить вовлеченность пользователей   \n",
       "\n",
       "   reach  impact  confidence  efforts   ice   rice  \n",
       "7     10       7           8        5  11.0  112.0  \n",
       "2      8       3           7        3   7.0   56.0  \n",
       "0      3      10           8        6  13.0   40.0  \n",
       "6      5       3           8        3   8.0   40.0  \n",
       "8      1       9           9        5  16.0   16.0  \n",
       "3      8       3           3        8   1.0    9.0  \n",
       "1      2       5           4       10   2.0    4.0  \n",
       "5      3       2           2        3   1.0    4.0  \n",
       "4      3       1           1        1   1.0    3.0  "
      ]
     },
     "metadata": {},
     "output_type": "display_data"
    }
   ],
   "source": [
    "hypothesis['rice'] = round(hypothesis['reach']*hypothesis['impact']*hypothesis['confidence']/hypothesis['efforts'])\n",
    "display(hypothesis.sort_values(by = 'rice', ascending = False))"
   ]
  },
  {
   "cell_type": "markdown",
   "metadata": {},
   "source": [
    "При проверке приоритета гипотез методом RICE, наиболее перспективны гипотезы 7, 2 и 0. Исходя из результатов обеих проверок можно предположить, что стоит сосредоточиться на гипотезах 7 и 0. \n",
    "\n",
    "Гипотеза №0: Добавить два новых канала привлечения трафика, что позволит привлекать на 30% больше пользователей.\t\n",
    "\n",
    "Гипотеза №7: Добавить форму подписки на все основные страницы, чтобы собрать базу клиентов для email-рассылок. \n",
    "\n"
   ]
  },
  {
   "cell_type": "markdown",
   "metadata": {},
   "source": [
    "## Анализ A/B-теста"
   ]
  },
  {
   "cell_type": "code",
   "execution_count": 14,
   "metadata": {},
   "outputs": [],
   "source": [
    "#display(orders.head())\n",
    "# display(visitors.head())\n",
    "\n",
    "# создаем массив уникальных пар значений дат и групп теста\n",
    "dates_groups = visitors[['date', 'group']].drop_duplicates()\n",
    "\n",
    "#display(dates_groups)"
   ]
  },
  {
   "cell_type": "code",
   "execution_count": 15,
   "metadata": {},
   "outputs": [
    {
     "data": {
      "text/html": [
       "<div>\n",
       "<style scoped>\n",
       "    .dataframe tbody tr th:only-of-type {\n",
       "        vertical-align: middle;\n",
       "    }\n",
       "\n",
       "    .dataframe tbody tr th {\n",
       "        vertical-align: top;\n",
       "    }\n",
       "\n",
       "    .dataframe thead th {\n",
       "        text-align: right;\n",
       "    }\n",
       "</style>\n",
       "<table border=\"1\" class=\"dataframe\">\n",
       "  <thead>\n",
       "    <tr style=\"text-align: right;\">\n",
       "      <th></th>\n",
       "      <th>date</th>\n",
       "      <th>group</th>\n",
       "      <th>transaction_id</th>\n",
       "      <th>visitor_id</th>\n",
       "      <th>revenue</th>\n",
       "    </tr>\n",
       "  </thead>\n",
       "  <tbody>\n",
       "    <tr>\n",
       "      <td>0</td>\n",
       "      <td>2019-08-01</td>\n",
       "      <td>A</td>\n",
       "      <td>23</td>\n",
       "      <td>19</td>\n",
       "      <td>142779</td>\n",
       "    </tr>\n",
       "    <tr>\n",
       "      <td>31</td>\n",
       "      <td>2019-08-01</td>\n",
       "      <td>B</td>\n",
       "      <td>17</td>\n",
       "      <td>17</td>\n",
       "      <td>59758</td>\n",
       "    </tr>\n",
       "    <tr>\n",
       "      <td>1</td>\n",
       "      <td>2019-08-02</td>\n",
       "      <td>A</td>\n",
       "      <td>42</td>\n",
       "      <td>36</td>\n",
       "      <td>234381</td>\n",
       "    </tr>\n",
       "    <tr>\n",
       "      <td>32</td>\n",
       "      <td>2019-08-02</td>\n",
       "      <td>B</td>\n",
       "      <td>40</td>\n",
       "      <td>39</td>\n",
       "      <td>221801</td>\n",
       "    </tr>\n",
       "    <tr>\n",
       "      <td>2</td>\n",
       "      <td>2019-08-03</td>\n",
       "      <td>A</td>\n",
       "      <td>66</td>\n",
       "      <td>60</td>\n",
       "      <td>346854</td>\n",
       "    </tr>\n",
       "    <tr>\n",
       "      <td>...</td>\n",
       "      <td>...</td>\n",
       "      <td>...</td>\n",
       "      <td>...</td>\n",
       "      <td>...</td>\n",
       "      <td>...</td>\n",
       "    </tr>\n",
       "    <tr>\n",
       "      <td>59</td>\n",
       "      <td>2019-08-29</td>\n",
       "      <td>B</td>\n",
       "      <td>510</td>\n",
       "      <td>490</td>\n",
       "      <td>4746610</td>\n",
       "    </tr>\n",
       "    <tr>\n",
       "      <td>29</td>\n",
       "      <td>2019-08-30</td>\n",
       "      <td>A</td>\n",
       "      <td>460</td>\n",
       "      <td>437</td>\n",
       "      <td>3311413</td>\n",
       "    </tr>\n",
       "    <tr>\n",
       "      <td>60</td>\n",
       "      <td>2019-08-30</td>\n",
       "      <td>B</td>\n",
       "      <td>531</td>\n",
       "      <td>511</td>\n",
       "      <td>4955833</td>\n",
       "    </tr>\n",
       "    <tr>\n",
       "      <td>30</td>\n",
       "      <td>2019-08-31</td>\n",
       "      <td>A</td>\n",
       "      <td>468</td>\n",
       "      <td>445</td>\n",
       "      <td>3364656</td>\n",
       "    </tr>\n",
       "    <tr>\n",
       "      <td>61</td>\n",
       "      <td>2019-08-31</td>\n",
       "      <td>B</td>\n",
       "      <td>548</td>\n",
       "      <td>528</td>\n",
       "      <td>5068972</td>\n",
       "    </tr>\n",
       "  </tbody>\n",
       "</table>\n",
       "<p>62 rows × 5 columns</p>\n",
       "</div>"
      ],
      "text/plain": [
       "         date group  transaction_id  visitor_id  revenue\n",
       "0  2019-08-01     A              23          19   142779\n",
       "31 2019-08-01     B              17          17    59758\n",
       "1  2019-08-02     A              42          36   234381\n",
       "32 2019-08-02     B              40          39   221801\n",
       "2  2019-08-03     A              66          60   346854\n",
       "..        ...   ...             ...         ...      ...\n",
       "59 2019-08-29     B             510         490  4746610\n",
       "29 2019-08-30     A             460         437  3311413\n",
       "60 2019-08-30     B             531         511  4955833\n",
       "30 2019-08-31     A             468         445  3364656\n",
       "61 2019-08-31     B             548         528  5068972\n",
       "\n",
       "[62 rows x 5 columns]"
      ]
     },
     "metadata": {},
     "output_type": "display_data"
    }
   ],
   "source": [
    "# агрегированные кумулятивные по дням данные о выручке\n",
    "orders_aggregated = dates_groups.apply(lambda x: \n",
    "                            orders[np.logical_and(orders['date'] <= x['date'], orders['group'] == x['group'])].agg(\n",
    "                            {'date':'max', 'group':'max','transaction_id':'nunique', 'visitor_id':'nunique',  'revenue':'sum'}),\n",
    "                            axis=1).sort_values(by=['date', 'group'])\n",
    "\n",
    "\n",
    "display(orders_aggregated)"
   ]
  },
  {
   "cell_type": "code",
   "execution_count": 16,
   "metadata": {},
   "outputs": [
    {
     "data": {
      "text/html": [
       "<div>\n",
       "<style scoped>\n",
       "    .dataframe tbody tr th:only-of-type {\n",
       "        vertical-align: middle;\n",
       "    }\n",
       "\n",
       "    .dataframe tbody tr th {\n",
       "        vertical-align: top;\n",
       "    }\n",
       "\n",
       "    .dataframe thead th {\n",
       "        text-align: right;\n",
       "    }\n",
       "</style>\n",
       "<table border=\"1\" class=\"dataframe\">\n",
       "  <thead>\n",
       "    <tr style=\"text-align: right;\">\n",
       "      <th></th>\n",
       "      <th>date</th>\n",
       "      <th>group</th>\n",
       "      <th>visitors</th>\n",
       "    </tr>\n",
       "  </thead>\n",
       "  <tbody>\n",
       "    <tr>\n",
       "      <td>0</td>\n",
       "      <td>2019-08-01</td>\n",
       "      <td>A</td>\n",
       "      <td>719</td>\n",
       "    </tr>\n",
       "    <tr>\n",
       "      <td>1</td>\n",
       "      <td>2019-08-01</td>\n",
       "      <td>B</td>\n",
       "      <td>713</td>\n",
       "    </tr>\n",
       "    <tr>\n",
       "      <td>2</td>\n",
       "      <td>2019-08-02</td>\n",
       "      <td>A</td>\n",
       "      <td>1338</td>\n",
       "    </tr>\n",
       "    <tr>\n",
       "      <td>3</td>\n",
       "      <td>2019-08-02</td>\n",
       "      <td>B</td>\n",
       "      <td>1294</td>\n",
       "    </tr>\n",
       "    <tr>\n",
       "      <td>4</td>\n",
       "      <td>2019-08-03</td>\n",
       "      <td>A</td>\n",
       "      <td>1845</td>\n",
       "    </tr>\n",
       "  </tbody>\n",
       "</table>\n",
       "</div>"
      ],
      "text/plain": [
       "        date group  visitors\n",
       "0 2019-08-01     A       719\n",
       "1 2019-08-01     B       713\n",
       "2 2019-08-02     A      1338\n",
       "3 2019-08-02     B      1294\n",
       "4 2019-08-03     A      1845"
      ]
     },
     "metadata": {},
     "output_type": "display_data"
    }
   ],
   "source": [
    "# агрегированные кумулятивные по дням данные о посетителях\n",
    "visitors_aggregated = dates_groups.apply(lambda x: visitors[np.logical_and(visitors['date'] <= x['date'], visitors['group'] == x['group'])].\n",
    "                                         agg({'date' : 'max', 'group' : 'max', 'visitors' : 'sum'}), axis=1).sort_values(by=['date','group']).reset_index().drop(columns = 'index') \n",
    "\n",
    "display(visitors_aggregated.head())"
   ]
  },
  {
   "cell_type": "code",
   "execution_count": 17,
   "metadata": {},
   "outputs": [
    {
     "data": {
      "text/html": [
       "<div>\n",
       "<style scoped>\n",
       "    .dataframe tbody tr th:only-of-type {\n",
       "        vertical-align: middle;\n",
       "    }\n",
       "\n",
       "    .dataframe tbody tr th {\n",
       "        vertical-align: top;\n",
       "    }\n",
       "\n",
       "    .dataframe thead th {\n",
       "        text-align: right;\n",
       "    }\n",
       "</style>\n",
       "<table border=\"1\" class=\"dataframe\">\n",
       "  <thead>\n",
       "    <tr style=\"text-align: right;\">\n",
       "      <th></th>\n",
       "      <th>date</th>\n",
       "      <th>group</th>\n",
       "      <th>orders</th>\n",
       "      <th>buyers</th>\n",
       "      <th>revenue</th>\n",
       "      <th>visitors</th>\n",
       "    </tr>\n",
       "  </thead>\n",
       "  <tbody>\n",
       "    <tr>\n",
       "      <td>0</td>\n",
       "      <td>2019-08-01</td>\n",
       "      <td>A</td>\n",
       "      <td>23</td>\n",
       "      <td>19</td>\n",
       "      <td>142779</td>\n",
       "      <td>719</td>\n",
       "    </tr>\n",
       "    <tr>\n",
       "      <td>1</td>\n",
       "      <td>2019-08-01</td>\n",
       "      <td>B</td>\n",
       "      <td>17</td>\n",
       "      <td>17</td>\n",
       "      <td>59758</td>\n",
       "      <td>713</td>\n",
       "    </tr>\n",
       "    <tr>\n",
       "      <td>2</td>\n",
       "      <td>2019-08-02</td>\n",
       "      <td>A</td>\n",
       "      <td>42</td>\n",
       "      <td>36</td>\n",
       "      <td>234381</td>\n",
       "      <td>1338</td>\n",
       "    </tr>\n",
       "    <tr>\n",
       "      <td>3</td>\n",
       "      <td>2019-08-02</td>\n",
       "      <td>B</td>\n",
       "      <td>40</td>\n",
       "      <td>39</td>\n",
       "      <td>221801</td>\n",
       "      <td>1294</td>\n",
       "    </tr>\n",
       "    <tr>\n",
       "      <td>4</td>\n",
       "      <td>2019-08-03</td>\n",
       "      <td>A</td>\n",
       "      <td>66</td>\n",
       "      <td>60</td>\n",
       "      <td>346854</td>\n",
       "      <td>1845</td>\n",
       "    </tr>\n",
       "  </tbody>\n",
       "</table>\n",
       "</div>"
      ],
      "text/plain": [
       "        date group  orders  buyers  revenue  visitors\n",
       "0 2019-08-01     A      23      19   142779       719\n",
       "1 2019-08-01     B      17      17    59758       713\n",
       "2 2019-08-02     A      42      36   234381      1338\n",
       "3 2019-08-02     B      40      39   221801      1294\n",
       "4 2019-08-03     A      66      60   346854      1845"
      ]
     },
     "metadata": {},
     "output_type": "display_data"
    }
   ],
   "source": [
    "# общая кумулятивная таблица\n",
    "cumulative_data = orders_aggregated.merge(visitors_aggregated, left_on=['date', 'group'], right_on=['date', 'group'])\n",
    "cumulative_data.columns = ['date', 'group', 'orders', 'buyers', 'revenue', 'visitors']\n",
    "display(cumulative_data.head())"
   ]
  },
  {
   "cell_type": "code",
   "execution_count": 18,
   "metadata": {},
   "outputs": [
    {
     "name": "stdout",
     "output_type": "stream",
     "text": [
      "        date  revenue  orders\n",
      "0 2019-08-01   142779      23\n",
      "2 2019-08-02   234381      42\n",
      "4 2019-08-03   346854      66\n",
      "6 2019-08-04   388030      77\n",
      "8 2019-08-05   474413      99\n"
     ]
    }
   ],
   "source": [
    "\n",
    "# датафрейм с кумулятивным количеством заказов и кумулятивной выручкой по дням в группе А\n",
    "cumulative_revenue_a = cumulative_data[cumulative_data['group']=='A'][['date','revenue', 'orders']]\n",
    "\n",
    "# датафрейм с кумулятивным количеством заказов и кумулятивной выручкой по дням в группе B\n",
    "cumulative_revenue_b = cumulative_data[cumulative_data['group']=='B'][['date','revenue', 'orders']]\n",
    "print(cumulative_revenue_a.head())"
   ]
  },
  {
   "cell_type": "markdown",
   "metadata": {},
   "source": [
    "### график кумулятивной выручки по группам."
   ]
  },
  {
   "cell_type": "code",
   "execution_count": 19,
   "metadata": {},
   "outputs": [
    {
     "data": {
      "image/png": "[encoded data removed]",
      "text/plain": [
       "<Figure size 432x288 with 1 Axes>"
      ]
     },
     "metadata": {
      "needs_background": "light"
     },
     "output_type": "display_data"
    }
   ],
   "source": [
    "# Строим график выручки группы А\n",
    "plt.plot(cumulative_revenue_a['date'], cumulative_revenue_a['revenue'], label='A')\n",
    "\n",
    "# Строим график выручки группы B\n",
    "plt.plot(cumulative_revenue_b['date'], cumulative_revenue_b['revenue'], label='B')\n",
    "plt.xticks(rotation=90)\n",
    "plt.title('График кумулятивной выручки по группам')\n",
    "plt.xlabel('Дата')\n",
    "plt.ylabel('Кумулятивная выручка')\n",
    "plt.legend() \n",
    "plt.annotate('скачок', xy=('2019-08-17', 2800000), xytext=('2019-08-10', 3500000),\n",
    "            arrowprops=dict(facecolor='g'))\n",
    "plt.annotate('отрыв', xy=('2019-08-05', 800000), xytext=('2019-08-05', 2000000),\n",
    "            arrowprops=dict(facecolor='g')) \n",
    "plt.show()"
   ]
  },
  {
   "cell_type": "markdown",
   "metadata": {},
   "source": [
    "По построенному графику видим, что кумулятивная выручка в группе B превосходит таковую в группе A, но есть предположение, что в промежутке между 17 и 21 августа в группе В были совершены аномально дорогие покупки."
   ]
  },
  {
   "cell_type": "markdown",
   "metadata": {},
   "source": [
    "### график кумулятивного среднего чека по группам"
   ]
  },
  {
   "cell_type": "code",
   "execution_count": 20,
   "metadata": {},
   "outputs": [
    {
     "data": {
      "image/png": "[encoded data removed]",
      "text/plain": [
       "<Figure size 432x288 with 1 Axes>"
      ]
     },
     "metadata": {
      "needs_background": "light"
     },
     "output_type": "display_data"
    }
   ],
   "source": [
    "# Строим график среднего чека группы А\n",
    "plt.plot(cumulative_revenue_a['date'], cumulative_revenue_a['revenue']/cumulative_revenue_a['orders'], label='A')\n",
    "\n",
    "# Строим график среднего чека группы B\n",
    "plt.plot(cumulative_revenue_b['date'], cumulative_revenue_b['revenue']/cumulative_revenue_b['orders'], label='B')\n",
    "\n",
    "plt.xticks(rotation=90)\n",
    "plt.title('Графики среднего чека по группам')\n",
    "plt.xlabel('Дата')\n",
    "plt.ylabel('Сумма среднего чека')\n",
    "plt.annotate('скачок', xy=('2019-08-17', 7000), xytext=('2019-08-10', 8000),\n",
    "            arrowprops=dict(facecolor='g'))\n",
    "plt.legend() \n",
    "plt.show()"
   ]
  },
  {
   "cell_type": "markdown",
   "metadata": {},
   "source": [
    "График среднего чека так же подтверждает гнипотезу о том, что в группе В были совершены аномально дорогие покупки. По данному графику сложно понять есть ли различия в среднем чеке по группам."
   ]
  },
  {
   "cell_type": "markdown",
   "metadata": {},
   "source": [
    "### график относительного изменения кумулятивного среднего чека группы B к группе A"
   ]
  },
  {
   "cell_type": "code",
   "execution_count": 21,
   "metadata": {},
   "outputs": [
    {
     "data": {
      "text/html": [
       "<div>\n",
       "<style scoped>\n",
       "    .dataframe tbody tr th:only-of-type {\n",
       "        vertical-align: middle;\n",
       "    }\n",
       "\n",
       "    .dataframe tbody tr th {\n",
       "        vertical-align: top;\n",
       "    }\n",
       "\n",
       "    .dataframe thead th {\n",
       "        text-align: right;\n",
       "    }\n",
       "</style>\n",
       "<table border=\"1\" class=\"dataframe\">\n",
       "  <thead>\n",
       "    <tr style=\"text-align: right;\">\n",
       "      <th></th>\n",
       "      <th>date</th>\n",
       "      <th>revenue_a</th>\n",
       "      <th>orders_a</th>\n",
       "      <th>revenue_b</th>\n",
       "      <th>orders_b</th>\n",
       "    </tr>\n",
       "  </thead>\n",
       "  <tbody>\n",
       "    <tr>\n",
       "      <td>0</td>\n",
       "      <td>2019-08-01</td>\n",
       "      <td>142779</td>\n",
       "      <td>23</td>\n",
       "      <td>59758</td>\n",
       "      <td>17</td>\n",
       "    </tr>\n",
       "    <tr>\n",
       "      <td>1</td>\n",
       "      <td>2019-08-02</td>\n",
       "      <td>234381</td>\n",
       "      <td>42</td>\n",
       "      <td>221801</td>\n",
       "      <td>40</td>\n",
       "    </tr>\n",
       "    <tr>\n",
       "      <td>2</td>\n",
       "      <td>2019-08-03</td>\n",
       "      <td>346854</td>\n",
       "      <td>66</td>\n",
       "      <td>288850</td>\n",
       "      <td>54</td>\n",
       "    </tr>\n",
       "    <tr>\n",
       "      <td>3</td>\n",
       "      <td>2019-08-04</td>\n",
       "      <td>388030</td>\n",
       "      <td>77</td>\n",
       "      <td>385740</td>\n",
       "      <td>68</td>\n",
       "    </tr>\n",
       "    <tr>\n",
       "      <td>4</td>\n",
       "      <td>2019-08-05</td>\n",
       "      <td>474413</td>\n",
       "      <td>99</td>\n",
       "      <td>475648</td>\n",
       "      <td>89</td>\n",
       "    </tr>\n",
       "  </tbody>\n",
       "</table>\n",
       "</div>"
      ],
      "text/plain": [
       "        date  revenue_a  orders_a  revenue_b  orders_b\n",
       "0 2019-08-01     142779        23      59758        17\n",
       "1 2019-08-02     234381        42     221801        40\n",
       "2 2019-08-03     346854        66     288850        54\n",
       "3 2019-08-04     388030        77     385740        68\n",
       "4 2019-08-05     474413        99     475648        89"
      ]
     },
     "metadata": {},
     "output_type": "display_data"
    }
   ],
   "source": [
    "merged_cumulative_revenue = cumulative_revenue_a.merge(cumulative_revenue_b, on = 'date', suffixes = ['_a','_b'])\n",
    "display(merged_cumulative_revenue.head())"
   ]
  },
  {
   "cell_type": "code",
   "execution_count": 22,
   "metadata": {},
   "outputs": [
    {
     "data": {
      "image/png": "[encoded data removed]",
      "text/plain": [
       "<Figure size 432x288 with 1 Axes>"
      ]
     },
     "metadata": {
      "needs_background": "light"
     },
     "output_type": "display_data"
    }
   ],
   "source": [
    "plt.plot(merged_cumulative_revenue['date'], (merged_cumulative_revenue['revenue_b']/merged_cumulative_revenue['orders_b'])/\n",
    "         (merged_cumulative_revenue['revenue_a']/merged_cumulative_revenue['orders_a']) - 1)\n",
    "plt.axhline(0, linestyle = '--', color = 'orange')\n",
    "plt.xticks(rotation = 90)\n",
    "plt.title('Отношение кумулятивного среднего чека группы B к группе A')\n",
    "plt.xlabel('Дата')\n",
    "plt.show()"
   ]
  },
  {
   "cell_type": "markdown",
   "metadata": {},
   "source": [
    "Отношение кумулятивного среднего чека группы B к группе A постоянно колеблется и сложно сказать имеет ли какая - то группа преимущество."
   ]
  },
  {
   "cell_type": "markdown",
   "metadata": {},
   "source": [
    "### график кумулятивной конверсии по группам."
   ]
  },
  {
   "cell_type": "code",
   "execution_count": 23,
   "metadata": {},
   "outputs": [
    {
     "data": {
      "text/html": [
       "<div>\n",
       "<style scoped>\n",
       "    .dataframe tbody tr th:only-of-type {\n",
       "        vertical-align: middle;\n",
       "    }\n",
       "\n",
       "    .dataframe tbody tr th {\n",
       "        vertical-align: top;\n",
       "    }\n",
       "\n",
       "    .dataframe thead th {\n",
       "        text-align: right;\n",
       "    }\n",
       "</style>\n",
       "<table border=\"1\" class=\"dataframe\">\n",
       "  <thead>\n",
       "    <tr style=\"text-align: right;\">\n",
       "      <th></th>\n",
       "      <th>date</th>\n",
       "      <th>group</th>\n",
       "      <th>visitors</th>\n",
       "    </tr>\n",
       "  </thead>\n",
       "  <tbody>\n",
       "    <tr>\n",
       "      <td>0</td>\n",
       "      <td>2019-08-01</td>\n",
       "      <td>A</td>\n",
       "      <td>719</td>\n",
       "    </tr>\n",
       "    <tr>\n",
       "      <td>1</td>\n",
       "      <td>2019-08-01</td>\n",
       "      <td>B</td>\n",
       "      <td>713</td>\n",
       "    </tr>\n",
       "    <tr>\n",
       "      <td>2</td>\n",
       "      <td>2019-08-02</td>\n",
       "      <td>A</td>\n",
       "      <td>1338</td>\n",
       "    </tr>\n",
       "    <tr>\n",
       "      <td>3</td>\n",
       "      <td>2019-08-02</td>\n",
       "      <td>B</td>\n",
       "      <td>1294</td>\n",
       "    </tr>\n",
       "    <tr>\n",
       "      <td>4</td>\n",
       "      <td>2019-08-03</td>\n",
       "      <td>A</td>\n",
       "      <td>1845</td>\n",
       "    </tr>\n",
       "  </tbody>\n",
       "</table>\n",
       "</div>"
      ],
      "text/plain": [
       "        date group  visitors\n",
       "0 2019-08-01     A       719\n",
       "1 2019-08-01     B       713\n",
       "2 2019-08-02     A      1338\n",
       "3 2019-08-02     B      1294\n",
       "4 2019-08-03     A      1845"
      ]
     },
     "metadata": {},
     "output_type": "display_data"
    },
    {
     "data": {
      "text/html": [
       "<div>\n",
       "<style scoped>\n",
       "    .dataframe tbody tr th:only-of-type {\n",
       "        vertical-align: middle;\n",
       "    }\n",
       "\n",
       "    .dataframe tbody tr th {\n",
       "        vertical-align: top;\n",
       "    }\n",
       "\n",
       "    .dataframe thead th {\n",
       "        text-align: right;\n",
       "    }\n",
       "</style>\n",
       "<table border=\"1\" class=\"dataframe\">\n",
       "  <thead>\n",
       "    <tr style=\"text-align: right;\">\n",
       "      <th></th>\n",
       "      <th>date</th>\n",
       "      <th>group</th>\n",
       "      <th>orders</th>\n",
       "      <th>buyers</th>\n",
       "      <th>revenue</th>\n",
       "      <th>visitors</th>\n",
       "      <th>conversion</th>\n",
       "    </tr>\n",
       "  </thead>\n",
       "  <tbody>\n",
       "    <tr>\n",
       "      <td>0</td>\n",
       "      <td>2019-08-01</td>\n",
       "      <td>A</td>\n",
       "      <td>23</td>\n",
       "      <td>19</td>\n",
       "      <td>142779</td>\n",
       "      <td>719</td>\n",
       "      <td>0.026426</td>\n",
       "    </tr>\n",
       "    <tr>\n",
       "      <td>1</td>\n",
       "      <td>2019-08-01</td>\n",
       "      <td>B</td>\n",
       "      <td>17</td>\n",
       "      <td>17</td>\n",
       "      <td>59758</td>\n",
       "      <td>713</td>\n",
       "      <td>0.023843</td>\n",
       "    </tr>\n",
       "    <tr>\n",
       "      <td>2</td>\n",
       "      <td>2019-08-02</td>\n",
       "      <td>A</td>\n",
       "      <td>42</td>\n",
       "      <td>36</td>\n",
       "      <td>234381</td>\n",
       "      <td>1338</td>\n",
       "      <td>0.026906</td>\n",
       "    </tr>\n",
       "    <tr>\n",
       "      <td>3</td>\n",
       "      <td>2019-08-02</td>\n",
       "      <td>B</td>\n",
       "      <td>40</td>\n",
       "      <td>39</td>\n",
       "      <td>221801</td>\n",
       "      <td>1294</td>\n",
       "      <td>0.030139</td>\n",
       "    </tr>\n",
       "    <tr>\n",
       "      <td>4</td>\n",
       "      <td>2019-08-03</td>\n",
       "      <td>A</td>\n",
       "      <td>66</td>\n",
       "      <td>60</td>\n",
       "      <td>346854</td>\n",
       "      <td>1845</td>\n",
       "      <td>0.032520</td>\n",
       "    </tr>\n",
       "  </tbody>\n",
       "</table>\n",
       "</div>"
      ],
      "text/plain": [
       "        date group  orders  buyers  revenue  visitors  conversion\n",
       "0 2019-08-01     A      23      19   142779       719    0.026426\n",
       "1 2019-08-01     B      17      17    59758       713    0.023843\n",
       "2 2019-08-02     A      42      36   234381      1338    0.026906\n",
       "3 2019-08-02     B      40      39   221801      1294    0.030139\n",
       "4 2019-08-03     A      66      60   346854      1845    0.032520"
      ]
     },
     "metadata": {},
     "output_type": "display_data"
    }
   ],
   "source": [
    "display(visitors_aggregated.head())\n",
    "\n",
    "# Добавляем столбец с конверсией посетителей в покупателей\n",
    "cumulative_data['conversion'] = cumulative_data['buyers']/cumulative_data['visitors']\n",
    "display(cumulative_data.head())"
   ]
  },
  {
   "cell_type": "code",
   "execution_count": 24,
   "metadata": {},
   "outputs": [
    {
     "data": {
      "image/png": "[encoded data removed]",
      "text/plain": [
       "<Figure size 432x288 with 1 Axes>"
      ]
     },
     "metadata": {
      "needs_background": "light"
     },
     "output_type": "display_data"
    }
   ],
   "source": [
    "# График кумулятивной конверсии по группам.\n",
    "plt.plot(cumulative_data.query('group == \"A\"')['date'], cumulative_data.query('group == \"A\"')['conversion'], label = 'A')\n",
    "plt.plot(cumulative_data.query('group == \"B\"')['date'], cumulative_data.query('group == \"B\"')['conversion'], label = 'B')\n",
    "plt.xticks(rotation = 90)\n",
    "plt.legend()\n",
    "plt.title('кумулятивная конверсия по группам')\n",
    "plt.axis([\"2019-08-01\", '2019-09-01', 0, 0.035]) \n",
    "plt.xlabel('Дата')\n",
    "plt.ylabel('Конверсия')\n",
    "plt.show()"
   ]
  },
  {
   "cell_type": "markdown",
   "metadata": {},
   "source": [
    "По графику кумулятивной конверсии по группам можно сделать вывод, что в группе В конверсия стабильно выше, чем в группе А.  "
   ]
  },
  {
   "cell_type": "markdown",
   "metadata": {},
   "source": [
    "### график относительного изменения кумулятивной конверсии группы B к группе A"
   ]
  },
  {
   "cell_type": "code",
   "execution_count": 25,
   "metadata": {},
   "outputs": [
    {
     "data": {
      "text/html": [
       "<div>\n",
       "<style scoped>\n",
       "    .dataframe tbody tr th:only-of-type {\n",
       "        vertical-align: middle;\n",
       "    }\n",
       "\n",
       "    .dataframe tbody tr th {\n",
       "        vertical-align: top;\n",
       "    }\n",
       "\n",
       "    .dataframe thead th {\n",
       "        text-align: right;\n",
       "    }\n",
       "</style>\n",
       "<table border=\"1\" class=\"dataframe\">\n",
       "  <thead>\n",
       "    <tr style=\"text-align: right;\">\n",
       "      <th></th>\n",
       "      <th>date</th>\n",
       "      <th>conversion_a</th>\n",
       "      <th>conversion_b</th>\n",
       "    </tr>\n",
       "  </thead>\n",
       "  <tbody>\n",
       "    <tr>\n",
       "      <td>0</td>\n",
       "      <td>2019-08-01</td>\n",
       "      <td>0.026426</td>\n",
       "      <td>0.023843</td>\n",
       "    </tr>\n",
       "    <tr>\n",
       "      <td>1</td>\n",
       "      <td>2019-08-02</td>\n",
       "      <td>0.026906</td>\n",
       "      <td>0.030139</td>\n",
       "    </tr>\n",
       "    <tr>\n",
       "      <td>2</td>\n",
       "      <td>2019-08-03</td>\n",
       "      <td>0.032520</td>\n",
       "      <td>0.029395</td>\n",
       "    </tr>\n",
       "    <tr>\n",
       "      <td>3</td>\n",
       "      <td>2019-08-04</td>\n",
       "      <td>0.027713</td>\n",
       "      <td>0.025651</td>\n",
       "    </tr>\n",
       "    <tr>\n",
       "      <td>4</td>\n",
       "      <td>2019-08-05</td>\n",
       "      <td>0.027728</td>\n",
       "      <td>0.026524</td>\n",
       "    </tr>\n",
       "  </tbody>\n",
       "</table>\n",
       "</div>"
      ],
      "text/plain": [
       "        date  conversion_a  conversion_b\n",
       "0 2019-08-01      0.026426      0.023843\n",
       "1 2019-08-02      0.026906      0.030139\n",
       "2 2019-08-03      0.032520      0.029395\n",
       "3 2019-08-04      0.027713      0.025651\n",
       "4 2019-08-05      0.027728      0.026524"
      ]
     },
     "metadata": {},
     "output_type": "display_data"
    }
   ],
   "source": [
    "merged_сumulative_сonversions = cumulative_data.query('group == \"A\"')[['date','conversion']].merge(cumulative_data.query('group == \"B\"')[['date','conversion']], on = 'date', suffixes = ['_a','_b'])\n",
    "display(merged_сumulative_сonversions.head())"
   ]
  },
  {
   "cell_type": "code",
   "execution_count": 26,
   "metadata": {},
   "outputs": [
    {
     "data": {
      "image/png": "[encoded data removed]",
      "text/plain": [
       "<Figure size 432x288 with 1 Axes>"
      ]
     },
     "metadata": {
      "needs_background": "light"
     },
     "output_type": "display_data"
    }
   ],
   "source": [
    "plt.plot(merged_сumulative_сonversions['date'], merged_сumulative_сonversions['conversion_b']/merged_сumulative_сonversions['conversion_a'] - 1)\n",
    "plt.xticks(rotation = 90)\n",
    "plt.title('Отношение кумулятивной конверсии группы B к A')\n",
    "plt.axhline(0, linestyle = '--', color = 'orange')\n",
    "plt.axhline(0.14, linestyle = '--', color = 'pink')\n",
    "plt.xlabel('Дата')\n",
    "plt.show()"
   ]
  },
  {
   "cell_type": "markdown",
   "metadata": {},
   "source": [
    "В начале теста соотношение конверсии сильно колеблется, после этого начался рост. В середине теста соотношение конверсии пошло на убыль, но по прежнему конверсия в группе В оставалась выше, чем группе А, сейчас виден рост. В целом можно предположить, что конверсия в группе В лучше, чем в группе А . Впрочем, сперва стоит проанализировать аномалии, возможно, они изменят картину. "
   ]
  },
  {
   "cell_type": "markdown",
   "metadata": {},
   "source": [
    "### точечный график количества заказов по пользователям"
   ]
  },
  {
   "cell_type": "code",
   "execution_count": 27,
   "metadata": {},
   "outputs": [
    {
     "data": {
      "image/png": "[encoded data removed]",
      "text/plain": [
       "<Figure size 432x288 with 1 Axes>"
      ]
     },
     "metadata": {
      "needs_background": "light"
     },
     "output_type": "display_data"
    },
    {
     "data": {
      "text/html": [
       "<div>\n",
       "<style scoped>\n",
       "    .dataframe tbody tr th:only-of-type {\n",
       "        vertical-align: middle;\n",
       "    }\n",
       "\n",
       "    .dataframe tbody tr th {\n",
       "        vertical-align: top;\n",
       "    }\n",
       "\n",
       "    .dataframe thead th {\n",
       "        text-align: right;\n",
       "    }\n",
       "</style>\n",
       "<table border=\"1\" class=\"dataframe\">\n",
       "  <thead>\n",
       "    <tr style=\"text-align: right;\">\n",
       "      <th></th>\n",
       "      <th>visitor_id</th>\n",
       "      <th>transaction_id</th>\n",
       "    </tr>\n",
       "  </thead>\n",
       "  <tbody>\n",
       "    <tr>\n",
       "      <td>908</td>\n",
       "      <td>3967698036</td>\n",
       "      <td>3</td>\n",
       "    </tr>\n",
       "    <tr>\n",
       "      <td>55</td>\n",
       "      <td>249864742</td>\n",
       "      <td>3</td>\n",
       "    </tr>\n",
       "    <tr>\n",
       "      <td>478</td>\n",
       "      <td>2108163459</td>\n",
       "      <td>3</td>\n",
       "    </tr>\n",
       "    <tr>\n",
       "      <td>687</td>\n",
       "      <td>2988190573</td>\n",
       "      <td>3</td>\n",
       "    </tr>\n",
       "    <tr>\n",
       "      <td>890</td>\n",
       "      <td>3908431265</td>\n",
       "      <td>3</td>\n",
       "    </tr>\n",
       "  </tbody>\n",
       "</table>\n",
       "</div>"
      ],
      "text/plain": [
       "     visitor_id  transaction_id\n",
       "908  3967698036               3\n",
       "55    249864742               3\n",
       "478  2108163459               3\n",
       "687  2988190573               3\n",
       "890  3908431265               3"
      ]
     },
     "metadata": {},
     "output_type": "display_data"
    }
   ],
   "source": [
    "\n",
    "orders_by_users = orders.groupby('visitor_id', as_index = False).agg({'transaction_id':'nunique'})\n",
    "\n",
    "x_values = pd.Series(range(0, len(orders_by_users['visitor_id'])))\n",
    "plt.scatter(x_values, orders_by_users['transaction_id'])\n",
    "plt.title('количество заказов по пользователям')\n",
    "plt.ylabel('количество заказов')\n",
    "plt.show()\n",
    "\n",
    "display(orders_by_users.sort_values(by = 'transaction_id', ascending = False).head())"
   ]
  },
  {
   "cell_type": "markdown",
   "metadata": {},
   "source": [
    "Присутствуют пользователей с 2-3 заказами. Их точная доля не ясна — непонятно, считать их аномалиями или нет.\n",
    "\n"
   ]
  },
  {
   "cell_type": "markdown",
   "metadata": {},
   "source": [
    "### 95-й и 99-й перцентили количества заказов на пользователя"
   ]
  },
  {
   "cell_type": "code",
   "execution_count": 28,
   "metadata": {},
   "outputs": [
    {
     "name": "stdout",
     "output_type": "stream",
     "text": [
      "[1. 2.]\n"
     ]
    }
   ],
   "source": [
    "print(np.percentile(orders_by_users['transaction_id'],[95, 99]))"
   ]
  },
  {
   "cell_type": "markdown",
   "metadata": {},
   "source": [
    "Видим, что свыше двух заказов имеет только один процент пользователей, поэтому пользователей с количеством заказов больше двух можно исключить. "
   ]
  },
  {
   "cell_type": "markdown",
   "metadata": {},
   "source": [
    "### точечный график стоимостей заказов"
   ]
  },
  {
   "cell_type": "code",
   "execution_count": 29,
   "metadata": {},
   "outputs": [
    {
     "data": {
      "image/png": "[encoded data removed]",
      "text/plain": [
       "<Figure size 432x288 with 1 Axes>"
      ]
     },
     "metadata": {
      "needs_background": "light"
     },
     "output_type": "display_data"
    }
   ],
   "source": [
    "x_values = pd.Series(range(0, len(orders['revenue'])))\n",
    "plt.scatter(x_values, orders['revenue'])\n",
    "plt.ylabel('стоимость заказа')\n",
    "plt.title('график стоимостей заказов')\n",
    "plt.show()"
   ]
  },
  {
   "cell_type": "code",
   "execution_count": 30,
   "metadata": {},
   "outputs": [
    {
     "data": {
      "image/png": "[encoded data removed]",
      "text/plain": [
       "<Figure size 432x288 with 1 Axes>"
      ]
     },
     "metadata": {
      "needs_background": "light"
     },
     "output_type": "display_data"
    }
   ],
   "source": [
    "x_values = pd.Series(range(0, len(orders[orders['group'] == 'B']['revenue'])))\n",
    "plt.scatter(x_values, orders[orders['group'] == 'B']['revenue'])\n",
    "plt.ylabel('стоимость заказа')\n",
    "plt.title('график стоимостей заказов  в группе В')\n",
    "plt.show()"
   ]
  },
  {
   "cell_type": "code",
   "execution_count": 31,
   "metadata": {},
   "outputs": [
    {
     "data": {
      "image/png": "[encoded data removed]",
      "text/plain": [
       "<Figure size 432x288 with 1 Axes>"
      ]
     },
     "metadata": {
      "needs_background": "light"
     },
     "output_type": "display_data"
    }
   ],
   "source": [
    "x_values = pd.Series(range(0, len(orders[orders['group'] == 'A']['revenue'])))\n",
    "plt.scatter(x_values, orders[orders['group'] == 'A']['revenue'])\n",
    "plt.ylabel('стоимость заказа')\n",
    "plt.title('график стоимостей заказов  в группе А')\n",
    "plt.show()"
   ]
  },
  {
   "cell_type": "markdown",
   "metadata": {},
   "source": [
    "Построив точечный график стоимостей заказов видим, что действительно, в группе В были совершены аномально дорогие покупки, повлиявшие на средний чек и выручку в группе."
   ]
  },
  {
   "cell_type": "markdown",
   "metadata": {},
   "source": [
    "### 95-й и 99-й перцентили стоимости заказов"
   ]
  },
  {
   "cell_type": "code",
   "execution_count": 32,
   "metadata": {},
   "outputs": [
    {
     "name": "stdout",
     "output_type": "stream",
     "text": [
      "[26785. 53904.]\n"
     ]
    }
   ],
   "source": [
    "print(np.percentile(orders['revenue'], [95,99]))"
   ]
  },
  {
   "cell_type": "markdown",
   "metadata": {},
   "source": [
    "Исходя из значений 95-й и 99-й перцентили, можно предположить, что стоимость покупок свыше 30000  аномальная и эти покупки стоит убрать из теста."
   ]
  },
  {
   "cell_type": "markdown",
   "metadata": {},
   "source": [
    "### подсчет статистической значимости различий в конверсии между группами по «сырым» данным"
   ]
  },
  {
   "cell_type": "code",
   "execution_count": 33,
   "metadata": {},
   "outputs": [],
   "source": [
    "#display(visitors.head())"
   ]
  },
  {
   "cell_type": "code",
   "execution_count": 34,
   "metadata": {},
   "outputs": [
    {
     "data": {
      "text/html": [
       "<div>\n",
       "<style scoped>\n",
       "    .dataframe tbody tr th:only-of-type {\n",
       "        vertical-align: middle;\n",
       "    }\n",
       "\n",
       "    .dataframe tbody tr th {\n",
       "        vertical-align: top;\n",
       "    }\n",
       "\n",
       "    .dataframe thead th {\n",
       "        text-align: right;\n",
       "    }\n",
       "</style>\n",
       "<table border=\"1\" class=\"dataframe\">\n",
       "  <thead>\n",
       "    <tr style=\"text-align: right;\">\n",
       "      <th></th>\n",
       "      <th>date</th>\n",
       "      <th>visitors_cummulative_a</th>\n",
       "    </tr>\n",
       "  </thead>\n",
       "  <tbody>\n",
       "    <tr>\n",
       "      <td>0</td>\n",
       "      <td>2019-08-01</td>\n",
       "      <td>719</td>\n",
       "    </tr>\n",
       "    <tr>\n",
       "      <td>1</td>\n",
       "      <td>2019-08-02</td>\n",
       "      <td>1338</td>\n",
       "    </tr>\n",
       "    <tr>\n",
       "      <td>2</td>\n",
       "      <td>2019-08-03</td>\n",
       "      <td>1845</td>\n",
       "    </tr>\n",
       "    <tr>\n",
       "      <td>3</td>\n",
       "      <td>2019-08-04</td>\n",
       "      <td>2562</td>\n",
       "    </tr>\n",
       "    <tr>\n",
       "      <td>4</td>\n",
       "      <td>2019-08-05</td>\n",
       "      <td>3318</td>\n",
       "    </tr>\n",
       "  </tbody>\n",
       "</table>\n",
       "</div>"
      ],
      "text/plain": [
       "        date  visitors_cummulative_a\n",
       "0 2019-08-01                     719\n",
       "1 2019-08-02                    1338\n",
       "2 2019-08-03                    1845\n",
       "3 2019-08-04                    2562\n",
       "4 2019-08-05                    3318"
      ]
     },
     "metadata": {},
     "output_type": "display_data"
    },
    {
     "data": {
      "text/html": [
       "<div>\n",
       "<style scoped>\n",
       "    .dataframe tbody tr th:only-of-type {\n",
       "        vertical-align: middle;\n",
       "    }\n",
       "\n",
       "    .dataframe tbody tr th {\n",
       "        vertical-align: top;\n",
       "    }\n",
       "\n",
       "    .dataframe thead th {\n",
       "        text-align: right;\n",
       "    }\n",
       "</style>\n",
       "<table border=\"1\" class=\"dataframe\">\n",
       "  <thead>\n",
       "    <tr style=\"text-align: right;\">\n",
       "      <th></th>\n",
       "      <th>date</th>\n",
       "      <th>visitors_cummulative_b</th>\n",
       "    </tr>\n",
       "  </thead>\n",
       "  <tbody>\n",
       "    <tr>\n",
       "      <td>31</td>\n",
       "      <td>2019-08-01</td>\n",
       "      <td>713</td>\n",
       "    </tr>\n",
       "    <tr>\n",
       "      <td>32</td>\n",
       "      <td>2019-08-02</td>\n",
       "      <td>1294</td>\n",
       "    </tr>\n",
       "    <tr>\n",
       "      <td>33</td>\n",
       "      <td>2019-08-03</td>\n",
       "      <td>1803</td>\n",
       "    </tr>\n",
       "    <tr>\n",
       "      <td>34</td>\n",
       "      <td>2019-08-04</td>\n",
       "      <td>2573</td>\n",
       "    </tr>\n",
       "    <tr>\n",
       "      <td>35</td>\n",
       "      <td>2019-08-05</td>\n",
       "      <td>3280</td>\n",
       "    </tr>\n",
       "  </tbody>\n",
       "</table>\n",
       "</div>"
      ],
      "text/plain": [
       "         date  visitors_cummulative_b\n",
       "31 2019-08-01                     713\n",
       "32 2019-08-02                    1294\n",
       "33 2019-08-03                    1803\n",
       "34 2019-08-04                    2573\n",
       "35 2019-08-05                    3280"
      ]
     },
     "metadata": {},
     "output_type": "display_data"
    },
    {
     "data": {
      "text/html": [
       "<div>\n",
       "<style scoped>\n",
       "    .dataframe tbody tr th:only-of-type {\n",
       "        vertical-align: middle;\n",
       "    }\n",
       "\n",
       "    .dataframe tbody tr th {\n",
       "        vertical-align: top;\n",
       "    }\n",
       "\n",
       "    .dataframe thead th {\n",
       "        text-align: right;\n",
       "    }\n",
       "</style>\n",
       "<table border=\"1\" class=\"dataframe\">\n",
       "  <thead>\n",
       "    <tr style=\"text-align: right;\">\n",
       "      <th></th>\n",
       "      <th>date</th>\n",
       "      <th>visitors_per_date_a</th>\n",
       "    </tr>\n",
       "  </thead>\n",
       "  <tbody>\n",
       "    <tr>\n",
       "      <td>0</td>\n",
       "      <td>2019-08-01</td>\n",
       "      <td>719</td>\n",
       "    </tr>\n",
       "    <tr>\n",
       "      <td>1</td>\n",
       "      <td>2019-08-02</td>\n",
       "      <td>619</td>\n",
       "    </tr>\n",
       "    <tr>\n",
       "      <td>2</td>\n",
       "      <td>2019-08-03</td>\n",
       "      <td>507</td>\n",
       "    </tr>\n",
       "    <tr>\n",
       "      <td>3</td>\n",
       "      <td>2019-08-04</td>\n",
       "      <td>717</td>\n",
       "    </tr>\n",
       "    <tr>\n",
       "      <td>4</td>\n",
       "      <td>2019-08-05</td>\n",
       "      <td>756</td>\n",
       "    </tr>\n",
       "  </tbody>\n",
       "</table>\n",
       "</div>"
      ],
      "text/plain": [
       "        date  visitors_per_date_a\n",
       "0 2019-08-01                  719\n",
       "1 2019-08-02                  619\n",
       "2 2019-08-03                  507\n",
       "3 2019-08-04                  717\n",
       "4 2019-08-05                  756"
      ]
     },
     "metadata": {},
     "output_type": "display_data"
    },
    {
     "data": {
      "text/html": [
       "<div>\n",
       "<style scoped>\n",
       "    .dataframe tbody tr th:only-of-type {\n",
       "        vertical-align: middle;\n",
       "    }\n",
       "\n",
       "    .dataframe tbody tr th {\n",
       "        vertical-align: top;\n",
       "    }\n",
       "\n",
       "    .dataframe thead th {\n",
       "        text-align: right;\n",
       "    }\n",
       "</style>\n",
       "<table border=\"1\" class=\"dataframe\">\n",
       "  <thead>\n",
       "    <tr style=\"text-align: right;\">\n",
       "      <th></th>\n",
       "      <th>date</th>\n",
       "      <th>visitors_per_date_b</th>\n",
       "    </tr>\n",
       "  </thead>\n",
       "  <tbody>\n",
       "    <tr>\n",
       "      <td>31</td>\n",
       "      <td>2019-08-01</td>\n",
       "      <td>713</td>\n",
       "    </tr>\n",
       "    <tr>\n",
       "      <td>32</td>\n",
       "      <td>2019-08-02</td>\n",
       "      <td>581</td>\n",
       "    </tr>\n",
       "    <tr>\n",
       "      <td>33</td>\n",
       "      <td>2019-08-03</td>\n",
       "      <td>509</td>\n",
       "    </tr>\n",
       "    <tr>\n",
       "      <td>34</td>\n",
       "      <td>2019-08-04</td>\n",
       "      <td>770</td>\n",
       "    </tr>\n",
       "    <tr>\n",
       "      <td>35</td>\n",
       "      <td>2019-08-05</td>\n",
       "      <td>707</td>\n",
       "    </tr>\n",
       "  </tbody>\n",
       "</table>\n",
       "</div>"
      ],
      "text/plain": [
       "         date  visitors_per_date_b\n",
       "31 2019-08-01                  713\n",
       "32 2019-08-02                  581\n",
       "33 2019-08-03                  509\n",
       "34 2019-08-04                  770\n",
       "35 2019-08-05                  707"
      ]
     },
     "metadata": {},
     "output_type": "display_data"
    }
   ],
   "source": [
    "# создаем таблицу с количеством посетителей в определенную дату в группе А\n",
    "\n",
    "visitors_a_daily = visitors[visitors['group'] == 'A'][['date', 'visitors']]\n",
    "visitors_a_daily.columns = ['date', 'visitors_per_date_a']\n",
    "\n",
    "# количество посетителей до выбранной даты в группе А .\n",
    "visitors_a_cummulative = visitors_a_daily.apply(\n",
    "    lambda x: visitors_a_daily[visitors_a_daily['date'] <= x['date']].agg(\n",
    "        {'date': 'max', 'visitors_per_date_a': 'sum'}),axis=1)\n",
    "\n",
    "visitors_a_cummulative.columns = ['date', 'visitors_cummulative_a']\n",
    "\n",
    "visitors_b_daily = visitors[visitors['group'] == 'B'][['date', 'visitors']]\n",
    "visitors_b_daily.columns = ['date', 'visitors_per_date_b']\n",
    "\n",
    "visitors_b_cummulative = visitors_b_daily.apply(\n",
    "    lambda x: visitors_b_daily[visitors_b_daily['date'] <= x['date']].agg(\n",
    "        {'date': 'max', 'visitors_per_date_b': 'sum'}),axis=1)\n",
    "\n",
    "visitors_b_cummulative.columns = ['date', 'visitors_cummulative_b']\n",
    "\n",
    "display(visitors_a_cummulative.head(), visitors_b_cummulative.head(), visitors_a_daily.head(),visitors_b_daily.head())"
   ]
  },
  {
   "cell_type": "code",
   "execution_count": 35,
   "metadata": {},
   "outputs": [],
   "source": [
    "# Количество заказов и сумма в группе А по датам\n",
    "orders_a_daily = (\n",
    "    orders[orders['group'] == 'A'][['date', 'transaction_id', 'visitor_id', 'revenue']]\n",
    "    .groupby('date', as_index=False)\n",
    "    .agg({'transaction_id': 'nunique', 'revenue': 'sum'}))\n",
    "\n",
    "orders_a_daily.columns = ['date', 'orders_per_date_a', 'revenue_per_date_a']\n",
    "\n",
    "# Кумулятивное количество заказов и сумма в группе А на определенную дату\n",
    "orders_a_cummulative = orders_a_daily.apply(\n",
    "    lambda x: orders_a_daily[orders_a_daily['date'] <= x['date']].agg(\n",
    "        {'date': 'max', 'orders_per_date_a': 'sum', 'revenue_per_date_a': 'sum'}\n",
    "    ), axis=1).sort_values(by=['date'])\n",
    "\n",
    "orders_a_cummulative.columns = ['date','orders_cummulative_a','revenue_cummulative_a']\n",
    "\n",
    "orders_b_daily = (\n",
    "    orders[orders['group'] == 'B'][['date', 'transaction_id', 'visitor_id', 'revenue']]\n",
    "    .groupby('date', as_index=False)\n",
    "    .agg({'transaction_id': 'nunique', 'revenue': 'sum'}))\n",
    "\n",
    "orders_b_daily.columns = ['date', 'orders_per_date_b', 'revenue_per_date_b']\n",
    "\n",
    "orders_b_cummulative = orders_b_daily.apply(\n",
    "    lambda x: orders_b_daily[orders_b_daily['date'] <= x['date']].agg(\n",
    "        {'date': 'max', 'orders_per_date_b': 'sum', 'revenue_per_date_b': 'sum'}\n",
    "    ), axis=1).sort_values(by=['date'])\n",
    "\n",
    "orders_b_cummulative.columns = ['date','orders_cummulative_b','revenue_cummulative_b']\n",
    "\n",
    "#display(orders_a_daily.head(),orders_a_cummulative.head(), orders_b_daily.head(),orders_b_cummulative.head() )"
   ]
  },
  {
   "cell_type": "code",
   "execution_count": 36,
   "metadata": {},
   "outputs": [
    {
     "data": {
      "text/html": [
       "<div>\n",
       "<style scoped>\n",
       "    .dataframe tbody tr th:only-of-type {\n",
       "        vertical-align: middle;\n",
       "    }\n",
       "\n",
       "    .dataframe tbody tr th {\n",
       "        vertical-align: top;\n",
       "    }\n",
       "\n",
       "    .dataframe thead th {\n",
       "        text-align: right;\n",
       "    }\n",
       "</style>\n",
       "<table border=\"1\" class=\"dataframe\">\n",
       "  <thead>\n",
       "    <tr style=\"text-align: right;\">\n",
       "      <th></th>\n",
       "      <th>date</th>\n",
       "      <th>orders_per_date_a</th>\n",
       "      <th>revenue_per_date_a</th>\n",
       "      <th>orders_per_date_b</th>\n",
       "      <th>revenue_per_date_b</th>\n",
       "      <th>orders_cummulative_a</th>\n",
       "      <th>revenue_cummulative_a</th>\n",
       "      <th>orders_cummulative_b</th>\n",
       "      <th>revenue_cummulative_b</th>\n",
       "      <th>visitors_per_date_a</th>\n",
       "      <th>visitors_per_date_b</th>\n",
       "      <th>visitors_cummulative_a</th>\n",
       "      <th>visitors_cummulative_b</th>\n",
       "    </tr>\n",
       "  </thead>\n",
       "  <tbody>\n",
       "    <tr>\n",
       "      <td>0</td>\n",
       "      <td>2019-08-01</td>\n",
       "      <td>23</td>\n",
       "      <td>142779</td>\n",
       "      <td>17</td>\n",
       "      <td>59758</td>\n",
       "      <td>23</td>\n",
       "      <td>142779</td>\n",
       "      <td>17</td>\n",
       "      <td>59758</td>\n",
       "      <td>719</td>\n",
       "      <td>713</td>\n",
       "      <td>719</td>\n",
       "      <td>713</td>\n",
       "    </tr>\n",
       "    <tr>\n",
       "      <td>1</td>\n",
       "      <td>2019-08-02</td>\n",
       "      <td>19</td>\n",
       "      <td>91602</td>\n",
       "      <td>23</td>\n",
       "      <td>162043</td>\n",
       "      <td>42</td>\n",
       "      <td>234381</td>\n",
       "      <td>40</td>\n",
       "      <td>221801</td>\n",
       "      <td>619</td>\n",
       "      <td>581</td>\n",
       "      <td>1338</td>\n",
       "      <td>1294</td>\n",
       "    </tr>\n",
       "    <tr>\n",
       "      <td>2</td>\n",
       "      <td>2019-08-03</td>\n",
       "      <td>24</td>\n",
       "      <td>112473</td>\n",
       "      <td>14</td>\n",
       "      <td>67049</td>\n",
       "      <td>66</td>\n",
       "      <td>346854</td>\n",
       "      <td>54</td>\n",
       "      <td>288850</td>\n",
       "      <td>507</td>\n",
       "      <td>509</td>\n",
       "      <td>1845</td>\n",
       "      <td>1803</td>\n",
       "    </tr>\n",
       "    <tr>\n",
       "      <td>3</td>\n",
       "      <td>2019-08-04</td>\n",
       "      <td>11</td>\n",
       "      <td>41176</td>\n",
       "      <td>14</td>\n",
       "      <td>96890</td>\n",
       "      <td>77</td>\n",
       "      <td>388030</td>\n",
       "      <td>68</td>\n",
       "      <td>385740</td>\n",
       "      <td>717</td>\n",
       "      <td>770</td>\n",
       "      <td>2562</td>\n",
       "      <td>2573</td>\n",
       "    </tr>\n",
       "    <tr>\n",
       "      <td>4</td>\n",
       "      <td>2019-08-05</td>\n",
       "      <td>22</td>\n",
       "      <td>86383</td>\n",
       "      <td>21</td>\n",
       "      <td>89908</td>\n",
       "      <td>99</td>\n",
       "      <td>474413</td>\n",
       "      <td>89</td>\n",
       "      <td>475648</td>\n",
       "      <td>756</td>\n",
       "      <td>707</td>\n",
       "      <td>3318</td>\n",
       "      <td>3280</td>\n",
       "    </tr>\n",
       "  </tbody>\n",
       "</table>\n",
       "</div>"
      ],
      "text/plain": [
       "        date  orders_per_date_a  revenue_per_date_a  orders_per_date_b  \\\n",
       "0 2019-08-01                 23              142779                 17   \n",
       "1 2019-08-02                 19               91602                 23   \n",
       "2 2019-08-03                 24              112473                 14   \n",
       "3 2019-08-04                 11               41176                 14   \n",
       "4 2019-08-05                 22               86383                 21   \n",
       "\n",
       "   revenue_per_date_b  orders_cummulative_a  revenue_cummulative_a  \\\n",
       "0               59758                    23                 142779   \n",
       "1              162043                    42                 234381   \n",
       "2               67049                    66                 346854   \n",
       "3               96890                    77                 388030   \n",
       "4               89908                    99                 474413   \n",
       "\n",
       "   orders_cummulative_b  revenue_cummulative_b  visitors_per_date_a  \\\n",
       "0                    17                  59758                  719   \n",
       "1                    40                 221801                  619   \n",
       "2                    54                 288850                  507   \n",
       "3                    68                 385740                  717   \n",
       "4                    89                 475648                  756   \n",
       "\n",
       "   visitors_per_date_b  visitors_cummulative_a  visitors_cummulative_b  \n",
       "0                  713                     719                     713  \n",
       "1                  581                    1338                    1294  \n",
       "2                  509                    1845                    1803  \n",
       "3                  770                    2562                    2573  \n",
       "4                  707                    3318                    3280  "
      ]
     },
     "metadata": {},
     "output_type": "display_data"
    }
   ],
   "source": [
    "data = (\n",
    "    orders_a_daily.merge(\n",
    "        orders_b_daily, left_on='date', right_on='date', how='left'\n",
    "    )\n",
    "    .merge(orders_a_cummulative, left_on='date', right_on='date', how='left')\n",
    "    .merge(orders_b_cummulative, left_on='date', right_on='date', how='left')\n",
    "    .merge(visitors_a_daily, left_on='date', right_on='date', how='left')\n",
    "    .merge(visitors_b_daily, left_on='date', right_on='date', how='left')\n",
    "    .merge(visitors_a_cummulative, left_on='date', right_on='date', how='left')\n",
    "    .merge(visitors_b_cummulative, left_on='date', right_on='date', how='left')\n",
    ")\n",
    "\n",
    "display(data.head(5)) "
   ]
  },
  {
   "cell_type": "code",
   "execution_count": 37,
   "metadata": {},
   "outputs": [],
   "source": [
    "# Таблицы с количеством заказов для каждого пользователя.\n",
    "orders_by_users_a = (\n",
    "    orders[orders['group'] == 'A']\n",
    "    .groupby('visitor_id', as_index=False)\n",
    "    .agg({'transaction_id': 'nunique'})\n",
    ")\n",
    "orders_by_users_a.columns = ['user_id', 'orders']\n",
    "\n",
    "orders_by_users_b = (\n",
    "    orders[orders['group'] == 'B']\n",
    "    .groupby('visitor_id', as_index=False)\n",
    "    .agg({'transaction_id': 'nunique'})\n",
    ")\n",
    "orders_by_users_b.columns = ['user_id', 'orders'] "
   ]
  },
  {
   "cell_type": "markdown",
   "metadata": {},
   "source": [
    "Формируем нулевую и альтернативную гипотезу для теста:\n",
    "- Н0 - статистически значимых различий в конверсии между группами нет.\n",
    "- Н1 - различие в конверсии групп А и В статистически значимо."
   ]
  },
  {
   "cell_type": "code",
   "execution_count": 38,
   "metadata": {},
   "outputs": [
    {
     "name": "stdout",
     "output_type": "stream",
     "text": [
      "0.011\n",
      "0.160\n"
     ]
    }
   ],
   "source": [
    "# Создаем объекты Series с количеством заказов каждого пользователя групп А И В\n",
    "\n",
    "sample_a = pd.concat([orders_by_users_a['orders'], pd.Series(0, index=np.arange(\n",
    "           data['visitors_per_date_a'].sum() - len(orders_by_users_a['orders'])),\n",
    "            name='orders')],axis=0)\n",
    "\n",
    "sample_b = pd.concat([orders_by_users_b['orders'],pd.Series(0, index=np.arange(\n",
    "           data['visitors_per_date_b'].sum() - len(orders_by_users_b['orders'])),\n",
    "            name='orders')], axis=0)\n",
    "\n",
    "#print(sample_a.sort_values(ascending = False))\n",
    "\n",
    "print(\"{0:.3f}\".format(st.mannwhitneyu(sample_a, sample_b, alternative = 'two-sided')[1]))\n",
    "\n",
    "print(\"{0:.3f}\".format(sample_b.mean() / sample_a.mean() - 1))"
   ]
  },
  {
   "cell_type": "markdown",
   "metadata": {},
   "source": [
    "Вывод: По «сырым» данным имеются различия в конверсии групп A и B.\n",
    "Первое число — p-value = 0.011, это меньше 0.05. Значит, нулевую гипотезу о том, что статистически значимых различий в конверсии между группами нет, отвергаем. Относительный выигрыш группы B равен 16% ."
   ]
  },
  {
   "cell_type": "markdown",
   "metadata": {},
   "source": [
    "### подсчет статистической значимости различий в среднем чеке заказа между группами по «сырым» данным"
   ]
  },
  {
   "cell_type": "markdown",
   "metadata": {},
   "source": [
    "Формируем нулевую и альтернативную гипотезу для теста:\n",
    "\n",
    "- Н0 - средний чек в группе А не отличается от такового в группе В.\n",
    "- Н1 - различие между средним чеком групп А и В статистически значимо."
   ]
  },
  {
   "cell_type": "code",
   "execution_count": 39,
   "metadata": {
    "scrolled": true
   },
   "outputs": [
    {
     "name": "stdout",
     "output_type": "stream",
     "text": [
      "0.829\n",
      "0.287\n"
     ]
    }
   ],
   "source": [
    "print('{0:.3f}'.format(st.mannwhitneyu(orders[orders['group']=='A']['revenue'], orders[orders['group']=='B']['revenue'], alternative = 'two-sided')[1]))\n",
    "print('{0:.3f}'.format(orders[orders['group']=='B']['revenue'].mean()/orders[orders['group']=='A']['revenue'].mean()-1)) "
   ]
  },
  {
   "cell_type": "markdown",
   "metadata": {},
   "source": [
    "P-value значительно больше 0.05. Значит, причин отвергать нулевую гипотезу и считать, что в среднем чеке есть различия, нет. Но средний чек группы B значительно выше среднего чека группы A, что может быть связано с аномально дорогими покуками в группе В."
   ]
  },
  {
   "cell_type": "markdown",
   "metadata": {},
   "source": [
    "### подсчет статистической значимости различий в конверсии между группами по «очищенным» данным"
   ]
  },
  {
   "cell_type": "code",
   "execution_count": 40,
   "metadata": {},
   "outputs": [
    {
     "name": "stdout",
     "output_type": "stream",
     "text": [
      "1099    148427295\n",
      "928     204675465\n",
      "33      249864742\n",
      "684     358944393\n",
      "648     382846391\n",
      "dtype: int64\n",
      "Количество анамальных пользователей: (49,)\n"
     ]
    }
   ],
   "source": [
    "users_with_many_orders = pd.concat([orders_by_users_a[orders_by_users_a['orders'] > 2]['user_id'],\n",
    "        orders_by_users_b[orders_by_users_b['orders'] > 2]['user_id']],axis=0)\n",
    "\n",
    "users_with_expensive_orders = orders[orders['revenue'] > 30000]['visitor_id']\n",
    "\n",
    "abnormal_users = (\n",
    "    pd.concat([users_with_many_orders, users_with_expensive_orders], axis=0)\n",
    "    .drop_duplicates()\n",
    "    .sort_values())\n",
    "\n",
    "print(abnormal_users.head(5))\n",
    "print('Количество анамальных пользователей:', abnormal_users.shape) "
   ]
  },
  {
   "cell_type": "markdown",
   "metadata": {},
   "source": [
    "Формируем нулевую и альтернативную гипотезу для теста:\n",
    "\n",
    "- Н0 - статистически значимых различий в конверсии между группами нет.\n",
    "- Н1 - различие в конверсии групп А и В статистически значимо."
   ]
  },
  {
   "cell_type": "code",
   "execution_count": 41,
   "metadata": {},
   "outputs": [
    {
     "name": "stdout",
     "output_type": "stream",
     "text": [
      "0.010\n",
      "0.187\n"
     ]
    }
   ],
   "source": [
    "sample_a_filtered = pd.concat([orders_by_users_a[np.logical_not(orders_by_users_a['user_id'].isin(abnormal_users))]['orders'],\n",
    "                        pd.Series(0, index=np.arange(data['visitors_per_date_a'].sum() - len(orders_by_users_a['orders'])),\n",
    "                        name='orders')],axis=0)\n",
    "\n",
    "\n",
    "sample_b_filtered = pd.concat([orders_by_users_b[np.logical_not(orders_by_users_b['user_id'].isin(abnormal_users))]['orders'],\n",
    "    pd.Series(0, index=np.arange(data['visitors_per_date_b'].sum() - len(orders_by_users_b['orders'])),name='orders')],axis=0)\n",
    "\n",
    "print('{0:.3f}'.format(st.mannwhitneyu(sample_a_filtered, sample_b_filtered, alternative = 'two-sided')[1]))\n",
    "print('{0:.3f}'.format(sample_b_filtered.mean()/sample_a_filtered.mean()-1)) "
   ]
  },
  {
   "cell_type": "markdown",
   "metadata": {},
   "source": [
    "Нулевая гипотеза не подтверждается, рассчеты по очищенным данным, показывают, что разница по конверсии увеличилась ещё больше. p-value = 0.010. Относительный выигрыш группы B равен 18.7%."
   ]
  },
  {
   "cell_type": "markdown",
   "metadata": {},
   "source": [
    "### подсчет статистической значимости различий в среднем чеке заказа между группами по «очищенным» данным"
   ]
  },
  {
   "cell_type": "markdown",
   "metadata": {},
   "source": [
    "Формируем нулевую и альтернативную гипотезу для теста:\n",
    "\n",
    "- Н0 - средний чек в группе А не отличается от такового в группе В.\n",
    "- Н1 - различие между средним чеком групп А и В статистически значимо."
   ]
  },
  {
   "cell_type": "code",
   "execution_count": 42,
   "metadata": {},
   "outputs": [
    {
     "name": "stdout",
     "output_type": "stream",
     "text": [
      "p-value: 0.741\n",
      "-0.027\n"
     ]
    }
   ],
   "source": [
    "a_revenue_filtered = orders.query('group == \"A\" and visitor_id not in @abnormal_users')['revenue']\n",
    "b_revenue_filtered = orders.query('group == \"B\" and visitor_id not in @abnormal_users')['revenue']\n",
    "#display(a_revenue_filtered.head())\n",
    "print('p-value:',round(st.mannwhitneyu(a_revenue_filtered, b_revenue_filtered, alternative = 'two-sided')[1], 3))\n",
    "print(round((b_revenue_filtered.mean()/a_revenue_filtered.mean() - 1), 3))"
   ]
  },
  {
   "cell_type": "markdown",
   "metadata": {},
   "source": [
    "Значение p-value немного изменилось, но по прежнему мы не можем отвергать нулевую гтпотезу. После удаления аномальных значений практически пропала разница между соотношением среднего чека группы А и группы В. "
   ]
  },
  {
   "cell_type": "markdown",
   "metadata": {},
   "source": [
    "### решение по результатам теста"
   ]
  },
  {
   "cell_type": "markdown",
   "metadata": {},
   "source": [
    "Исходя из обнаруженных фактов, тест следует остановить и признать его успешным. Продолжать смысла нет, потому как видно, что конверсия группы В стабильно выше, чем в группе А, при практически одинаковом среднем чеке по группам."
   ]
  },
  {
   "cell_type": "markdown",
   "metadata": {},
   "source": [
    "### Общий вывод:\n",
    "В данном исследовании были реализованы следующие шаги:\n",
    "- Предобрабртка данных:\n",
    " -  заменены типы данных в таблицах\n",
    " -  исправлены названия столбцов\n",
    " -  удалены пользователи, одновременно входящие как в группу А так и в группу В, их количество - 58 человек\n",
    " \n",
    "- Приоритизация гипотез: \n",
    " - При проверке приоритета гипотез без учета количества пользователей, которых эта гипотеза затронет наиболее перспективными оказались гипотезы 8, 0 и 7.\n",
    " - При проверке приоритета гипотез методом RICE, наиболее перспективны гипотезы 7, 2 и 0. Исходя из результатов обеих проверок можно предположить, что стоит сосредоточиться на гипотезах 7 и 0. Гипотеза №0: Добавить два новых канала привлечения трафика, что позволит привлекать на 30% больше пользователей. Гипотеза №7: Добавить форму подписки на все основные страницы, чтобы собрать базу клиентов для email-рассылок.\n",
    " \n",
    "- Анализ A/B-теста:\n",
    "   - график кумулятивной выручки по группам показывает, что кумулятивная выручка в группе B превосходит таковую в группе A, но есть предположение, что в промежутке между 17 и 21 августа в группе В были совершены аномально дорогие покупки.\n",
    "   - график кумулятивного среднего чека так же подтверждает гнипотезу о том, что в группе В были совершены аномально дорогие покупки. По данному графику сложно понять есть ли различия в среднем чеке по группам.\n",
    "   - построен график относительного изменения кумулятивного среднего чека группы B к группе A, показатели постоянно колеблятся и сложно сказать имеет ли какая - то группа преимущество.\n",
    "   - построен график кумулятивной конверсии по группам, по нему можно сделать вывод, что в группе В конверсия стабильно выше, чем в группе А.\n",
    "   - построен график относительного изменения кумулятивной конверсии группы B к группе A, в целом по нему можно предположить, что конверсия в группе В лучше, чем в группе А, но сперва стоит проанализировать аномалии, возможно, они изменят картину.\n",
    "   - построив точечный график стоимостей заказов видим, что действительно, в группе В были совершены аномально дорогие покупки, повлиявшие на средний чек и выручку в группе.\n",
    "   - посчитан 95-й и 99-й перцентили количества заказов на пользователя и стоимости заказов. Из полученных данных делаем вывод, что количество заказов больше 2-х и сумма заказа свыше 30000 явлются аномальными, этих пользователей можно исключить.\n",
    "   - произведен подсчет статистической значимости различий в конверсии между группами по «сырым» данным. Между группами имеются  статистически значимые различия в конверсии . Относительный выигрыш группы B равен 16%.\n",
    "   - произведен подсчет статистической значимости различий в среднем чеке заказа между группами по «сырым» данным, тест отличий не показал. Но соотношение средннго чека группы B к чеку группы A, показывает, что в группе В средний чек больше, это может быть связано с аномально дорогими покуками в группе В. \n",
    "   - подсчет статистической значимости различий в конверсии между группами по «очищенным» данным показал, что разница по конверсии увеличилась ещё больше. Относительный выигрыш группы B равен 18.7%.\n",
    "   - подсчет статистической значимости различий в среднем чеке заказа между группами по «очищенным» данным показал, что после удаления аномальных значений практически пропала разница между соотношением среднего чека группы А и группы В.\n",
    "   \n",
    "Исходя из всешо вышеперечисленного делаем вывод, что тест следует остановить и признать его успешным. Продолжать смысла нет, потому как видно, что конверсия группы В стабильно выше, чем в группе А, при практически одинаковом среднем чеке по группам."
   ]
  }
 ],
 "metadata": {
  "ExecuteTimeLog": [
   {
    "duration": 629,
    "start_time": "2022-02-19T18:36:52.335Z"
   },
   {
    "duration": 41,
    "start_time": "2022-02-19T18:39:31.611Z"
   },
   {
    "duration": 27,
    "start_time": "2022-02-19T18:40:30.068Z"
   },
   {
    "duration": 20,
    "start_time": "2022-02-19T18:41:12.239Z"
   },
   {
    "duration": 327,
    "start_time": "2022-02-19T18:43:49.063Z"
   },
   {
    "duration": 3,
    "start_time": "2022-02-19T18:44:22.245Z"
   },
   {
    "duration": 312,
    "start_time": "2022-02-19T18:44:44.945Z"
   },
   {
    "duration": 3,
    "start_time": "2022-02-19T18:44:53.508Z"
   },
   {
    "duration": 54,
    "start_time": "2022-02-19T18:44:53.513Z"
   },
   {
    "duration": 21,
    "start_time": "2022-02-19T18:44:53.569Z"
   },
   {
    "duration": 18,
    "start_time": "2022-02-19T18:44:53.593Z"
   },
   {
    "duration": 296,
    "start_time": "2022-02-19T18:44:53.613Z"
   },
   {
    "duration": 4,
    "start_time": "2022-02-19T18:45:40.452Z"
   },
   {
    "duration": 56,
    "start_time": "2022-02-19T18:45:40.458Z"
   },
   {
    "duration": 22,
    "start_time": "2022-02-19T18:45:40.516Z"
   },
   {
    "duration": 23,
    "start_time": "2022-02-19T18:45:40.540Z"
   },
   {
    "duration": 9,
    "start_time": "2022-02-19T18:45:40.565Z"
   },
   {
    "duration": 19,
    "start_time": "2022-02-19T18:47:19.748Z"
   },
   {
    "duration": 92,
    "start_time": "2022-02-19T18:47:40.085Z"
   },
   {
    "duration": 22,
    "start_time": "2022-02-19T18:47:48.470Z"
   },
   {
    "duration": 24,
    "start_time": "2022-02-19T18:48:20.296Z"
   },
   {
    "duration": 23,
    "start_time": "2022-02-19T18:48:28.006Z"
   },
   {
    "duration": 21,
    "start_time": "2022-02-19T18:48:36.529Z"
   },
   {
    "duration": 372,
    "start_time": "2022-02-19T18:48:49.235Z"
   },
   {
    "duration": 21,
    "start_time": "2022-02-19T18:50:22.396Z"
   },
   {
    "duration": 21,
    "start_time": "2022-02-19T18:51:04.528Z"
   },
   {
    "duration": 23,
    "start_time": "2022-02-19T18:51:46.281Z"
   },
   {
    "duration": 6,
    "start_time": "2022-02-19T18:52:45.267Z"
   },
   {
    "duration": 11,
    "start_time": "2022-02-19T18:53:09.463Z"
   },
   {
    "duration": 11,
    "start_time": "2022-02-19T18:53:17.716Z"
   },
   {
    "duration": 12,
    "start_time": "2022-02-19T18:54:12.662Z"
   },
   {
    "duration": 16,
    "start_time": "2022-02-19T18:54:28.197Z"
   },
   {
    "duration": 9,
    "start_time": "2022-02-19T19:05:48.963Z"
   },
   {
    "duration": 9,
    "start_time": "2022-02-19T19:07:00.683Z"
   },
   {
    "duration": 9,
    "start_time": "2022-02-19T19:07:10.592Z"
   },
   {
    "duration": 5,
    "start_time": "2022-02-19T19:07:28.948Z"
   },
   {
    "duration": 4,
    "start_time": "2022-02-19T19:08:08.612Z"
   },
   {
    "duration": 4834,
    "start_time": "2022-02-19T19:08:39.798Z"
   },
   {
    "duration": 4215,
    "start_time": "2022-02-19T19:08:51.303Z"
   },
   {
    "duration": 3992,
    "start_time": "2022-02-19T19:09:04.425Z"
   },
   {
    "duration": 6,
    "start_time": "2022-02-19T19:09:19.545Z"
   },
   {
    "duration": 291,
    "start_time": "2022-02-19T19:09:32.743Z"
   },
   {
    "duration": 4864,
    "start_time": "2022-02-19T19:10:00.858Z"
   },
   {
    "duration": 299,
    "start_time": "2022-02-19T19:10:51.639Z"
   },
   {
    "duration": 382,
    "start_time": "2022-02-19T19:11:53.557Z"
   },
   {
    "duration": 7,
    "start_time": "2022-02-19T19:12:36.598Z"
   },
   {
    "duration": 285,
    "start_time": "2022-02-19T19:15:56.007Z"
   },
   {
    "duration": 276,
    "start_time": "2022-02-19T19:16:20.558Z"
   },
   {
    "duration": 6,
    "start_time": "2022-02-19T19:17:24.914Z"
   },
   {
    "duration": 11,
    "start_time": "2022-02-19T19:17:44.670Z"
   },
   {
    "duration": 273,
    "start_time": "2022-02-19T19:17:52.502Z"
   },
   {
    "duration": 302,
    "start_time": "2022-02-19T19:17:58.467Z"
   },
   {
    "duration": 11,
    "start_time": "2022-02-19T19:18:46.106Z"
   },
   {
    "duration": 13,
    "start_time": "2022-02-19T19:19:02.688Z"
   },
   {
    "duration": 3,
    "start_time": "2022-02-19T19:19:10.058Z"
   },
   {
    "duration": 50,
    "start_time": "2022-02-19T19:19:10.063Z"
   },
   {
    "duration": 22,
    "start_time": "2022-02-19T19:19:10.115Z"
   },
   {
    "duration": 22,
    "start_time": "2022-02-19T19:19:10.140Z"
   },
   {
    "duration": 3,
    "start_time": "2022-02-19T19:19:10.164Z"
   },
   {
    "duration": 53,
    "start_time": "2022-02-19T19:19:10.169Z"
   },
   {
    "duration": 9,
    "start_time": "2022-02-19T19:19:10.225Z"
   },
   {
    "duration": 3,
    "start_time": "2022-02-19T19:19:27.586Z"
   },
   {
    "duration": 42,
    "start_time": "2022-02-19T19:19:27.591Z"
   },
   {
    "duration": 21,
    "start_time": "2022-02-19T19:19:27.636Z"
   },
   {
    "duration": 19,
    "start_time": "2022-02-19T19:19:27.660Z"
   },
   {
    "duration": 8,
    "start_time": "2022-02-19T19:19:27.681Z"
   },
   {
    "duration": 25,
    "start_time": "2022-02-19T19:19:27.691Z"
   },
   {
    "duration": 14,
    "start_time": "2022-02-19T19:19:27.719Z"
   },
   {
    "duration": 642,
    "start_time": "2022-02-19T19:19:43.532Z"
   },
   {
    "duration": 40,
    "start_time": "2022-02-19T19:19:44.176Z"
   },
   {
    "duration": 26,
    "start_time": "2022-02-19T19:19:44.218Z"
   },
   {
    "duration": 19,
    "start_time": "2022-02-19T19:19:44.246Z"
   },
   {
    "duration": 3,
    "start_time": "2022-02-19T19:19:44.268Z"
   },
   {
    "duration": 46,
    "start_time": "2022-02-19T19:19:44.273Z"
   },
   {
    "duration": 8,
    "start_time": "2022-02-19T19:19:44.321Z"
   },
   {
    "duration": 10,
    "start_time": "2022-02-19T19:19:56.222Z"
   },
   {
    "duration": 3,
    "start_time": "2022-02-19T19:20:18.146Z"
   },
   {
    "duration": 42,
    "start_time": "2022-02-19T19:20:18.151Z"
   },
   {
    "duration": 19,
    "start_time": "2022-02-19T19:20:18.196Z"
   },
   {
    "duration": 18,
    "start_time": "2022-02-19T19:20:18.217Z"
   },
   {
    "duration": 4,
    "start_time": "2022-02-19T19:20:18.237Z"
   },
   {
    "duration": 20,
    "start_time": "2022-02-19T19:20:18.243Z"
   },
   {
    "duration": 45,
    "start_time": "2022-02-19T19:20:18.266Z"
   },
   {
    "duration": 339,
    "start_time": "2022-02-20T13:15:17.471Z"
   },
   {
    "duration": 513,
    "start_time": "2022-02-20T13:15:33.655Z"
   },
   {
    "duration": 2,
    "start_time": "2022-02-20T13:15:34.170Z"
   },
   {
    "duration": 43,
    "start_time": "2022-02-20T13:15:34.174Z"
   },
   {
    "duration": 22,
    "start_time": "2022-02-20T13:15:34.219Z"
   },
   {
    "duration": 19,
    "start_time": "2022-02-20T13:15:34.243Z"
   },
   {
    "duration": 11,
    "start_time": "2022-02-20T13:15:34.263Z"
   },
   {
    "duration": 30,
    "start_time": "2022-02-20T13:15:34.275Z"
   },
   {
    "duration": 13,
    "start_time": "2022-02-20T13:15:34.306Z"
   },
   {
    "duration": 13,
    "start_time": "2022-02-20T13:15:34.321Z"
   },
   {
    "duration": 11,
    "start_time": "2022-02-20T13:16:47.024Z"
   },
   {
    "duration": 12,
    "start_time": "2022-02-20T13:17:56.259Z"
   },
   {
    "duration": 11,
    "start_time": "2022-02-20T13:18:22.105Z"
   },
   {
    "duration": 211,
    "start_time": "2022-02-20T15:40:53.126Z"
   },
   {
    "duration": 642,
    "start_time": "2022-02-20T15:40:56.218Z"
   },
   {
    "duration": 3,
    "start_time": "2022-02-20T15:40:56.862Z"
   },
   {
    "duration": 72,
    "start_time": "2022-02-20T15:40:56.867Z"
   },
   {
    "duration": 21,
    "start_time": "2022-02-20T15:40:56.941Z"
   },
   {
    "duration": 15,
    "start_time": "2022-02-20T15:40:56.964Z"
   },
   {
    "duration": 3,
    "start_time": "2022-02-20T15:40:56.980Z"
   },
   {
    "duration": 19,
    "start_time": "2022-02-20T15:40:56.985Z"
   },
   {
    "duration": 9,
    "start_time": "2022-02-20T15:40:57.006Z"
   },
   {
    "duration": 49,
    "start_time": "2022-02-20T15:40:57.017Z"
   },
   {
    "duration": 13,
    "start_time": "2022-02-20T15:40:57.068Z"
   },
   {
    "duration": 216,
    "start_time": "2022-02-20T15:41:41.429Z"
   },
   {
    "duration": 10,
    "start_time": "2022-02-20T15:41:50.305Z"
   },
   {
    "duration": 13,
    "start_time": "2022-02-20T15:51:51.318Z"
   },
   {
    "duration": 16,
    "start_time": "2022-02-20T15:53:27.459Z"
   },
   {
    "duration": 23,
    "start_time": "2022-02-20T15:53:47.524Z"
   },
   {
    "duration": 6,
    "start_time": "2022-02-20T16:19:42.338Z"
   },
   {
    "duration": 11,
    "start_time": "2022-02-20T16:20:01.173Z"
   },
   {
    "duration": 226,
    "start_time": "2022-02-20T16:29:34.402Z"
   },
   {
    "duration": 484,
    "start_time": "2022-02-20T16:31:33.682Z"
   },
   {
    "duration": 1044,
    "start_time": "2022-02-20T16:33:43.387Z"
   },
   {
    "duration": 465,
    "start_time": "2022-02-20T16:39:52.652Z"
   },
   {
    "duration": 3,
    "start_time": "2022-02-20T16:40:25.488Z"
   },
   {
    "duration": 10,
    "start_time": "2022-02-20T16:40:25.493Z"
   },
   {
    "duration": 47,
    "start_time": "2022-02-20T16:40:25.505Z"
   },
   {
    "duration": 16,
    "start_time": "2022-02-20T16:40:25.554Z"
   },
   {
    "duration": 15,
    "start_time": "2022-02-20T16:40:25.571Z"
   },
   {
    "duration": 3,
    "start_time": "2022-02-20T16:40:25.588Z"
   },
   {
    "duration": 15,
    "start_time": "2022-02-20T16:40:25.593Z"
   },
   {
    "duration": 7,
    "start_time": "2022-02-20T16:40:25.609Z"
   },
   {
    "duration": 45,
    "start_time": "2022-02-20T16:40:25.618Z"
   },
   {
    "duration": 13,
    "start_time": "2022-02-20T16:40:25.665Z"
   },
   {
    "duration": 15,
    "start_time": "2022-02-20T16:40:25.680Z"
   },
   {
    "duration": 309,
    "start_time": "2022-02-20T16:40:25.697Z"
   },
   {
    "duration": 351,
    "start_time": "2022-02-20T16:43:17.961Z"
   },
   {
    "duration": 2,
    "start_time": "2022-02-20T16:43:48.807Z"
   },
   {
    "duration": 7,
    "start_time": "2022-02-20T16:43:48.811Z"
   },
   {
    "duration": 50,
    "start_time": "2022-02-20T16:43:48.819Z"
   },
   {
    "duration": 15,
    "start_time": "2022-02-20T16:43:48.871Z"
   },
   {
    "duration": 15,
    "start_time": "2022-02-20T16:43:48.887Z"
   },
   {
    "duration": 2,
    "start_time": "2022-02-20T16:43:48.904Z"
   },
   {
    "duration": 14,
    "start_time": "2022-02-20T16:43:48.909Z"
   },
   {
    "duration": 40,
    "start_time": "2022-02-20T16:43:48.926Z"
   },
   {
    "duration": 10,
    "start_time": "2022-02-20T16:43:48.968Z"
   },
   {
    "duration": 11,
    "start_time": "2022-02-20T16:43:48.980Z"
   },
   {
    "duration": 10,
    "start_time": "2022-02-20T16:43:48.993Z"
   },
   {
    "duration": 2483,
    "start_time": "2022-02-20T16:43:49.005Z"
   },
   {
    "duration": 18,
    "start_time": "2022-02-20T16:44:14.452Z"
   },
   {
    "duration": 15,
    "start_time": "2022-02-20T16:46:00.308Z"
   },
   {
    "duration": 19,
    "start_time": "2022-02-20T16:46:12.566Z"
   },
   {
    "duration": 182,
    "start_time": "2022-02-20T16:48:02.644Z"
   },
   {
    "duration": 2,
    "start_time": "2022-02-20T16:48:05.918Z"
   },
   {
    "duration": 8,
    "start_time": "2022-02-20T16:48:05.922Z"
   },
   {
    "duration": 40,
    "start_time": "2022-02-20T16:48:05.931Z"
   },
   {
    "duration": 14,
    "start_time": "2022-02-20T16:48:05.973Z"
   },
   {
    "duration": 31,
    "start_time": "2022-02-20T16:48:05.989Z"
   },
   {
    "duration": 4,
    "start_time": "2022-02-20T16:48:06.021Z"
   },
   {
    "duration": 14,
    "start_time": "2022-02-20T16:48:06.028Z"
   },
   {
    "duration": 21,
    "start_time": "2022-02-20T16:48:06.044Z"
   },
   {
    "duration": 13,
    "start_time": "2022-02-20T16:48:06.066Z"
   },
   {
    "duration": 13,
    "start_time": "2022-02-20T16:48:06.081Z"
   },
   {
    "duration": 17,
    "start_time": "2022-02-20T16:48:06.095Z"
   },
   {
    "duration": 184,
    "start_time": "2022-02-20T16:48:06.114Z"
   },
   {
    "duration": 182,
    "start_time": "2022-02-20T16:48:30.661Z"
   },
   {
    "duration": 184,
    "start_time": "2022-02-20T16:49:49.224Z"
   },
   {
    "duration": 184,
    "start_time": "2022-02-20T16:53:18.061Z"
   },
   {
    "duration": 178,
    "start_time": "2022-02-20T16:54:03.648Z"
   },
   {
    "duration": 173,
    "start_time": "2022-02-20T16:55:48.381Z"
   },
   {
    "duration": 188,
    "start_time": "2022-02-20T16:57:27.941Z"
   },
   {
    "duration": 2510,
    "start_time": "2022-02-20T16:59:43.167Z"
   },
   {
    "duration": 189,
    "start_time": "2022-02-20T16:59:58.859Z"
   },
   {
    "duration": 1183,
    "start_time": "2022-02-20T17:04:23.646Z"
   },
   {
    "duration": 58,
    "start_time": "2022-02-20T17:09:02.335Z"
   },
   {
    "duration": 865,
    "start_time": "2022-02-20T17:09:09.545Z"
   },
   {
    "duration": 63,
    "start_time": "2022-02-20T17:14:44.456Z"
   },
   {
    "duration": 352,
    "start_time": "2022-02-20T17:14:54.861Z"
   },
   {
    "duration": 13,
    "start_time": "2022-02-20T17:29:47.025Z"
   },
   {
    "duration": 4431,
    "start_time": "2022-02-20T17:30:28.054Z"
   },
   {
    "duration": 192,
    "start_time": "2022-02-20T17:33:52.521Z"
   },
   {
    "duration": 195,
    "start_time": "2022-02-20T17:34:26.418Z"
   },
   {
    "duration": 227,
    "start_time": "2022-02-20T17:34:53.059Z"
   },
   {
    "duration": 17,
    "start_time": "2022-02-20T17:35:26.676Z"
   },
   {
    "duration": 14,
    "start_time": "2022-02-20T17:35:38.123Z"
   },
   {
    "duration": 14,
    "start_time": "2022-02-20T17:39:05.543Z"
   },
   {
    "duration": 13,
    "start_time": "2022-02-20T17:39:59.376Z"
   },
   {
    "duration": 181,
    "start_time": "2022-02-20T17:40:26.217Z"
   },
   {
    "duration": 195,
    "start_time": "2022-02-20T17:41:17.453Z"
   },
   {
    "duration": 186,
    "start_time": "2022-02-20T17:41:30.467Z"
   },
   {
    "duration": 13,
    "start_time": "2022-02-20T17:42:50.412Z"
   },
   {
    "duration": 15,
    "start_time": "2022-02-20T17:43:49.375Z"
   },
   {
    "duration": 15,
    "start_time": "2022-02-20T17:44:09.702Z"
   },
   {
    "duration": 20,
    "start_time": "2022-02-20T17:45:18.920Z"
   },
   {
    "duration": 3,
    "start_time": "2022-02-20T17:50:40.943Z"
   },
   {
    "duration": 6,
    "start_time": "2022-02-20T17:50:40.948Z"
   },
   {
    "duration": 95,
    "start_time": "2022-02-20T17:50:40.955Z"
   },
   {
    "duration": 18,
    "start_time": "2022-02-20T17:50:41.052Z"
   },
   {
    "duration": 14,
    "start_time": "2022-02-20T17:50:41.072Z"
   },
   {
    "duration": 256,
    "start_time": "2022-02-20T17:50:41.088Z"
   },
   {
    "duration": 1177,
    "start_time": "2022-02-20T17:50:40.169Z"
   },
   {
    "duration": 1175,
    "start_time": "2022-02-20T17:50:40.172Z"
   },
   {
    "duration": 1173,
    "start_time": "2022-02-20T17:50:40.175Z"
   },
   {
    "duration": 1170,
    "start_time": "2022-02-20T17:50:40.179Z"
   },
   {
    "duration": 1168,
    "start_time": "2022-02-20T17:50:40.182Z"
   },
   {
    "duration": 1165,
    "start_time": "2022-02-20T17:50:40.186Z"
   },
   {
    "duration": 1163,
    "start_time": "2022-02-20T17:50:40.189Z"
   },
   {
    "duration": 711,
    "start_time": "2022-02-20T17:52:49.196Z"
   },
   {
    "duration": 4,
    "start_time": "2022-02-20T17:53:24.571Z"
   },
   {
    "duration": 10,
    "start_time": "2022-02-20T17:53:32.589Z"
   },
   {
    "duration": 3,
    "start_time": "2022-02-20T17:53:48.873Z"
   },
   {
    "duration": 20,
    "start_time": "2022-02-20T17:53:48.878Z"
   },
   {
    "duration": 49,
    "start_time": "2022-02-20T17:53:48.900Z"
   },
   {
    "duration": 15,
    "start_time": "2022-02-20T17:53:48.951Z"
   },
   {
    "duration": 22,
    "start_time": "2022-02-20T17:53:48.968Z"
   },
   {
    "duration": 15,
    "start_time": "2022-02-20T17:53:48.992Z"
   },
   {
    "duration": 25,
    "start_time": "2022-02-20T17:53:49.009Z"
   },
   {
    "duration": 24,
    "start_time": "2022-02-20T17:53:49.036Z"
   },
   {
    "duration": 16,
    "start_time": "2022-02-20T17:53:49.062Z"
   },
   {
    "duration": 22,
    "start_time": "2022-02-20T17:53:49.079Z"
   },
   {
    "duration": 21,
    "start_time": "2022-02-20T17:53:49.103Z"
   },
   {
    "duration": 13,
    "start_time": "2022-02-20T17:53:49.125Z"
   },
   {
    "duration": 211,
    "start_time": "2022-02-20T17:53:49.140Z"
   },
   {
    "duration": 173,
    "start_time": "2022-02-20T18:17:02.851Z"
   },
   {
    "duration": 3,
    "start_time": "2022-02-20T18:17:07.918Z"
   },
   {
    "duration": 5,
    "start_time": "2022-02-20T18:17:07.924Z"
   },
   {
    "duration": 44,
    "start_time": "2022-02-20T18:17:07.931Z"
   },
   {
    "duration": 26,
    "start_time": "2022-02-20T18:17:07.977Z"
   },
   {
    "duration": 24,
    "start_time": "2022-02-20T18:17:08.005Z"
   },
   {
    "duration": 31,
    "start_time": "2022-02-20T18:17:08.031Z"
   },
   {
    "duration": 25,
    "start_time": "2022-02-20T18:17:08.064Z"
   },
   {
    "duration": 7,
    "start_time": "2022-02-20T18:17:08.092Z"
   },
   {
    "duration": 15,
    "start_time": "2022-02-20T18:17:08.101Z"
   },
   {
    "duration": 16,
    "start_time": "2022-02-20T18:17:08.118Z"
   },
   {
    "duration": 42,
    "start_time": "2022-02-20T18:17:08.136Z"
   },
   {
    "duration": 2,
    "start_time": "2022-02-20T18:17:08.180Z"
   },
   {
    "duration": 214,
    "start_time": "2022-02-20T18:17:08.184Z"
   },
   {
    "duration": 159,
    "start_time": "2022-02-20T18:17:08.400Z"
   },
   {
    "duration": 161,
    "start_time": "2022-02-20T18:18:00.272Z"
   },
   {
    "duration": 13,
    "start_time": "2022-02-20T18:23:48.696Z"
   },
   {
    "duration": 189,
    "start_time": "2022-02-20T18:26:20.887Z"
   },
   {
    "duration": 13,
    "start_time": "2022-02-20T18:26:29.308Z"
   },
   {
    "duration": 9,
    "start_time": "2022-02-20T18:29:52.736Z"
   },
   {
    "duration": 249,
    "start_time": "2022-02-20T18:31:06.445Z"
   },
   {
    "duration": 85,
    "start_time": "2022-02-20T18:31:25.877Z"
   },
   {
    "duration": 2,
    "start_time": "2022-02-20T18:31:25.965Z"
   },
   {
    "duration": 44,
    "start_time": "2022-02-20T18:31:25.970Z"
   },
   {
    "duration": 52,
    "start_time": "2022-02-20T18:31:26.016Z"
   },
   {
    "duration": 94,
    "start_time": "2022-02-20T18:31:26.069Z"
   },
   {
    "duration": 56,
    "start_time": "2022-02-20T18:31:26.165Z"
   },
   {
    "duration": 84,
    "start_time": "2022-02-20T18:31:26.224Z"
   },
   {
    "duration": 111,
    "start_time": "2022-02-20T18:31:26.310Z"
   },
   {
    "duration": 37,
    "start_time": "2022-02-20T18:31:26.423Z"
   },
   {
    "duration": 47,
    "start_time": "2022-02-20T18:31:26.462Z"
   },
   {
    "duration": 33,
    "start_time": "2022-02-20T18:31:26.511Z"
   },
   {
    "duration": 376,
    "start_time": "2022-02-20T18:31:26.546Z"
   },
   {
    "duration": 245,
    "start_time": "2022-02-20T18:31:26.925Z"
   },
   {
    "duration": 143,
    "start_time": "2022-02-20T18:31:27.172Z"
   },
   {
    "duration": 115,
    "start_time": "2022-02-20T18:31:27.316Z"
   },
   {
    "duration": 357,
    "start_time": "2022-02-20T18:31:27.433Z"
   },
   {
    "duration": 4,
    "start_time": "2022-02-20T18:32:48.181Z"
   },
   {
    "duration": 5,
    "start_time": "2022-02-20T18:32:48.187Z"
   },
   {
    "duration": 47,
    "start_time": "2022-02-20T18:32:48.194Z"
   },
   {
    "duration": 22,
    "start_time": "2022-02-20T18:32:48.244Z"
   },
   {
    "duration": 22,
    "start_time": "2022-02-20T18:32:48.269Z"
   },
   {
    "duration": 5,
    "start_time": "2022-02-20T18:32:48.293Z"
   },
   {
    "duration": 18,
    "start_time": "2022-02-20T18:32:48.300Z"
   },
   {
    "duration": 42,
    "start_time": "2022-02-20T18:32:48.321Z"
   },
   {
    "duration": 16,
    "start_time": "2022-02-20T18:32:48.366Z"
   },
   {
    "duration": 17,
    "start_time": "2022-02-20T18:32:48.384Z"
   },
   {
    "duration": 21,
    "start_time": "2022-02-20T18:32:48.403Z"
   },
   {
    "duration": 220,
    "start_time": "2022-02-20T18:32:48.426Z"
   },
   {
    "duration": 169,
    "start_time": "2022-02-20T18:32:48.648Z"
   },
   {
    "duration": 13,
    "start_time": "2022-02-20T18:32:48.819Z"
   },
   {
    "duration": 31,
    "start_time": "2022-02-20T18:32:48.834Z"
   },
   {
    "duration": 225,
    "start_time": "2022-02-20T18:32:48.867Z"
   },
   {
    "duration": 10,
    "start_time": "2022-02-20T18:33:35.948Z"
   },
   {
    "duration": 250,
    "start_time": "2022-02-20T18:35:11.157Z"
   },
   {
    "duration": 218,
    "start_time": "2022-02-20T18:36:13.796Z"
   },
   {
    "duration": 271,
    "start_time": "2022-02-20T18:36:35.342Z"
   },
   {
    "duration": 377,
    "start_time": "2022-02-20T18:41:32.191Z"
   },
   {
    "duration": 195,
    "start_time": "2022-02-20T18:43:06.133Z"
   },
   {
    "duration": 543,
    "start_time": "2022-02-21T08:27:28.619Z"
   },
   {
    "duration": 844,
    "start_time": "2022-02-21T08:27:32.769Z"
   },
   {
    "duration": 2,
    "start_time": "2022-02-21T08:27:33.616Z"
   },
   {
    "duration": 56,
    "start_time": "2022-02-21T08:27:33.621Z"
   },
   {
    "duration": 27,
    "start_time": "2022-02-21T08:27:33.679Z"
   },
   {
    "duration": 41,
    "start_time": "2022-02-21T08:27:33.708Z"
   },
   {
    "duration": 21,
    "start_time": "2022-02-21T08:27:33.750Z"
   },
   {
    "duration": 40,
    "start_time": "2022-02-21T08:27:33.773Z"
   },
   {
    "duration": 23,
    "start_time": "2022-02-21T08:27:33.816Z"
   },
   {
    "duration": 31,
    "start_time": "2022-02-21T08:27:33.841Z"
   },
   {
    "duration": 14,
    "start_time": "2022-02-21T08:27:33.875Z"
   },
   {
    "duration": 787,
    "start_time": "2022-02-21T08:27:33.890Z"
   },
   {
    "duration": -1613,
    "start_time": "2022-02-21T08:27:36.293Z"
   },
   {
    "duration": -1617,
    "start_time": "2022-02-21T08:27:36.298Z"
   },
   {
    "duration": -1619,
    "start_time": "2022-02-21T08:27:36.302Z"
   },
   {
    "duration": -1622,
    "start_time": "2022-02-21T08:27:36.306Z"
   },
   {
    "duration": -1624,
    "start_time": "2022-02-21T08:27:36.310Z"
   },
   {
    "duration": -1625,
    "start_time": "2022-02-21T08:27:36.313Z"
   },
   {
    "duration": -1626,
    "start_time": "2022-02-21T08:27:36.315Z"
   },
   {
    "duration": 14,
    "start_time": "2022-02-21T08:28:44.438Z"
   },
   {
    "duration": 3,
    "start_time": "2022-02-21T08:28:48.436Z"
   },
   {
    "duration": 20,
    "start_time": "2022-02-21T08:28:48.445Z"
   },
   {
    "duration": 69,
    "start_time": "2022-02-21T08:28:48.468Z"
   },
   {
    "duration": 28,
    "start_time": "2022-02-21T08:28:48.540Z"
   },
   {
    "duration": 24,
    "start_time": "2022-02-21T08:28:48.570Z"
   },
   {
    "duration": 15,
    "start_time": "2022-02-21T08:28:48.596Z"
   },
   {
    "duration": 30,
    "start_time": "2022-02-21T08:28:48.613Z"
   },
   {
    "duration": 17,
    "start_time": "2022-02-21T08:28:48.647Z"
   },
   {
    "duration": 41,
    "start_time": "2022-02-21T08:28:48.666Z"
   },
   {
    "duration": 27,
    "start_time": "2022-02-21T08:28:48.710Z"
   },
   {
    "duration": 48,
    "start_time": "2022-02-21T08:28:48.738Z"
   },
   {
    "duration": 255,
    "start_time": "2022-02-21T08:28:48.788Z"
   },
   {
    "duration": 282,
    "start_time": "2022-02-21T08:28:49.045Z"
   },
   {
    "duration": 20,
    "start_time": "2022-02-21T08:28:49.329Z"
   },
   {
    "duration": 13,
    "start_time": "2022-02-21T08:28:49.351Z"
   },
   {
    "duration": 269,
    "start_time": "2022-02-21T08:28:49.366Z"
   },
   {
    "duration": 249,
    "start_time": "2022-02-21T08:28:49.637Z"
   },
   {
    "duration": 21,
    "start_time": "2022-02-21T08:28:49.888Z"
   },
   {
    "duration": 10,
    "start_time": "2022-02-21T08:29:33.364Z"
   },
   {
    "duration": 10578,
    "start_time": "2022-02-21T08:35:21.911Z"
   },
   {
    "duration": 1897,
    "start_time": "2022-02-21T08:36:04.326Z"
   },
   {
    "duration": 16,
    "start_time": "2022-02-21T08:42:35.547Z"
   },
   {
    "duration": 15,
    "start_time": "2022-02-21T08:42:49.079Z"
   },
   {
    "duration": 15,
    "start_time": "2022-02-21T08:48:07.070Z"
   },
   {
    "duration": 14,
    "start_time": "2022-02-21T08:48:19.355Z"
   },
   {
    "duration": 172,
    "start_time": "2022-02-21T08:51:07.649Z"
   },
   {
    "duration": 233,
    "start_time": "2022-02-21T08:51:34.970Z"
   },
   {
    "duration": 191,
    "start_time": "2022-02-21T08:52:48.559Z"
   },
   {
    "duration": 276,
    "start_time": "2022-02-21T08:53:15.051Z"
   },
   {
    "duration": 602,
    "start_time": "2022-02-21T08:53:32.239Z"
   },
   {
    "duration": 667,
    "start_time": "2022-02-21T08:54:08.315Z"
   },
   {
    "duration": 303,
    "start_time": "2022-02-21T08:54:28.143Z"
   },
   {
    "duration": 358,
    "start_time": "2022-02-21T08:55:17.302Z"
   },
   {
    "duration": 315,
    "start_time": "2022-02-21T08:55:56.583Z"
   },
   {
    "duration": 290,
    "start_time": "2022-02-21T08:56:10.563Z"
   },
   {
    "duration": 710,
    "start_time": "2022-02-21T08:57:21.066Z"
   },
   {
    "duration": 592,
    "start_time": "2022-02-21T08:57:31.589Z"
   },
   {
    "duration": 379,
    "start_time": "2022-02-21T08:58:00.255Z"
   },
   {
    "duration": 331,
    "start_time": "2022-02-21T08:58:14.895Z"
   },
   {
    "duration": 306,
    "start_time": "2022-02-21T08:58:21.827Z"
   },
   {
    "duration": 301,
    "start_time": "2022-02-21T08:59:24.634Z"
   },
   {
    "duration": 9,
    "start_time": "2022-02-21T09:02:25.652Z"
   },
   {
    "duration": 173,
    "start_time": "2022-02-21T09:06:18.940Z"
   },
   {
    "duration": 1004,
    "start_time": "2022-02-21T09:07:10.403Z"
   },
   {
    "duration": 983,
    "start_time": "2022-02-21T09:07:31.540Z"
   },
   {
    "duration": 171,
    "start_time": "2022-02-21T09:08:16.475Z"
   },
   {
    "duration": 28,
    "start_time": "2022-02-21T09:09:51.259Z"
   },
   {
    "duration": 23,
    "start_time": "2022-02-21T09:10:25.484Z"
   },
   {
    "duration": 28,
    "start_time": "2022-02-21T09:14:00.114Z"
   },
   {
    "duration": 342,
    "start_time": "2022-02-21T09:17:38.342Z"
   },
   {
    "duration": 636,
    "start_time": "2022-02-21T09:17:45.460Z"
   },
   {
    "duration": 727,
    "start_time": "2022-02-21T09:18:24.111Z"
   },
   {
    "duration": 230,
    "start_time": "2022-02-21T09:19:10.538Z"
   },
   {
    "duration": 18,
    "start_time": "2022-02-21T09:24:36.176Z"
   },
   {
    "duration": 11211,
    "start_time": "2022-02-21T09:26:42.655Z"
   },
   {
    "duration": 559,
    "start_time": "2022-02-21T09:27:08.009Z"
   },
   {
    "duration": 240,
    "start_time": "2022-02-21T09:29:17.872Z"
   },
   {
    "duration": 232,
    "start_time": "2022-02-21T09:30:36.196Z"
   },
   {
    "duration": 1102,
    "start_time": "2022-02-21T09:31:09.471Z"
   },
   {
    "duration": 218,
    "start_time": "2022-02-21T09:31:33.079Z"
   },
   {
    "duration": 231,
    "start_time": "2022-02-21T09:33:00.409Z"
   },
   {
    "duration": 252,
    "start_time": "2022-02-21T09:45:08.700Z"
   },
   {
    "duration": 21,
    "start_time": "2022-02-21T09:51:11.151Z"
   },
   {
    "duration": 18,
    "start_time": "2022-02-21T09:51:50.900Z"
   },
   {
    "duration": 182,
    "start_time": "2022-02-21T09:59:08.539Z"
   },
   {
    "duration": 222,
    "start_time": "2022-02-21T09:59:21.019Z"
   },
   {
    "duration": 195,
    "start_time": "2022-02-21T10:00:18.566Z"
   },
   {
    "duration": 1007,
    "start_time": "2022-02-21T10:01:10.232Z"
   },
   {
    "duration": 349,
    "start_time": "2022-02-21T10:01:27.570Z"
   },
   {
    "duration": 328,
    "start_time": "2022-02-21T10:01:44.864Z"
   },
   {
    "duration": 338,
    "start_time": "2022-02-21T10:02:40.483Z"
   },
   {
    "duration": 14,
    "start_time": "2022-02-21T10:31:25.756Z"
   },
   {
    "duration": 384,
    "start_time": "2022-02-21T10:33:01.093Z"
   },
   {
    "duration": 23,
    "start_time": "2022-02-21T10:33:17.035Z"
   },
   {
    "duration": 21,
    "start_time": "2022-02-21T10:33:51.279Z"
   },
   {
    "duration": 21,
    "start_time": "2022-02-21T10:34:36.415Z"
   },
   {
    "duration": 14,
    "start_time": "2022-02-21T10:36:34.321Z"
   },
   {
    "duration": 12,
    "start_time": "2022-02-21T10:36:43.462Z"
   },
   {
    "duration": 19856,
    "start_time": "2022-02-21T10:41:06.606Z"
   },
   {
    "duration": 12176,
    "start_time": "2022-02-21T10:42:10.174Z"
   },
   {
    "duration": 11,
    "start_time": "2022-02-21T10:42:53.328Z"
   },
   {
    "duration": 325,
    "start_time": "2022-02-21T10:43:28.708Z"
   },
   {
    "duration": 334,
    "start_time": "2022-02-21T14:55:19.105Z"
   },
   {
    "duration": 895,
    "start_time": "2022-02-21T14:55:22.299Z"
   },
   {
    "duration": 3,
    "start_time": "2022-02-21T14:55:23.197Z"
   },
   {
    "duration": 88,
    "start_time": "2022-02-21T14:55:23.203Z"
   },
   {
    "duration": 42,
    "start_time": "2022-02-21T14:55:23.295Z"
   },
   {
    "duration": 58,
    "start_time": "2022-02-21T14:55:23.340Z"
   },
   {
    "duration": 6,
    "start_time": "2022-02-21T14:55:23.401Z"
   },
   {
    "duration": 31,
    "start_time": "2022-02-21T14:55:23.410Z"
   },
   {
    "duration": 52,
    "start_time": "2022-02-21T14:55:23.444Z"
   },
   {
    "duration": 37,
    "start_time": "2022-02-21T14:55:23.499Z"
   },
   {
    "duration": 22,
    "start_time": "2022-02-21T14:55:23.540Z"
   },
   {
    "duration": 43,
    "start_time": "2022-02-21T14:55:23.564Z"
   },
   {
    "duration": 397,
    "start_time": "2022-02-21T14:55:23.609Z"
   },
   {
    "duration": 303,
    "start_time": "2022-02-21T14:55:24.009Z"
   },
   {
    "duration": 24,
    "start_time": "2022-02-21T14:55:24.315Z"
   },
   {
    "duration": 26,
    "start_time": "2022-02-21T14:55:24.342Z"
   },
   {
    "duration": 637,
    "start_time": "2022-02-21T14:55:24.370Z"
   },
   {
    "duration": 474,
    "start_time": "2022-02-21T14:55:25.009Z"
   },
   {
    "duration": 37,
    "start_time": "2022-02-21T14:55:25.486Z"
   },
   {
    "duration": 435,
    "start_time": "2022-02-21T14:55:25.525Z"
   },
   {
    "duration": 40,
    "start_time": "2022-02-21T14:55:25.963Z"
   },
   {
    "duration": 397,
    "start_time": "2022-02-21T14:55:26.006Z"
   },
   {
    "duration": 24,
    "start_time": "2022-02-21T14:55:26.405Z"
   },
   {
    "duration": 453,
    "start_time": "2022-02-21T14:55:26.432Z"
   },
   {
    "duration": 416,
    "start_time": "2022-02-21T14:55:26.887Z"
   },
   {
    "duration": 387,
    "start_time": "2022-02-21T14:55:34.234Z"
   },
   {
    "duration": 655,
    "start_time": "2022-02-21T14:56:44.943Z"
   },
   {
    "duration": 901,
    "start_time": "2022-02-21T14:57:02.420Z"
   },
   {
    "duration": 601,
    "start_time": "2022-02-21T14:57:40.842Z"
   },
   {
    "duration": 411,
    "start_time": "2022-02-21T14:58:04.298Z"
   },
   {
    "duration": 231,
    "start_time": "2022-02-21T14:59:39.195Z"
   },
   {
    "duration": 435,
    "start_time": "2022-02-21T15:00:55.188Z"
   },
   {
    "duration": 5,
    "start_time": "2022-02-21T15:01:23.112Z"
   },
   {
    "duration": 269,
    "start_time": "2022-02-21T15:06:18.405Z"
   },
   {
    "duration": 451,
    "start_time": "2022-02-21T15:06:31.856Z"
   },
   {
    "duration": 401,
    "start_time": "2022-02-21T15:07:23.699Z"
   },
   {
    "duration": 365,
    "start_time": "2022-02-21T15:07:48.435Z"
   },
   {
    "duration": 7,
    "start_time": "2022-02-21T15:09:08.130Z"
   },
   {
    "duration": 399,
    "start_time": "2022-02-21T15:30:19.979Z"
   },
   {
    "duration": 73,
    "start_time": "2022-02-21T15:31:19.285Z"
   },
   {
    "duration": 388,
    "start_time": "2022-02-21T15:31:32.453Z"
   },
   {
    "duration": 16,
    "start_time": "2022-02-21T15:34:13.185Z"
   },
   {
    "duration": 83,
    "start_time": "2022-02-21T15:58:23.755Z"
   },
   {
    "duration": 224,
    "start_time": "2022-02-21T15:58:44.362Z"
   },
   {
    "duration": 8,
    "start_time": "2022-02-21T16:02:13.703Z"
   },
   {
    "duration": 218,
    "start_time": "2022-02-21T17:49:11.853Z"
   },
   {
    "duration": 87,
    "start_time": "2022-02-21T17:51:08.382Z"
   },
   {
    "duration": 233,
    "start_time": "2022-02-21T17:51:18.774Z"
   },
   {
    "duration": 210,
    "start_time": "2022-02-21T17:55:27.114Z"
   },
   {
    "duration": 343,
    "start_time": "2022-02-21T17:55:40.205Z"
   },
   {
    "duration": 212,
    "start_time": "2022-02-21T17:56:07.221Z"
   },
   {
    "duration": 297,
    "start_time": "2022-02-21T18:04:09.458Z"
   },
   {
    "duration": 7787,
    "start_time": "2022-02-21T18:17:56.544Z"
   },
   {
    "duration": 283,
    "start_time": "2022-02-21T18:19:24.243Z"
   },
   {
    "duration": 5,
    "start_time": "2022-02-21T18:21:11.191Z"
   },
   {
    "duration": 90,
    "start_time": "2022-02-21T18:21:11.199Z"
   },
   {
    "duration": 140,
    "start_time": "2022-02-21T18:21:11.293Z"
   },
   {
    "duration": 200,
    "start_time": "2022-02-21T18:21:11.437Z"
   },
   {
    "duration": 174,
    "start_time": "2022-02-21T18:21:11.639Z"
   },
   {
    "duration": 226,
    "start_time": "2022-02-21T18:21:11.817Z"
   },
   {
    "duration": 423,
    "start_time": "2022-02-21T18:21:12.047Z"
   },
   {
    "duration": 143,
    "start_time": "2022-02-21T18:21:12.473Z"
   },
   {
    "duration": 111,
    "start_time": "2022-02-21T18:21:12.618Z"
   },
   {
    "duration": 95,
    "start_time": "2022-02-21T18:21:12.732Z"
   },
   {
    "duration": 98,
    "start_time": "2022-02-21T18:21:12.830Z"
   },
   {
    "duration": 801,
    "start_time": "2022-02-21T18:21:12.930Z"
   },
   {
    "duration": 970,
    "start_time": "2022-02-21T18:21:13.734Z"
   },
   {
    "duration": 151,
    "start_time": "2022-02-21T18:21:14.706Z"
   },
   {
    "duration": 123,
    "start_time": "2022-02-21T18:21:14.860Z"
   },
   {
    "duration": 703,
    "start_time": "2022-02-21T18:21:14.986Z"
   },
   {
    "duration": 340,
    "start_time": "2022-02-21T18:21:15.694Z"
   },
   {
    "duration": 18,
    "start_time": "2022-02-21T18:21:16.037Z"
   },
   {
    "duration": 867,
    "start_time": "2022-02-21T18:21:16.059Z"
   },
   {
    "duration": 22,
    "start_time": "2022-02-21T18:21:16.929Z"
   },
   {
    "duration": 770,
    "start_time": "2022-02-21T18:21:16.953Z"
   },
   {
    "duration": 261,
    "start_time": "2022-02-21T18:21:17.726Z"
   },
   {
    "duration": 821,
    "start_time": "2022-02-21T18:21:17.990Z"
   },
   {
    "duration": 783,
    "start_time": "2022-02-21T18:21:18.814Z"
   },
   {
    "duration": 250,
    "start_time": "2022-02-21T18:21:19.599Z"
   },
   {
    "duration": 842,
    "start_time": "2022-02-21T18:21:19.851Z"
   },
   {
    "duration": 5,
    "start_time": "2022-02-21T18:21:20.696Z"
   },
   {
    "duration": 390,
    "start_time": "2022-02-21T18:21:20.704Z"
   },
   {
    "duration": 714,
    "start_time": "2022-02-21T18:21:21.096Z"
   },
   {
    "duration": 937,
    "start_time": "2022-02-21T18:21:21.813Z"
   },
   {
    "duration": 267,
    "start_time": "2022-02-21T18:21:22.752Z"
   },
   {
    "duration": 4,
    "start_time": "2022-02-21T18:21:32.855Z"
   },
   {
    "duration": 4,
    "start_time": "2022-02-21T18:21:35.383Z"
   },
   {
    "duration": 828,
    "start_time": "2022-02-21T18:21:35.389Z"
   },
   {
    "duration": 994,
    "start_time": "2022-02-21T18:21:36.220Z"
   },
   {
    "duration": 1024,
    "start_time": "2022-02-21T18:21:37.217Z"
   },
   {
    "duration": 452,
    "start_time": "2022-02-21T18:21:38.243Z"
   },
   {
    "duration": 14,
    "start_time": "2022-02-21T18:21:38.699Z"
   },
   {
    "duration": 412,
    "start_time": "2022-02-21T18:21:38.719Z"
   },
   {
    "duration": 351,
    "start_time": "2022-02-21T18:21:39.135Z"
   },
   {
    "duration": 205,
    "start_time": "2022-02-21T18:21:39.488Z"
   },
   {
    "duration": 171,
    "start_time": "2022-02-21T18:21:39.696Z"
   },
   {
    "duration": 445,
    "start_time": "2022-02-21T18:21:39.870Z"
   },
   {
    "duration": 981,
    "start_time": "2022-02-21T18:21:40.318Z"
   },
   {
    "duration": 667,
    "start_time": "2022-02-21T18:21:41.303Z"
   },
   {
    "duration": 755,
    "start_time": "2022-02-21T18:21:41.973Z"
   },
   {
    "duration": 767,
    "start_time": "2022-02-21T18:21:42.730Z"
   },
   {
    "duration": 1496,
    "start_time": "2022-02-21T18:21:43.500Z"
   },
   {
    "duration": 1100,
    "start_time": "2022-02-21T18:21:45.000Z"
   },
   {
    "duration": 443,
    "start_time": "2022-02-21T18:21:46.103Z"
   },
   {
    "duration": 1141,
    "start_time": "2022-02-21T18:21:46.553Z"
   },
   {
    "duration": 37,
    "start_time": "2022-02-21T18:21:47.697Z"
   },
   {
    "duration": 1077,
    "start_time": "2022-02-21T18:21:47.736Z"
   },
   {
    "duration": 289,
    "start_time": "2022-02-21T18:21:48.815Z"
   },
   {
    "duration": 693,
    "start_time": "2022-02-21T18:21:49.108Z"
   },
   {
    "duration": 502,
    "start_time": "2022-02-21T18:21:49.804Z"
   },
   {
    "duration": 5,
    "start_time": "2022-02-21T18:21:50.309Z"
   },
   {
    "duration": 821,
    "start_time": "2022-02-21T18:21:50.316Z"
   },
   {
    "duration": 6,
    "start_time": "2022-02-21T18:21:51.140Z"
   },
   {
    "duration": 251,
    "start_time": "2022-02-21T18:21:51.149Z"
   },
   {
    "duration": 493,
    "start_time": "2022-02-21T18:21:51.403Z"
   },
   {
    "duration": 633,
    "start_time": "2022-02-21T18:21:51.899Z"
   },
   {
    "duration": 544,
    "start_time": "2022-02-21T18:21:52.535Z"
   },
   {
    "duration": 46,
    "start_time": "2022-02-21T18:23:32.345Z"
   },
   {
    "duration": 58,
    "start_time": "2022-02-21T18:23:41.985Z"
   },
   {
    "duration": 172,
    "start_time": "2022-02-21T19:37:28.463Z"
   },
   {
    "duration": 53,
    "start_time": "2022-02-21T19:38:14.028Z"
   },
   {
    "duration": 1176,
    "start_time": "2022-02-22T08:58:04.948Z"
   },
   {
    "duration": 3,
    "start_time": "2022-02-22T08:58:06.126Z"
   },
   {
    "duration": 44,
    "start_time": "2022-02-22T08:58:06.131Z"
   },
   {
    "duration": 24,
    "start_time": "2022-02-22T08:58:06.177Z"
   },
   {
    "duration": 21,
    "start_time": "2022-02-22T08:58:06.203Z"
   },
   {
    "duration": 2,
    "start_time": "2022-02-22T08:58:06.227Z"
   },
   {
    "duration": 10,
    "start_time": "2022-02-22T08:58:06.231Z"
   },
   {
    "duration": 24,
    "start_time": "2022-02-22T08:58:06.245Z"
   },
   {
    "duration": 37,
    "start_time": "2022-02-22T08:58:06.272Z"
   },
   {
    "duration": 20,
    "start_time": "2022-02-22T08:58:06.311Z"
   },
   {
    "duration": 14,
    "start_time": "2022-02-22T08:58:06.332Z"
   },
   {
    "duration": 16,
    "start_time": "2022-02-22T08:58:06.347Z"
   },
   {
    "duration": 273,
    "start_time": "2022-02-22T08:58:06.365Z"
   },
   {
    "duration": 192,
    "start_time": "2022-02-22T08:58:06.640Z"
   },
   {
    "duration": 15,
    "start_time": "2022-02-22T08:58:06.834Z"
   },
   {
    "duration": 17,
    "start_time": "2022-02-22T08:58:06.851Z"
   },
   {
    "duration": 255,
    "start_time": "2022-02-22T08:58:06.871Z"
   },
   {
    "duration": 228,
    "start_time": "2022-02-22T08:58:07.128Z"
   },
   {
    "duration": 12,
    "start_time": "2022-02-22T08:58:07.359Z"
   },
   {
    "duration": 385,
    "start_time": "2022-02-22T08:58:07.372Z"
   },
   {
    "duration": 16,
    "start_time": "2022-02-22T08:58:07.759Z"
   },
   {
    "duration": 482,
    "start_time": "2022-02-22T08:58:07.777Z"
   },
   {
    "duration": 20,
    "start_time": "2022-02-22T08:58:08.309Z"
   },
   {
    "duration": 312,
    "start_time": "2022-02-22T08:58:08.331Z"
   },
   {
    "duration": 298,
    "start_time": "2022-02-22T08:58:08.645Z"
   },
   {
    "duration": 6,
    "start_time": "2022-02-22T08:58:08.945Z"
   },
   {
    "duration": 377,
    "start_time": "2022-02-22T08:58:08.953Z"
   },
   {
    "duration": 5,
    "start_time": "2022-02-22T08:58:09.332Z"
   },
   {
    "duration": 52,
    "start_time": "2022-02-22T08:58:09.339Z"
   },
   {
    "duration": 168,
    "start_time": "2022-02-22T08:58:09.393Z"
   },
   {
    "duration": 189,
    "start_time": "2022-02-22T08:58:09.563Z"
   },
   {
    "duration": 59,
    "start_time": "2022-02-22T08:58:09.754Z"
   },
   {
    "duration": 31,
    "start_time": "2022-02-22T08:58:09.815Z"
   },
   {
    "duration": 422,
    "start_time": "2022-02-22T08:58:09.849Z"
   },
   {
    "duration": -1387,
    "start_time": "2022-02-22T08:58:11.660Z"
   },
   {
    "duration": 4,
    "start_time": "2022-02-22T09:55:48.150Z"
   },
   {
    "duration": 12,
    "start_time": "2022-02-22T09:55:48.174Z"
   },
   {
    "duration": 74,
    "start_time": "2022-02-22T09:55:48.188Z"
   },
   {
    "duration": 20,
    "start_time": "2022-02-22T09:55:48.264Z"
   },
   {
    "duration": 40,
    "start_time": "2022-02-22T09:55:48.286Z"
   },
   {
    "duration": 12,
    "start_time": "2022-02-22T09:55:48.328Z"
   },
   {
    "duration": 27,
    "start_time": "2022-02-22T09:55:48.342Z"
   },
   {
    "duration": 24,
    "start_time": "2022-02-22T09:55:48.372Z"
   },
   {
    "duration": 31,
    "start_time": "2022-02-22T09:55:48.398Z"
   },
   {
    "duration": 22,
    "start_time": "2022-02-22T09:55:48.431Z"
   },
   {
    "duration": 31,
    "start_time": "2022-02-22T09:55:48.455Z"
   },
   {
    "duration": 36,
    "start_time": "2022-02-22T09:55:48.488Z"
   },
   {
    "duration": 258,
    "start_time": "2022-02-22T09:55:48.527Z"
   },
   {
    "duration": 198,
    "start_time": "2022-02-22T09:55:48.788Z"
   },
   {
    "duration": 31,
    "start_time": "2022-02-22T09:55:48.989Z"
   },
   {
    "duration": 24,
    "start_time": "2022-02-22T09:55:49.025Z"
   },
   {
    "duration": 286,
    "start_time": "2022-02-22T09:55:49.051Z"
   },
   {
    "duration": 318,
    "start_time": "2022-02-22T09:55:49.339Z"
   },
   {
    "duration": 13,
    "start_time": "2022-02-22T09:55:49.659Z"
   },
   {
    "duration": 470,
    "start_time": "2022-02-22T09:55:49.673Z"
   },
   {
    "duration": 18,
    "start_time": "2022-02-22T09:55:50.145Z"
   },
   {
    "duration": 269,
    "start_time": "2022-02-22T09:55:50.165Z"
   },
   {
    "duration": 20,
    "start_time": "2022-02-22T09:55:50.437Z"
   },
   {
    "duration": 385,
    "start_time": "2022-02-22T09:55:50.460Z"
   },
   {
    "duration": 347,
    "start_time": "2022-02-22T09:55:50.847Z"
   },
   {
    "duration": 13,
    "start_time": "2022-02-22T09:55:51.197Z"
   },
   {
    "duration": 343,
    "start_time": "2022-02-22T09:55:51.213Z"
   },
   {
    "duration": 5,
    "start_time": "2022-02-22T09:55:51.557Z"
   },
   {
    "duration": 13,
    "start_time": "2022-02-22T09:55:51.564Z"
   },
   {
    "duration": 175,
    "start_time": "2022-02-22T09:55:51.579Z"
   },
   {
    "duration": 199,
    "start_time": "2022-02-22T09:55:51.758Z"
   },
   {
    "duration": 58,
    "start_time": "2022-02-22T09:55:51.959Z"
   },
   {
    "duration": 15,
    "start_time": "2022-02-22T09:55:52.019Z"
   },
   {
    "duration": 267,
    "start_time": "2022-02-22T09:55:52.036Z"
   },
   {
    "duration": -1643,
    "start_time": "2022-02-22T09:55:53.948Z"
   },
   {
    "duration": -1647,
    "start_time": "2022-02-22T09:55:53.953Z"
   },
   {
    "duration": -1649,
    "start_time": "2022-02-22T09:55:53.957Z"
   },
   {
    "duration": 13,
    "start_time": "2022-02-22T09:56:36.262Z"
   },
   {
    "duration": 261,
    "start_time": "2022-02-22T10:25:57.524Z"
   },
   {
    "duration": 15,
    "start_time": "2022-02-22T10:26:11.780Z"
   },
   {
    "duration": 14,
    "start_time": "2022-02-22T10:28:21.820Z"
   },
   {
    "duration": 13,
    "start_time": "2022-02-22T10:28:36.392Z"
   },
   {
    "duration": 13,
    "start_time": "2022-02-22T10:29:02.149Z"
   },
   {
    "duration": 1613,
    "start_time": "2022-02-22T14:15:57.413Z"
   },
   {
    "duration": 5,
    "start_time": "2022-02-22T14:15:59.029Z"
   },
   {
    "duration": 48,
    "start_time": "2022-02-22T14:15:59.038Z"
   },
   {
    "duration": 31,
    "start_time": "2022-02-22T14:15:59.089Z"
   },
   {
    "duration": 38,
    "start_time": "2022-02-22T14:15:59.123Z"
   },
   {
    "duration": 3,
    "start_time": "2022-02-22T14:15:59.164Z"
   },
   {
    "duration": 9,
    "start_time": "2022-02-22T14:15:59.170Z"
   },
   {
    "duration": 57,
    "start_time": "2022-02-22T14:15:59.183Z"
   },
   {
    "duration": 13,
    "start_time": "2022-02-22T14:15:59.243Z"
   },
   {
    "duration": 22,
    "start_time": "2022-02-22T14:15:59.258Z"
   },
   {
    "duration": 53,
    "start_time": "2022-02-22T14:15:59.283Z"
   },
   {
    "duration": 20,
    "start_time": "2022-02-22T14:15:59.339Z"
   },
   {
    "duration": 382,
    "start_time": "2022-02-22T14:15:59.362Z"
   },
   {
    "duration": 295,
    "start_time": "2022-02-22T14:15:59.746Z"
   },
   {
    "duration": 23,
    "start_time": "2022-02-22T14:16:00.043Z"
   },
   {
    "duration": 15,
    "start_time": "2022-02-22T14:16:00.069Z"
   },
   {
    "duration": 399,
    "start_time": "2022-02-22T14:16:00.088Z"
   },
   {
    "duration": 370,
    "start_time": "2022-02-22T14:16:00.490Z"
   },
   {
    "duration": 17,
    "start_time": "2022-02-22T14:16:00.863Z"
   },
   {
    "duration": 488,
    "start_time": "2022-02-22T14:16:00.884Z"
   },
   {
    "duration": 28,
    "start_time": "2022-02-22T14:16:01.376Z"
   },
   {
    "duration": 447,
    "start_time": "2022-02-22T14:16:01.427Z"
   },
   {
    "duration": 46,
    "start_time": "2022-02-22T14:16:01.881Z"
   },
   {
    "duration": 415,
    "start_time": "2022-02-22T14:16:01.931Z"
   },
   {
    "duration": 412,
    "start_time": "2022-02-22T14:16:02.349Z"
   },
   {
    "duration": 6,
    "start_time": "2022-02-22T14:16:02.764Z"
   },
   {
    "duration": 487,
    "start_time": "2022-02-22T14:16:02.772Z"
   },
   {
    "duration": 6,
    "start_time": "2022-02-22T14:16:03.261Z"
   },
   {
    "duration": 39,
    "start_time": "2022-02-22T14:16:03.270Z"
   },
   {
    "duration": 259,
    "start_time": "2022-02-22T14:16:03.312Z"
   },
   {
    "duration": 287,
    "start_time": "2022-02-22T14:16:03.574Z"
   },
   {
    "duration": 84,
    "start_time": "2022-02-22T14:16:03.864Z"
   },
   {
    "duration": 20,
    "start_time": "2022-02-22T14:16:03.951Z"
   },
   {
    "duration": 52,
    "start_time": "2022-02-22T14:16:03.974Z"
   },
   {
    "duration": 17,
    "start_time": "2022-02-22T14:16:04.029Z"
   },
   {
    "duration": 668,
    "start_time": "2022-02-22T14:16:04.050Z"
   },
   {
    "duration": 14,
    "start_time": "2022-02-22T14:16:22.194Z"
   },
   {
    "duration": 15,
    "start_time": "2022-02-22T14:17:19.846Z"
   },
   {
    "duration": 4,
    "start_time": "2022-02-22T17:08:06.119Z"
   },
   {
    "duration": 7,
    "start_time": "2022-02-22T17:08:06.128Z"
   },
   {
    "duration": 47,
    "start_time": "2022-02-22T17:08:06.137Z"
   },
   {
    "duration": 42,
    "start_time": "2022-02-22T17:08:06.187Z"
   },
   {
    "duration": 26,
    "start_time": "2022-02-22T17:08:06.231Z"
   },
   {
    "duration": 3,
    "start_time": "2022-02-22T17:08:06.259Z"
   },
   {
    "duration": 12,
    "start_time": "2022-02-22T17:08:06.264Z"
   },
   {
    "duration": 65,
    "start_time": "2022-02-22T17:08:06.279Z"
   },
   {
    "duration": 12,
    "start_time": "2022-02-22T17:08:06.346Z"
   },
   {
    "duration": 17,
    "start_time": "2022-02-22T17:08:06.363Z"
   },
   {
    "duration": 24,
    "start_time": "2022-02-22T17:08:06.427Z"
   },
   {
    "duration": 22,
    "start_time": "2022-02-22T17:08:06.454Z"
   },
   {
    "duration": 492,
    "start_time": "2022-02-22T17:08:06.479Z"
   },
   {
    "duration": 306,
    "start_time": "2022-02-22T17:08:06.973Z"
   },
   {
    "duration": 20,
    "start_time": "2022-02-22T17:08:07.281Z"
   },
   {
    "duration": 31,
    "start_time": "2022-02-22T17:08:07.303Z"
   },
   {
    "duration": 364,
    "start_time": "2022-02-22T17:08:07.337Z"
   },
   {
    "duration": 410,
    "start_time": "2022-02-22T17:08:07.703Z"
   },
   {
    "duration": 29,
    "start_time": "2022-02-22T17:08:08.115Z"
   },
   {
    "duration": 430,
    "start_time": "2022-02-22T17:08:08.146Z"
   },
   {
    "duration": 23,
    "start_time": "2022-02-22T17:08:08.578Z"
   },
   {
    "duration": 378,
    "start_time": "2022-02-22T17:08:08.603Z"
   },
   {
    "duration": 45,
    "start_time": "2022-02-22T17:08:08.984Z"
   },
   {
    "duration": 609,
    "start_time": "2022-02-22T17:08:09.031Z"
   },
   {
    "duration": 577,
    "start_time": "2022-02-22T17:08:09.642Z"
   },
   {
    "duration": 8,
    "start_time": "2022-02-22T17:08:10.226Z"
   },
   {
    "duration": 434,
    "start_time": "2022-02-22T17:08:10.237Z"
   },
   {
    "duration": 6,
    "start_time": "2022-02-22T17:08:10.677Z"
   },
   {
    "duration": 41,
    "start_time": "2022-02-22T17:08:10.685Z"
   },
   {
    "duration": 237,
    "start_time": "2022-02-22T17:08:10.729Z"
   },
   {
    "duration": 295,
    "start_time": "2022-02-22T17:08:10.969Z"
   },
   {
    "duration": 77,
    "start_time": "2022-02-22T17:08:11.266Z"
   },
   {
    "duration": 30,
    "start_time": "2022-02-22T17:08:11.346Z"
   },
   {
    "duration": 15,
    "start_time": "2022-02-22T17:08:11.379Z"
   },
   {
    "duration": 35,
    "start_time": "2022-02-22T17:08:11.397Z"
   },
   {
    "duration": 15,
    "start_time": "2022-02-22T17:08:11.434Z"
   },
   {
    "duration": 271,
    "start_time": "2022-02-22T17:08:11.451Z"
   },
   {
    "duration": 3358,
    "start_time": "2022-02-22T17:08:08.367Z"
   },
   {
    "duration": 19,
    "start_time": "2022-02-22T17:08:18.983Z"
   },
   {
    "duration": 1224,
    "start_time": "2022-02-22T17:21:16.156Z"
   },
   {
    "duration": 14,
    "start_time": "2022-02-22T17:21:27.017Z"
   },
   {
    "duration": 22,
    "start_time": "2022-02-22T17:22:10.297Z"
   },
   {
    "duration": 19,
    "start_time": "2022-02-22T17:22:30.053Z"
   },
   {
    "duration": 14,
    "start_time": "2022-02-22T17:22:46.151Z"
   },
   {
    "duration": 270,
    "start_time": "2022-02-22T17:27:31.939Z"
   },
   {
    "duration": 16,
    "start_time": "2022-02-22T17:28:04.427Z"
   },
   {
    "duration": 17,
    "start_time": "2022-02-22T17:30:26.507Z"
   },
   {
    "duration": 84,
    "start_time": "2022-02-22T17:30:43.500Z"
   },
   {
    "duration": 18,
    "start_time": "2022-02-22T17:30:47.191Z"
   },
   {
    "duration": 19,
    "start_time": "2022-02-22T17:31:28.456Z"
   },
   {
    "duration": 19,
    "start_time": "2022-02-22T17:31:51.400Z"
   },
   {
    "duration": 19,
    "start_time": "2022-02-22T17:34:00.964Z"
   },
   {
    "duration": 18,
    "start_time": "2022-02-22T17:35:53.548Z"
   },
   {
    "duration": 19,
    "start_time": "2022-02-22T17:36:43.130Z"
   },
   {
    "duration": 20,
    "start_time": "2022-02-22T17:36:50.730Z"
   },
   {
    "duration": 9,
    "start_time": "2022-02-22T17:59:33.815Z"
   },
   {
    "duration": 435,
    "start_time": "2022-02-22T18:10:15.903Z"
   },
   {
    "duration": 401,
    "start_time": "2022-02-22T18:10:36.681Z"
   },
   {
    "duration": 409,
    "start_time": "2022-02-22T18:11:18.389Z"
   },
   {
    "duration": 438,
    "start_time": "2022-02-22T18:11:36.993Z"
   },
   {
    "duration": 408,
    "start_time": "2022-02-22T18:12:14.979Z"
   },
   {
    "duration": 16,
    "start_time": "2022-02-22T18:41:40.339Z"
   },
   {
    "duration": 248,
    "start_time": "2022-02-22T18:46:56.487Z"
   },
   {
    "duration": 330,
    "start_time": "2022-02-22T18:47:21.517Z"
   },
   {
    "duration": 341,
    "start_time": "2022-02-22T18:47:31.658Z"
   },
   {
    "duration": 665,
    "start_time": "2022-02-22T18:47:49.571Z"
   },
   {
    "duration": 598,
    "start_time": "2022-02-22T18:49:07.155Z"
   },
   {
    "duration": 520,
    "start_time": "2022-02-22T18:49:32.608Z"
   },
   {
    "duration": 320,
    "start_time": "2022-02-22T18:49:53.034Z"
   },
   {
    "duration": 298,
    "start_time": "2022-02-22T18:50:02.746Z"
   },
   {
    "duration": 11,
    "start_time": "2022-02-22T18:50:36.083Z"
   },
   {
    "duration": 34,
    "start_time": "2022-02-22T18:50:53.257Z"
   },
   {
    "duration": 286,
    "start_time": "2022-02-22T18:58:41.701Z"
   },
   {
    "duration": 42,
    "start_time": "2022-02-22T18:58:57.999Z"
   },
   {
    "duration": 20,
    "start_time": "2022-02-22T18:59:31.215Z"
   },
   {
    "duration": 46,
    "start_time": "2022-02-22T19:00:12.574Z"
   },
   {
    "duration": 30,
    "start_time": "2022-02-22T19:00:44.536Z"
   },
   {
    "duration": 25,
    "start_time": "2022-02-22T19:00:56.915Z"
   },
   {
    "duration": 8,
    "start_time": "2022-02-22T19:01:45.233Z"
   },
   {
    "duration": 16,
    "start_time": "2022-02-22T19:02:01.974Z"
   },
   {
    "duration": 4,
    "start_time": "2022-02-22T19:05:06.330Z"
   },
   {
    "duration": 15,
    "start_time": "2022-02-22T19:05:06.337Z"
   },
   {
    "duration": 45,
    "start_time": "2022-02-22T19:05:06.355Z"
   },
   {
    "duration": 40,
    "start_time": "2022-02-22T19:05:06.403Z"
   },
   {
    "duration": 25,
    "start_time": "2022-02-22T19:05:06.446Z"
   },
   {
    "duration": 52,
    "start_time": "2022-02-22T19:05:06.474Z"
   },
   {
    "duration": 8,
    "start_time": "2022-02-22T19:05:06.530Z"
   },
   {
    "duration": 30,
    "start_time": "2022-02-22T19:05:06.541Z"
   },
   {
    "duration": 80,
    "start_time": "2022-02-22T19:05:06.575Z"
   },
   {
    "duration": 14,
    "start_time": "2022-02-22T19:05:06.657Z"
   },
   {
    "duration": 54,
    "start_time": "2022-02-22T19:05:06.675Z"
   },
   {
    "duration": 19,
    "start_time": "2022-02-22T19:05:06.732Z"
   },
   {
    "duration": 26,
    "start_time": "2022-02-22T19:05:06.754Z"
   },
   {
    "duration": 11,
    "start_time": "2022-02-22T19:05:06.783Z"
   },
   {
    "duration": 367,
    "start_time": "2022-02-22T19:05:06.825Z"
   },
   {
    "duration": 342,
    "start_time": "2022-02-22T19:05:07.195Z"
   },
   {
    "duration": 20,
    "start_time": "2022-02-22T19:05:07.540Z"
   },
   {
    "duration": 16,
    "start_time": "2022-02-22T19:05:07.562Z"
   },
   {
    "duration": 370,
    "start_time": "2022-02-22T19:05:07.584Z"
   },
   {
    "duration": 358,
    "start_time": "2022-02-22T19:05:07.959Z"
   },
   {
    "duration": 20,
    "start_time": "2022-02-22T19:05:08.327Z"
   },
   {
    "duration": 412,
    "start_time": "2022-02-22T19:05:08.350Z"
   },
   {
    "duration": 34,
    "start_time": "2022-02-22T19:05:08.765Z"
   },
   {
    "duration": 374,
    "start_time": "2022-02-22T19:05:08.802Z"
   },
   {
    "duration": 26,
    "start_time": "2022-02-22T19:05:09.178Z"
   },
   {
    "duration": 424,
    "start_time": "2022-02-22T19:05:09.226Z"
   },
   {
    "duration": 422,
    "start_time": "2022-02-22T19:05:09.652Z"
   },
   {
    "duration": 9,
    "start_time": "2022-02-22T19:05:10.077Z"
   },
   {
    "duration": 585,
    "start_time": "2022-02-22T19:05:10.089Z"
   },
   {
    "duration": 550,
    "start_time": "2022-02-22T19:05:10.677Z"
   },
   {
    "duration": 507,
    "start_time": "2022-02-22T19:05:11.231Z"
   },
   {
    "duration": 6,
    "start_time": "2022-02-22T19:05:11.741Z"
   },
   {
    "duration": 19,
    "start_time": "2022-02-22T19:05:11.750Z"
   },
   {
    "duration": 370,
    "start_time": "2022-02-22T19:05:11.772Z"
   },
   {
    "duration": 289,
    "start_time": "2022-02-22T19:05:12.145Z"
   },
   {
    "duration": 53,
    "start_time": "2022-02-22T19:05:12.436Z"
   },
   {
    "duration": 48,
    "start_time": "2022-02-22T19:05:12.492Z"
   },
   {
    "duration": 19,
    "start_time": "2022-02-22T19:05:12.542Z"
   },
   {
    "duration": 15,
    "start_time": "2022-02-22T19:05:12.563Z"
   },
   {
    "duration": 53,
    "start_time": "2022-02-22T19:05:12.581Z"
   },
   {
    "duration": 29,
    "start_time": "2022-02-22T19:05:12.637Z"
   },
   {
    "duration": 20,
    "start_time": "2022-02-22T19:05:12.669Z"
   },
   {
    "duration": 375,
    "start_time": "2022-02-23T08:26:16.661Z"
   },
   {
    "duration": 1331,
    "start_time": "2022-02-23T08:26:22.382Z"
   },
   {
    "duration": 4,
    "start_time": "2022-02-23T08:26:23.716Z"
   },
   {
    "duration": 46,
    "start_time": "2022-02-23T08:26:23.723Z"
   },
   {
    "duration": 28,
    "start_time": "2022-02-23T08:26:23.772Z"
   },
   {
    "duration": 24,
    "start_time": "2022-02-23T08:26:23.803Z"
   },
   {
    "duration": 20,
    "start_time": "2022-02-23T08:26:23.829Z"
   },
   {
    "duration": 7,
    "start_time": "2022-02-23T08:26:23.851Z"
   },
   {
    "duration": 21,
    "start_time": "2022-02-23T08:26:23.862Z"
   },
   {
    "duration": 69,
    "start_time": "2022-02-23T08:26:23.886Z"
   },
   {
    "duration": 14,
    "start_time": "2022-02-23T08:26:23.958Z"
   },
   {
    "duration": 14,
    "start_time": "2022-02-23T08:26:23.975Z"
   },
   {
    "duration": 17,
    "start_time": "2022-02-23T08:26:23.992Z"
   },
   {
    "duration": 52,
    "start_time": "2022-02-23T08:26:24.011Z"
   },
   {
    "duration": 10,
    "start_time": "2022-02-23T08:26:24.067Z"
   },
   {
    "duration": 377,
    "start_time": "2022-02-23T08:26:24.080Z"
   },
   {
    "duration": 307,
    "start_time": "2022-02-23T08:26:24.460Z"
   },
   {
    "duration": 19,
    "start_time": "2022-02-23T08:26:24.769Z"
   },
   {
    "duration": 18,
    "start_time": "2022-02-23T08:26:24.791Z"
   },
   {
    "duration": 371,
    "start_time": "2022-02-23T08:26:24.812Z"
   },
   {
    "duration": 357,
    "start_time": "2022-02-23T08:26:25.186Z"
   },
   {
    "duration": 17,
    "start_time": "2022-02-23T08:26:25.549Z"
   },
   {
    "duration": 394,
    "start_time": "2022-02-23T08:26:25.568Z"
   },
   {
    "duration": 24,
    "start_time": "2022-02-23T08:26:25.967Z"
   },
   {
    "duration": 383,
    "start_time": "2022-02-23T08:26:25.995Z"
   },
   {
    "duration": 25,
    "start_time": "2022-02-23T08:26:26.381Z"
   },
   {
    "duration": 437,
    "start_time": "2022-02-23T08:26:26.409Z"
   },
   {
    "duration": 446,
    "start_time": "2022-02-23T08:26:26.849Z"
   },
   {
    "duration": 5,
    "start_time": "2022-02-23T08:26:27.297Z"
   },
   {
    "duration": 674,
    "start_time": "2022-02-23T08:26:27.305Z"
   },
   {
    "duration": 548,
    "start_time": "2022-02-23T08:26:27.981Z"
   },
   {
    "duration": 400,
    "start_time": "2022-02-23T08:26:28.532Z"
   },
   {
    "duration": 15,
    "start_time": "2022-02-23T08:26:28.935Z"
   },
   {
    "duration": 26,
    "start_time": "2022-02-23T08:26:28.953Z"
   },
   {
    "duration": 328,
    "start_time": "2022-02-23T08:26:28.981Z"
   },
   {
    "duration": 271,
    "start_time": "2022-02-23T08:26:29.312Z"
   },
   {
    "duration": 76,
    "start_time": "2022-02-23T08:26:29.586Z"
   },
   {
    "duration": 17,
    "start_time": "2022-02-23T08:26:29.664Z"
   },
   {
    "duration": 15,
    "start_time": "2022-02-23T08:26:29.684Z"
   },
   {
    "duration": 51,
    "start_time": "2022-02-23T08:26:29.701Z"
   },
   {
    "duration": 16,
    "start_time": "2022-02-23T08:26:29.755Z"
   },
   {
    "duration": 18,
    "start_time": "2022-02-23T08:26:29.774Z"
   },
   {
    "duration": 17,
    "start_time": "2022-02-23T08:26:29.795Z"
   },
   {
    "duration": 394,
    "start_time": "2022-02-23T08:43:50.883Z"
   },
   {
    "duration": 12,
    "start_time": "2022-02-23T09:00:33.408Z"
   },
   {
    "duration": 3,
    "start_time": "2022-02-23T09:00:46.770Z"
   },
   {
    "duration": 272,
    "start_time": "2022-02-23T09:06:34.425Z"
   },
   {
    "duration": 229,
    "start_time": "2022-02-23T09:29:52.835Z"
   },
   {
    "duration": 14,
    "start_time": "2022-02-23T09:34:26.367Z"
   },
   {
    "duration": 15,
    "start_time": "2022-02-23T09:38:13.606Z"
   },
   {
    "duration": 20,
    "start_time": "2022-02-23T09:41:19.771Z"
   },
   {
    "duration": 20,
    "start_time": "2022-02-23T09:46:36.215Z"
   },
   {
    "duration": 1362,
    "start_time": "2022-02-23T10:06:17.046Z"
   },
   {
    "duration": 4,
    "start_time": "2022-02-23T10:06:18.411Z"
   },
   {
    "duration": 42,
    "start_time": "2022-02-23T10:06:18.418Z"
   },
   {
    "duration": 31,
    "start_time": "2022-02-23T10:06:18.463Z"
   },
   {
    "duration": 24,
    "start_time": "2022-02-23T10:06:18.497Z"
   },
   {
    "duration": 3,
    "start_time": "2022-02-23T10:06:18.550Z"
   },
   {
    "duration": 17,
    "start_time": "2022-02-23T10:06:18.556Z"
   },
   {
    "duration": 21,
    "start_time": "2022-02-23T10:06:18.577Z"
   },
   {
    "duration": 59,
    "start_time": "2022-02-23T10:06:18.601Z"
   },
   {
    "duration": 14,
    "start_time": "2022-02-23T10:06:18.662Z"
   },
   {
    "duration": 23,
    "start_time": "2022-02-23T10:06:18.679Z"
   },
   {
    "duration": 46,
    "start_time": "2022-02-23T10:06:18.705Z"
   },
   {
    "duration": 29,
    "start_time": "2022-02-23T10:06:18.754Z"
   },
   {
    "duration": 10,
    "start_time": "2022-02-23T10:06:18.785Z"
   },
   {
    "duration": 365,
    "start_time": "2022-02-23T10:06:18.798Z"
   },
   {
    "duration": 311,
    "start_time": "2022-02-23T10:06:19.166Z"
   },
   {
    "duration": 19,
    "start_time": "2022-02-23T10:06:19.480Z"
   },
   {
    "duration": 17,
    "start_time": "2022-02-23T10:06:19.502Z"
   },
   {
    "duration": 345,
    "start_time": "2022-02-23T10:06:19.550Z"
   },
   {
    "duration": 334,
    "start_time": "2022-02-23T10:06:19.898Z"
   },
   {
    "duration": 30,
    "start_time": "2022-02-23T10:06:20.235Z"
   },
   {
    "duration": 419,
    "start_time": "2022-02-23T10:06:20.267Z"
   },
   {
    "duration": 24,
    "start_time": "2022-02-23T10:06:20.692Z"
   },
   {
    "duration": 364,
    "start_time": "2022-02-23T10:06:20.719Z"
   },
   {
    "duration": 28,
    "start_time": "2022-02-23T10:06:21.086Z"
   },
   {
    "duration": 473,
    "start_time": "2022-02-23T10:06:21.116Z"
   },
   {
    "duration": 443,
    "start_time": "2022-02-23T10:06:21.592Z"
   },
   {
    "duration": 8,
    "start_time": "2022-02-23T10:06:22.050Z"
   },
   {
    "duration": 559,
    "start_time": "2022-02-23T10:06:22.062Z"
   },
   {
    "duration": 425,
    "start_time": "2022-02-23T10:06:22.624Z"
   },
   {
    "duration": 396,
    "start_time": "2022-02-23T10:06:23.052Z"
   },
   {
    "duration": 7,
    "start_time": "2022-02-23T10:06:23.452Z"
   },
   {
    "duration": 8,
    "start_time": "2022-02-23T10:06:23.462Z"
   },
   {
    "duration": 325,
    "start_time": "2022-02-23T10:06:23.473Z"
   },
   {
    "duration": 248,
    "start_time": "2022-02-23T10:06:23.800Z"
   },
   {
    "duration": 48,
    "start_time": "2022-02-23T10:06:24.050Z"
   },
   {
    "duration": 15,
    "start_time": "2022-02-23T10:06:24.101Z"
   },
   {
    "duration": 39,
    "start_time": "2022-02-23T10:06:24.119Z"
   },
   {
    "duration": 14,
    "start_time": "2022-02-23T10:06:24.161Z"
   },
   {
    "duration": 13,
    "start_time": "2022-02-23T10:06:24.177Z"
   },
   {
    "duration": 17,
    "start_time": "2022-02-23T10:06:24.192Z"
   },
   {
    "duration": 19,
    "start_time": "2022-02-23T10:06:24.249Z"
   },
   {
    "duration": 1380,
    "start_time": "2022-02-23T17:55:36.592Z"
   },
   {
    "duration": 5,
    "start_time": "2022-02-23T17:55:37.975Z"
   },
   {
    "duration": 46,
    "start_time": "2022-02-23T17:55:37.995Z"
   },
   {
    "duration": 39,
    "start_time": "2022-02-23T17:55:38.044Z"
   },
   {
    "duration": 32,
    "start_time": "2022-02-23T17:55:38.086Z"
   },
   {
    "duration": 3,
    "start_time": "2022-02-23T17:55:38.120Z"
   },
   {
    "duration": 9,
    "start_time": "2022-02-23T17:55:38.125Z"
   },
   {
    "duration": 66,
    "start_time": "2022-02-23T17:55:38.138Z"
   },
   {
    "duration": 34,
    "start_time": "2022-02-23T17:55:38.207Z"
   },
   {
    "duration": 12,
    "start_time": "2022-02-23T17:55:38.245Z"
   },
   {
    "duration": 11,
    "start_time": "2022-02-23T17:55:38.294Z"
   },
   {
    "duration": 18,
    "start_time": "2022-02-23T17:55:38.307Z"
   },
   {
    "duration": 18,
    "start_time": "2022-02-23T17:55:38.328Z"
   },
   {
    "duration": 44,
    "start_time": "2022-02-23T17:55:38.349Z"
   },
   {
    "duration": 374,
    "start_time": "2022-02-23T17:55:38.396Z"
   },
   {
    "duration": 301,
    "start_time": "2022-02-23T17:55:38.773Z"
   },
   {
    "duration": 31,
    "start_time": "2022-02-23T17:55:39.077Z"
   },
   {
    "duration": 15,
    "start_time": "2022-02-23T17:55:39.111Z"
   },
   {
    "duration": 382,
    "start_time": "2022-02-23T17:55:39.129Z"
   },
   {
    "duration": 379,
    "start_time": "2022-02-23T17:55:39.514Z"
   },
   {
    "duration": 17,
    "start_time": "2022-02-23T17:55:39.896Z"
   },
   {
    "duration": 546,
    "start_time": "2022-02-23T17:55:39.916Z"
   },
   {
    "duration": 38,
    "start_time": "2022-02-23T17:55:40.467Z"
   },
   {
    "duration": 572,
    "start_time": "2022-02-23T17:55:40.507Z"
   },
   {
    "duration": 34,
    "start_time": "2022-02-23T17:55:41.082Z"
   },
   {
    "duration": 535,
    "start_time": "2022-02-23T17:55:41.119Z"
   },
   {
    "duration": 539,
    "start_time": "2022-02-23T17:55:41.657Z"
   },
   {
    "duration": 6,
    "start_time": "2022-02-23T17:55:42.199Z"
   },
   {
    "duration": 430,
    "start_time": "2022-02-23T17:55:42.208Z"
   },
   {
    "duration": 600,
    "start_time": "2022-02-23T17:55:42.641Z"
   },
   {
    "duration": 430,
    "start_time": "2022-02-23T17:55:43.244Z"
   },
   {
    "duration": 6,
    "start_time": "2022-02-23T17:55:43.676Z"
   },
   {
    "duration": 4,
    "start_time": "2022-02-23T17:55:43.694Z"
   },
   {
    "duration": 317,
    "start_time": "2022-02-23T17:55:43.700Z"
   },
   {
    "duration": 348,
    "start_time": "2022-02-23T17:55:44.020Z"
   },
   {
    "duration": 70,
    "start_time": "2022-02-23T17:55:44.371Z"
   },
   {
    "duration": 15,
    "start_time": "2022-02-23T17:55:44.444Z"
   },
   {
    "duration": 42,
    "start_time": "2022-02-23T17:55:44.461Z"
   },
   {
    "duration": 16,
    "start_time": "2022-02-23T17:55:44.506Z"
   },
   {
    "duration": 16,
    "start_time": "2022-02-23T17:55:44.525Z"
   },
   {
    "duration": 59,
    "start_time": "2022-02-23T17:55:44.544Z"
   },
   {
    "duration": 19,
    "start_time": "2022-02-23T17:55:44.606Z"
   },
   {
    "duration": 9,
    "start_time": "2022-02-23T17:56:39.153Z"
   },
   {
    "duration": 1073,
    "start_time": "2022-02-24T06:27:03.928Z"
   },
   {
    "duration": 3,
    "start_time": "2022-02-24T06:27:05.003Z"
   },
   {
    "duration": 60,
    "start_time": "2022-02-24T06:27:05.008Z"
   },
   {
    "duration": 21,
    "start_time": "2022-02-24T06:27:05.070Z"
   },
   {
    "duration": 19,
    "start_time": "2022-02-24T06:27:05.092Z"
   },
   {
    "duration": 3,
    "start_time": "2022-02-24T06:27:05.113Z"
   },
   {
    "duration": 6,
    "start_time": "2022-02-24T06:27:05.118Z"
   },
   {
    "duration": 15,
    "start_time": "2022-02-24T06:27:05.159Z"
   },
   {
    "duration": 18,
    "start_time": "2022-02-24T06:27:05.176Z"
   },
   {
    "duration": 9,
    "start_time": "2022-02-24T06:27:05.196Z"
   },
   {
    "duration": 7,
    "start_time": "2022-02-24T06:27:05.207Z"
   },
   {
    "duration": 44,
    "start_time": "2022-02-24T06:27:05.216Z"
   },
   {
    "duration": 12,
    "start_time": "2022-02-24T06:27:05.262Z"
   },
   {
    "duration": 9,
    "start_time": "2022-02-24T06:27:05.276Z"
   },
   {
    "duration": 221,
    "start_time": "2022-02-24T06:27:05.287Z"
   },
   {
    "duration": 170,
    "start_time": "2022-02-24T06:27:05.510Z"
   },
   {
    "duration": 13,
    "start_time": "2022-02-24T06:27:05.682Z"
   },
   {
    "duration": 12,
    "start_time": "2022-02-24T06:27:05.696Z"
   },
   {
    "duration": 240,
    "start_time": "2022-02-24T06:27:05.710Z"
   },
   {
    "duration": 229,
    "start_time": "2022-02-24T06:27:05.951Z"
   },
   {
    "duration": 11,
    "start_time": "2022-02-24T06:27:06.182Z"
   },
   {
    "duration": 291,
    "start_time": "2022-02-24T06:27:06.195Z"
   },
   {
    "duration": 16,
    "start_time": "2022-02-24T06:27:06.490Z"
   },
   {
    "duration": 238,
    "start_time": "2022-02-24T06:27:06.508Z"
   },
   {
    "duration": 24,
    "start_time": "2022-02-24T06:27:06.748Z"
   },
   {
    "duration": 323,
    "start_time": "2022-02-24T06:27:06.774Z"
   },
   {
    "duration": 310,
    "start_time": "2022-02-24T06:27:07.099Z"
   },
   {
    "duration": 6,
    "start_time": "2022-02-24T06:27:07.411Z"
   },
   {
    "duration": 347,
    "start_time": "2022-02-24T06:27:07.419Z"
   },
   {
    "duration": 305,
    "start_time": "2022-02-24T06:27:07.768Z"
   },
   {
    "duration": 288,
    "start_time": "2022-02-24T06:27:08.075Z"
   },
   {
    "duration": 4,
    "start_time": "2022-02-24T06:27:08.365Z"
   },
   {
    "duration": 4,
    "start_time": "2022-02-24T06:27:08.371Z"
   },
   {
    "duration": 214,
    "start_time": "2022-02-24T06:27:08.377Z"
   },
   {
    "duration": 151,
    "start_time": "2022-02-24T06:27:08.593Z"
   },
   {
    "duration": 34,
    "start_time": "2022-02-24T06:27:08.746Z"
   },
   {
    "duration": 12,
    "start_time": "2022-02-24T06:27:08.782Z"
   },
   {
    "duration": 10,
    "start_time": "2022-02-24T06:27:08.795Z"
   },
   {
    "duration": 10,
    "start_time": "2022-02-24T06:27:08.806Z"
   },
   {
    "duration": 9,
    "start_time": "2022-02-24T06:27:08.818Z"
   },
   {
    "duration": 12,
    "start_time": "2022-02-24T06:27:08.860Z"
   },
   {
    "duration": 11,
    "start_time": "2022-02-24T06:27:08.874Z"
   },
   {
    "duration": 14,
    "start_time": "2022-02-24T06:30:07.608Z"
   },
   {
    "duration": 13,
    "start_time": "2022-02-24T06:31:22.104Z"
   },
   {
    "duration": 214,
    "start_time": "2022-02-24T06:37:46.454Z"
   },
   {
    "duration": 217,
    "start_time": "2022-02-24T06:38:27.797Z"
   },
   {
    "duration": 238,
    "start_time": "2022-02-24T08:34:21.529Z"
   },
   {
    "duration": 290,
    "start_time": "2022-02-24T08:34:49.624Z"
   },
   {
    "duration": 217,
    "start_time": "2022-02-24T09:14:16.376Z"
   },
   {
    "duration": 267,
    "start_time": "2022-02-24T09:14:45.937Z"
   },
   {
    "duration": 276,
    "start_time": "2022-02-24T09:17:00.132Z"
   },
   {
    "duration": 293,
    "start_time": "2022-02-24T09:18:28.300Z"
   },
   {
    "duration": 253,
    "start_time": "2022-02-24T09:21:39.660Z"
   },
   {
    "duration": 238,
    "start_time": "2022-02-24T10:34:10.498Z"
   },
   {
    "duration": 313,
    "start_time": "2022-02-24T10:35:01.292Z"
   },
   {
    "duration": 1029,
    "start_time": "2022-02-24T13:13:58.421Z"
   },
   {
    "duration": 2,
    "start_time": "2022-02-24T13:13:59.452Z"
   },
   {
    "duration": 47,
    "start_time": "2022-02-24T13:13:59.456Z"
   },
   {
    "duration": 19,
    "start_time": "2022-02-24T13:13:59.505Z"
   },
   {
    "duration": 14,
    "start_time": "2022-02-24T13:13:59.526Z"
   },
   {
    "duration": 2,
    "start_time": "2022-02-24T13:13:59.542Z"
   },
   {
    "duration": 8,
    "start_time": "2022-02-24T13:13:59.545Z"
   },
   {
    "duration": 20,
    "start_time": "2022-02-24T13:13:59.555Z"
   },
   {
    "duration": 16,
    "start_time": "2022-02-24T13:13:59.577Z"
   },
   {
    "duration": 8,
    "start_time": "2022-02-24T13:13:59.594Z"
   },
   {
    "duration": 10,
    "start_time": "2022-02-24T13:13:59.603Z"
   },
   {
    "duration": 49,
    "start_time": "2022-02-24T13:13:59.614Z"
   },
   {
    "duration": 15,
    "start_time": "2022-02-24T13:13:59.664Z"
   },
   {
    "duration": 7,
    "start_time": "2022-02-24T13:13:59.681Z"
   },
   {
    "duration": 279,
    "start_time": "2022-02-24T13:13:59.689Z"
   },
   {
    "duration": 173,
    "start_time": "2022-02-24T13:13:59.970Z"
   },
   {
    "duration": 22,
    "start_time": "2022-02-24T13:14:00.145Z"
   },
   {
    "duration": 19,
    "start_time": "2022-02-24T13:14:00.168Z"
   },
   {
    "duration": 316,
    "start_time": "2022-02-24T13:14:00.189Z"
   },
   {
    "duration": 284,
    "start_time": "2022-02-24T13:14:00.506Z"
   },
   {
    "duration": 12,
    "start_time": "2022-02-24T13:14:00.792Z"
   },
   {
    "duration": 306,
    "start_time": "2022-02-24T13:14:00.806Z"
   },
   {
    "duration": 18,
    "start_time": "2022-02-24T13:14:01.116Z"
   },
   {
    "duration": 283,
    "start_time": "2022-02-24T13:14:01.136Z"
   },
   {
    "duration": 19,
    "start_time": "2022-02-24T13:14:01.421Z"
   },
   {
    "duration": 369,
    "start_time": "2022-02-24T13:14:01.442Z"
   },
   {
    "duration": 310,
    "start_time": "2022-02-24T13:14:01.813Z"
   },
   {
    "duration": 5,
    "start_time": "2022-02-24T13:14:02.124Z"
   },
   {
    "duration": 348,
    "start_time": "2022-02-24T13:14:02.131Z"
   },
   {
    "duration": 303,
    "start_time": "2022-02-24T13:14:02.481Z"
   },
   {
    "duration": 288,
    "start_time": "2022-02-24T13:14:02.786Z"
   },
   {
    "duration": 4,
    "start_time": "2022-02-24T13:14:03.076Z"
   },
   {
    "duration": 7,
    "start_time": "2022-02-24T13:14:03.082Z"
   },
   {
    "duration": 234,
    "start_time": "2022-02-24T13:14:03.091Z"
   },
   {
    "duration": 154,
    "start_time": "2022-02-24T13:14:03.327Z"
   },
   {
    "duration": 29,
    "start_time": "2022-02-24T13:14:03.483Z"
   },
   {
    "duration": 25,
    "start_time": "2022-02-24T13:14:03.514Z"
   },
   {
    "duration": 22,
    "start_time": "2022-02-24T13:14:03.541Z"
   },
   {
    "duration": 13,
    "start_time": "2022-02-24T13:14:03.565Z"
   },
   {
    "duration": 22,
    "start_time": "2022-02-24T13:14:03.581Z"
   },
   {
    "duration": 20,
    "start_time": "2022-02-24T13:14:03.605Z"
   },
   {
    "duration": 18,
    "start_time": "2022-02-24T13:14:03.626Z"
   }
  ],
  "kernelspec": {
   "display_name": "Python 3",
   "language": "python",
   "name": "python3"
  },
  "language_info": {
   "codemirror_mode": {
    "name": "ipython",
    "version": 3
   },
   "file_extension": ".py",
   "mimetype": "text/x-python",
   "name": "python",
   "nbconvert_exporter": "python",
   "pygments_lexer": "ipython3",
   "version": "3.8.5"
  },
  "toc": {
   "base_numbering": 1,
   "nav_menu": {},
   "number_sections": true,
   "sideBar": true,
   "skip_h1_title": true,
   "title_cell": "Table of Contents",
   "title_sidebar": "Contents",
   "toc_cell": false,
   "toc_position": {
    "height": "calc(100% - 180px)",
    "left": "10px",
    "top": "150px",
    "width": "165px"
   },
   "toc_section_display": true,
   "toc_window_display": true
  }
 },
 "nbformat": 4,
 "nbformat_minor": 2
}
