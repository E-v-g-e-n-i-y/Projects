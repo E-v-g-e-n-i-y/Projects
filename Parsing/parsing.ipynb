{
 "cells": [
  {
   "cell_type": "markdown",
   "id": "6bf05c83",
   "metadata": {},
   "source": [
    "# Cкрипт для парсинга диалогов из файла test_data.csv"
   ]
  },
  {
   "cell_type": "markdown",
   "id": "96904e45",
   "metadata": {},
   "source": [
    "# Главные задачи, которые должен выполнять скрипт:\n",
    "\n",
    "- Извлекать реплики с приветствием – где менеджер поздоровался. \n",
    "- Извлекать реплики, где менеджер представил себя. \n",
    "- Извлекать имя менеджера. \n",
    "- Извлекать название компании. \n",
    "- Извлекать реплики, где менеджер попрощался.\n",
    "- Проверять требование к менеджеру: «В каждом диалоге обязательно необходимо поздороваться и попрощаться с клиентом»\n"
   ]
  },
  {
   "cell_type": "code",
   "execution_count": 1,
   "id": "c3a53c6a",
   "metadata": {},
   "outputs": [],
   "source": [
    "import pandas as pd\n",
    "import nltk\n",
    "import pymorphy2\n",
    "\n"
   ]
  },
  {
   "cell_type": "code",
   "execution_count": 2,
   "id": "1107aa9c",
   "metadata": {},
   "outputs": [],
   "source": [
    "pd.set_option('display.max_colwidth', None)"
   ]
  },
  {
   "cell_type": "code",
   "execution_count": 3,
   "id": "5207619d",
   "metadata": {},
   "outputs": [
    {
     "data": {
      "text/html": [
       "<div>\n",
       "<style scoped>\n",
       "    .dataframe tbody tr th:only-of-type {\n",
       "        vertical-align: middle;\n",
       "    }\n",
       "\n",
       "    .dataframe tbody tr th {\n",
       "        vertical-align: top;\n",
       "    }\n",
       "\n",
       "    .dataframe thead th {\n",
       "        text-align: right;\n",
       "    }\n",
       "</style>\n",
       "<table border=\"1\" class=\"dataframe\">\n",
       "  <thead>\n",
       "    <tr style=\"text-align: right;\">\n",
       "      <th></th>\n",
       "      <th>dlg_id</th>\n",
       "      <th>line_n</th>\n",
       "      <th>role</th>\n",
       "      <th>text</th>\n",
       "    </tr>\n",
       "  </thead>\n",
       "  <tbody>\n",
       "    <tr>\n",
       "      <th>0</th>\n",
       "      <td>0</td>\n",
       "      <td>0</td>\n",
       "      <td>manager</td>\n",
       "      <td>Алло</td>\n",
       "    </tr>\n",
       "    <tr>\n",
       "      <th>1</th>\n",
       "      <td>0</td>\n",
       "      <td>1</td>\n",
       "      <td>client</td>\n",
       "      <td>Алло здравствуйте</td>\n",
       "    </tr>\n",
       "    <tr>\n",
       "      <th>2</th>\n",
       "      <td>0</td>\n",
       "      <td>2</td>\n",
       "      <td>manager</td>\n",
       "      <td>Добрый день</td>\n",
       "    </tr>\n",
       "    <tr>\n",
       "      <th>3</th>\n",
       "      <td>0</td>\n",
       "      <td>3</td>\n",
       "      <td>client</td>\n",
       "      <td>Меня зовут ангелина компания диджитал бизнес звоним вам по поводу продления лицензии а мы с серым у вас скоро срок заканчивается</td>\n",
       "    </tr>\n",
       "    <tr>\n",
       "      <th>4</th>\n",
       "      <td>0</td>\n",
       "      <td>4</td>\n",
       "      <td>manager</td>\n",
       "      <td>Ага</td>\n",
       "    </tr>\n",
       "  </tbody>\n",
       "</table>\n",
       "</div>"
      ],
      "text/plain": [
       "   dlg_id  line_n     role  \\\n",
       "0       0       0  manager   \n",
       "1       0       1   client   \n",
       "2       0       2  manager   \n",
       "3       0       3   client   \n",
       "4       0       4  manager   \n",
       "\n",
       "                                                                                                                               text  \n",
       "0                                                                                                                              Алло  \n",
       "1                                                                                                                 Алло здравствуйте  \n",
       "2                                                                                                                       Добрый день  \n",
       "3  Меня зовут ангелина компания диджитал бизнес звоним вам по поводу продления лицензии а мы с серым у вас скоро срок заканчивается  \n",
       "4                                                                                                                               Ага  "
      ]
     },
     "execution_count": 3,
     "metadata": {},
     "output_type": "execute_result"
    }
   ],
   "source": [
    "df = pd.read_csv('test_data.csv')\n",
    "df.head()"
   ]
  },
  {
   "cell_type": "code",
   "execution_count": 4,
   "id": "f24432e8",
   "metadata": {},
   "outputs": [
    {
     "name": "stdout",
     "output_type": "stream",
     "text": [
      "<class 'pandas.core.frame.DataFrame'>\n",
      "RangeIndex: 480 entries, 0 to 479\n",
      "Data columns (total 4 columns):\n",
      " #   Column  Non-Null Count  Dtype \n",
      "---  ------  --------------  ----- \n",
      " 0   dlg_id  480 non-null    int64 \n",
      " 1   line_n  480 non-null    int64 \n",
      " 2   role    480 non-null    object\n",
      " 3   text    480 non-null    object\n",
      "dtypes: int64(2), object(2)\n",
      "memory usage: 15.1+ KB\n"
     ]
    }
   ],
   "source": [
    "df.info()"
   ]
  },
  {
   "cell_type": "markdown",
   "id": "38710edd",
   "metadata": {},
   "source": [
    "Проверяем все уникальные значения в столбце role"
   ]
  },
  {
   "cell_type": "code",
   "execution_count": 5,
   "id": "66c61689",
   "metadata": {
    "scrolled": true
   },
   "outputs": [
    {
     "data": {
      "text/plain": [
       "array(['manager', 'client'], dtype=object)"
      ]
     },
     "execution_count": 5,
     "metadata": {},
     "output_type": "execute_result"
    }
   ],
   "source": [
    "df['role'].unique()"
   ]
  },
  {
   "cell_type": "markdown",
   "id": "c00a7123",
   "metadata": {},
   "source": [
    "Из представленных данных можно сделать вывод, что в таблице перепутаны роли manager и client. Для дальнейшей работы это необходимо исправитть."
   ]
  },
  {
   "cell_type": "code",
   "execution_count": 6,
   "id": "dc633b35",
   "metadata": {},
   "outputs": [
    {
     "data": {
      "text/html": [
       "<div>\n",
       "<style scoped>\n",
       "    .dataframe tbody tr th:only-of-type {\n",
       "        vertical-align: middle;\n",
       "    }\n",
       "\n",
       "    .dataframe tbody tr th {\n",
       "        vertical-align: top;\n",
       "    }\n",
       "\n",
       "    .dataframe thead th {\n",
       "        text-align: right;\n",
       "    }\n",
       "</style>\n",
       "<table border=\"1\" class=\"dataframe\">\n",
       "  <thead>\n",
       "    <tr style=\"text-align: right;\">\n",
       "      <th></th>\n",
       "      <th>dlg_id</th>\n",
       "      <th>line_n</th>\n",
       "      <th>role</th>\n",
       "      <th>text</th>\n",
       "    </tr>\n",
       "  </thead>\n",
       "  <tbody>\n",
       "    <tr>\n",
       "      <th>0</th>\n",
       "      <td>0</td>\n",
       "      <td>0</td>\n",
       "      <td>client</td>\n",
       "      <td>Алло</td>\n",
       "    </tr>\n",
       "    <tr>\n",
       "      <th>1</th>\n",
       "      <td>0</td>\n",
       "      <td>1</td>\n",
       "      <td>manager</td>\n",
       "      <td>Алло здравствуйте</td>\n",
       "    </tr>\n",
       "    <tr>\n",
       "      <th>2</th>\n",
       "      <td>0</td>\n",
       "      <td>2</td>\n",
       "      <td>client</td>\n",
       "      <td>Добрый день</td>\n",
       "    </tr>\n",
       "    <tr>\n",
       "      <th>3</th>\n",
       "      <td>0</td>\n",
       "      <td>3</td>\n",
       "      <td>manager</td>\n",
       "      <td>Меня зовут ангелина компания диджитал бизнес звоним вам по поводу продления лицензии а мы с серым у вас скоро срок заканчивается</td>\n",
       "    </tr>\n",
       "    <tr>\n",
       "      <th>4</th>\n",
       "      <td>0</td>\n",
       "      <td>4</td>\n",
       "      <td>client</td>\n",
       "      <td>Ага</td>\n",
       "    </tr>\n",
       "  </tbody>\n",
       "</table>\n",
       "</div>"
      ],
      "text/plain": [
       "   dlg_id  line_n     role  \\\n",
       "0       0       0   client   \n",
       "1       0       1  manager   \n",
       "2       0       2   client   \n",
       "3       0       3  manager   \n",
       "4       0       4   client   \n",
       "\n",
       "                                                                                                                               text  \n",
       "0                                                                                                                              Алло  \n",
       "1                                                                                                                 Алло здравствуйте  \n",
       "2                                                                                                                       Добрый день  \n",
       "3  Меня зовут ангелина компания диджитал бизнес звоним вам по поводу продления лицензии а мы с серым у вас скоро срок заканчивается  \n",
       "4                                                                                                                               Ага  "
      ]
     },
     "execution_count": 6,
     "metadata": {},
     "output_type": "execute_result"
    }
   ],
   "source": [
    "df.loc[df['role'] == 'client', 'role'] = 'manager_1'\n",
    "df.loc[df['role'] == 'manager', 'role'] = 'client'\n",
    "df.loc[df['role'] == 'manager_1', 'role'] = 'manager'\n",
    "df.head()"
   ]
  },
  {
   "cell_type": "code",
   "execution_count": 7,
   "id": "0a45ef77",
   "metadata": {
    "scrolled": true
   },
   "outputs": [
    {
     "data": {
      "text/plain": [
       "array([0, 1, 2, 3, 4, 5])"
      ]
     },
     "execution_count": 7,
     "metadata": {},
     "output_type": "execute_result"
    }
   ],
   "source": [
    "df['dlg_id'].unique()"
   ]
  },
  {
   "cell_type": "markdown",
   "id": "881961f1",
   "metadata": {},
   "source": [
    "Переводим данные в поле text в нижний регистр."
   ]
  },
  {
   "cell_type": "code",
   "execution_count": 8,
   "id": "8d4a0eb5",
   "metadata": {},
   "outputs": [
    {
     "data": {
      "text/html": [
       "<div>\n",
       "<style scoped>\n",
       "    .dataframe tbody tr th:only-of-type {\n",
       "        vertical-align: middle;\n",
       "    }\n",
       "\n",
       "    .dataframe tbody tr th {\n",
       "        vertical-align: top;\n",
       "    }\n",
       "\n",
       "    .dataframe thead th {\n",
       "        text-align: right;\n",
       "    }\n",
       "</style>\n",
       "<table border=\"1\" class=\"dataframe\">\n",
       "  <thead>\n",
       "    <tr style=\"text-align: right;\">\n",
       "      <th></th>\n",
       "      <th>dlg_id</th>\n",
       "      <th>line_n</th>\n",
       "      <th>role</th>\n",
       "      <th>text</th>\n",
       "    </tr>\n",
       "  </thead>\n",
       "  <tbody>\n",
       "    <tr>\n",
       "      <th>0</th>\n",
       "      <td>0</td>\n",
       "      <td>0</td>\n",
       "      <td>client</td>\n",
       "      <td>алло</td>\n",
       "    </tr>\n",
       "    <tr>\n",
       "      <th>1</th>\n",
       "      <td>0</td>\n",
       "      <td>1</td>\n",
       "      <td>manager</td>\n",
       "      <td>алло здравствуйте</td>\n",
       "    </tr>\n",
       "    <tr>\n",
       "      <th>2</th>\n",
       "      <td>0</td>\n",
       "      <td>2</td>\n",
       "      <td>client</td>\n",
       "      <td>добрый день</td>\n",
       "    </tr>\n",
       "    <tr>\n",
       "      <th>3</th>\n",
       "      <td>0</td>\n",
       "      <td>3</td>\n",
       "      <td>manager</td>\n",
       "      <td>меня зовут ангелина компания диджитал бизнес звоним вам по поводу продления лицензии а мы с серым у вас скоро срок заканчивается</td>\n",
       "    </tr>\n",
       "    <tr>\n",
       "      <th>4</th>\n",
       "      <td>0</td>\n",
       "      <td>4</td>\n",
       "      <td>client</td>\n",
       "      <td>ага</td>\n",
       "    </tr>\n",
       "  </tbody>\n",
       "</table>\n",
       "</div>"
      ],
      "text/plain": [
       "   dlg_id  line_n     role  \\\n",
       "0       0       0   client   \n",
       "1       0       1  manager   \n",
       "2       0       2   client   \n",
       "3       0       3  manager   \n",
       "4       0       4   client   \n",
       "\n",
       "                                                                                                                               text  \n",
       "0                                                                                                                              алло  \n",
       "1                                                                                                                 алло здравствуйте  \n",
       "2                                                                                                                       добрый день  \n",
       "3  меня зовут ангелина компания диджитал бизнес звоним вам по поводу продления лицензии а мы с серым у вас скоро срок заканчивается  \n",
       "4                                                                                                                               ага  "
      ]
     },
     "execution_count": 8,
     "metadata": {},
     "output_type": "execute_result"
    }
   ],
   "source": [
    "df['text'] = df['text'].str.lower()\n",
    "df.head()"
   ]
  },
  {
   "cell_type": "code",
   "execution_count": 9,
   "id": "711d5fc2",
   "metadata": {},
   "outputs": [],
   "source": [
    "#df[(df['role'] == 'manager') & (df['dlg_id'] == 2)][['text', 'dlg_id', 'role']]#.head(60)"
   ]
  },
  {
   "cell_type": "markdown",
   "id": "5dacac86",
   "metadata": {},
   "source": [
    "Создаем датафрейм для записи результатов проверки и списки с ключевыми фразами."
   ]
  },
  {
   "cell_type": "code",
   "execution_count": 10,
   "id": "b00c519e",
   "metadata": {},
   "outputs": [],
   "source": [
    "result = pd.DataFrame(columns = None, index = df['dlg_id'].unique())\n",
    "greeting = ['здравствуйте', 'добрый день']\n",
    "goodbye = ['всего доброго', 'до свидания', 'всего хорошего', 'хорошего вечера']\n"
   ]
  },
  {
   "cell_type": "markdown",
   "id": "5d3a5494",
   "metadata": {},
   "source": [
    "Для проверки вхождения ключевых слов в реплики менеджеров и выборки фраз с этими словами в датафрейм пишем функцию check."
   ]
  },
  {
   "cell_type": "code",
   "execution_count": 11,
   "id": "f1ce9215",
   "metadata": {},
   "outputs": [],
   "source": [
    "# Функция для проверки вхождения ключевых слов и выборки фраз в датафрейм\n",
    "def check(dictionary, field):\n",
    "    \n",
    "    for dlg in df['dlg_id'].unique():\n",
    "        for i in df[(df['role' ] == 'manager') & (df['dlg_id'] == dlg)]['text']:\n",
    "            for n in dictionary:\n",
    "                if n in i:\n",
    "                    result.loc[dlg, field] = i\n",
    "                    break\n",
    "    \n",
    "                    \n",
    "\n",
    "\n",
    "                        \n",
    "                        "
   ]
  },
  {
   "cell_type": "markdown",
   "id": "98e53956",
   "metadata": {},
   "source": [
    "Проводим проверку - поздоровался ли менеджер, если да, то заносим фразу с приветствием в датафрейм."
   ]
  },
  {
   "cell_type": "code",
   "execution_count": 12,
   "id": "0d9a3e5e",
   "metadata": {},
   "outputs": [
    {
     "data": {
      "text/html": [
       "<div>\n",
       "<style scoped>\n",
       "    .dataframe tbody tr th:only-of-type {\n",
       "        vertical-align: middle;\n",
       "    }\n",
       "\n",
       "    .dataframe tbody tr th {\n",
       "        vertical-align: top;\n",
       "    }\n",
       "\n",
       "    .dataframe thead th {\n",
       "        text-align: right;\n",
       "    }\n",
       "</style>\n",
       "<table border=\"1\" class=\"dataframe\">\n",
       "  <thead>\n",
       "    <tr style=\"text-align: right;\">\n",
       "      <th></th>\n",
       "      <th>greeting</th>\n",
       "    </tr>\n",
       "  </thead>\n",
       "  <tbody>\n",
       "    <tr>\n",
       "      <th>0</th>\n",
       "      <td>алло здравствуйте</td>\n",
       "    </tr>\n",
       "    <tr>\n",
       "      <th>1</th>\n",
       "      <td>алло здравствуйте</td>\n",
       "    </tr>\n",
       "    <tr>\n",
       "      <th>2</th>\n",
       "      <td>алло здравствуйте</td>\n",
       "    </tr>\n",
       "    <tr>\n",
       "      <th>3</th>\n",
       "      <td>алло дмитрий добрый день</td>\n",
       "    </tr>\n",
       "    <tr>\n",
       "      <th>4</th>\n",
       "      <td>NaN</td>\n",
       "    </tr>\n",
       "    <tr>\n",
       "      <th>5</th>\n",
       "      <td>NaN</td>\n",
       "    </tr>\n",
       "  </tbody>\n",
       "</table>\n",
       "</div>"
      ],
      "text/plain": [
       "                   greeting\n",
       "0         алло здравствуйте\n",
       "1         алло здравствуйте\n",
       "2         алло здравствуйте\n",
       "3  алло дмитрий добрый день\n",
       "4                       NaN\n",
       "5                       NaN"
      ]
     },
     "execution_count": 12,
     "metadata": {},
     "output_type": "execute_result"
    }
   ],
   "source": [
    "# Проверяем поздоровался ли менеджер\n",
    "check(dictionary = greeting, field = 'greeting')\n",
    "result"
   ]
  },
  {
   "cell_type": "markdown",
   "id": "26f85dac",
   "metadata": {},
   "source": [
    "Для проверки того представился ли менеджер и извлечения его имени, сначала нужно проверить фразу на вхождение ключевых слов \"меня\", \"зовут\" и т.д., после чего к данной фразе можно применять библиотеку nltk для извлечения имени. Если применять без такой проверки, то будут выданы все имена упоминаемые менеджером в разговоре."
   ]
  },
  {
   "cell_type": "code",
   "execution_count": 13,
   "id": "88afe5c5",
   "metadata": {},
   "outputs": [
    {
     "data": {
      "text/html": [
       "<div>\n",
       "<style scoped>\n",
       "    .dataframe tbody tr th:only-of-type {\n",
       "        vertical-align: middle;\n",
       "    }\n",
       "\n",
       "    .dataframe tbody tr th {\n",
       "        vertical-align: top;\n",
       "    }\n",
       "\n",
       "    .dataframe thead th {\n",
       "        text-align: right;\n",
       "    }\n",
       "</style>\n",
       "<table border=\"1\" class=\"dataframe\">\n",
       "  <thead>\n",
       "    <tr style=\"text-align: right;\">\n",
       "      <th></th>\n",
       "      <th>greeting</th>\n",
       "      <th>introduc</th>\n",
       "    </tr>\n",
       "  </thead>\n",
       "  <tbody>\n",
       "    <tr>\n",
       "      <th>0</th>\n",
       "      <td>алло здравствуйте</td>\n",
       "      <td>меня зовут ангелина компания диджитал бизнес звоним вам по поводу продления лицензии а мы с серым у вас скоро срок заканчивается</td>\n",
       "    </tr>\n",
       "    <tr>\n",
       "      <th>1</th>\n",
       "      <td>алло здравствуйте</td>\n",
       "      <td>меня зовут ангелина компания диджитал бизнес звоню вам по поводу продления а мы сели обратила внимание что у вас срок заканчивается</td>\n",
       "    </tr>\n",
       "    <tr>\n",
       "      <th>2</th>\n",
       "      <td>алло здравствуйте</td>\n",
       "      <td>меня зовут ангелина компания диджитал бизнес звоню вам по поводу продления лицензии а мастера мы с вами сотрудничали по видео там</td>\n",
       "    </tr>\n",
       "    <tr>\n",
       "      <th>3</th>\n",
       "      <td>алло дмитрий добрый день</td>\n",
       "      <td>добрый меня максим зовут компания китобизнес удобно говорить</td>\n",
       "    </tr>\n",
       "    <tr>\n",
       "      <th>4</th>\n",
       "      <td>NaN</td>\n",
       "      <td>NaN</td>\n",
       "    </tr>\n",
       "    <tr>\n",
       "      <th>5</th>\n",
       "      <td>NaN</td>\n",
       "      <td>NaN</td>\n",
       "    </tr>\n",
       "  </tbody>\n",
       "</table>\n",
       "</div>"
      ],
      "text/plain": [
       "                   greeting  \\\n",
       "0         алло здравствуйте   \n",
       "1         алло здравствуйте   \n",
       "2         алло здравствуйте   \n",
       "3  алло дмитрий добрый день   \n",
       "4                       NaN   \n",
       "5                       NaN   \n",
       "\n",
       "                                                                                                                              introduc  \n",
       "0     меня зовут ангелина компания диджитал бизнес звоним вам по поводу продления лицензии а мы с серым у вас скоро срок заканчивается  \n",
       "1  меня зовут ангелина компания диджитал бизнес звоню вам по поводу продления а мы сели обратила внимание что у вас срок заканчивается  \n",
       "2    меня зовут ангелина компания диджитал бизнес звоню вам по поводу продления лицензии а мастера мы с вами сотрудничали по видео там  \n",
       "3                                                                         добрый меня максим зовут компания китобизнес удобно говорить  \n",
       "4                                                                                                                                  NaN  \n",
       "5                                                                                                                                  NaN  "
      ]
     },
     "execution_count": 13,
     "metadata": {},
     "output_type": "execute_result"
    }
   ],
   "source": [
    "for dlg in df['dlg_id'].unique():\n",
    "        for i in df[(df['role' ] == 'manager') & (df['dlg_id'] == dlg)]['text']:\n",
    "            if ('меня' in i and 'зовут' in i) or ('моё' in i and 'имя' in i) or ('моe' in i and 'имя' in i):\n",
    "                result.loc[dlg, 'introduc'] = i\n",
    "                break \n",
    "        \n",
    "            \n",
    "result            "
   ]
  },
  {
   "cell_type": "markdown",
   "id": "2a8d5c8e",
   "metadata": {},
   "source": [
    "Анализируем фразы и извлекаем из них имена менеджеров."
   ]
  },
  {
   "cell_type": "code",
   "execution_count": 14,
   "id": "08fa761d",
   "metadata": {},
   "outputs": [
    {
     "data": {
      "text/html": [
       "<div>\n",
       "<style scoped>\n",
       "    .dataframe tbody tr th:only-of-type {\n",
       "        vertical-align: middle;\n",
       "    }\n",
       "\n",
       "    .dataframe tbody tr th {\n",
       "        vertical-align: top;\n",
       "    }\n",
       "\n",
       "    .dataframe thead th {\n",
       "        text-align: right;\n",
       "    }\n",
       "</style>\n",
       "<table border=\"1\" class=\"dataframe\">\n",
       "  <thead>\n",
       "    <tr style=\"text-align: right;\">\n",
       "      <th></th>\n",
       "      <th>greeting</th>\n",
       "      <th>introduc</th>\n",
       "      <th>name</th>\n",
       "    </tr>\n",
       "  </thead>\n",
       "  <tbody>\n",
       "    <tr>\n",
       "      <th>0</th>\n",
       "      <td>алло здравствуйте</td>\n",
       "      <td>меня зовут ангелина компания диджитал бизнес звоним вам по поводу продления лицензии а мы с серым у вас скоро срок заканчивается</td>\n",
       "      <td>ангелина</td>\n",
       "    </tr>\n",
       "    <tr>\n",
       "      <th>1</th>\n",
       "      <td>алло здравствуйте</td>\n",
       "      <td>меня зовут ангелина компания диджитал бизнес звоню вам по поводу продления а мы сели обратила внимание что у вас срок заканчивается</td>\n",
       "      <td>ангелина</td>\n",
       "    </tr>\n",
       "    <tr>\n",
       "      <th>2</th>\n",
       "      <td>алло здравствуйте</td>\n",
       "      <td>меня зовут ангелина компания диджитал бизнес звоню вам по поводу продления лицензии а мастера мы с вами сотрудничали по видео там</td>\n",
       "      <td>ангелина</td>\n",
       "    </tr>\n",
       "    <tr>\n",
       "      <th>3</th>\n",
       "      <td>алло дмитрий добрый день</td>\n",
       "      <td>добрый меня максим зовут компания китобизнес удобно говорить</td>\n",
       "      <td>максим</td>\n",
       "    </tr>\n",
       "    <tr>\n",
       "      <th>4</th>\n",
       "      <td>NaN</td>\n",
       "      <td>NaN</td>\n",
       "      <td>NaN</td>\n",
       "    </tr>\n",
       "    <tr>\n",
       "      <th>5</th>\n",
       "      <td>NaN</td>\n",
       "      <td>NaN</td>\n",
       "      <td>NaN</td>\n",
       "    </tr>\n",
       "  </tbody>\n",
       "</table>\n",
       "</div>"
      ],
      "text/plain": [
       "                   greeting  \\\n",
       "0         алло здравствуйте   \n",
       "1         алло здравствуйте   \n",
       "2         алло здравствуйте   \n",
       "3  алло дмитрий добрый день   \n",
       "4                       NaN   \n",
       "5                       NaN   \n",
       "\n",
       "                                                                                                                              introduc  \\\n",
       "0     меня зовут ангелина компания диджитал бизнес звоним вам по поводу продления лицензии а мы с серым у вас скоро срок заканчивается   \n",
       "1  меня зовут ангелина компания диджитал бизнес звоню вам по поводу продления а мы сели обратила внимание что у вас срок заканчивается   \n",
       "2    меня зовут ангелина компания диджитал бизнес звоню вам по поводу продления лицензии а мастера мы с вами сотрудничали по видео там   \n",
       "3                                                                         добрый меня максим зовут компания китобизнес удобно говорить   \n",
       "4                                                                                                                                  NaN   \n",
       "5                                                                                                                                  NaN   \n",
       "\n",
       "       name  \n",
       "0  ангелина  \n",
       "1  ангелина  \n",
       "2  ангелина  \n",
       "3    максим  \n",
       "4       NaN  \n",
       "5       NaN  "
      ]
     },
     "execution_count": 14,
     "metadata": {},
     "output_type": "execute_result"
    }
   ],
   "source": [
    "prob_thresh = 0.4\n",
    "morph = pymorphy2.MorphAnalyzer()\n",
    "index = 0\n",
    "for phrase in result['introduc']:\n",
    "    if type(phrase) != float:\n",
    "        for word in nltk.word_tokenize(phrase):\n",
    "            for p in morph.parse(word):\n",
    "                if 'Name' in p.tag and p.score >= prob_thresh:\n",
    "                    result.loc[index, 'name'] = p.normal_form\n",
    "    index += 1\n",
    "                \n",
    "result              \n",
    "\n"
   ]
  },
  {
   "cell_type": "markdown",
   "id": "b8758a51",
   "metadata": {},
   "source": [
    "Логично предположить, что название фирмы должно прозвучать во фразе приветствия, в противном случае есть вероятность извлечь названия любых организаций, упоминающихся в разговоре. Для извлечения названия фирмы берем часть фразы, которая начинается от слова \"компания\" и до первого глагола или наречия."
   ]
  },
  {
   "cell_type": "code",
   "execution_count": 15,
   "id": "a6cc5497",
   "metadata": {},
   "outputs": [
    {
     "data": {
      "text/html": [
       "<div>\n",
       "<style scoped>\n",
       "    .dataframe tbody tr th:only-of-type {\n",
       "        vertical-align: middle;\n",
       "    }\n",
       "\n",
       "    .dataframe tbody tr th {\n",
       "        vertical-align: top;\n",
       "    }\n",
       "\n",
       "    .dataframe thead th {\n",
       "        text-align: right;\n",
       "    }\n",
       "</style>\n",
       "<table border=\"1\" class=\"dataframe\">\n",
       "  <thead>\n",
       "    <tr style=\"text-align: right;\">\n",
       "      <th></th>\n",
       "      <th>greeting</th>\n",
       "      <th>introduc</th>\n",
       "      <th>name</th>\n",
       "      <th>firm</th>\n",
       "    </tr>\n",
       "  </thead>\n",
       "  <tbody>\n",
       "    <tr>\n",
       "      <th>0</th>\n",
       "      <td>алло здравствуйте</td>\n",
       "      <td>меня зовут ангелина компания диджитал бизнес звоним вам по поводу продления лицензии а мы с серым у вас скоро срок заканчивается</td>\n",
       "      <td>ангелина</td>\n",
       "      <td>компания диджитал бизнес</td>\n",
       "    </tr>\n",
       "    <tr>\n",
       "      <th>1</th>\n",
       "      <td>алло здравствуйте</td>\n",
       "      <td>меня зовут ангелина компания диджитал бизнес звоню вам по поводу продления а мы сели обратила внимание что у вас срок заканчивается</td>\n",
       "      <td>ангелина</td>\n",
       "      <td>компания диджитал бизнес</td>\n",
       "    </tr>\n",
       "    <tr>\n",
       "      <th>2</th>\n",
       "      <td>алло здравствуйте</td>\n",
       "      <td>меня зовут ангелина компания диджитал бизнес звоню вам по поводу продления лицензии а мастера мы с вами сотрудничали по видео там</td>\n",
       "      <td>ангелина</td>\n",
       "      <td>компания диджитал бизнес</td>\n",
       "    </tr>\n",
       "    <tr>\n",
       "      <th>3</th>\n",
       "      <td>алло дмитрий добрый день</td>\n",
       "      <td>добрый меня максим зовут компания китобизнес удобно говорить</td>\n",
       "      <td>максим</td>\n",
       "      <td>компания китобизнес</td>\n",
       "    </tr>\n",
       "    <tr>\n",
       "      <th>4</th>\n",
       "      <td>NaN</td>\n",
       "      <td>NaN</td>\n",
       "      <td>NaN</td>\n",
       "      <td>NaN</td>\n",
       "    </tr>\n",
       "    <tr>\n",
       "      <th>5</th>\n",
       "      <td>NaN</td>\n",
       "      <td>NaN</td>\n",
       "      <td>NaN</td>\n",
       "      <td>NaN</td>\n",
       "    </tr>\n",
       "  </tbody>\n",
       "</table>\n",
       "</div>"
      ],
      "text/plain": [
       "                   greeting  \\\n",
       "0         алло здравствуйте   \n",
       "1         алло здравствуйте   \n",
       "2         алло здравствуйте   \n",
       "3  алло дмитрий добрый день   \n",
       "4                       NaN   \n",
       "5                       NaN   \n",
       "\n",
       "                                                                                                                              introduc  \\\n",
       "0     меня зовут ангелина компания диджитал бизнес звоним вам по поводу продления лицензии а мы с серым у вас скоро срок заканчивается   \n",
       "1  меня зовут ангелина компания диджитал бизнес звоню вам по поводу продления а мы сели обратила внимание что у вас срок заканчивается   \n",
       "2    меня зовут ангелина компания диджитал бизнес звоню вам по поводу продления лицензии а мастера мы с вами сотрудничали по видео там   \n",
       "3                                                                         добрый меня максим зовут компания китобизнес удобно говорить   \n",
       "4                                                                                                                                  NaN   \n",
       "5                                                                                                                                  NaN   \n",
       "\n",
       "       name                       firm  \n",
       "0  ангелина  компания диджитал бизнес   \n",
       "1  ангелина  компания диджитал бизнес   \n",
       "2  ангелина  компания диджитал бизнес   \n",
       "3    максим       компания китобизнес   \n",
       "4       NaN                        NaN  \n",
       "5       NaN                        NaN  "
      ]
     },
     "execution_count": 15,
     "metadata": {},
     "output_type": "execute_result"
    }
   ],
   "source": [
    "prob_thresh = 0.4\n",
    "morph = pymorphy2.MorphAnalyzer()\n",
    "\n",
    "index = 0\n",
    "for phrase in result['introduc']:\n",
    "    if type(phrase) != float:\n",
    "        if 'компания' in phrase:\n",
    "            for word in phrase[phrase.index('компания'):].split(' '):\n",
    "                for p in morph.parse(word):\n",
    "                    if ('VERB' in p.tag and p.score >= prob_thresh) or ('ADVB' in p.tag and p.score >= prob_thresh):\n",
    "                        #print(p.normal_form)\n",
    "                        result.loc[index, 'firm'] = phrase[phrase.index('компания'):phrase.index(word)]\n",
    "                        \n",
    "                        break\n",
    "                else:\n",
    "                    continue\n",
    "                break\n",
    "    index += 1\n",
    "    \n",
    "result"
   ]
  },
  {
   "cell_type": "markdown",
   "id": "2fde4b18",
   "metadata": {},
   "source": [
    "Проводим проверку - попрощался ли менеджер, если да, то заносим фразу в датафрейм."
   ]
  },
  {
   "cell_type": "code",
   "execution_count": 16,
   "id": "67ffda80",
   "metadata": {},
   "outputs": [
    {
     "data": {
      "text/html": [
       "<div>\n",
       "<style scoped>\n",
       "    .dataframe tbody tr th:only-of-type {\n",
       "        vertical-align: middle;\n",
       "    }\n",
       "\n",
       "    .dataframe tbody tr th {\n",
       "        vertical-align: top;\n",
       "    }\n",
       "\n",
       "    .dataframe thead th {\n",
       "        text-align: right;\n",
       "    }\n",
       "</style>\n",
       "<table border=\"1\" class=\"dataframe\">\n",
       "  <thead>\n",
       "    <tr style=\"text-align: right;\">\n",
       "      <th></th>\n",
       "      <th>greeting</th>\n",
       "      <th>introduc</th>\n",
       "      <th>name</th>\n",
       "      <th>firm</th>\n",
       "      <th>goodbye</th>\n",
       "    </tr>\n",
       "  </thead>\n",
       "  <tbody>\n",
       "    <tr>\n",
       "      <th>0</th>\n",
       "      <td>алло здравствуйте</td>\n",
       "      <td>меня зовут ангелина компания диджитал бизнес звоним вам по поводу продления лицензии а мы с серым у вас скоро срок заканчивается</td>\n",
       "      <td>ангелина</td>\n",
       "      <td>компания диджитал бизнес</td>\n",
       "      <td>всего хорошего до свидания</td>\n",
       "    </tr>\n",
       "    <tr>\n",
       "      <th>1</th>\n",
       "      <td>алло здравствуйте</td>\n",
       "      <td>меня зовут ангелина компания диджитал бизнес звоню вам по поводу продления а мы сели обратила внимание что у вас срок заканчивается</td>\n",
       "      <td>ангелина</td>\n",
       "      <td>компания диджитал бизнес</td>\n",
       "      <td>до свидания</td>\n",
       "    </tr>\n",
       "    <tr>\n",
       "      <th>2</th>\n",
       "      <td>алло здравствуйте</td>\n",
       "      <td>меня зовут ангелина компания диджитал бизнес звоню вам по поводу продления лицензии а мастера мы с вами сотрудничали по видео там</td>\n",
       "      <td>ангелина</td>\n",
       "      <td>компания диджитал бизнес</td>\n",
       "      <td>NaN</td>\n",
       "    </tr>\n",
       "    <tr>\n",
       "      <th>3</th>\n",
       "      <td>алло дмитрий добрый день</td>\n",
       "      <td>добрый меня максим зовут компания китобизнес удобно говорить</td>\n",
       "      <td>максим</td>\n",
       "      <td>компания китобизнес</td>\n",
       "      <td>угу все хорошо да понедельника тогда всего доброго</td>\n",
       "    </tr>\n",
       "    <tr>\n",
       "      <th>4</th>\n",
       "      <td>NaN</td>\n",
       "      <td>NaN</td>\n",
       "      <td>NaN</td>\n",
       "      <td>NaN</td>\n",
       "      <td>во вторник все ну с вами да тогда до вторника до свидания</td>\n",
       "    </tr>\n",
       "    <tr>\n",
       "      <th>5</th>\n",
       "      <td>NaN</td>\n",
       "      <td>NaN</td>\n",
       "      <td>NaN</td>\n",
       "      <td>NaN</td>\n",
       "      <td>ну до свидания хорошего вечера</td>\n",
       "    </tr>\n",
       "  </tbody>\n",
       "</table>\n",
       "</div>"
      ],
      "text/plain": [
       "                   greeting  \\\n",
       "0         алло здравствуйте   \n",
       "1         алло здравствуйте   \n",
       "2         алло здравствуйте   \n",
       "3  алло дмитрий добрый день   \n",
       "4                       NaN   \n",
       "5                       NaN   \n",
       "\n",
       "                                                                                                                              introduc  \\\n",
       "0     меня зовут ангелина компания диджитал бизнес звоним вам по поводу продления лицензии а мы с серым у вас скоро срок заканчивается   \n",
       "1  меня зовут ангелина компания диджитал бизнес звоню вам по поводу продления а мы сели обратила внимание что у вас срок заканчивается   \n",
       "2    меня зовут ангелина компания диджитал бизнес звоню вам по поводу продления лицензии а мастера мы с вами сотрудничали по видео там   \n",
       "3                                                                         добрый меня максим зовут компания китобизнес удобно говорить   \n",
       "4                                                                                                                                  NaN   \n",
       "5                                                                                                                                  NaN   \n",
       "\n",
       "       name                       firm  \\\n",
       "0  ангелина  компания диджитал бизнес    \n",
       "1  ангелина  компания диджитал бизнес    \n",
       "2  ангелина  компания диджитал бизнес    \n",
       "3    максим       компания китобизнес    \n",
       "4       NaN                        NaN   \n",
       "5       NaN                        NaN   \n",
       "\n",
       "                                                     goodbye  \n",
       "0                                 всего хорошего до свидания  \n",
       "1                                                до свидания  \n",
       "2                                                        NaN  \n",
       "3         угу все хорошо да понедельника тогда всего доброго  \n",
       "4  во вторник все ну с вами да тогда до вторника до свидания  \n",
       "5                             ну до свидания хорошего вечера  "
      ]
     },
     "execution_count": 16,
     "metadata": {},
     "output_type": "execute_result"
    }
   ],
   "source": [
    "check(dictionary = goodbye, field = 'goodbye')\n",
    "result"
   ]
  },
  {
   "cell_type": "markdown",
   "id": "397a0212",
   "metadata": {},
   "source": [
    "Проверяем требование к менеджеру: «В каждом диалоге обязательно необходимо поздороваться и попрощаться с клиентом»"
   ]
  },
  {
   "cell_type": "code",
   "execution_count": 17,
   "id": "2d603a5e",
   "metadata": {},
   "outputs": [
    {
     "data": {
      "text/html": [
       "<div>\n",
       "<style scoped>\n",
       "    .dataframe tbody tr th:only-of-type {\n",
       "        vertical-align: middle;\n",
       "    }\n",
       "\n",
       "    .dataframe tbody tr th {\n",
       "        vertical-align: top;\n",
       "    }\n",
       "\n",
       "    .dataframe thead th {\n",
       "        text-align: right;\n",
       "    }\n",
       "</style>\n",
       "<table border=\"1\" class=\"dataframe\">\n",
       "  <thead>\n",
       "    <tr style=\"text-align: right;\">\n",
       "      <th></th>\n",
       "      <th>greeting</th>\n",
       "      <th>introduc</th>\n",
       "      <th>name</th>\n",
       "      <th>firm</th>\n",
       "      <th>goodbye</th>\n",
       "      <th>hello_goodbye</th>\n",
       "    </tr>\n",
       "  </thead>\n",
       "  <tbody>\n",
       "    <tr>\n",
       "      <th>0</th>\n",
       "      <td>алло здравствуйте</td>\n",
       "      <td>меня зовут ангелина компания диджитал бизнес звоним вам по поводу продления лицензии а мы с серым у вас скоро срок заканчивается</td>\n",
       "      <td>ангелина</td>\n",
       "      <td>компания диджитал бизнес</td>\n",
       "      <td>всего хорошего до свидания</td>\n",
       "      <td>True</td>\n",
       "    </tr>\n",
       "    <tr>\n",
       "      <th>1</th>\n",
       "      <td>алло здравствуйте</td>\n",
       "      <td>меня зовут ангелина компания диджитал бизнес звоню вам по поводу продления а мы сели обратила внимание что у вас срок заканчивается</td>\n",
       "      <td>ангелина</td>\n",
       "      <td>компания диджитал бизнес</td>\n",
       "      <td>до свидания</td>\n",
       "      <td>True</td>\n",
       "    </tr>\n",
       "    <tr>\n",
       "      <th>2</th>\n",
       "      <td>алло здравствуйте</td>\n",
       "      <td>меня зовут ангелина компания диджитал бизнес звоню вам по поводу продления лицензии а мастера мы с вами сотрудничали по видео там</td>\n",
       "      <td>ангелина</td>\n",
       "      <td>компания диджитал бизнес</td>\n",
       "      <td>NaN</td>\n",
       "      <td>False</td>\n",
       "    </tr>\n",
       "    <tr>\n",
       "      <th>3</th>\n",
       "      <td>алло дмитрий добрый день</td>\n",
       "      <td>добрый меня максим зовут компания китобизнес удобно говорить</td>\n",
       "      <td>максим</td>\n",
       "      <td>компания китобизнес</td>\n",
       "      <td>угу все хорошо да понедельника тогда всего доброго</td>\n",
       "      <td>True</td>\n",
       "    </tr>\n",
       "    <tr>\n",
       "      <th>4</th>\n",
       "      <td>NaN</td>\n",
       "      <td>NaN</td>\n",
       "      <td>NaN</td>\n",
       "      <td>NaN</td>\n",
       "      <td>во вторник все ну с вами да тогда до вторника до свидания</td>\n",
       "      <td>False</td>\n",
       "    </tr>\n",
       "    <tr>\n",
       "      <th>5</th>\n",
       "      <td>NaN</td>\n",
       "      <td>NaN</td>\n",
       "      <td>NaN</td>\n",
       "      <td>NaN</td>\n",
       "      <td>ну до свидания хорошего вечера</td>\n",
       "      <td>False</td>\n",
       "    </tr>\n",
       "  </tbody>\n",
       "</table>\n",
       "</div>"
      ],
      "text/plain": [
       "                   greeting  \\\n",
       "0         алло здравствуйте   \n",
       "1         алло здравствуйте   \n",
       "2         алло здравствуйте   \n",
       "3  алло дмитрий добрый день   \n",
       "4                       NaN   \n",
       "5                       NaN   \n",
       "\n",
       "                                                                                                                              introduc  \\\n",
       "0     меня зовут ангелина компания диджитал бизнес звоним вам по поводу продления лицензии а мы с серым у вас скоро срок заканчивается   \n",
       "1  меня зовут ангелина компания диджитал бизнес звоню вам по поводу продления а мы сели обратила внимание что у вас срок заканчивается   \n",
       "2    меня зовут ангелина компания диджитал бизнес звоню вам по поводу продления лицензии а мастера мы с вами сотрудничали по видео там   \n",
       "3                                                                         добрый меня максим зовут компания китобизнес удобно говорить   \n",
       "4                                                                                                                                  NaN   \n",
       "5                                                                                                                                  NaN   \n",
       "\n",
       "       name                       firm  \\\n",
       "0  ангелина  компания диджитал бизнес    \n",
       "1  ангелина  компания диджитал бизнес    \n",
       "2  ангелина  компания диджитал бизнес    \n",
       "3    максим       компания китобизнес    \n",
       "4       NaN                        NaN   \n",
       "5       NaN                        NaN   \n",
       "\n",
       "                                                     goodbye hello_goodbye  \n",
       "0                                 всего хорошего до свидания          True  \n",
       "1                                                до свидания          True  \n",
       "2                                                        NaN         False  \n",
       "3         угу все хорошо да понедельника тогда всего доброго          True  \n",
       "4  во вторник все ну с вами да тогда до вторника до свидания         False  \n",
       "5                             ну до свидания хорошего вечера         False  "
      ]
     },
     "execution_count": 17,
     "metadata": {},
     "output_type": "execute_result"
    }
   ],
   "source": [
    "result.loc[(result['goodbye'].isnull() == False) & (result['greeting'].isnull() == False), 'hello_goodbye'] = True\n",
    "result.loc[(result['goodbye'].isnull() == True) | (result['greeting'].isnull() == True), 'hello_goodbye' ] = False\n",
    "\n",
    "result"
   ]
  },
  {
   "cell_type": "code",
   "execution_count": null,
   "id": "2ad919f5",
   "metadata": {},
   "outputs": [],
   "source": []
  }
 ],
 "metadata": {
  "ExecuteTimeLog": [
   {
    "duration": 395,
    "start_time": "2022-08-23T08:37:10.886Z"
   },
   {
    "duration": 3,
    "start_time": "2022-08-23T08:37:12.025Z"
   },
   {
    "duration": 57,
    "start_time": "2022-08-23T08:37:43.708Z"
   },
   {
    "duration": 62,
    "start_time": "2022-08-23T08:38:08.472Z"
   },
   {
    "duration": 10,
    "start_time": "2022-08-23T08:38:18.423Z"
   },
   {
    "duration": 10,
    "start_time": "2022-08-23T08:43:22.987Z"
   },
   {
    "duration": 11,
    "start_time": "2022-08-23T08:45:07.445Z"
   },
   {
    "duration": 10,
    "start_time": "2022-08-23T08:45:46.398Z"
   },
   {
    "duration": 9,
    "start_time": "2022-08-23T08:46:23.048Z"
   },
   {
    "duration": 9,
    "start_time": "2022-08-23T08:48:17.832Z"
   },
   {
    "duration": 122,
    "start_time": "2022-08-23T09:00:03.094Z"
   },
   {
    "duration": 156,
    "start_time": "2022-08-23T09:00:36.353Z"
   },
   {
    "duration": 9,
    "start_time": "2022-08-23T09:00:42.571Z"
   },
   {
    "duration": 118,
    "start_time": "2022-08-23T09:01:39.764Z"
   },
   {
    "duration": 9,
    "start_time": "2022-08-23T09:02:03.571Z"
   },
   {
    "duration": 9,
    "start_time": "2022-08-23T09:02:55.457Z"
   },
   {
    "duration": 9,
    "start_time": "2022-08-23T09:06:15.057Z"
   },
   {
    "duration": 875,
    "start_time": "2022-08-23T09:07:29.692Z"
   },
   {
    "duration": 15,
    "start_time": "2022-08-23T09:09:06.005Z"
   },
   {
    "duration": 9,
    "start_time": "2022-08-23T09:11:28.719Z"
   },
   {
    "duration": 13,
    "start_time": "2022-08-23T09:30:20.234Z"
   },
   {
    "duration": 13,
    "start_time": "2022-08-23T09:30:53.667Z"
   },
   {
    "duration": 11,
    "start_time": "2022-08-23T09:33:43.094Z"
   },
   {
    "duration": 13,
    "start_time": "2022-08-23T09:33:55.378Z"
   },
   {
    "duration": 12,
    "start_time": "2022-08-23T09:34:14.350Z"
   },
   {
    "duration": 14,
    "start_time": "2022-08-23T09:38:57.227Z"
   },
   {
    "duration": 15,
    "start_time": "2022-08-23T09:41:15.677Z"
   },
   {
    "duration": 5,
    "start_time": "2022-08-23T09:41:44.737Z"
   },
   {
    "duration": 5,
    "start_time": "2022-08-23T09:45:28.081Z"
   },
   {
    "duration": 1169,
    "start_time": "2022-08-23T09:46:46.877Z"
   },
   {
    "duration": 5,
    "start_time": "2022-08-23T09:47:00.977Z"
   },
   {
    "duration": 11,
    "start_time": "2022-08-23T11:36:39.051Z"
   },
   {
    "duration": 9,
    "start_time": "2022-08-23T11:38:43.601Z"
   },
   {
    "duration": 27,
    "start_time": "2022-08-23T11:38:51.760Z"
   },
   {
    "duration": 61,
    "start_time": "2022-08-23T11:39:14.400Z"
   },
   {
    "duration": 15,
    "start_time": "2022-08-23T11:39:38.530Z"
   },
   {
    "duration": 6,
    "start_time": "2022-08-23T11:41:38.308Z"
   },
   {
    "duration": 13,
    "start_time": "2022-08-23T11:42:00.110Z"
   },
   {
    "duration": 17,
    "start_time": "2022-08-23T11:42:30.074Z"
   },
   {
    "duration": 7,
    "start_time": "2022-08-23T11:43:12.038Z"
   },
   {
    "duration": 3,
    "start_time": "2022-08-23T11:44:09.915Z"
   },
   {
    "duration": 7,
    "start_time": "2022-08-23T11:44:20.743Z"
   },
   {
    "duration": 7,
    "start_time": "2022-08-23T11:44:40.883Z"
   },
   {
    "duration": 14,
    "start_time": "2022-08-23T11:45:21.569Z"
   },
   {
    "duration": 10,
    "start_time": "2022-08-23T11:46:01.686Z"
   },
   {
    "duration": 6,
    "start_time": "2022-08-23T11:46:34.814Z"
   },
   {
    "duration": 58,
    "start_time": "2022-08-23T11:53:44.898Z"
   },
   {
    "duration": 11,
    "start_time": "2022-08-23T11:53:51.171Z"
   },
   {
    "duration": 63,
    "start_time": "2022-08-23T11:56:46.186Z"
   },
   {
    "duration": 13,
    "start_time": "2022-08-23T11:57:39.613Z"
   },
   {
    "duration": 4,
    "start_time": "2022-08-23T12:02:14.932Z"
   },
   {
    "duration": 21,
    "start_time": "2022-08-23T12:05:04.300Z"
   },
   {
    "duration": 17,
    "start_time": "2022-08-23T12:08:21.336Z"
   },
   {
    "duration": 20,
    "start_time": "2022-08-23T12:12:16.262Z"
   },
   {
    "duration": 19,
    "start_time": "2022-08-23T12:13:14.580Z"
   },
   {
    "duration": 20,
    "start_time": "2022-08-23T12:14:41.751Z"
   },
   {
    "duration": 15,
    "start_time": "2022-08-23T12:14:50.635Z"
   },
   {
    "duration": 19,
    "start_time": "2022-08-23T12:16:28.613Z"
   },
   {
    "duration": 59,
    "start_time": "2022-08-23T12:17:13.451Z"
   },
   {
    "duration": 18,
    "start_time": "2022-08-23T12:17:18.388Z"
   },
   {
    "duration": 9,
    "start_time": "2022-08-23T12:18:19.810Z"
   },
   {
    "duration": 12,
    "start_time": "2022-08-23T12:18:38.210Z"
   },
   {
    "duration": 11,
    "start_time": "2022-08-23T12:19:13.809Z"
   },
   {
    "duration": 13,
    "start_time": "2022-08-23T12:19:38.539Z"
   },
   {
    "duration": 9,
    "start_time": "2022-08-23T12:23:04.470Z"
   },
   {
    "duration": 19,
    "start_time": "2022-08-23T12:23:18.008Z"
   },
   {
    "duration": 12,
    "start_time": "2022-08-23T12:23:33.807Z"
   },
   {
    "duration": 11,
    "start_time": "2022-08-23T12:24:20.021Z"
   },
   {
    "duration": 11,
    "start_time": "2022-08-23T12:24:59.463Z"
   },
   {
    "duration": 11,
    "start_time": "2022-08-23T12:25:11.023Z"
   },
   {
    "duration": 10,
    "start_time": "2022-08-23T12:31:59.455Z"
   },
   {
    "duration": 11,
    "start_time": "2022-08-23T12:32:07.996Z"
   },
   {
    "duration": 12,
    "start_time": "2022-08-23T12:32:40.418Z"
   },
   {
    "duration": 12,
    "start_time": "2022-08-23T12:34:18.611Z"
   },
   {
    "duration": 13,
    "start_time": "2022-08-23T12:35:33.646Z"
   },
   {
    "duration": 7,
    "start_time": "2022-08-23T12:52:30.862Z"
   },
   {
    "duration": 6,
    "start_time": "2022-08-23T12:52:52.767Z"
   },
   {
    "duration": 12,
    "start_time": "2022-08-23T12:52:53.722Z"
   },
   {
    "duration": 6,
    "start_time": "2022-08-23T12:55:50.870Z"
   },
   {
    "duration": 13,
    "start_time": "2022-08-23T12:55:51.182Z"
   },
   {
    "duration": 5,
    "start_time": "2022-08-23T12:56:03.220Z"
   },
   {
    "duration": 11,
    "start_time": "2022-08-23T12:56:04.634Z"
   },
   {
    "duration": 8,
    "start_time": "2022-08-23T12:57:47.953Z"
   },
   {
    "duration": 7,
    "start_time": "2022-08-23T12:58:00.480Z"
   },
   {
    "duration": 10,
    "start_time": "2022-08-23T12:58:10.530Z"
   },
   {
    "duration": 10,
    "start_time": "2022-08-23T12:59:10.406Z"
   },
   {
    "duration": 3,
    "start_time": "2022-08-23T12:59:20.574Z"
   },
   {
    "duration": 7,
    "start_time": "2022-08-23T12:59:39.515Z"
   },
   {
    "duration": 3,
    "start_time": "2022-08-23T13:00:21.141Z"
   },
   {
    "duration": 13,
    "start_time": "2022-08-23T13:00:51.756Z"
   },
   {
    "duration": 10,
    "start_time": "2022-08-23T13:01:17.596Z"
   },
   {
    "duration": 6,
    "start_time": "2022-08-23T13:02:27.115Z"
   },
   {
    "duration": 25,
    "start_time": "2022-08-23T13:02:28.389Z"
   },
   {
    "duration": 16,
    "start_time": "2022-08-23T13:05:36.618Z"
   },
   {
    "duration": 11,
    "start_time": "2022-08-23T13:06:24.287Z"
   },
   {
    "duration": 15,
    "start_time": "2022-08-23T13:06:36.074Z"
   },
   {
    "duration": 67,
    "start_time": "2022-08-23T13:07:51.465Z"
   },
   {
    "duration": 10,
    "start_time": "2022-08-23T13:08:31.730Z"
   },
   {
    "duration": 7,
    "start_time": "2022-08-23T13:13:25.097Z"
   },
   {
    "duration": 10,
    "start_time": "2022-08-23T13:13:55.932Z"
   },
   {
    "duration": 8,
    "start_time": "2022-08-23T13:14:01.713Z"
   },
   {
    "duration": 10,
    "start_time": "2022-08-23T13:14:02.610Z"
   },
   {
    "duration": 6,
    "start_time": "2022-08-23T13:14:17.286Z"
   },
   {
    "duration": 9,
    "start_time": "2022-08-23T13:14:20.579Z"
   },
   {
    "duration": 11,
    "start_time": "2022-08-23T13:14:22.121Z"
   },
   {
    "duration": 16,
    "start_time": "2022-08-23T13:16:34.592Z"
   },
   {
    "duration": 4,
    "start_time": "2022-08-23T13:17:11.205Z"
   },
   {
    "duration": 17,
    "start_time": "2022-08-23T13:17:15.711Z"
   },
   {
    "duration": 15,
    "start_time": "2022-08-23T13:17:15.973Z"
   },
   {
    "duration": 13,
    "start_time": "2022-08-23T13:20:52.363Z"
   },
   {
    "duration": 5,
    "start_time": "2022-08-23T13:22:58.285Z"
   },
   {
    "duration": 17,
    "start_time": "2022-08-23T13:23:02.825Z"
   },
   {
    "duration": 16,
    "start_time": "2022-08-23T13:24:15.507Z"
   },
   {
    "duration": 6,
    "start_time": "2022-08-23T13:37:01.971Z"
   },
   {
    "duration": 6,
    "start_time": "2022-08-23T13:37:05.436Z"
   },
   {
    "duration": 13,
    "start_time": "2022-08-23T13:37:57.486Z"
   },
   {
    "duration": 5,
    "start_time": "2022-08-23T13:38:37.683Z"
   },
   {
    "duration": 11,
    "start_time": "2022-08-23T13:40:21.518Z"
   },
   {
    "duration": 12,
    "start_time": "2022-08-23T13:40:32.272Z"
   },
   {
    "duration": 5,
    "start_time": "2022-08-23T13:41:35.379Z"
   },
   {
    "duration": 3,
    "start_time": "2022-08-23T13:41:38.676Z"
   },
   {
    "duration": 19,
    "start_time": "2022-08-23T13:41:40.960Z"
   },
   {
    "duration": 4,
    "start_time": "2022-08-23T13:42:25.998Z"
   },
   {
    "duration": 38,
    "start_time": "2022-08-23T13:42:27.688Z"
   },
   {
    "duration": 4,
    "start_time": "2022-08-23T13:44:17.260Z"
   },
   {
    "duration": 17,
    "start_time": "2022-08-23T13:44:18.336Z"
   },
   {
    "duration": 4,
    "start_time": "2022-08-23T13:44:37.535Z"
   },
   {
    "duration": 12,
    "start_time": "2022-08-23T13:44:37.566Z"
   },
   {
    "duration": 19,
    "start_time": "2022-08-23T13:45:45.645Z"
   },
   {
    "duration": 3,
    "start_time": "2022-08-23T13:46:22.253Z"
   },
   {
    "duration": 15,
    "start_time": "2022-08-23T13:46:24.078Z"
   },
   {
    "duration": 17,
    "start_time": "2022-08-23T13:46:25.674Z"
   },
   {
    "duration": 12,
    "start_time": "2022-08-23T14:21:29.285Z"
   },
   {
    "duration": 10,
    "start_time": "2022-08-23T14:21:44.974Z"
   },
   {
    "duration": 12,
    "start_time": "2022-08-23T14:22:49.908Z"
   },
   {
    "duration": 16,
    "start_time": "2022-08-23T14:23:27.667Z"
   },
   {
    "duration": 10,
    "start_time": "2022-08-23T14:23:56.046Z"
   },
   {
    "duration": 12,
    "start_time": "2022-08-23T14:24:18.007Z"
   },
   {
    "duration": 11,
    "start_time": "2022-08-23T14:27:25.272Z"
   },
   {
    "duration": 14,
    "start_time": "2022-08-23T14:27:36.700Z"
   },
   {
    "duration": 9,
    "start_time": "2022-08-23T14:28:23.682Z"
   },
   {
    "duration": 12,
    "start_time": "2022-08-23T14:29:46.378Z"
   },
   {
    "duration": 11,
    "start_time": "2022-08-23T14:29:59.931Z"
   },
   {
    "duration": 11,
    "start_time": "2022-08-23T14:30:06.556Z"
   },
   {
    "duration": 9,
    "start_time": "2022-08-23T14:30:27.912Z"
   },
   {
    "duration": 12,
    "start_time": "2022-08-23T14:30:45.686Z"
   },
   {
    "duration": 28453,
    "start_time": "2022-08-23T14:40:35.159Z"
   },
   {
    "duration": 43,
    "start_time": "2022-08-23T20:07:42.118Z"
   },
   {
    "duration": 4,
    "start_time": "2022-08-23T20:08:27.532Z"
   },
   {
    "duration": 3,
    "start_time": "2022-08-23T20:09:21.582Z"
   },
   {
    "duration": 3,
    "start_time": "2022-08-23T20:10:32.046Z"
   },
   {
    "duration": 3,
    "start_time": "2022-08-23T20:10:57.192Z"
   },
   {
    "duration": 2,
    "start_time": "2022-08-23T20:10:57.897Z"
   },
   {
    "duration": 3,
    "start_time": "2022-08-23T20:11:03.717Z"
   },
   {
    "duration": 8,
    "start_time": "2022-08-23T20:11:37.661Z"
   },
   {
    "duration": 8,
    "start_time": "2022-08-23T20:14:26.723Z"
   },
   {
    "duration": 4,
    "start_time": "2022-08-23T20:14:50.686Z"
   },
   {
    "duration": 62,
    "start_time": "2022-08-23T20:17:15.649Z"
   },
   {
    "duration": 3,
    "start_time": "2022-08-23T20:17:21.405Z"
   },
   {
    "duration": 3,
    "start_time": "2022-08-23T20:17:37.991Z"
   },
   {
    "duration": 3,
    "start_time": "2022-08-23T20:18:30.952Z"
   },
   {
    "duration": 3,
    "start_time": "2022-08-23T20:19:13.007Z"
   },
   {
    "duration": 3,
    "start_time": "2022-08-23T20:20:16.619Z"
   },
   {
    "duration": 4,
    "start_time": "2022-08-23T20:20:21.646Z"
   },
   {
    "duration": 4,
    "start_time": "2022-08-23T20:20:56.880Z"
   },
   {
    "duration": 3,
    "start_time": "2022-08-23T20:21:07.045Z"
   },
   {
    "duration": 3,
    "start_time": "2022-08-23T20:21:14.380Z"
   },
   {
    "duration": 4,
    "start_time": "2022-08-23T20:21:28.233Z"
   },
   {
    "duration": 3,
    "start_time": "2022-08-23T20:21:34.456Z"
   },
   {
    "duration": 4,
    "start_time": "2022-08-23T20:22:10.382Z"
   },
   {
    "duration": 7,
    "start_time": "2022-08-23T20:22:56.197Z"
   },
   {
    "duration": 3,
    "start_time": "2022-08-23T20:23:03.586Z"
   },
   {
    "duration": 4,
    "start_time": "2022-08-23T20:23:37.080Z"
   },
   {
    "duration": 4,
    "start_time": "2022-08-23T20:23:56.988Z"
   },
   {
    "duration": 3,
    "start_time": "2022-08-23T20:25:34.766Z"
   },
   {
    "duration": 4,
    "start_time": "2022-08-23T20:25:44.410Z"
   },
   {
    "duration": 4,
    "start_time": "2022-08-23T20:26:11.680Z"
   },
   {
    "duration": 3,
    "start_time": "2022-08-23T20:26:21.873Z"
   },
   {
    "duration": 4,
    "start_time": "2022-08-23T20:26:36.707Z"
   },
   {
    "duration": 4,
    "start_time": "2022-08-23T20:26:42.384Z"
   },
   {
    "duration": 3,
    "start_time": "2022-08-23T20:27:03.943Z"
   },
   {
    "duration": 4,
    "start_time": "2022-08-23T20:27:08.405Z"
   },
   {
    "duration": 55,
    "start_time": "2022-08-23T20:29:23.352Z"
   },
   {
    "duration": 3,
    "start_time": "2022-08-23T20:29:30.252Z"
   },
   {
    "duration": 2,
    "start_time": "2022-08-23T20:29:35.163Z"
   },
   {
    "duration": 3,
    "start_time": "2022-08-23T20:29:57.369Z"
   },
   {
    "duration": 4,
    "start_time": "2022-08-23T20:30:08.417Z"
   },
   {
    "duration": 4,
    "start_time": "2022-08-23T20:33:33.304Z"
   },
   {
    "duration": 4,
    "start_time": "2022-08-23T20:33:47.199Z"
   },
   {
    "duration": 4,
    "start_time": "2022-08-23T20:33:58.145Z"
   },
   {
    "duration": 4,
    "start_time": "2022-08-23T20:34:12.172Z"
   },
   {
    "duration": 4,
    "start_time": "2022-08-23T20:34:26.601Z"
   },
   {
    "duration": 1293,
    "start_time": "2022-08-24T07:42:50.740Z"
   },
   {
    "duration": 195,
    "start_time": "2022-08-24T08:02:49.783Z"
   },
   {
    "duration": 3,
    "start_time": "2022-08-24T08:02:51.045Z"
   },
   {
    "duration": 109,
    "start_time": "2022-08-24T08:02:55.226Z"
   },
   {
    "duration": 10,
    "start_time": "2022-08-24T08:02:57.081Z"
   },
   {
    "duration": 4,
    "start_time": "2022-08-24T08:03:08.295Z"
   },
   {
    "duration": 10,
    "start_time": "2022-08-24T08:03:10.934Z"
   },
   {
    "duration": 4,
    "start_time": "2022-08-24T08:03:15.146Z"
   },
   {
    "duration": 8,
    "start_time": "2022-08-24T08:03:19.861Z"
   },
   {
    "duration": 13,
    "start_time": "2022-08-24T08:03:29.406Z"
   },
   {
    "duration": 9,
    "start_time": "2022-08-24T08:04:27.447Z"
   },
   {
    "duration": 10,
    "start_time": "2022-08-24T08:04:35.452Z"
   },
   {
    "duration": 10,
    "start_time": "2022-08-24T08:04:41.978Z"
   },
   {
    "duration": 10,
    "start_time": "2022-08-24T08:04:49.441Z"
   },
   {
    "duration": 9,
    "start_time": "2022-08-24T08:05:02.751Z"
   },
   {
    "duration": 11,
    "start_time": "2022-08-24T08:05:15.929Z"
   },
   {
    "duration": 4,
    "start_time": "2022-08-24T08:19:22.637Z"
   },
   {
    "duration": 3,
    "start_time": "2022-08-24T08:19:24.966Z"
   },
   {
    "duration": 15,
    "start_time": "2022-08-24T08:19:29.895Z"
   },
   {
    "duration": 3,
    "start_time": "2022-08-24T08:20:51.660Z"
   },
   {
    "duration": 48,
    "start_time": "2022-08-24T08:20:56.113Z"
   },
   {
    "duration": 4,
    "start_time": "2022-08-24T08:21:16.024Z"
   },
   {
    "duration": 17,
    "start_time": "2022-08-24T08:21:16.030Z"
   },
   {
    "duration": 61,
    "start_time": "2022-08-24T08:21:16.050Z"
   },
   {
    "duration": 10,
    "start_time": "2022-08-24T08:21:16.113Z"
   },
   {
    "duration": 30,
    "start_time": "2022-08-24T08:21:16.126Z"
   },
   {
    "duration": 17,
    "start_time": "2022-08-24T08:21:16.158Z"
   },
   {
    "duration": 9,
    "start_time": "2022-08-24T08:21:16.177Z"
   },
   {
    "duration": 16,
    "start_time": "2022-08-24T08:21:16.188Z"
   },
   {
    "duration": 18,
    "start_time": "2022-08-24T08:21:16.206Z"
   },
   {
    "duration": 3,
    "start_time": "2022-08-24T08:21:16.227Z"
   },
   {
    "duration": 15,
    "start_time": "2022-08-24T08:21:16.232Z"
   },
   {
    "duration": 37,
    "start_time": "2022-08-24T08:21:20.296Z"
   },
   {
    "duration": 4,
    "start_time": "2022-08-24T08:21:43.215Z"
   },
   {
    "duration": 105,
    "start_time": "2022-08-24T08:21:46.757Z"
   },
   {
    "duration": 4,
    "start_time": "2022-08-24T08:21:54.970Z"
   },
   {
    "duration": 39,
    "start_time": "2022-08-24T08:21:56.632Z"
   },
   {
    "duration": 2,
    "start_time": "2022-08-24T08:23:04.969Z"
   },
   {
    "duration": 7,
    "start_time": "2022-08-24T08:23:04.973Z"
   },
   {
    "duration": 33,
    "start_time": "2022-08-24T08:23:04.981Z"
   },
   {
    "duration": 11,
    "start_time": "2022-08-24T08:23:05.077Z"
   },
   {
    "duration": 5,
    "start_time": "2022-08-24T08:23:05.090Z"
   },
   {
    "duration": 11,
    "start_time": "2022-08-24T08:23:05.097Z"
   },
   {
    "duration": 7,
    "start_time": "2022-08-24T08:23:05.110Z"
   },
   {
    "duration": 9,
    "start_time": "2022-08-24T08:23:05.119Z"
   },
   {
    "duration": 12,
    "start_time": "2022-08-24T08:23:05.130Z"
   },
   {
    "duration": 16,
    "start_time": "2022-08-24T08:23:07.742Z"
   },
   {
    "duration": 16,
    "start_time": "2022-08-24T08:23:13.040Z"
   },
   {
    "duration": 3,
    "start_time": "2022-08-24T08:23:28.619Z"
   },
   {
    "duration": 4,
    "start_time": "2022-08-24T08:23:34.484Z"
   },
   {
    "duration": 13,
    "start_time": "2022-08-24T08:23:34.904Z"
   },
   {
    "duration": 336,
    "start_time": "2022-08-24T08:23:57.648Z"
   },
   {
    "duration": 3,
    "start_time": "2022-08-24T08:23:57.986Z"
   },
   {
    "duration": 44,
    "start_time": "2022-08-24T08:23:57.990Z"
   },
   {
    "duration": 11,
    "start_time": "2022-08-24T08:23:58.036Z"
   },
   {
    "duration": 10,
    "start_time": "2022-08-24T08:23:58.048Z"
   },
   {
    "duration": 12,
    "start_time": "2022-08-24T08:23:58.059Z"
   },
   {
    "duration": 5,
    "start_time": "2022-08-24T08:23:58.073Z"
   },
   {
    "duration": 12,
    "start_time": "2022-08-24T08:23:58.080Z"
   },
   {
    "duration": 18,
    "start_time": "2022-08-24T08:23:58.094Z"
   },
   {
    "duration": 3,
    "start_time": "2022-08-24T08:23:58.114Z"
   },
   {
    "duration": 5,
    "start_time": "2022-08-24T08:23:58.119Z"
   },
   {
    "duration": 13,
    "start_time": "2022-08-24T08:24:04.640Z"
   },
   {
    "duration": 13,
    "start_time": "2022-08-24T08:24:58.285Z"
   },
   {
    "duration": 14,
    "start_time": "2022-08-24T08:26:01.220Z"
   },
   {
    "duration": 15,
    "start_time": "2022-08-24T08:26:42.417Z"
   },
   {
    "duration": 343,
    "start_time": "2022-08-24T08:28:07.968Z"
   },
   {
    "duration": 3,
    "start_time": "2022-08-24T08:28:08.313Z"
   },
   {
    "duration": 51,
    "start_time": "2022-08-24T08:28:08.317Z"
   },
   {
    "duration": 10,
    "start_time": "2022-08-24T08:28:08.370Z"
   },
   {
    "duration": 6,
    "start_time": "2022-08-24T08:28:08.381Z"
   },
   {
    "duration": 11,
    "start_time": "2022-08-24T08:28:08.388Z"
   },
   {
    "duration": 7,
    "start_time": "2022-08-24T08:28:08.401Z"
   },
   {
    "duration": 12,
    "start_time": "2022-08-24T08:28:08.410Z"
   },
   {
    "duration": 15,
    "start_time": "2022-08-24T08:28:08.423Z"
   },
   {
    "duration": 3,
    "start_time": "2022-08-24T08:28:08.440Z"
   },
   {
    "duration": 9,
    "start_time": "2022-08-24T08:28:08.444Z"
   },
   {
    "duration": 20,
    "start_time": "2022-08-24T08:28:08.454Z"
   },
   {
    "duration": 11,
    "start_time": "2022-08-24T08:28:08.475Z"
   },
   {
    "duration": 384,
    "start_time": "2022-08-24T08:29:07.588Z"
   },
   {
    "duration": 3,
    "start_time": "2022-08-24T08:29:07.974Z"
   },
   {
    "duration": 42,
    "start_time": "2022-08-24T08:29:07.978Z"
   },
   {
    "duration": 11,
    "start_time": "2022-08-24T08:29:08.022Z"
   },
   {
    "duration": 4,
    "start_time": "2022-08-24T08:29:08.035Z"
   },
   {
    "duration": 12,
    "start_time": "2022-08-24T08:29:08.041Z"
   },
   {
    "duration": 5,
    "start_time": "2022-08-24T08:29:08.055Z"
   },
   {
    "duration": 9,
    "start_time": "2022-08-24T08:29:08.062Z"
   },
   {
    "duration": 36,
    "start_time": "2022-08-24T08:29:08.072Z"
   },
   {
    "duration": 4,
    "start_time": "2022-08-24T08:29:08.109Z"
   },
   {
    "duration": 7,
    "start_time": "2022-08-24T08:29:08.114Z"
   },
   {
    "duration": 15,
    "start_time": "2022-08-24T08:29:08.122Z"
   },
   {
    "duration": 16,
    "start_time": "2022-08-24T08:29:08.139Z"
   },
   {
    "duration": 17,
    "start_time": "2022-08-24T08:46:36.088Z"
   },
   {
    "duration": 1072,
    "start_time": "2022-08-24T08:48:49.445Z"
   },
   {
    "duration": 132,
    "start_time": "2022-08-24T08:58:52.016Z"
   },
   {
    "duration": 333,
    "start_time": "2022-08-24T09:00:45.945Z"
   },
   {
    "duration": 162,
    "start_time": "2022-08-24T09:04:04.500Z"
   },
   {
    "duration": 96,
    "start_time": "2022-08-24T09:05:41.820Z"
   },
   {
    "duration": 75,
    "start_time": "2022-08-24T09:05:49.560Z"
   },
   {
    "duration": 77,
    "start_time": "2022-08-24T09:06:04.218Z"
   },
   {
    "duration": 116,
    "start_time": "2022-08-24T09:06:24.849Z"
   },
   {
    "duration": 287,
    "start_time": "2022-08-24T09:06:35.938Z"
   },
   {
    "duration": 116,
    "start_time": "2022-08-24T09:06:50.672Z"
   },
   {
    "duration": 105,
    "start_time": "2022-08-24T09:07:46.725Z"
   },
   {
    "duration": 106,
    "start_time": "2022-08-24T09:08:27.525Z"
   },
   {
    "duration": 116,
    "start_time": "2022-08-24T09:08:52.677Z"
   },
   {
    "duration": 109,
    "start_time": "2022-08-24T09:08:59.875Z"
   },
   {
    "duration": 179,
    "start_time": "2022-08-24T09:09:04.279Z"
   },
   {
    "duration": 97,
    "start_time": "2022-08-24T09:09:10.861Z"
   },
   {
    "duration": 100,
    "start_time": "2022-08-24T09:09:27.249Z"
   },
   {
    "duration": 12,
    "start_time": "2022-08-24T09:20:29.733Z"
   },
   {
    "duration": 135,
    "start_time": "2022-08-24T09:21:32.126Z"
   },
   {
    "duration": 108,
    "start_time": "2022-08-24T09:21:44.377Z"
   },
   {
    "duration": 1192,
    "start_time": "2022-08-24T09:23:41.301Z"
   },
   {
    "duration": 1611,
    "start_time": "2022-08-24T09:24:32.682Z"
   },
   {
    "duration": 1346,
    "start_time": "2022-08-24T09:26:04.901Z"
   },
   {
    "duration": 10,
    "start_time": "2022-08-24T09:27:23.096Z"
   },
   {
    "duration": 1180,
    "start_time": "2022-08-24T09:27:43.287Z"
   },
   {
    "duration": 1161,
    "start_time": "2022-08-24T09:28:03.000Z"
   },
   {
    "duration": 1308,
    "start_time": "2022-08-24T09:39:46.671Z"
   },
   {
    "duration": 9,
    "start_time": "2022-08-24T09:41:24.578Z"
   },
   {
    "duration": 146,
    "start_time": "2022-08-24T09:43:29.179Z"
   },
   {
    "duration": 217,
    "start_time": "2022-08-24T09:44:16.368Z"
   },
   {
    "duration": 190,
    "start_time": "2022-08-24T09:44:52.780Z"
   },
   {
    "duration": 327,
    "start_time": "2022-08-24T09:46:19.398Z"
   },
   {
    "duration": 4,
    "start_time": "2022-08-24T09:51:33.329Z"
   },
   {
    "duration": 3,
    "start_time": "2022-08-24T09:51:44.480Z"
   },
   {
    "duration": 12,
    "start_time": "2022-08-24T10:00:44.336Z"
   },
   {
    "duration": 11,
    "start_time": "2022-08-24T10:01:09.261Z"
   },
   {
    "duration": 11,
    "start_time": "2022-08-24T10:01:18.227Z"
   },
   {
    "duration": 11,
    "start_time": "2022-08-24T10:01:28.702Z"
   },
   {
    "duration": 11,
    "start_time": "2022-08-24T10:01:56.432Z"
   },
   {
    "duration": 13,
    "start_time": "2022-08-24T10:02:17.433Z"
   },
   {
    "duration": 78,
    "start_time": "2022-08-24T15:44:53.966Z"
   },
   {
    "duration": 74,
    "start_time": "2022-08-24T15:45:16.163Z"
   },
   {
    "duration": 44,
    "start_time": "2022-08-24T15:45:43.898Z"
   },
   {
    "duration": 3721,
    "start_time": "2022-08-24T15:46:19.078Z"
   },
   {
    "duration": 7,
    "start_time": "2022-08-24T15:46:59.595Z"
   },
   {
    "duration": 8,
    "start_time": "2022-08-24T15:48:22.933Z"
   },
   {
    "duration": 9,
    "start_time": "2022-08-24T15:48:48.746Z"
   },
   {
    "duration": 9,
    "start_time": "2022-08-24T15:49:34.231Z"
   },
   {
    "duration": 5,
    "start_time": "2022-08-24T16:01:13.229Z"
   },
   {
    "duration": 4,
    "start_time": "2022-08-24T16:01:43.496Z"
   },
   {
    "duration": 5,
    "start_time": "2022-08-24T16:04:33.098Z"
   },
   {
    "duration": 8,
    "start_time": "2022-08-24T16:04:54.288Z"
   },
   {
    "duration": 4,
    "start_time": "2022-08-24T16:05:17.072Z"
   },
   {
    "duration": 10,
    "start_time": "2022-08-24T16:05:18.263Z"
   },
   {
    "duration": 5,
    "start_time": "2022-08-24T16:05:38.881Z"
   },
   {
    "duration": 7,
    "start_time": "2022-08-24T16:05:39.560Z"
   },
   {
    "duration": 4,
    "start_time": "2022-08-24T16:06:35.608Z"
   },
   {
    "duration": 8,
    "start_time": "2022-08-24T16:06:36.157Z"
   },
   {
    "duration": 1507,
    "start_time": "2022-08-24T16:19:02.265Z"
   },
   {
    "duration": 11,
    "start_time": "2022-08-24T16:19:04.004Z"
   },
   {
    "duration": 1371,
    "start_time": "2022-08-24T16:19:21.263Z"
   },
   {
    "duration": 67,
    "start_time": "2022-08-24T16:19:22.637Z"
   },
   {
    "duration": 10,
    "start_time": "2022-08-24T16:21:49.047Z"
   },
   {
    "duration": 1434,
    "start_time": "2022-08-24T16:22:04.224Z"
   },
   {
    "duration": 9,
    "start_time": "2022-08-24T16:22:06.738Z"
   },
   {
    "duration": 9,
    "start_time": "2022-08-24T16:22:24.982Z"
   },
   {
    "duration": 8,
    "start_time": "2022-08-24T16:22:38.989Z"
   },
   {
    "duration": 13,
    "start_time": "2022-08-24T16:22:57.224Z"
   },
   {
    "duration": 14,
    "start_time": "2022-08-24T16:23:03.454Z"
   },
   {
    "duration": 14,
    "start_time": "2022-08-24T16:23:14.471Z"
   },
   {
    "duration": 14,
    "start_time": "2022-08-24T16:23:21.299Z"
   },
   {
    "duration": 11,
    "start_time": "2022-08-24T16:23:30.453Z"
   },
   {
    "duration": 9,
    "start_time": "2022-08-24T16:24:13.917Z"
   },
   {
    "duration": 3,
    "start_time": "2022-08-24T16:26:41.443Z"
   },
   {
    "duration": 11,
    "start_time": "2022-08-24T16:26:49.825Z"
   },
   {
    "duration": 4,
    "start_time": "2022-08-24T16:30:47.138Z"
   },
   {
    "duration": 7,
    "start_time": "2022-08-24T16:30:49.312Z"
   },
   {
    "duration": 1247,
    "start_time": "2022-08-24T16:59:47.333Z"
   },
   {
    "duration": 3,
    "start_time": "2022-08-24T16:59:48.582Z"
   },
   {
    "duration": 82,
    "start_time": "2022-08-24T16:59:48.587Z"
   },
   {
    "duration": 10,
    "start_time": "2022-08-24T16:59:48.672Z"
   },
   {
    "duration": 9,
    "start_time": "2022-08-24T16:59:48.684Z"
   },
   {
    "duration": 12,
    "start_time": "2022-08-24T16:59:48.694Z"
   },
   {
    "duration": 6,
    "start_time": "2022-08-24T16:59:48.708Z"
   },
   {
    "duration": 11,
    "start_time": "2022-08-24T16:59:48.715Z"
   },
   {
    "duration": 14,
    "start_time": "2022-08-24T16:59:48.728Z"
   },
   {
    "duration": 4,
    "start_time": "2022-08-24T16:59:48.744Z"
   },
   {
    "duration": 9,
    "start_time": "2022-08-24T16:59:48.749Z"
   },
   {
    "duration": 35,
    "start_time": "2022-08-24T16:59:48.759Z"
   },
   {
    "duration": 17,
    "start_time": "2022-08-24T16:59:48.796Z"
   },
   {
    "duration": 327,
    "start_time": "2022-08-24T16:59:48.814Z"
   },
   {
    "duration": 155,
    "start_time": "2022-08-24T17:00:30.526Z"
   },
   {
    "duration": 1427,
    "start_time": "2022-08-24T17:01:17.106Z"
   },
   {
    "duration": 2,
    "start_time": "2022-08-24T17:01:18.535Z"
   },
   {
    "duration": 44,
    "start_time": "2022-08-24T17:01:18.539Z"
   },
   {
    "duration": 14,
    "start_time": "2022-08-24T17:01:18.585Z"
   },
   {
    "duration": 8,
    "start_time": "2022-08-24T17:01:18.602Z"
   },
   {
    "duration": 24,
    "start_time": "2022-08-24T17:01:18.612Z"
   },
   {
    "duration": 12,
    "start_time": "2022-08-24T17:01:18.637Z"
   },
   {
    "duration": 12,
    "start_time": "2022-08-24T17:01:18.651Z"
   },
   {
    "duration": 32,
    "start_time": "2022-08-24T17:01:18.665Z"
   },
   {
    "duration": 4,
    "start_time": "2022-08-24T17:01:18.699Z"
   },
   {
    "duration": 8,
    "start_time": "2022-08-24T17:01:18.705Z"
   },
   {
    "duration": 19,
    "start_time": "2022-08-24T17:01:18.715Z"
   },
   {
    "duration": 19,
    "start_time": "2022-08-24T17:01:18.736Z"
   },
   {
    "duration": 152,
    "start_time": "2022-08-24T17:01:22.247Z"
   },
   {
    "duration": 267,
    "start_time": "2022-08-24T17:04:14.842Z"
   },
   {
    "duration": 123,
    "start_time": "2022-08-24T17:04:36.107Z"
   },
   {
    "duration": 7677,
    "start_time": "2022-08-24T17:04:52.222Z"
   },
   {
    "duration": 6747,
    "start_time": "2022-08-24T17:05:45.854Z"
   },
   {
    "duration": 15600,
    "start_time": "2022-08-24T17:06:38.200Z"
   },
   {
    "duration": 1164,
    "start_time": "2022-08-24T17:07:41.601Z"
   },
   {
    "duration": 6931,
    "start_time": "2022-08-24T17:08:34.568Z"
   },
   {
    "duration": 10,
    "start_time": "2022-08-24T17:09:27.993Z"
   },
   {
    "duration": 10,
    "start_time": "2022-08-24T17:10:10.813Z"
   },
   {
    "duration": 4,
    "start_time": "2022-08-24T17:10:17.571Z"
   },
   {
    "duration": 8,
    "start_time": "2022-08-24T17:10:18.693Z"
   },
   {
    "duration": 12,
    "start_time": "2022-08-24T17:10:52.975Z"
   },
   {
    "duration": 8,
    "start_time": "2022-08-24T17:11:16.617Z"
   },
   {
    "duration": 7,
    "start_time": "2022-08-24T17:11:28.811Z"
   },
   {
    "duration": 11,
    "start_time": "2022-08-24T17:11:36.172Z"
   },
   {
    "duration": 6,
    "start_time": "2022-08-24T17:12:02.526Z"
   },
   {
    "duration": 10,
    "start_time": "2022-08-24T17:12:45.010Z"
   },
   {
    "duration": 7,
    "start_time": "2022-08-24T17:12:51.529Z"
   },
   {
    "duration": 7,
    "start_time": "2022-08-24T17:13:00.823Z"
   },
   {
    "duration": 1346,
    "start_time": "2022-08-24T17:13:24.092Z"
   },
   {
    "duration": 4,
    "start_time": "2022-08-24T17:13:38.191Z"
   },
   {
    "duration": 45,
    "start_time": "2022-08-24T17:13:44.590Z"
   },
   {
    "duration": 15,
    "start_time": "2022-08-24T17:14:25.777Z"
   },
   {
    "duration": 13,
    "start_time": "2022-08-24T17:16:12.082Z"
   },
   {
    "duration": 11,
    "start_time": "2022-08-24T17:16:38.492Z"
   },
   {
    "duration": 12,
    "start_time": "2022-08-24T17:16:45.464Z"
   },
   {
    "duration": 12,
    "start_time": "2022-08-24T17:16:54.934Z"
   },
   {
    "duration": 14,
    "start_time": "2022-08-24T17:17:01.768Z"
   },
   {
    "duration": 13,
    "start_time": "2022-08-24T17:17:08.736Z"
   },
   {
    "duration": 116,
    "start_time": "2022-08-24T17:17:56.894Z"
   },
   {
    "duration": 5,
    "start_time": "2022-08-24T17:18:01.757Z"
   },
   {
    "duration": 13,
    "start_time": "2022-08-24T17:18:02.715Z"
   },
   {
    "duration": 8968,
    "start_time": "2022-08-24T17:18:29.933Z"
   },
   {
    "duration": 12,
    "start_time": "2022-08-24T17:18:43.338Z"
   },
   {
    "duration": 7,
    "start_time": "2022-08-24T17:18:59.844Z"
   },
   {
    "duration": 8,
    "start_time": "2022-08-24T17:19:14.981Z"
   },
   {
    "duration": 12,
    "start_time": "2022-08-24T17:19:25.392Z"
   },
   {
    "duration": 11,
    "start_time": "2022-08-24T17:19:58.905Z"
   },
   {
    "duration": 9,
    "start_time": "2022-08-24T17:20:04.376Z"
   },
   {
    "duration": 1460,
    "start_time": "2022-08-25T09:58:22.422Z"
   },
   {
    "duration": 0,
    "start_time": "2022-08-25T09:58:23.884Z"
   },
   {
    "duration": 0,
    "start_time": "2022-08-25T09:58:23.885Z"
   },
   {
    "duration": 0,
    "start_time": "2022-08-25T09:58:23.887Z"
   },
   {
    "duration": 0,
    "start_time": "2022-08-25T09:58:23.888Z"
   },
   {
    "duration": 0,
    "start_time": "2022-08-25T09:58:23.889Z"
   },
   {
    "duration": 0,
    "start_time": "2022-08-25T09:58:23.890Z"
   },
   {
    "duration": 0,
    "start_time": "2022-08-25T09:58:23.891Z"
   },
   {
    "duration": 0,
    "start_time": "2022-08-25T09:58:23.892Z"
   },
   {
    "duration": 0,
    "start_time": "2022-08-25T09:58:23.893Z"
   },
   {
    "duration": 0,
    "start_time": "2022-08-25T09:58:23.894Z"
   },
   {
    "duration": 0,
    "start_time": "2022-08-25T09:58:23.895Z"
   },
   {
    "duration": 0,
    "start_time": "2022-08-25T09:58:23.896Z"
   },
   {
    "duration": 0,
    "start_time": "2022-08-25T09:58:23.897Z"
   },
   {
    "duration": 4,
    "start_time": "2022-08-25T09:59:15.903Z"
   },
   {
    "duration": 10,
    "start_time": "2022-08-25T09:59:15.909Z"
   },
   {
    "duration": 75,
    "start_time": "2022-08-25T09:59:15.924Z"
   },
   {
    "duration": 10,
    "start_time": "2022-08-25T09:59:16.001Z"
   },
   {
    "duration": 15,
    "start_time": "2022-08-25T09:59:16.013Z"
   },
   {
    "duration": 14,
    "start_time": "2022-08-25T09:59:16.030Z"
   },
   {
    "duration": 8,
    "start_time": "2022-08-25T09:59:16.046Z"
   },
   {
    "duration": 18,
    "start_time": "2022-08-25T09:59:16.056Z"
   },
   {
    "duration": 25,
    "start_time": "2022-08-25T09:59:16.076Z"
   },
   {
    "duration": 3,
    "start_time": "2022-08-25T09:59:16.104Z"
   },
   {
    "duration": 14,
    "start_time": "2022-08-25T09:59:16.109Z"
   },
   {
    "duration": 20,
    "start_time": "2022-08-25T09:59:16.125Z"
   },
   {
    "duration": 26,
    "start_time": "2022-08-25T09:59:16.148Z"
   },
   {
    "duration": 271,
    "start_time": "2022-08-25T09:59:16.175Z"
   },
   {
    "duration": 116,
    "start_time": "2022-08-25T09:59:37.745Z"
   },
   {
    "duration": 108,
    "start_time": "2022-08-25T09:59:46.135Z"
   },
   {
    "duration": 107,
    "start_time": "2022-08-25T10:00:38.602Z"
   },
   {
    "duration": 179,
    "start_time": "2022-08-25T10:01:44.450Z"
   },
   {
    "duration": 118,
    "start_time": "2022-08-25T10:03:42.024Z"
   },
   {
    "duration": 11,
    "start_time": "2022-08-25T10:17:54.324Z"
   },
   {
    "duration": 4,
    "start_time": "2022-08-25T10:27:35.533Z"
   },
   {
    "duration": 9,
    "start_time": "2022-08-25T10:28:32.432Z"
   },
   {
    "duration": 4,
    "start_time": "2022-08-25T10:28:54.760Z"
   },
   {
    "duration": 3,
    "start_time": "2022-08-25T10:29:09.827Z"
   },
   {
    "duration": 3,
    "start_time": "2022-08-25T10:29:19.182Z"
   },
   {
    "duration": 5,
    "start_time": "2022-08-25T10:29:25.302Z"
   },
   {
    "duration": 48,
    "start_time": "2022-08-25T10:30:16.238Z"
   },
   {
    "duration": 8,
    "start_time": "2022-08-25T10:30:21.908Z"
   },
   {
    "duration": 15,
    "start_time": "2022-08-25T10:30:25.738Z"
   },
   {
    "duration": 4,
    "start_time": "2022-08-25T10:32:11.415Z"
   },
   {
    "duration": 4,
    "start_time": "2022-08-25T10:32:59.185Z"
   },
   {
    "duration": 76,
    "start_time": "2022-08-25T10:35:36.554Z"
   },
   {
    "duration": 10,
    "start_time": "2022-08-25T10:36:14.065Z"
   },
   {
    "duration": 13,
    "start_time": "2022-08-25T10:36:30.777Z"
   },
   {
    "duration": 56,
    "start_time": "2022-08-25T10:37:12.653Z"
   },
   {
    "duration": 67,
    "start_time": "2022-08-25T10:37:30.492Z"
   },
   {
    "duration": 49,
    "start_time": "2022-08-25T10:37:39.596Z"
   },
   {
    "duration": 80,
    "start_time": "2022-08-25T10:37:50.816Z"
   },
   {
    "duration": 63,
    "start_time": "2022-08-25T10:37:56.796Z"
   },
   {
    "duration": 9,
    "start_time": "2022-08-25T10:38:09.078Z"
   },
   {
    "duration": 10,
    "start_time": "2022-08-25T10:38:39.447Z"
   },
   {
    "duration": 4,
    "start_time": "2022-08-25T10:39:19.802Z"
   },
   {
    "duration": 4,
    "start_time": "2022-08-25T10:39:45.698Z"
   },
   {
    "duration": 4,
    "start_time": "2022-08-25T10:40:14.987Z"
   },
   {
    "duration": 4,
    "start_time": "2022-08-25T10:42:57.136Z"
   },
   {
    "duration": 3,
    "start_time": "2022-08-25T10:43:03.588Z"
   },
   {
    "duration": 1595,
    "start_time": "2022-08-28T09:35:00.588Z"
   },
   {
    "duration": 3,
    "start_time": "2022-08-28T09:35:46.320Z"
   },
   {
    "duration": 8,
    "start_time": "2022-08-28T09:35:46.325Z"
   },
   {
    "duration": 90,
    "start_time": "2022-08-28T09:35:46.334Z"
   },
   {
    "duration": 10,
    "start_time": "2022-08-28T09:35:46.426Z"
   },
   {
    "duration": 6,
    "start_time": "2022-08-28T09:35:46.438Z"
   },
   {
    "duration": 12,
    "start_time": "2022-08-28T09:35:46.445Z"
   },
   {
    "duration": 6,
    "start_time": "2022-08-28T09:35:46.459Z"
   },
   {
    "duration": 13,
    "start_time": "2022-08-28T09:35:46.467Z"
   },
   {
    "duration": 32,
    "start_time": "2022-08-28T09:35:46.481Z"
   },
   {
    "duration": 4,
    "start_time": "2022-08-28T09:35:46.515Z"
   },
   {
    "duration": 8,
    "start_time": "2022-08-28T09:35:46.521Z"
   },
   {
    "duration": 21,
    "start_time": "2022-08-28T09:35:46.531Z"
   },
   {
    "duration": 21,
    "start_time": "2022-08-28T09:35:46.554Z"
   },
   {
    "duration": 357,
    "start_time": "2022-08-28T09:35:46.577Z"
   },
   {
    "duration": 3,
    "start_time": "2022-08-28T09:52:50.630Z"
   },
   {
    "duration": 119,
    "start_time": "2022-08-28T09:52:55.858Z"
   },
   {
    "duration": 4,
    "start_time": "2022-08-28T09:53:32.623Z"
   },
   {
    "duration": 8,
    "start_time": "2022-08-28T09:54:50.643Z"
   },
   {
    "duration": 5,
    "start_time": "2022-08-28T09:55:00.634Z"
   },
   {
    "duration": 8,
    "start_time": "2022-08-28T09:55:24.250Z"
   },
   {
    "duration": 92,
    "start_time": "2022-08-28T09:55:45.078Z"
   },
   {
    "duration": 9,
    "start_time": "2022-08-28T09:55:49.683Z"
   },
   {
    "duration": 5,
    "start_time": "2022-08-28T09:56:47.363Z"
   },
   {
    "duration": 5,
    "start_time": "2022-08-28T09:57:17.558Z"
   },
   {
    "duration": 4,
    "start_time": "2022-08-28T09:58:06.249Z"
   },
   {
    "duration": 9,
    "start_time": "2022-08-28T09:58:43.480Z"
   },
   {
    "duration": 5,
    "start_time": "2022-08-28T09:58:54.323Z"
   },
   {
    "duration": 4,
    "start_time": "2022-08-28T09:59:35.499Z"
   },
   {
    "duration": 158,
    "start_time": "2022-08-28T10:02:49.242Z"
   },
   {
    "duration": 114,
    "start_time": "2022-08-28T10:04:00.200Z"
   },
   {
    "duration": 118,
    "start_time": "2022-08-28T10:04:19.869Z"
   },
   {
    "duration": 171,
    "start_time": "2022-08-28T10:06:35.499Z"
   },
   {
    "duration": 203,
    "start_time": "2022-08-28T10:06:45.470Z"
   },
   {
    "duration": 113,
    "start_time": "2022-08-28T10:06:59.638Z"
   },
   {
    "duration": 127,
    "start_time": "2022-08-28T10:07:23.559Z"
   },
   {
    "duration": 9,
    "start_time": "2022-08-28T10:11:22.735Z"
   },
   {
    "duration": 6,
    "start_time": "2022-08-28T10:14:41.348Z"
   },
   {
    "duration": 174,
    "start_time": "2022-08-28T10:18:19.370Z"
   },
   {
    "duration": 126,
    "start_time": "2022-08-28T10:18:29.060Z"
   },
   {
    "duration": 129,
    "start_time": "2022-08-28T10:18:40.487Z"
   },
   {
    "duration": 221,
    "start_time": "2022-08-28T10:19:19.029Z"
   },
   {
    "duration": 109,
    "start_time": "2022-08-28T10:20:36.423Z"
   },
   {
    "duration": 122,
    "start_time": "2022-08-28T10:20:48.499Z"
   },
   {
    "duration": 116,
    "start_time": "2022-08-28T10:21:03.939Z"
   },
   {
    "duration": 147,
    "start_time": "2022-08-28T10:21:27.211Z"
   },
   {
    "duration": 163,
    "start_time": "2022-08-28T10:26:30.733Z"
   },
   {
    "duration": 200,
    "start_time": "2022-08-28T10:27:07.687Z"
   },
   {
    "duration": 353,
    "start_time": "2022-08-28T10:37:04.460Z"
   },
   {
    "duration": 149,
    "start_time": "2022-08-28T10:37:27.737Z"
   },
   {
    "duration": 131,
    "start_time": "2022-08-28T10:38:55.373Z"
   },
   {
    "duration": 127,
    "start_time": "2022-08-28T10:39:22.729Z"
   },
   {
    "duration": 161,
    "start_time": "2022-08-28T10:40:30.893Z"
   },
   {
    "duration": 4,
    "start_time": "2022-08-28T10:46:07.383Z"
   },
   {
    "duration": 6,
    "start_time": "2022-08-28T10:46:22.193Z"
   },
   {
    "duration": 257,
    "start_time": "2022-08-28T10:48:37.832Z"
   },
   {
    "duration": 170,
    "start_time": "2022-08-28T10:49:33.783Z"
   },
   {
    "duration": 327,
    "start_time": "2022-08-28T10:49:44.428Z"
   },
   {
    "duration": 119,
    "start_time": "2022-08-28T10:50:50.950Z"
   },
   {
    "duration": 127,
    "start_time": "2022-08-28T10:51:23.038Z"
   },
   {
    "duration": 155,
    "start_time": "2022-08-28T10:54:54.732Z"
   },
   {
    "duration": 231,
    "start_time": "2022-08-28T10:55:15.502Z"
   },
   {
    "duration": 132,
    "start_time": "2022-08-28T10:55:36.083Z"
   },
   {
    "duration": 137,
    "start_time": "2022-08-28T10:56:19.527Z"
   },
   {
    "duration": 73,
    "start_time": "2022-08-28T11:03:18.426Z"
   },
   {
    "duration": 125,
    "start_time": "2022-08-28T11:03:29.352Z"
   },
   {
    "duration": 168,
    "start_time": "2022-08-28T11:09:37.864Z"
   },
   {
    "duration": 157,
    "start_time": "2022-08-28T11:10:29.429Z"
   },
   {
    "duration": 217,
    "start_time": "2022-08-28T11:10:52.933Z"
   },
   {
    "duration": 112,
    "start_time": "2022-08-28T11:16:19.032Z"
   },
   {
    "duration": 110,
    "start_time": "2022-08-28T11:16:49.132Z"
   },
   {
    "duration": 108,
    "start_time": "2022-08-28T11:17:01.444Z"
   },
   {
    "duration": 128,
    "start_time": "2022-08-28T11:17:12.662Z"
   },
   {
    "duration": 3471,
    "start_time": "2022-08-29T07:09:11.835Z"
   },
   {
    "duration": 2,
    "start_time": "2022-08-29T07:09:15.308Z"
   },
   {
    "duration": 96,
    "start_time": "2022-08-29T07:09:15.312Z"
   },
   {
    "duration": 11,
    "start_time": "2022-08-29T07:09:15.410Z"
   },
   {
    "duration": 7,
    "start_time": "2022-08-29T07:09:15.422Z"
   },
   {
    "duration": 11,
    "start_time": "2022-08-29T07:09:15.430Z"
   },
   {
    "duration": 5,
    "start_time": "2022-08-29T07:09:15.443Z"
   },
   {
    "duration": 28,
    "start_time": "2022-08-29T07:09:15.450Z"
   },
   {
    "duration": 16,
    "start_time": "2022-08-29T07:09:15.480Z"
   },
   {
    "duration": 4,
    "start_time": "2022-08-29T07:09:15.498Z"
   },
   {
    "duration": 12,
    "start_time": "2022-08-29T07:09:15.504Z"
   },
   {
    "duration": 16,
    "start_time": "2022-08-29T07:09:15.518Z"
   },
   {
    "duration": 18,
    "start_time": "2022-08-29T07:09:15.536Z"
   },
   {
    "duration": 2029,
    "start_time": "2022-08-29T07:09:15.555Z"
   },
   {
    "duration": 1740,
    "start_time": "2022-08-29T07:09:17.586Z"
   },
   {
    "duration": 828,
    "start_time": "2022-08-29T07:09:19.328Z"
   },
   {
    "duration": 4,
    "start_time": "2022-08-29T07:09:20.158Z"
   },
   {
    "duration": 22,
    "start_time": "2022-08-29T07:09:20.164Z"
   },
   {
    "duration": 9,
    "start_time": "2022-08-29T07:09:20.188Z"
   },
   {
    "duration": 118,
    "start_time": "2022-08-29T07:09:20.199Z"
   },
   {
    "duration": 0,
    "start_time": "2022-08-29T07:09:20.319Z"
   },
   {
    "duration": 0,
    "start_time": "2022-08-29T07:09:20.320Z"
   },
   {
    "duration": 0,
    "start_time": "2022-08-29T07:09:20.322Z"
   },
   {
    "duration": 0,
    "start_time": "2022-08-29T07:09:20.323Z"
   },
   {
    "duration": 0,
    "start_time": "2022-08-29T07:09:20.324Z"
   },
   {
    "duration": 0,
    "start_time": "2022-08-29T07:09:20.325Z"
   },
   {
    "duration": 0,
    "start_time": "2022-08-29T07:09:20.326Z"
   },
   {
    "duration": 0,
    "start_time": "2022-08-29T07:09:20.327Z"
   },
   {
    "duration": 0,
    "start_time": "2022-08-29T07:09:20.328Z"
   },
   {
    "duration": 0,
    "start_time": "2022-08-29T07:09:20.329Z"
   },
   {
    "duration": 0,
    "start_time": "2022-08-29T07:09:20.330Z"
   },
   {
    "duration": 0,
    "start_time": "2022-08-29T07:09:20.331Z"
   },
   {
    "duration": 0,
    "start_time": "2022-08-29T07:09:20.332Z"
   },
   {
    "duration": 0,
    "start_time": "2022-08-29T07:09:20.333Z"
   },
   {
    "duration": 0,
    "start_time": "2022-08-29T07:09:20.334Z"
   },
   {
    "duration": 0,
    "start_time": "2022-08-29T07:09:20.335Z"
   },
   {
    "duration": 0,
    "start_time": "2022-08-29T07:09:20.337Z"
   },
   {
    "duration": 7,
    "start_time": "2022-08-29T07:25:37.629Z"
   },
   {
    "duration": 14,
    "start_time": "2022-08-29T07:34:41.084Z"
   },
   {
    "duration": 13,
    "start_time": "2022-08-29T07:35:22.503Z"
   },
   {
    "duration": 8,
    "start_time": "2022-08-29T07:35:43.560Z"
   },
   {
    "duration": 5,
    "start_time": "2022-08-29T07:37:15.021Z"
   },
   {
    "duration": 5,
    "start_time": "2022-08-29T07:39:08.555Z"
   },
   {
    "duration": 6,
    "start_time": "2022-08-29T07:39:21.808Z"
   },
   {
    "duration": 4,
    "start_time": "2022-08-29T07:39:31.157Z"
   },
   {
    "duration": 5,
    "start_time": "2022-08-29T07:40:01.061Z"
   },
   {
    "duration": 4,
    "start_time": "2022-08-29T07:40:45.054Z"
   },
   {
    "duration": 6,
    "start_time": "2022-08-29T07:40:55.607Z"
   },
   {
    "duration": 4,
    "start_time": "2022-08-29T07:41:05.114Z"
   },
   {
    "duration": 155,
    "start_time": "2022-08-29T07:59:43.263Z"
   },
   {
    "duration": 174,
    "start_time": "2022-08-29T08:00:32.719Z"
   },
   {
    "duration": 123,
    "start_time": "2022-08-29T08:00:55.761Z"
   },
   {
    "duration": 113,
    "start_time": "2022-08-29T08:01:19.144Z"
   },
   {
    "duration": 125,
    "start_time": "2022-08-29T08:01:43.959Z"
   },
   {
    "duration": 114,
    "start_time": "2022-08-29T08:06:00.776Z"
   },
   {
    "duration": 135,
    "start_time": "2022-08-29T08:06:28.914Z"
   },
   {
    "duration": 177,
    "start_time": "2022-08-29T08:06:50.250Z"
   },
   {
    "duration": 4,
    "start_time": "2022-08-29T08:07:33.519Z"
   },
   {
    "duration": 182,
    "start_time": "2022-08-29T08:08:09.725Z"
   },
   {
    "duration": 19,
    "start_time": "2022-08-29T08:09:04.085Z"
   },
   {
    "duration": 112,
    "start_time": "2022-08-29T08:09:13.690Z"
   },
   {
    "duration": 105,
    "start_time": "2022-08-29T08:09:29.138Z"
   },
   {
    "duration": 111,
    "start_time": "2022-08-29T08:10:28.860Z"
   },
   {
    "duration": 4,
    "start_time": "2022-08-29T08:12:08.752Z"
   },
   {
    "duration": 142,
    "start_time": "2022-08-29T08:13:34.137Z"
   },
   {
    "duration": 89,
    "start_time": "2022-08-29T08:25:41.814Z"
   },
   {
    "duration": 242,
    "start_time": "2022-08-29T08:25:49.340Z"
   },
   {
    "duration": 982,
    "start_time": "2022-08-29T08:26:54.423Z"
   },
   {
    "duration": 9,
    "start_time": "2022-08-29T08:28:39.537Z"
   },
   {
    "duration": 34,
    "start_time": "2022-08-29T08:28:51.581Z"
   },
   {
    "duration": 108,
    "start_time": "2022-08-29T08:31:14.699Z"
   },
   {
    "duration": 127,
    "start_time": "2022-08-29T08:55:44.559Z"
   },
   {
    "duration": 108,
    "start_time": "2022-08-29T08:55:54.050Z"
   },
   {
    "duration": 121,
    "start_time": "2022-08-29T08:57:56.330Z"
   },
   {
    "duration": 187,
    "start_time": "2022-08-29T08:58:31.907Z"
   },
   {
    "duration": 100,
    "start_time": "2022-08-29T08:59:03.463Z"
   },
   {
    "duration": 106,
    "start_time": "2022-08-29T08:59:20.504Z"
   },
   {
    "duration": 124,
    "start_time": "2022-08-29T08:59:26.379Z"
   },
   {
    "duration": 122,
    "start_time": "2022-08-29T09:00:36.017Z"
   },
   {
    "duration": 61,
    "start_time": "2022-08-29T09:00:41.408Z"
   },
   {
    "duration": 121,
    "start_time": "2022-08-29T09:00:48.731Z"
   },
   {
    "duration": 184,
    "start_time": "2022-08-29T09:01:05.580Z"
   },
   {
    "duration": 108,
    "start_time": "2022-08-29T09:01:39.061Z"
   },
   {
    "duration": 119,
    "start_time": "2022-08-29T09:02:02.559Z"
   },
   {
    "duration": 121,
    "start_time": "2022-08-29T09:06:32.113Z"
   },
   {
    "duration": 186,
    "start_time": "2022-08-29T09:06:54.040Z"
   },
   {
    "duration": 119,
    "start_time": "2022-08-29T09:07:09.699Z"
   },
   {
    "duration": 3,
    "start_time": "2022-08-29T09:08:22.857Z"
   },
   {
    "duration": 4,
    "start_time": "2022-08-29T09:08:22.864Z"
   },
   {
    "duration": 94,
    "start_time": "2022-08-29T09:08:22.872Z"
   },
   {
    "duration": 12,
    "start_time": "2022-08-29T09:08:22.968Z"
   },
   {
    "duration": 30,
    "start_time": "2022-08-29T09:08:22.982Z"
   },
   {
    "duration": 15,
    "start_time": "2022-08-29T09:08:23.014Z"
   },
   {
    "duration": 7,
    "start_time": "2022-08-29T09:08:23.031Z"
   },
   {
    "duration": 11,
    "start_time": "2022-08-29T09:08:23.039Z"
   },
   {
    "duration": 15,
    "start_time": "2022-08-29T09:08:23.052Z"
   },
   {
    "duration": 6,
    "start_time": "2022-08-29T09:08:23.068Z"
   },
   {
    "duration": 6,
    "start_time": "2022-08-29T09:08:23.075Z"
   },
   {
    "duration": 27,
    "start_time": "2022-08-29T09:08:23.083Z"
   },
   {
    "duration": 21,
    "start_time": "2022-08-29T09:08:23.112Z"
   },
   {
    "duration": 221,
    "start_time": "2022-08-29T09:08:23.135Z"
   },
   {
    "duration": 111,
    "start_time": "2022-08-29T09:08:23.357Z"
   },
   {
    "duration": 119,
    "start_time": "2022-08-29T09:08:25.728Z"
   },
   {
    "duration": 1245,
    "start_time": "2022-08-29T09:13:53.457Z"
   },
   {
    "duration": 2,
    "start_time": "2022-08-29T09:13:54.704Z"
   },
   {
    "duration": 47,
    "start_time": "2022-08-29T09:13:54.708Z"
   },
   {
    "duration": 11,
    "start_time": "2022-08-29T09:13:54.756Z"
   },
   {
    "duration": 7,
    "start_time": "2022-08-29T09:13:54.769Z"
   },
   {
    "duration": 29,
    "start_time": "2022-08-29T09:13:54.778Z"
   },
   {
    "duration": 6,
    "start_time": "2022-08-29T09:13:54.809Z"
   },
   {
    "duration": 12,
    "start_time": "2022-08-29T09:13:54.817Z"
   },
   {
    "duration": 14,
    "start_time": "2022-08-29T09:13:54.831Z"
   },
   {
    "duration": 4,
    "start_time": "2022-08-29T09:13:54.846Z"
   },
   {
    "duration": 7,
    "start_time": "2022-08-29T09:13:54.851Z"
   },
   {
    "duration": 37,
    "start_time": "2022-08-29T09:13:58.703Z"
   },
   {
    "duration": 56,
    "start_time": "2022-08-29T09:14:48.208Z"
   },
   {
    "duration": 4,
    "start_time": "2022-08-29T09:21:37.852Z"
   },
   {
    "duration": 13,
    "start_time": "2022-08-29T09:21:40.773Z"
   },
   {
    "duration": 28,
    "start_time": "2022-08-29T09:22:51.073Z"
   },
   {
    "duration": 122,
    "start_time": "2022-08-29T09:23:29.723Z"
   },
   {
    "duration": 15,
    "start_time": "2022-08-29T09:23:53.466Z"
   },
   {
    "duration": 1229,
    "start_time": "2022-08-29T09:25:10.934Z"
   },
   {
    "duration": 2,
    "start_time": "2022-08-29T09:25:12.165Z"
   },
   {
    "duration": 49,
    "start_time": "2022-08-29T09:25:12.169Z"
   },
   {
    "duration": 11,
    "start_time": "2022-08-29T09:25:12.220Z"
   },
   {
    "duration": 16,
    "start_time": "2022-08-29T09:25:12.233Z"
   },
   {
    "duration": 13,
    "start_time": "2022-08-29T09:25:12.250Z"
   },
   {
    "duration": 7,
    "start_time": "2022-08-29T09:25:12.265Z"
   },
   {
    "duration": 17,
    "start_time": "2022-08-29T09:25:12.273Z"
   },
   {
    "duration": 19,
    "start_time": "2022-08-29T09:25:12.292Z"
   },
   {
    "duration": 3,
    "start_time": "2022-08-29T09:25:12.313Z"
   },
   {
    "duration": 15,
    "start_time": "2022-08-29T09:25:12.318Z"
   },
   {
    "duration": 19,
    "start_time": "2022-08-29T09:25:12.334Z"
   },
   {
    "duration": 17,
    "start_time": "2022-08-29T09:25:21.051Z"
   },
   {
    "duration": 4,
    "start_time": "2022-08-29T09:26:36.498Z"
   },
   {
    "duration": 15,
    "start_time": "2022-08-29T09:26:38.531Z"
   },
   {
    "duration": 14,
    "start_time": "2022-08-29T09:34:38.394Z"
   },
   {
    "duration": 1234,
    "start_time": "2022-08-29T09:35:27.990Z"
   },
   {
    "duration": 3,
    "start_time": "2022-08-29T09:35:29.225Z"
   },
   {
    "duration": 36,
    "start_time": "2022-08-29T09:35:29.230Z"
   },
   {
    "duration": 10,
    "start_time": "2022-08-29T09:35:29.268Z"
   },
   {
    "duration": 8,
    "start_time": "2022-08-29T09:35:29.279Z"
   },
   {
    "duration": 11,
    "start_time": "2022-08-29T09:35:29.288Z"
   },
   {
    "duration": 6,
    "start_time": "2022-08-29T09:35:29.301Z"
   },
   {
    "duration": 9,
    "start_time": "2022-08-29T09:35:29.309Z"
   },
   {
    "duration": 17,
    "start_time": "2022-08-29T09:35:29.320Z"
   },
   {
    "duration": 4,
    "start_time": "2022-08-29T09:35:29.339Z"
   },
   {
    "duration": 4,
    "start_time": "2022-08-29T09:35:40.357Z"
   },
   {
    "duration": 13,
    "start_time": "2022-08-29T09:35:43.745Z"
   },
   {
    "duration": 4,
    "start_time": "2022-08-29T09:36:00.794Z"
   },
   {
    "duration": 26,
    "start_time": "2022-08-29T09:36:02.934Z"
   },
   {
    "duration": 3,
    "start_time": "2022-08-29T09:36:15.362Z"
   },
   {
    "duration": 13,
    "start_time": "2022-08-29T09:36:16.671Z"
   },
   {
    "duration": 4,
    "start_time": "2022-08-29T09:36:47.587Z"
   },
   {
    "duration": 26,
    "start_time": "2022-08-29T09:36:48.378Z"
   },
   {
    "duration": 3,
    "start_time": "2022-08-29T09:37:52.613Z"
   },
   {
    "duration": 12,
    "start_time": "2022-08-29T09:37:53.071Z"
   },
   {
    "duration": 1327,
    "start_time": "2022-08-29T09:38:11.488Z"
   },
   {
    "duration": 3,
    "start_time": "2022-08-29T09:38:12.817Z"
   },
   {
    "duration": 64,
    "start_time": "2022-08-29T09:38:12.821Z"
   },
   {
    "duration": 11,
    "start_time": "2022-08-29T09:38:12.887Z"
   },
   {
    "duration": 10,
    "start_time": "2022-08-29T09:38:12.899Z"
   },
   {
    "duration": 12,
    "start_time": "2022-08-29T09:38:12.911Z"
   },
   {
    "duration": 8,
    "start_time": "2022-08-29T09:38:12.924Z"
   },
   {
    "duration": 15,
    "start_time": "2022-08-29T09:38:12.933Z"
   },
   {
    "duration": 15,
    "start_time": "2022-08-29T09:38:12.950Z"
   },
   {
    "duration": 21,
    "start_time": "2022-08-29T09:38:12.967Z"
   },
   {
    "duration": 7,
    "start_time": "2022-08-29T09:38:12.990Z"
   },
   {
    "duration": 12,
    "start_time": "2022-08-29T09:38:15.089Z"
   },
   {
    "duration": 22,
    "start_time": "2022-08-29T09:38:26.302Z"
   },
   {
    "duration": 1247,
    "start_time": "2022-08-29T09:42:02.010Z"
   },
   {
    "duration": 3,
    "start_time": "2022-08-29T09:42:03.259Z"
   },
   {
    "duration": 40,
    "start_time": "2022-08-29T09:42:03.264Z"
   },
   {
    "duration": 11,
    "start_time": "2022-08-29T09:42:03.307Z"
   },
   {
    "duration": 8,
    "start_time": "2022-08-29T09:42:03.319Z"
   },
   {
    "duration": 12,
    "start_time": "2022-08-29T09:42:03.329Z"
   },
   {
    "duration": 8,
    "start_time": "2022-08-29T09:42:03.343Z"
   },
   {
    "duration": 35,
    "start_time": "2022-08-29T09:42:03.353Z"
   },
   {
    "duration": 14,
    "start_time": "2022-08-29T09:42:03.390Z"
   },
   {
    "duration": 3,
    "start_time": "2022-08-29T09:42:03.407Z"
   },
   {
    "duration": 6,
    "start_time": "2022-08-29T09:42:03.412Z"
   },
   {
    "duration": 25,
    "start_time": "2022-08-29T09:42:03.419Z"
   },
   {
    "duration": 18,
    "start_time": "2022-08-29T09:42:03.446Z"
   },
   {
    "duration": 144,
    "start_time": "2022-08-29T09:42:03.465Z"
   },
   {
    "duration": 116,
    "start_time": "2022-08-29T09:42:03.610Z"
   },
   {
    "duration": 116,
    "start_time": "2022-08-29T09:42:07.832Z"
   },
   {
    "duration": 4,
    "start_time": "2022-08-29T10:12:56.715Z"
   },
   {
    "duration": 1292,
    "start_time": "2022-08-29T10:23:00.103Z"
   },
   {
    "duration": 4,
    "start_time": "2022-08-29T10:23:01.397Z"
   },
   {
    "duration": 96,
    "start_time": "2022-08-29T10:23:01.402Z"
   },
   {
    "duration": 12,
    "start_time": "2022-08-29T10:23:01.501Z"
   },
   {
    "duration": 13,
    "start_time": "2022-08-29T10:23:01.515Z"
   },
   {
    "duration": 19,
    "start_time": "2022-08-29T10:23:01.530Z"
   },
   {
    "duration": 50,
    "start_time": "2022-08-29T10:23:01.551Z"
   },
   {
    "duration": 73,
    "start_time": "2022-08-29T10:23:01.603Z"
   },
   {
    "duration": 42,
    "start_time": "2022-08-29T10:23:01.677Z"
   },
   {
    "duration": 7,
    "start_time": "2022-08-29T10:23:01.722Z"
   },
   {
    "duration": 22,
    "start_time": "2022-08-29T10:23:01.730Z"
   },
   {
    "duration": 31,
    "start_time": "2022-08-29T10:23:01.754Z"
   },
   {
    "duration": 22,
    "start_time": "2022-08-29T10:23:01.787Z"
   },
   {
    "duration": 17,
    "start_time": "2022-08-29T10:23:01.810Z"
   },
   {
    "duration": 202,
    "start_time": "2022-08-29T10:23:01.829Z"
   },
   {
    "duration": 120,
    "start_time": "2022-08-29T10:23:05.349Z"
   },
   {
    "duration": 1232,
    "start_time": "2022-08-29T10:25:16.520Z"
   },
   {
    "duration": 2,
    "start_time": "2022-08-29T10:25:17.754Z"
   },
   {
    "duration": 40,
    "start_time": "2022-08-29T10:25:17.758Z"
   },
   {
    "duration": 11,
    "start_time": "2022-08-29T10:25:17.800Z"
   },
   {
    "duration": 9,
    "start_time": "2022-08-29T10:25:17.813Z"
   },
   {
    "duration": 16,
    "start_time": "2022-08-29T10:25:17.824Z"
   },
   {
    "duration": 9,
    "start_time": "2022-08-29T10:25:17.841Z"
   },
   {
    "duration": 11,
    "start_time": "2022-08-29T10:25:17.851Z"
   },
   {
    "duration": 28,
    "start_time": "2022-08-29T10:25:17.864Z"
   },
   {
    "duration": 4,
    "start_time": "2022-08-29T10:25:17.895Z"
   },
   {
    "duration": 10,
    "start_time": "2022-08-29T10:25:17.901Z"
   },
   {
    "duration": 19,
    "start_time": "2022-08-29T10:25:17.913Z"
   },
   {
    "duration": 21,
    "start_time": "2022-08-29T10:25:17.934Z"
   },
   {
    "duration": 161,
    "start_time": "2022-08-29T10:25:17.957Z"
   },
   {
    "duration": 3,
    "start_time": "2022-08-29T10:25:18.120Z"
   },
   {
    "duration": 154,
    "start_time": "2022-08-29T10:25:18.125Z"
   },
   {
    "duration": 2,
    "start_time": "2022-08-29T10:25:18.286Z"
   },
   {
    "duration": 134,
    "start_time": "2022-08-29T10:25:18.290Z"
   },
   {
    "duration": 17,
    "start_time": "2022-08-29T10:25:18.426Z"
   },
   {
    "duration": 20,
    "start_time": "2022-08-29T10:25:18.445Z"
   },
   {
    "duration": 20,
    "start_time": "2022-08-29T10:25:18.466Z"
   },
   {
    "duration": 16,
    "start_time": "2022-08-29T10:25:18.488Z"
   },
   {
    "duration": 134,
    "start_time": "2022-08-29T10:25:18.506Z"
   },
   {
    "duration": 0,
    "start_time": "2022-08-29T10:25:18.643Z"
   },
   {
    "duration": 0,
    "start_time": "2022-08-29T10:25:18.644Z"
   },
   {
    "duration": 0,
    "start_time": "2022-08-29T10:25:18.646Z"
   },
   {
    "duration": 0,
    "start_time": "2022-08-29T10:25:18.647Z"
   },
   {
    "duration": 0,
    "start_time": "2022-08-29T10:25:18.649Z"
   },
   {
    "duration": 0,
    "start_time": "2022-08-29T10:25:18.650Z"
   },
   {
    "duration": 0,
    "start_time": "2022-08-29T10:25:18.651Z"
   },
   {
    "duration": 0,
    "start_time": "2022-08-29T10:25:18.652Z"
   },
   {
    "duration": 0,
    "start_time": "2022-08-29T10:25:18.654Z"
   },
   {
    "duration": 0,
    "start_time": "2022-08-29T10:25:18.655Z"
   },
   {
    "duration": 0,
    "start_time": "2022-08-29T10:25:18.657Z"
   },
   {
    "duration": 3,
    "start_time": "2022-08-29T11:13:59.439Z"
   },
   {
    "duration": 5,
    "start_time": "2022-08-29T11:13:59.444Z"
   },
   {
    "duration": 35,
    "start_time": "2022-08-29T11:13:59.450Z"
   },
   {
    "duration": 9,
    "start_time": "2022-08-29T11:13:59.486Z"
   },
   {
    "duration": 5,
    "start_time": "2022-08-29T11:13:59.498Z"
   },
   {
    "duration": 10,
    "start_time": "2022-08-29T11:13:59.505Z"
   },
   {
    "duration": 6,
    "start_time": "2022-08-29T11:13:59.517Z"
   },
   {
    "duration": 10,
    "start_time": "2022-08-29T11:13:59.525Z"
   },
   {
    "duration": 13,
    "start_time": "2022-08-29T11:13:59.536Z"
   },
   {
    "duration": 36,
    "start_time": "2022-08-29T11:13:59.551Z"
   },
   {
    "duration": 4,
    "start_time": "2022-08-29T11:13:59.588Z"
   },
   {
    "duration": 16,
    "start_time": "2022-08-29T11:13:59.593Z"
   },
   {
    "duration": 14,
    "start_time": "2022-08-29T11:13:59.611Z"
   },
   {
    "duration": 137,
    "start_time": "2022-08-29T11:13:59.627Z"
   },
   {
    "duration": 3,
    "start_time": "2022-08-29T11:13:59.766Z"
   },
   {
    "duration": 191,
    "start_time": "2022-08-29T11:13:59.770Z"
   },
   {
    "duration": 2,
    "start_time": "2022-08-29T11:13:59.963Z"
   },
   {
    "duration": 22,
    "start_time": "2022-08-29T11:13:59.966Z"
   },
   {
    "duration": 1310,
    "start_time": "2022-08-29T11:14:35.682Z"
   },
   {
    "duration": 3,
    "start_time": "2022-08-29T11:14:36.994Z"
   },
   {
    "duration": 37,
    "start_time": "2022-08-29T11:14:36.998Z"
   },
   {
    "duration": 10,
    "start_time": "2022-08-29T11:14:37.037Z"
   },
   {
    "duration": 13,
    "start_time": "2022-08-29T11:14:37.048Z"
   },
   {
    "duration": 16,
    "start_time": "2022-08-29T11:14:37.062Z"
   },
   {
    "duration": 6,
    "start_time": "2022-08-29T11:14:37.080Z"
   },
   {
    "duration": 13,
    "start_time": "2022-08-29T11:14:37.087Z"
   },
   {
    "duration": 14,
    "start_time": "2022-08-29T11:14:37.101Z"
   },
   {
    "duration": 3,
    "start_time": "2022-08-29T11:14:37.117Z"
   },
   {
    "duration": 8,
    "start_time": "2022-08-29T11:14:37.121Z"
   },
   {
    "duration": 16,
    "start_time": "2022-08-29T11:14:37.131Z"
   },
   {
    "duration": 21,
    "start_time": "2022-08-29T11:14:37.149Z"
   },
   {
    "duration": 136,
    "start_time": "2022-08-29T11:14:37.171Z"
   },
   {
    "duration": 3,
    "start_time": "2022-08-29T11:14:37.308Z"
   },
   {
    "duration": 133,
    "start_time": "2022-08-29T11:14:37.312Z"
   },
   {
    "duration": 3,
    "start_time": "2022-08-29T11:14:37.447Z"
   },
   {
    "duration": 21,
    "start_time": "2022-08-29T11:14:37.451Z"
   },
   {
    "duration": 2,
    "start_time": "2022-08-29T11:16:25.705Z"
   },
   {
    "duration": 9,
    "start_time": "2022-08-29T11:16:25.711Z"
   },
   {
    "duration": 62,
    "start_time": "2022-08-29T11:16:25.722Z"
   },
   {
    "duration": 10,
    "start_time": "2022-08-29T11:16:25.786Z"
   },
   {
    "duration": 13,
    "start_time": "2022-08-29T11:16:25.797Z"
   },
   {
    "duration": 20,
    "start_time": "2022-08-29T11:16:25.812Z"
   },
   {
    "duration": 7,
    "start_time": "2022-08-29T11:16:25.833Z"
   },
   {
    "duration": 15,
    "start_time": "2022-08-29T11:16:25.841Z"
   },
   {
    "duration": 5,
    "start_time": "2022-08-29T11:16:25.857Z"
   },
   {
    "duration": 8,
    "start_time": "2022-08-29T11:16:25.863Z"
   },
   {
    "duration": 5,
    "start_time": "2022-08-29T11:16:25.872Z"
   },
   {
    "duration": 15,
    "start_time": "2022-08-29T11:16:25.879Z"
   },
   {
    "duration": 19,
    "start_time": "2022-08-29T11:16:25.896Z"
   },
   {
    "duration": 159,
    "start_time": "2022-08-29T11:16:25.916Z"
   },
   {
    "duration": 3,
    "start_time": "2022-08-29T11:16:26.078Z"
   },
   {
    "duration": 130,
    "start_time": "2022-08-29T11:16:26.087Z"
   },
   {
    "duration": 3,
    "start_time": "2022-08-29T11:16:26.219Z"
   },
   {
    "duration": 30,
    "start_time": "2022-08-29T11:16:26.223Z"
   },
   {
    "duration": 1544,
    "start_time": "2022-08-29T11:30:45.264Z"
   },
   {
    "duration": 3,
    "start_time": "2022-08-29T11:30:46.810Z"
   },
   {
    "duration": 95,
    "start_time": "2022-08-29T11:30:46.815Z"
   },
   {
    "duration": 11,
    "start_time": "2022-08-29T11:30:46.912Z"
   },
   {
    "duration": 8,
    "start_time": "2022-08-29T11:30:46.925Z"
   },
   {
    "duration": 15,
    "start_time": "2022-08-29T11:30:46.934Z"
   },
   {
    "duration": 7,
    "start_time": "2022-08-29T11:30:46.950Z"
   },
   {
    "duration": 11,
    "start_time": "2022-08-29T11:30:46.958Z"
   },
   {
    "duration": 3,
    "start_time": "2022-08-29T11:30:46.988Z"
   },
   {
    "duration": 17,
    "start_time": "2022-08-29T11:30:46.994Z"
   },
   {
    "duration": 9,
    "start_time": "2022-08-29T11:30:47.013Z"
   },
   {
    "duration": 16,
    "start_time": "2022-08-29T11:30:47.023Z"
   },
   {
    "duration": 15,
    "start_time": "2022-08-29T11:30:47.041Z"
   },
   {
    "duration": 161,
    "start_time": "2022-08-29T11:30:47.057Z"
   },
   {
    "duration": 3,
    "start_time": "2022-08-29T11:30:47.219Z"
   },
   {
    "duration": 138,
    "start_time": "2022-08-29T11:30:47.223Z"
   },
   {
    "duration": 17,
    "start_time": "2022-08-29T11:30:47.362Z"
   },
   {
    "duration": 4,
    "start_time": "2022-08-29T12:06:57.223Z"
   },
   {
    "duration": 119,
    "start_time": "2022-08-29T12:07:18.264Z"
   },
   {
    "duration": 3,
    "start_time": "2022-08-29T12:07:22.958Z"
   },
   {
    "duration": 94,
    "start_time": "2022-08-29T12:10:06.776Z"
   },
   {
    "duration": 22,
    "start_time": "2022-08-29T12:10:29.799Z"
   },
   {
    "duration": 23,
    "start_time": "2022-08-29T12:10:57.188Z"
   },
   {
    "duration": 9,
    "start_time": "2022-08-29T12:11:34.654Z"
   },
   {
    "duration": 9,
    "start_time": "2022-08-29T12:11:55.725Z"
   },
   {
    "duration": 960,
    "start_time": "2022-08-29T12:12:05.465Z"
   },
   {
    "duration": 1046,
    "start_time": "2022-08-29T12:12:11.577Z"
   },
   {
    "duration": 6,
    "start_time": "2022-08-29T12:12:18.608Z"
   },
   {
    "duration": 9,
    "start_time": "2022-08-29T12:12:24.961Z"
   },
   {
    "duration": 23,
    "start_time": "2022-08-29T12:12:53.004Z"
   },
   {
    "duration": 40,
    "start_time": "2022-08-29T12:13:01.504Z"
   },
   {
    "duration": 4,
    "start_time": "2022-08-29T12:14:39.321Z"
   },
   {
    "duration": 3,
    "start_time": "2022-08-29T12:15:12.815Z"
   },
   {
    "duration": 22,
    "start_time": "2022-08-29T12:15:36.406Z"
   },
   {
    "duration": 15,
    "start_time": "2022-08-29T12:16:51.692Z"
   },
   {
    "duration": 11,
    "start_time": "2022-08-29T12:16:56.640Z"
   },
   {
    "duration": 14,
    "start_time": "2022-08-29T12:17:18.235Z"
   },
   {
    "duration": 13,
    "start_time": "2022-08-29T12:17:23.386Z"
   },
   {
    "duration": 845,
    "start_time": "2022-08-29T12:19:38.885Z"
   },
   {
    "duration": 2134,
    "start_time": "2022-08-29T12:20:01.430Z"
   },
   {
    "duration": 13,
    "start_time": "2022-08-29T12:25:51.605Z"
   },
   {
    "duration": 11,
    "start_time": "2022-08-29T12:26:35.073Z"
   },
   {
    "duration": 14,
    "start_time": "2022-08-29T12:27:24.904Z"
   },
   {
    "duration": 17,
    "start_time": "2022-08-29T12:27:57.830Z"
   },
   {
    "duration": 10,
    "start_time": "2022-08-29T12:28:06.862Z"
   },
   {
    "duration": 10,
    "start_time": "2022-08-29T12:28:29.036Z"
   },
   {
    "duration": 12,
    "start_time": "2022-08-29T12:29:10.336Z"
   },
   {
    "duration": 14,
    "start_time": "2022-08-29T12:33:24.253Z"
   },
   {
    "duration": 14,
    "start_time": "2022-08-29T12:33:48.564Z"
   },
   {
    "duration": 7,
    "start_time": "2022-08-29T12:34:06.580Z"
   },
   {
    "duration": 16,
    "start_time": "2022-08-29T12:36:00.239Z"
   },
   {
    "duration": 13,
    "start_time": "2022-08-29T12:38:45.308Z"
   },
   {
    "duration": 12,
    "start_time": "2022-08-29T12:39:51.815Z"
   },
   {
    "duration": 10,
    "start_time": "2022-08-29T12:40:33.826Z"
   },
   {
    "duration": 6,
    "start_time": "2022-08-29T12:41:03.978Z"
   },
   {
    "duration": 8,
    "start_time": "2022-08-29T12:41:27.343Z"
   },
   {
    "duration": 9,
    "start_time": "2022-08-29T12:41:41.005Z"
   },
   {
    "duration": 13,
    "start_time": "2022-08-29T12:42:53.662Z"
   },
   {
    "duration": 2080,
    "start_time": "2022-08-29T12:43:51.474Z"
   },
   {
    "duration": 2,
    "start_time": "2022-08-29T12:43:53.557Z"
   },
   {
    "duration": 69,
    "start_time": "2022-08-29T12:43:53.560Z"
   },
   {
    "duration": 11,
    "start_time": "2022-08-29T12:43:53.630Z"
   },
   {
    "duration": 13,
    "start_time": "2022-08-29T12:43:53.643Z"
   },
   {
    "duration": 13,
    "start_time": "2022-08-29T12:43:53.657Z"
   },
   {
    "duration": 5,
    "start_time": "2022-08-29T12:43:53.671Z"
   },
   {
    "duration": 12,
    "start_time": "2022-08-29T12:43:53.678Z"
   },
   {
    "duration": 14,
    "start_time": "2022-08-29T12:43:53.693Z"
   },
   {
    "duration": 6,
    "start_time": "2022-08-29T12:43:53.709Z"
   },
   {
    "duration": 13,
    "start_time": "2022-08-29T12:43:53.717Z"
   },
   {
    "duration": 25,
    "start_time": "2022-08-29T12:43:53.732Z"
   },
   {
    "duration": 15,
    "start_time": "2022-08-29T12:43:53.759Z"
   },
   {
    "duration": 178,
    "start_time": "2022-08-29T12:43:53.777Z"
   },
   {
    "duration": 163,
    "start_time": "2022-08-29T12:43:53.957Z"
   },
   {
    "duration": 15,
    "start_time": "2022-08-29T12:43:54.122Z"
   },
   {
    "duration": 13,
    "start_time": "2022-08-29T12:43:54.138Z"
   },
   {
    "duration": 11,
    "start_time": "2022-08-29T12:45:48.014Z"
   },
   {
    "duration": 2014,
    "start_time": "2022-08-29T12:52:55.223Z"
   },
   {
    "duration": 3,
    "start_time": "2022-08-29T12:52:57.238Z"
   },
   {
    "duration": 81,
    "start_time": "2022-08-29T12:52:57.243Z"
   },
   {
    "duration": 10,
    "start_time": "2022-08-29T12:52:57.327Z"
   },
   {
    "duration": 20,
    "start_time": "2022-08-29T12:52:57.339Z"
   },
   {
    "duration": 27,
    "start_time": "2022-08-29T12:52:57.361Z"
   },
   {
    "duration": 35,
    "start_time": "2022-08-29T12:52:57.391Z"
   },
   {
    "duration": 14,
    "start_time": "2022-08-29T12:52:57.428Z"
   },
   {
    "duration": 6,
    "start_time": "2022-08-29T12:52:57.444Z"
   },
   {
    "duration": 4,
    "start_time": "2022-08-29T12:52:57.453Z"
   },
   {
    "duration": 7,
    "start_time": "2022-08-29T12:52:57.458Z"
   },
   {
    "duration": 41,
    "start_time": "2022-08-29T12:52:57.466Z"
   },
   {
    "duration": 29,
    "start_time": "2022-08-29T12:52:57.510Z"
   },
   {
    "duration": 213,
    "start_time": "2022-08-29T12:52:57.541Z"
   },
   {
    "duration": 159,
    "start_time": "2022-08-29T12:52:57.755Z"
   },
   {
    "duration": 16,
    "start_time": "2022-08-29T12:52:57.917Z"
   },
   {
    "duration": 23,
    "start_time": "2022-08-29T12:52:57.935Z"
   }
  ],
  "kernelspec": {
   "display_name": "Python 3 (ipykernel)",
   "language": "python",
   "name": "python3"
  },
  "language_info": {
   "codemirror_mode": {
    "name": "ipython",
    "version": 3
   },
   "file_extension": ".py",
   "mimetype": "text/x-python",
   "name": "python",
   "nbconvert_exporter": "python",
   "pygments_lexer": "ipython3",
   "version": "3.9.5"
  },
  "toc": {
   "base_numbering": 1,
   "nav_menu": {},
   "number_sections": true,
   "sideBar": true,
   "skip_h1_title": true,
   "title_cell": "Table of Contents",
   "title_sidebar": "Contents",
   "toc_cell": false,
   "toc_position": {},
   "toc_section_display": true,
   "toc_window_display": false
  }
 },
 "nbformat": 4,
 "nbformat_minor": 5
}
