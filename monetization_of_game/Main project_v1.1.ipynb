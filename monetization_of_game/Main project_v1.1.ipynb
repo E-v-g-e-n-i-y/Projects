{
 "cells": [
  {
   "cell_type": "markdown",
   "metadata": {
    "toc": true
   },
   "source": [
    "<h1>Содержание<span class=\"tocSkip\"></span></h1>\n",
    "<div class=\"toc\"><ul class=\"toc-item\"><li><span><a href=\"#Материалы\" data-toc-modified-id=\"Материалы-1\"><span class=\"toc-item-num\">1&nbsp;&nbsp;</span>Материалы</a></span></li><li><span><a href=\"#Загрузка-данных.\" data-toc-modified-id=\"Загрузка-данных.-2\"><span class=\"toc-item-num\">2&nbsp;&nbsp;</span>Загрузка данных.</a></span></li><li><span><a href=\"#Предобработка-данных.\" data-toc-modified-id=\"Предобработка-данных.-3\"><span class=\"toc-item-num\">3&nbsp;&nbsp;</span>Предобработка данных.</a></span><ul class=\"toc-item\"><li><span><a href=\"#Удаление-дубликатов\" data-toc-modified-id=\"Удаление-дубликатов-3.1\"><span class=\"toc-item-num\">3.1&nbsp;&nbsp;</span>Удаление дубликатов</a></span></li><li><span><a href=\"#Изменение-типа-данных\" data-toc-modified-id=\"Изменение-типа-данных-3.2\"><span class=\"toc-item-num\">3.2&nbsp;&nbsp;</span>Изменение типа данных</a></span></li><li><span><a href=\"#Добавление-столбца-'event_date'\" data-toc-modified-id=\"Добавление-столбца-'event_date'-3.3\"><span class=\"toc-item-num\">3.3&nbsp;&nbsp;</span>Добавление столбца 'event_date'</a></span></li><li><span><a href=\"#Объединение-таблиц-game_actions-и-user_source\" data-toc-modified-id=\"Объединение-таблиц-game_actions-и-user_source-3.4\"><span class=\"toc-item-num\">3.4&nbsp;&nbsp;</span>Объединение таблиц game_actions и user_source</a></span></li><li><span><a href=\"#Добавление-столбца-времени-затраченного-на-проходение---'passage_time'.\" data-toc-modified-id=\"Добавление-столбца-времени-затраченного-на-проходение---'passage_time'.-3.5\"><span class=\"toc-item-num\">3.5&nbsp;&nbsp;</span>Добавление столбца времени затраченного на проходение - 'passage_time'.</a></span></li></ul></li><li><span><a href=\"#Исследовательский-анализ-данных.\" data-toc-modified-id=\"Исследовательский-анализ-данных.-4\"><span class=\"toc-item-num\">4&nbsp;&nbsp;</span>Исследовательский анализ данных.</a></span><ul class=\"toc-item\"><li><span><a href=\"#Сегментация-игроков-по-типу-прохождения.\" data-toc-modified-id=\"Сегментация-игроков-по-типу-прохождения.-4.1\"><span class=\"toc-item-num\">4.1&nbsp;&nbsp;</span>Сегментация игроков по типу прохождения.</a></span></li><li><span><a href=\"#Динамика-количества-построек-по-дням\" data-toc-modified-id=\"Динамика-количества-построек-по-дням-4.2\"><span class=\"toc-item-num\">4.2&nbsp;&nbsp;</span>Динамика количества построек по дням</a></span></li><li><span><a href=\"#Динамика-количества-пользователей-по-дням\" data-toc-modified-id=\"Динамика-количества-пользователей-по-дням-4.3\"><span class=\"toc-item-num\">4.3&nbsp;&nbsp;</span>Динамика количества пользователей по дням</a></span></li><li><span><a href=\"#Удержание-пользователей-по-источникам-привлечения.\" data-toc-modified-id=\"Удержание-пользователей-по-источникам-привлечения.-4.4\"><span class=\"toc-item-num\">4.4&nbsp;&nbsp;</span>Удержание пользователей по источникам привлечения.</a></span></li></ul></li><li><span><a href=\"#Проверка-гипотез\" data-toc-modified-id=\"Проверка-гипотез-5\"><span class=\"toc-item-num\">5&nbsp;&nbsp;</span>Проверка гипотез</a></span><ul class=\"toc-item\"><li><span><a href=\"#Гипотеза-о-существовании-различий-во-времени-прохождения-уровня-между-пользователями-завершившими-проект-и-одержавшими-победу-над-противником.\" data-toc-modified-id=\"Гипотеза-о-существовании-различий-во-времени-прохождения-уровня-между-пользователями-завершившими-проект-и-одержавшими-победу-над-противником.-5.1\"><span class=\"toc-item-num\">5.1&nbsp;&nbsp;</span>Гипотеза о существовании различий во времени прохождения уровня между пользователями завершившими проект и одержавшими победу над противником.</a></span></li><li><span><a href=\"#Гипотеза-о-существовании-различий-в-количестве-построек--у-пользователей-завершивших-проект-и-одержавших-победу-над-противником.\" data-toc-modified-id=\"Гипотеза-о-существовании-различий-в-количестве-построек--у-пользователей-завершивших-проект-и-одержавших-победу-над-противником.-5.2\"><span class=\"toc-item-num\">5.2&nbsp;&nbsp;</span>Гипотеза о существовании различий в количестве построек  у пользователей завершивших проект и одержавших победу над противником.</a></span></li></ul></li><li><span><a href=\"#Формирование-модели-монетизации\" data-toc-modified-id=\"Формирование-модели-монетизации-6\"><span class=\"toc-item-num\">6&nbsp;&nbsp;</span>Формирование модели монетизации</a></span><ul class=\"toc-item\"><li><span><a href=\"#Оценка-окупаемости-игроков,-привлеченных-из-разных-источников-.\" data-toc-modified-id=\"Оценка-окупаемости-игроков,-привлеченных-из-разных-источников-.-6.1\"><span class=\"toc-item-num\">6.1&nbsp;&nbsp;</span>Оценка окупаемости игроков, привлеченных из разных источников .</a></span></li><li><span><a href=\"#Оценка-среднего-количества-построек-у-игроков-разных-сегментов.\" data-toc-modified-id=\"Оценка-среднего-количества-построек-у-игроков-разных-сегментов.-6.2\"><span class=\"toc-item-num\">6.2&nbsp;&nbsp;</span>Оценка среднего количества построек у игроков разных сегментов.</a></span></li><li><span><a href=\"#Оценка-срока-начала-запуска-рекламы.\" data-toc-modified-id=\"Оценка-срока-начала-запуска-рекламы.-6.3\"><span class=\"toc-item-num\">6.3&nbsp;&nbsp;</span>Оценка срока начала запуска рекламы.</a></span></li></ul></li><li><span><a href=\"#Вывод\" data-toc-modified-id=\"Вывод-7\"><span class=\"toc-item-num\">7&nbsp;&nbsp;</span>Вывод</a></span></li><li><span><a href=\"#Рекомендации\" data-toc-modified-id=\"Рекомендации-8\"><span class=\"toc-item-num\">8&nbsp;&nbsp;</span>Рекомендации</a></span></li></ul></div>"
   ]
  },
  {
   "cell_type": "markdown",
   "metadata": {},
   "source": [
    "# Формирование модели монетизации игры \"Космические братья\""
   ]
  },
  {
   "cell_type": "markdown",
   "metadata": {},
   "source": [
    "## Материалы\n",
    "[Презентация](https://disk.yandex.ru/i/SyyJ7YfYa0lmCQ)\n",
    "\n",
    "[Дашборд](https://public.tableau.com/app/profile/.51245454/viz/Dashboard_16521919938140/sheet5?publish=yes) "
   ]
  },
  {
   "cell_type": "markdown",
   "metadata": {},
   "source": [
    "**Задача:**\n",
    "Сформируйте модель монетизации игрового приложения."
   ]
  },
  {
   "cell_type": "markdown",
   "metadata": {},
   "source": [
    "Описание данных:\n",
    "\n",
    "**Датасет game_actions.csv:**\n",
    "- event_datetime — время события;\n",
    "- event — одно из трёх событий:\n",
    "  - 1. building — объект построен,\n",
    "  - 2. finished_stage_1 — первый уровень завершён,\n",
    "  - 3. project — проект завершён;\n",
    "- building_type — один из трёх типов здания:\n",
    "  - 1. assembly_shop — сборочный цех,\n",
    "  - 2. spaceport — космопорт,\n",
    "  - 3. research_center — исследовательский центр;\n",
    "- user_id — идентификатор пользователя;\n",
    "- project_type — тип реализованного проекта;\n",
    "\n",
    "**Датасет ad_cost.csv содержит колонки:**\n",
    "- day - день, в который был совершен клик по объявлению\n",
    "- source - источник трафика\n",
    "- cost - стоимость кликов\n",
    "\n",
    "**Датасет user_source.csv содержит колонки:**\n",
    "- user_id - идентификатор пользователя\n",
    "- source - источников, с которого пришёл пользователь, установивший приложение"
   ]
  },
  {
   "cell_type": "markdown",
   "metadata": {},
   "source": [
    "## Загрузка данных."
   ]
  },
  {
   "cell_type": "code",
   "execution_count": 1,
   "metadata": {},
   "outputs": [],
   "source": [
    "import pandas as pd\n",
    "import matplotlib.pyplot as plt\n",
    "import numpy as np\n",
    "from scipy import stats as st\n",
    "import datetime as dt\n",
    "import seaborn as sns\n"
   ]
  },
  {
   "cell_type": "code",
   "execution_count": 2,
   "metadata": {},
   "outputs": [
    {
     "data": {
      "text/html": [
       "<div>\n",
       "<style scoped>\n",
       "    .dataframe tbody tr th:only-of-type {\n",
       "        vertical-align: middle;\n",
       "    }\n",
       "\n",
       "    .dataframe tbody tr th {\n",
       "        vertical-align: top;\n",
       "    }\n",
       "\n",
       "    .dataframe thead th {\n",
       "        text-align: right;\n",
       "    }\n",
       "</style>\n",
       "<table border=\"1\" class=\"dataframe\">\n",
       "  <thead>\n",
       "    <tr style=\"text-align: right;\">\n",
       "      <th></th>\n",
       "      <th>event_datetime</th>\n",
       "      <th>event</th>\n",
       "      <th>building_type</th>\n",
       "      <th>user_id</th>\n",
       "      <th>project_type</th>\n",
       "    </tr>\n",
       "  </thead>\n",
       "  <tbody>\n",
       "    <tr>\n",
       "      <th>0</th>\n",
       "      <td>2020-05-04 00:00:01</td>\n",
       "      <td>building</td>\n",
       "      <td>assembly_shop</td>\n",
       "      <td>55e92310-cb8e-4754-b622-597e124b03de</td>\n",
       "      <td>NaN</td>\n",
       "    </tr>\n",
       "    <tr>\n",
       "      <th>1</th>\n",
       "      <td>2020-05-04 00:00:03</td>\n",
       "      <td>building</td>\n",
       "      <td>assembly_shop</td>\n",
       "      <td>c07b1c10-f477-44dc-81dc-ec82254b1347</td>\n",
       "      <td>NaN</td>\n",
       "    </tr>\n",
       "    <tr>\n",
       "      <th>2</th>\n",
       "      <td>2020-05-04 00:00:16</td>\n",
       "      <td>building</td>\n",
       "      <td>assembly_shop</td>\n",
       "      <td>6edd42cc-e753-4ff6-a947-2107cd560710</td>\n",
       "      <td>NaN</td>\n",
       "    </tr>\n",
       "    <tr>\n",
       "      <th>3</th>\n",
       "      <td>2020-05-04 00:00:16</td>\n",
       "      <td>building</td>\n",
       "      <td>assembly_shop</td>\n",
       "      <td>92c69003-d60a-444a-827f-8cc51bf6bf4c</td>\n",
       "      <td>NaN</td>\n",
       "    </tr>\n",
       "    <tr>\n",
       "      <th>4</th>\n",
       "      <td>2020-05-04 00:00:35</td>\n",
       "      <td>building</td>\n",
       "      <td>assembly_shop</td>\n",
       "      <td>cdc6bb92-0ccb-4490-9866-ef142f09139d</td>\n",
       "      <td>NaN</td>\n",
       "    </tr>\n",
       "  </tbody>\n",
       "</table>\n",
       "</div>"
      ],
      "text/plain": [
       "        event_datetime     event  building_type  \\\n",
       "0  2020-05-04 00:00:01  building  assembly_shop   \n",
       "1  2020-05-04 00:00:03  building  assembly_shop   \n",
       "2  2020-05-04 00:00:16  building  assembly_shop   \n",
       "3  2020-05-04 00:00:16  building  assembly_shop   \n",
       "4  2020-05-04 00:00:35  building  assembly_shop   \n",
       "\n",
       "                                user_id project_type  \n",
       "0  55e92310-cb8e-4754-b622-597e124b03de          NaN  \n",
       "1  c07b1c10-f477-44dc-81dc-ec82254b1347          NaN  \n",
       "2  6edd42cc-e753-4ff6-a947-2107cd560710          NaN  \n",
       "3  92c69003-d60a-444a-827f-8cc51bf6bf4c          NaN  \n",
       "4  cdc6bb92-0ccb-4490-9866-ef142f09139d          NaN  "
      ]
     },
     "execution_count": 2,
     "metadata": {},
     "output_type": "execute_result"
    }
   ],
   "source": [
    "game_actions = pd.read_csv('/datasets/game_actions.csv')\n",
    "game_actions.head()"
   ]
  },
  {
   "cell_type": "code",
   "execution_count": 3,
   "metadata": {},
   "outputs": [
    {
     "name": "stdout",
     "output_type": "stream",
     "text": [
      "<class 'pandas.core.frame.DataFrame'>\n",
      "RangeIndex: 135640 entries, 0 to 135639\n",
      "Data columns (total 5 columns):\n",
      " #   Column          Non-Null Count   Dtype \n",
      "---  ------          --------------   ----- \n",
      " 0   event_datetime  135640 non-null  object\n",
      " 1   event           135640 non-null  object\n",
      " 2   building_type   127957 non-null  object\n",
      " 3   user_id         135640 non-null  object\n",
      " 4   project_type    1866 non-null    object\n",
      "dtypes: object(5)\n",
      "memory usage: 5.2+ MB\n"
     ]
    }
   ],
   "source": [
    "game_actions.info()"
   ]
  },
  {
   "cell_type": "code",
   "execution_count": 4,
   "metadata": {},
   "outputs": [
    {
     "data": {
      "text/html": [
       "<div>\n",
       "<style scoped>\n",
       "    .dataframe tbody tr th:only-of-type {\n",
       "        vertical-align: middle;\n",
       "    }\n",
       "\n",
       "    .dataframe tbody tr th {\n",
       "        vertical-align: top;\n",
       "    }\n",
       "\n",
       "    .dataframe thead th {\n",
       "        text-align: right;\n",
       "    }\n",
       "</style>\n",
       "<table border=\"1\" class=\"dataframe\">\n",
       "  <thead>\n",
       "    <tr style=\"text-align: right;\">\n",
       "      <th></th>\n",
       "      <th>count</th>\n",
       "      <th>unique</th>\n",
       "      <th>top</th>\n",
       "      <th>freq</th>\n",
       "    </tr>\n",
       "  </thead>\n",
       "  <tbody>\n",
       "    <tr>\n",
       "      <th>event_datetime</th>\n",
       "      <td>135640</td>\n",
       "      <td>128790</td>\n",
       "      <td>2020-05-09 12:35:56</td>\n",
       "      <td>4</td>\n",
       "    </tr>\n",
       "    <tr>\n",
       "      <th>event</th>\n",
       "      <td>135640</td>\n",
       "      <td>3</td>\n",
       "      <td>building</td>\n",
       "      <td>127957</td>\n",
       "    </tr>\n",
       "    <tr>\n",
       "      <th>building_type</th>\n",
       "      <td>127957</td>\n",
       "      <td>3</td>\n",
       "      <td>spaceport</td>\n",
       "      <td>59325</td>\n",
       "    </tr>\n",
       "    <tr>\n",
       "      <th>user_id</th>\n",
       "      <td>135640</td>\n",
       "      <td>13576</td>\n",
       "      <td>bf542075-e3a2-4e79-82d8-3838e86d2a25</td>\n",
       "      <td>22</td>\n",
       "    </tr>\n",
       "    <tr>\n",
       "      <th>project_type</th>\n",
       "      <td>1866</td>\n",
       "      <td>1</td>\n",
       "      <td>satellite_orbital_assembly</td>\n",
       "      <td>1866</td>\n",
       "    </tr>\n",
       "  </tbody>\n",
       "</table>\n",
       "</div>"
      ],
      "text/plain": [
       "                 count  unique                                   top    freq\n",
       "event_datetime  135640  128790                   2020-05-09 12:35:56       4\n",
       "event           135640       3                              building  127957\n",
       "building_type   127957       3                             spaceport   59325\n",
       "user_id         135640   13576  bf542075-e3a2-4e79-82d8-3838e86d2a25      22\n",
       "project_type      1866       1            satellite_orbital_assembly    1866"
      ]
     },
     "execution_count": 4,
     "metadata": {},
     "output_type": "execute_result"
    }
   ],
   "source": [
    "game_actions.describe().T"
   ]
  },
  {
   "cell_type": "code",
   "execution_count": 5,
   "metadata": {},
   "outputs": [
    {
     "data": {
      "text/plain": [
       "building            127957\n",
       "finished_stage_1      5817\n",
       "project               1866\n",
       "Name: event, dtype: int64"
      ]
     },
     "execution_count": 5,
     "metadata": {},
     "output_type": "execute_result"
    }
   ],
   "source": [
    "game_actions['event'].value_counts()"
   ]
  },
  {
   "cell_type": "markdown",
   "metadata": {},
   "source": [
    "Количество игроков завершивших 1 уровень - 5817, из них 1866 реализовали прект."
   ]
  },
  {
   "cell_type": "code",
   "execution_count": 6,
   "metadata": {},
   "outputs": [
    {
     "name": "stdout",
     "output_type": "stream",
     "text": [
      "Количество дубликатов в game_actions: 1\n"
     ]
    }
   ],
   "source": [
    "print('Количество дубликатов в game_actions:', game_actions.duplicated().sum())"
   ]
  },
  {
   "cell_type": "code",
   "execution_count": 7,
   "metadata": {
    "scrolled": true
   },
   "outputs": [
    {
     "data": {
      "text/html": [
       "<div>\n",
       "<style scoped>\n",
       "    .dataframe tbody tr th:only-of-type {\n",
       "        vertical-align: middle;\n",
       "    }\n",
       "\n",
       "    .dataframe tbody tr th {\n",
       "        vertical-align: top;\n",
       "    }\n",
       "\n",
       "    .dataframe thead th {\n",
       "        text-align: right;\n",
       "    }\n",
       "</style>\n",
       "<table border=\"1\" class=\"dataframe\">\n",
       "  <thead>\n",
       "    <tr style=\"text-align: right;\">\n",
       "      <th></th>\n",
       "      <th>source</th>\n",
       "      <th>day</th>\n",
       "      <th>cost</th>\n",
       "    </tr>\n",
       "  </thead>\n",
       "  <tbody>\n",
       "    <tr>\n",
       "      <th>0</th>\n",
       "      <td>facebook_ads</td>\n",
       "      <td>2020-05-03</td>\n",
       "      <td>935.882786</td>\n",
       "    </tr>\n",
       "    <tr>\n",
       "      <th>1</th>\n",
       "      <td>facebook_ads</td>\n",
       "      <td>2020-05-04</td>\n",
       "      <td>548.354480</td>\n",
       "    </tr>\n",
       "    <tr>\n",
       "      <th>2</th>\n",
       "      <td>facebook_ads</td>\n",
       "      <td>2020-05-05</td>\n",
       "      <td>260.185754</td>\n",
       "    </tr>\n",
       "    <tr>\n",
       "      <th>3</th>\n",
       "      <td>facebook_ads</td>\n",
       "      <td>2020-05-06</td>\n",
       "      <td>177.982200</td>\n",
       "    </tr>\n",
       "    <tr>\n",
       "      <th>4</th>\n",
       "      <td>facebook_ads</td>\n",
       "      <td>2020-05-07</td>\n",
       "      <td>111.766796</td>\n",
       "    </tr>\n",
       "    <tr>\n",
       "      <th>5</th>\n",
       "      <td>facebook_ads</td>\n",
       "      <td>2020-05-08</td>\n",
       "      <td>68.009276</td>\n",
       "    </tr>\n",
       "    <tr>\n",
       "      <th>6</th>\n",
       "      <td>facebook_ads</td>\n",
       "      <td>2020-05-09</td>\n",
       "      <td>38.723350</td>\n",
       "    </tr>\n",
       "    <tr>\n",
       "      <th>7</th>\n",
       "      <td>instagram_new_adverts</td>\n",
       "      <td>2020-05-03</td>\n",
       "      <td>943.204717</td>\n",
       "    </tr>\n",
       "    <tr>\n",
       "      <th>8</th>\n",
       "      <td>instagram_new_adverts</td>\n",
       "      <td>2020-05-04</td>\n",
       "      <td>502.925451</td>\n",
       "    </tr>\n",
       "    <tr>\n",
       "      <th>9</th>\n",
       "      <td>instagram_new_adverts</td>\n",
       "      <td>2020-05-05</td>\n",
       "      <td>313.970984</td>\n",
       "    </tr>\n",
       "    <tr>\n",
       "      <th>10</th>\n",
       "      <td>instagram_new_adverts</td>\n",
       "      <td>2020-05-06</td>\n",
       "      <td>173.071145</td>\n",
       "    </tr>\n",
       "    <tr>\n",
       "      <th>11</th>\n",
       "      <td>instagram_new_adverts</td>\n",
       "      <td>2020-05-07</td>\n",
       "      <td>109.915254</td>\n",
       "    </tr>\n",
       "    <tr>\n",
       "      <th>12</th>\n",
       "      <td>instagram_new_adverts</td>\n",
       "      <td>2020-05-08</td>\n",
       "      <td>71.578739</td>\n",
       "    </tr>\n",
       "    <tr>\n",
       "      <th>13</th>\n",
       "      <td>instagram_new_adverts</td>\n",
       "      <td>2020-05-09</td>\n",
       "      <td>46.775400</td>\n",
       "    </tr>\n",
       "    <tr>\n",
       "      <th>14</th>\n",
       "      <td>yandex_direct</td>\n",
       "      <td>2020-05-03</td>\n",
       "      <td>969.139394</td>\n",
       "    </tr>\n",
       "    <tr>\n",
       "      <th>15</th>\n",
       "      <td>yandex_direct</td>\n",
       "      <td>2020-05-04</td>\n",
       "      <td>554.651494</td>\n",
       "    </tr>\n",
       "    <tr>\n",
       "      <th>16</th>\n",
       "      <td>yandex_direct</td>\n",
       "      <td>2020-05-05</td>\n",
       "      <td>308.232990</td>\n",
       "    </tr>\n",
       "    <tr>\n",
       "      <th>17</th>\n",
       "      <td>yandex_direct</td>\n",
       "      <td>2020-05-06</td>\n",
       "      <td>180.917099</td>\n",
       "    </tr>\n",
       "    <tr>\n",
       "      <th>18</th>\n",
       "      <td>yandex_direct</td>\n",
       "      <td>2020-05-07</td>\n",
       "      <td>114.429338</td>\n",
       "    </tr>\n",
       "    <tr>\n",
       "      <th>19</th>\n",
       "      <td>yandex_direct</td>\n",
       "      <td>2020-05-08</td>\n",
       "      <td>62.961630</td>\n",
       "    </tr>\n",
       "    <tr>\n",
       "      <th>20</th>\n",
       "      <td>yandex_direct</td>\n",
       "      <td>2020-05-09</td>\n",
       "      <td>42.779505</td>\n",
       "    </tr>\n",
       "    <tr>\n",
       "      <th>21</th>\n",
       "      <td>youtube_channel_reklama</td>\n",
       "      <td>2020-05-03</td>\n",
       "      <td>454.224943</td>\n",
       "    </tr>\n",
       "    <tr>\n",
       "      <th>22</th>\n",
       "      <td>youtube_channel_reklama</td>\n",
       "      <td>2020-05-04</td>\n",
       "      <td>259.073224</td>\n",
       "    </tr>\n",
       "    <tr>\n",
       "      <th>23</th>\n",
       "      <td>youtube_channel_reklama</td>\n",
       "      <td>2020-05-05</td>\n",
       "      <td>147.041741</td>\n",
       "    </tr>\n",
       "    <tr>\n",
       "      <th>24</th>\n",
       "      <td>youtube_channel_reklama</td>\n",
       "      <td>2020-05-06</td>\n",
       "      <td>88.506074</td>\n",
       "    </tr>\n",
       "    <tr>\n",
       "      <th>25</th>\n",
       "      <td>youtube_channel_reklama</td>\n",
       "      <td>2020-05-07</td>\n",
       "      <td>55.740645</td>\n",
       "    </tr>\n",
       "    <tr>\n",
       "      <th>26</th>\n",
       "      <td>youtube_channel_reklama</td>\n",
       "      <td>2020-05-08</td>\n",
       "      <td>40.217907</td>\n",
       "    </tr>\n",
       "    <tr>\n",
       "      <th>27</th>\n",
       "      <td>youtube_channel_reklama</td>\n",
       "      <td>2020-05-09</td>\n",
       "      <td>23.314669</td>\n",
       "    </tr>\n",
       "  </tbody>\n",
       "</table>\n",
       "</div>"
      ],
      "text/plain": [
       "                     source         day        cost\n",
       "0              facebook_ads  2020-05-03  935.882786\n",
       "1              facebook_ads  2020-05-04  548.354480\n",
       "2              facebook_ads  2020-05-05  260.185754\n",
       "3              facebook_ads  2020-05-06  177.982200\n",
       "4              facebook_ads  2020-05-07  111.766796\n",
       "5              facebook_ads  2020-05-08   68.009276\n",
       "6              facebook_ads  2020-05-09   38.723350\n",
       "7     instagram_new_adverts  2020-05-03  943.204717\n",
       "8     instagram_new_adverts  2020-05-04  502.925451\n",
       "9     instagram_new_adverts  2020-05-05  313.970984\n",
       "10    instagram_new_adverts  2020-05-06  173.071145\n",
       "11    instagram_new_adverts  2020-05-07  109.915254\n",
       "12    instagram_new_adverts  2020-05-08   71.578739\n",
       "13    instagram_new_adverts  2020-05-09   46.775400\n",
       "14            yandex_direct  2020-05-03  969.139394\n",
       "15            yandex_direct  2020-05-04  554.651494\n",
       "16            yandex_direct  2020-05-05  308.232990\n",
       "17            yandex_direct  2020-05-06  180.917099\n",
       "18            yandex_direct  2020-05-07  114.429338\n",
       "19            yandex_direct  2020-05-08   62.961630\n",
       "20            yandex_direct  2020-05-09   42.779505\n",
       "21  youtube_channel_reklama  2020-05-03  454.224943\n",
       "22  youtube_channel_reklama  2020-05-04  259.073224\n",
       "23  youtube_channel_reklama  2020-05-05  147.041741\n",
       "24  youtube_channel_reklama  2020-05-06   88.506074\n",
       "25  youtube_channel_reklama  2020-05-07   55.740645\n",
       "26  youtube_channel_reklama  2020-05-08   40.217907\n",
       "27  youtube_channel_reklama  2020-05-09   23.314669"
      ]
     },
     "execution_count": 7,
     "metadata": {},
     "output_type": "execute_result"
    }
   ],
   "source": [
    "ad_costs = pd.read_csv('/datasets/ad_costs.csv')\n",
    "ad_costs.head(30)"
   ]
  },
  {
   "cell_type": "code",
   "execution_count": 8,
   "metadata": {},
   "outputs": [
    {
     "name": "stdout",
     "output_type": "stream",
     "text": [
      "<class 'pandas.core.frame.DataFrame'>\n",
      "RangeIndex: 28 entries, 0 to 27\n",
      "Data columns (total 3 columns):\n",
      " #   Column  Non-Null Count  Dtype  \n",
      "---  ------  --------------  -----  \n",
      " 0   source  28 non-null     object \n",
      " 1   day     28 non-null     object \n",
      " 2   cost    28 non-null     float64\n",
      "dtypes: float64(1), object(2)\n",
      "memory usage: 800.0+ bytes\n"
     ]
    }
   ],
   "source": [
    "ad_costs.info()"
   ]
  },
  {
   "cell_type": "code",
   "execution_count": 9,
   "metadata": {},
   "outputs": [
    {
     "data": {
      "text/html": [
       "<div>\n",
       "<style scoped>\n",
       "    .dataframe tbody tr th:only-of-type {\n",
       "        vertical-align: middle;\n",
       "    }\n",
       "\n",
       "    .dataframe tbody tr th {\n",
       "        vertical-align: top;\n",
       "    }\n",
       "\n",
       "    .dataframe thead th {\n",
       "        text-align: right;\n",
       "    }\n",
       "</style>\n",
       "<table border=\"1\" class=\"dataframe\">\n",
       "  <thead>\n",
       "    <tr style=\"text-align: right;\">\n",
       "      <th></th>\n",
       "      <th>user_id</th>\n",
       "      <th>source</th>\n",
       "    </tr>\n",
       "  </thead>\n",
       "  <tbody>\n",
       "    <tr>\n",
       "      <th>0</th>\n",
       "      <td>0001f83c-c6ac-4621-b7f0-8a28b283ac30</td>\n",
       "      <td>facebook_ads</td>\n",
       "    </tr>\n",
       "    <tr>\n",
       "      <th>1</th>\n",
       "      <td>00151b4f-ba38-44a8-a650-d7cf130a0105</td>\n",
       "      <td>yandex_direct</td>\n",
       "    </tr>\n",
       "    <tr>\n",
       "      <th>2</th>\n",
       "      <td>001aaea6-3d14-43f1-8ca8-7f48820f17aa</td>\n",
       "      <td>youtube_channel_reklama</td>\n",
       "    </tr>\n",
       "    <tr>\n",
       "      <th>3</th>\n",
       "      <td>001d39dc-366c-4021-9604-6a3b9ff01e25</td>\n",
       "      <td>instagram_new_adverts</td>\n",
       "    </tr>\n",
       "    <tr>\n",
       "      <th>4</th>\n",
       "      <td>002f508f-67b6-479f-814b-b05f00d4e995</td>\n",
       "      <td>facebook_ads</td>\n",
       "    </tr>\n",
       "  </tbody>\n",
       "</table>\n",
       "</div>"
      ],
      "text/plain": [
       "                                user_id                   source\n",
       "0  0001f83c-c6ac-4621-b7f0-8a28b283ac30             facebook_ads\n",
       "1  00151b4f-ba38-44a8-a650-d7cf130a0105            yandex_direct\n",
       "2  001aaea6-3d14-43f1-8ca8-7f48820f17aa  youtube_channel_reklama\n",
       "3  001d39dc-366c-4021-9604-6a3b9ff01e25    instagram_new_adverts\n",
       "4  002f508f-67b6-479f-814b-b05f00d4e995             facebook_ads"
      ]
     },
     "execution_count": 9,
     "metadata": {},
     "output_type": "execute_result"
    }
   ],
   "source": [
    "user_source = pd.read_csv('/datasets/user_source.csv')\n",
    "user_source.head()"
   ]
  },
  {
   "cell_type": "code",
   "execution_count": 10,
   "metadata": {},
   "outputs": [
    {
     "name": "stdout",
     "output_type": "stream",
     "text": [
      "<class 'pandas.core.frame.DataFrame'>\n",
      "RangeIndex: 13576 entries, 0 to 13575\n",
      "Data columns (total 2 columns):\n",
      " #   Column   Non-Null Count  Dtype \n",
      "---  ------   --------------  ----- \n",
      " 0   user_id  13576 non-null  object\n",
      " 1   source   13576 non-null  object\n",
      "dtypes: object(2)\n",
      "memory usage: 212.2+ KB\n"
     ]
    }
   ],
   "source": [
    "user_source.info()"
   ]
  },
  {
   "cell_type": "code",
   "execution_count": 11,
   "metadata": {},
   "outputs": [
    {
     "name": "stdout",
     "output_type": "stream",
     "text": [
      "Количество дубликатов в user_source: 0\n"
     ]
    }
   ],
   "source": [
    "print('Количество дубликатов в user_source:', user_source.duplicated().sum())"
   ]
  },
  {
   "cell_type": "markdown",
   "metadata": {},
   "source": [
    "Загрузив и просмотрев данные видим, что имеются пропуски в таблице game_actions, но они подразумеваются структурой данных, в остальных случаях пропуски отсутствуют, имеется один дубликат, необходимо в некоторых полях заменить тип данных на datetime"
   ]
  },
  {
   "cell_type": "markdown",
   "metadata": {},
   "source": [
    "## Предобработка данных."
   ]
  },
  {
   "cell_type": "markdown",
   "metadata": {},
   "source": [
    "### Удаление дубликатов"
   ]
  },
  {
   "cell_type": "code",
   "execution_count": 12,
   "metadata": {},
   "outputs": [
    {
     "name": "stdout",
     "output_type": "stream",
     "text": [
      "Количество дубликатов в game_actions: 0\n"
     ]
    }
   ],
   "source": [
    "game_actions = game_actions.drop_duplicates()\n",
    "print('Количество дубликатов в game_actions:', game_actions.duplicated().sum())"
   ]
  },
  {
   "cell_type": "markdown",
   "metadata": {},
   "source": [
    "### Изменение типа данных"
   ]
  },
  {
   "cell_type": "code",
   "execution_count": 13,
   "metadata": {},
   "outputs": [
    {
     "name": "stdout",
     "output_type": "stream",
     "text": [
      "<class 'pandas.core.frame.DataFrame'>\n",
      "Int64Index: 135639 entries, 0 to 135639\n",
      "Data columns (total 5 columns):\n",
      " #   Column          Non-Null Count   Dtype         \n",
      "---  ------          --------------   -----         \n",
      " 0   event_datetime  135639 non-null  datetime64[ns]\n",
      " 1   event           135639 non-null  object        \n",
      " 2   building_type   127956 non-null  object        \n",
      " 3   user_id         135639 non-null  object        \n",
      " 4   project_type    1866 non-null    object        \n",
      "dtypes: datetime64[ns](1), object(4)\n",
      "memory usage: 6.2+ MB\n"
     ]
    }
   ],
   "source": [
    "game_actions['event_datetime'] = pd.to_datetime(game_actions['event_datetime'])\n",
    "game_actions.info()"
   ]
  },
  {
   "cell_type": "code",
   "execution_count": 14,
   "metadata": {},
   "outputs": [
    {
     "name": "stdout",
     "output_type": "stream",
     "text": [
      "<class 'pandas.core.frame.DataFrame'>\n",
      "RangeIndex: 28 entries, 0 to 27\n",
      "Data columns (total 3 columns):\n",
      " #   Column  Non-Null Count  Dtype         \n",
      "---  ------  --------------  -----         \n",
      " 0   source  28 non-null     object        \n",
      " 1   day     28 non-null     datetime64[ns]\n",
      " 2   cost    28 non-null     float64       \n",
      "dtypes: datetime64[ns](1), float64(1), object(1)\n",
      "memory usage: 800.0+ bytes\n"
     ]
    }
   ],
   "source": [
    "ad_costs['day'] = pd.to_datetime(ad_costs['day'])\n",
    "ad_costs.info()"
   ]
  },
  {
   "cell_type": "markdown",
   "metadata": {},
   "source": [
    "### Добавление столбца 'event_date'"
   ]
  },
  {
   "cell_type": "code",
   "execution_count": 15,
   "metadata": {},
   "outputs": [],
   "source": [
    "game_actions['event_date'] = game_actions['event_datetime'].dt.date"
   ]
  },
  {
   "cell_type": "markdown",
   "metadata": {},
   "source": [
    "### Объединение таблиц game_actions и user_source"
   ]
  },
  {
   "cell_type": "code",
   "execution_count": 16,
   "metadata": {},
   "outputs": [
    {
     "data": {
      "text/html": [
       "<div>\n",
       "<style scoped>\n",
       "    .dataframe tbody tr th:only-of-type {\n",
       "        vertical-align: middle;\n",
       "    }\n",
       "\n",
       "    .dataframe tbody tr th {\n",
       "        vertical-align: top;\n",
       "    }\n",
       "\n",
       "    .dataframe thead th {\n",
       "        text-align: right;\n",
       "    }\n",
       "</style>\n",
       "<table border=\"1\" class=\"dataframe\">\n",
       "  <thead>\n",
       "    <tr style=\"text-align: right;\">\n",
       "      <th></th>\n",
       "      <th>event_datetime</th>\n",
       "      <th>event</th>\n",
       "      <th>building_type</th>\n",
       "      <th>user_id</th>\n",
       "      <th>project_type</th>\n",
       "      <th>event_date</th>\n",
       "      <th>source</th>\n",
       "    </tr>\n",
       "  </thead>\n",
       "  <tbody>\n",
       "    <tr>\n",
       "      <th>0</th>\n",
       "      <td>2020-05-04 00:00:01</td>\n",
       "      <td>building</td>\n",
       "      <td>assembly_shop</td>\n",
       "      <td>55e92310-cb8e-4754-b622-597e124b03de</td>\n",
       "      <td>NaN</td>\n",
       "      <td>2020-05-04</td>\n",
       "      <td>youtube_channel_reklama</td>\n",
       "    </tr>\n",
       "    <tr>\n",
       "      <th>1</th>\n",
       "      <td>2020-05-04 00:00:03</td>\n",
       "      <td>building</td>\n",
       "      <td>assembly_shop</td>\n",
       "      <td>c07b1c10-f477-44dc-81dc-ec82254b1347</td>\n",
       "      <td>NaN</td>\n",
       "      <td>2020-05-04</td>\n",
       "      <td>facebook_ads</td>\n",
       "    </tr>\n",
       "    <tr>\n",
       "      <th>2</th>\n",
       "      <td>2020-05-04 00:00:16</td>\n",
       "      <td>building</td>\n",
       "      <td>assembly_shop</td>\n",
       "      <td>6edd42cc-e753-4ff6-a947-2107cd560710</td>\n",
       "      <td>NaN</td>\n",
       "      <td>2020-05-04</td>\n",
       "      <td>instagram_new_adverts</td>\n",
       "    </tr>\n",
       "    <tr>\n",
       "      <th>3</th>\n",
       "      <td>2020-05-04 00:00:16</td>\n",
       "      <td>building</td>\n",
       "      <td>assembly_shop</td>\n",
       "      <td>92c69003-d60a-444a-827f-8cc51bf6bf4c</td>\n",
       "      <td>NaN</td>\n",
       "      <td>2020-05-04</td>\n",
       "      <td>facebook_ads</td>\n",
       "    </tr>\n",
       "    <tr>\n",
       "      <th>4</th>\n",
       "      <td>2020-05-04 00:00:35</td>\n",
       "      <td>building</td>\n",
       "      <td>assembly_shop</td>\n",
       "      <td>cdc6bb92-0ccb-4490-9866-ef142f09139d</td>\n",
       "      <td>NaN</td>\n",
       "      <td>2020-05-04</td>\n",
       "      <td>yandex_direct</td>\n",
       "    </tr>\n",
       "  </tbody>\n",
       "</table>\n",
       "</div>"
      ],
      "text/plain": [
       "       event_datetime     event  building_type  \\\n",
       "0 2020-05-04 00:00:01  building  assembly_shop   \n",
       "1 2020-05-04 00:00:03  building  assembly_shop   \n",
       "2 2020-05-04 00:00:16  building  assembly_shop   \n",
       "3 2020-05-04 00:00:16  building  assembly_shop   \n",
       "4 2020-05-04 00:00:35  building  assembly_shop   \n",
       "\n",
       "                                user_id project_type  event_date  \\\n",
       "0  55e92310-cb8e-4754-b622-597e124b03de          NaN  2020-05-04   \n",
       "1  c07b1c10-f477-44dc-81dc-ec82254b1347          NaN  2020-05-04   \n",
       "2  6edd42cc-e753-4ff6-a947-2107cd560710          NaN  2020-05-04   \n",
       "3  92c69003-d60a-444a-827f-8cc51bf6bf4c          NaN  2020-05-04   \n",
       "4  cdc6bb92-0ccb-4490-9866-ef142f09139d          NaN  2020-05-04   \n",
       "\n",
       "                    source  \n",
       "0  youtube_channel_reklama  \n",
       "1             facebook_ads  \n",
       "2    instagram_new_adverts  \n",
       "3             facebook_ads  \n",
       "4            yandex_direct  "
      ]
     },
     "execution_count": 16,
     "metadata": {},
     "output_type": "execute_result"
    }
   ],
   "source": [
    "game_actions = game_actions.merge(user_source, on = 'user_id', how = 'left' )\n",
    "game_actions.head()"
   ]
  },
  {
   "cell_type": "markdown",
   "metadata": {},
   "source": [
    "### Добавление столбца времени затраченного на проходение - 'passage_time'."
   ]
  },
  {
   "cell_type": "code",
   "execution_count": 17,
   "metadata": {},
   "outputs": [
    {
     "data": {
      "text/html": [
       "<div>\n",
       "<style scoped>\n",
       "    .dataframe tbody tr th:only-of-type {\n",
       "        vertical-align: middle;\n",
       "    }\n",
       "\n",
       "    .dataframe tbody tr th {\n",
       "        vertical-align: top;\n",
       "    }\n",
       "\n",
       "    .dataframe thead th {\n",
       "        text-align: right;\n",
       "    }\n",
       "</style>\n",
       "<table border=\"1\" class=\"dataframe\">\n",
       "  <thead>\n",
       "    <tr style=\"text-align: right;\">\n",
       "      <th></th>\n",
       "      <th>event_datetime</th>\n",
       "      <th>event</th>\n",
       "      <th>building_type</th>\n",
       "      <th>user_id</th>\n",
       "      <th>project_type</th>\n",
       "      <th>event_date</th>\n",
       "      <th>source</th>\n",
       "      <th>passage_time</th>\n",
       "    </tr>\n",
       "  </thead>\n",
       "  <tbody>\n",
       "    <tr>\n",
       "      <th>0</th>\n",
       "      <td>2020-05-04 00:00:01</td>\n",
       "      <td>building</td>\n",
       "      <td>assembly_shop</td>\n",
       "      <td>55e92310-cb8e-4754-b622-597e124b03de</td>\n",
       "      <td>NaN</td>\n",
       "      <td>2020-05-04</td>\n",
       "      <td>youtube_channel_reklama</td>\n",
       "      <td>NaT</td>\n",
       "    </tr>\n",
       "    <tr>\n",
       "      <th>1</th>\n",
       "      <td>2020-05-04 00:00:03</td>\n",
       "      <td>building</td>\n",
       "      <td>assembly_shop</td>\n",
       "      <td>c07b1c10-f477-44dc-81dc-ec82254b1347</td>\n",
       "      <td>NaN</td>\n",
       "      <td>2020-05-04</td>\n",
       "      <td>facebook_ads</td>\n",
       "      <td>NaT</td>\n",
       "    </tr>\n",
       "    <tr>\n",
       "      <th>2</th>\n",
       "      <td>2020-05-04 00:00:16</td>\n",
       "      <td>building</td>\n",
       "      <td>assembly_shop</td>\n",
       "      <td>6edd42cc-e753-4ff6-a947-2107cd560710</td>\n",
       "      <td>NaN</td>\n",
       "      <td>2020-05-04</td>\n",
       "      <td>instagram_new_adverts</td>\n",
       "      <td>NaT</td>\n",
       "    </tr>\n",
       "    <tr>\n",
       "      <th>3</th>\n",
       "      <td>2020-05-04 00:00:16</td>\n",
       "      <td>building</td>\n",
       "      <td>assembly_shop</td>\n",
       "      <td>92c69003-d60a-444a-827f-8cc51bf6bf4c</td>\n",
       "      <td>NaN</td>\n",
       "      <td>2020-05-04</td>\n",
       "      <td>facebook_ads</td>\n",
       "      <td>NaT</td>\n",
       "    </tr>\n",
       "    <tr>\n",
       "      <th>4</th>\n",
       "      <td>2020-05-04 00:00:35</td>\n",
       "      <td>building</td>\n",
       "      <td>assembly_shop</td>\n",
       "      <td>cdc6bb92-0ccb-4490-9866-ef142f09139d</td>\n",
       "      <td>NaN</td>\n",
       "      <td>2020-05-04</td>\n",
       "      <td>yandex_direct</td>\n",
       "      <td>NaT</td>\n",
       "    </tr>\n",
       "  </tbody>\n",
       "</table>\n",
       "</div>"
      ],
      "text/plain": [
       "       event_datetime     event  building_type  \\\n",
       "0 2020-05-04 00:00:01  building  assembly_shop   \n",
       "1 2020-05-04 00:00:03  building  assembly_shop   \n",
       "2 2020-05-04 00:00:16  building  assembly_shop   \n",
       "3 2020-05-04 00:00:16  building  assembly_shop   \n",
       "4 2020-05-04 00:00:35  building  assembly_shop   \n",
       "\n",
       "                                user_id project_type  event_date  \\\n",
       "0  55e92310-cb8e-4754-b622-597e124b03de          NaN  2020-05-04   \n",
       "1  c07b1c10-f477-44dc-81dc-ec82254b1347          NaN  2020-05-04   \n",
       "2  6edd42cc-e753-4ff6-a947-2107cd560710          NaN  2020-05-04   \n",
       "3  92c69003-d60a-444a-827f-8cc51bf6bf4c          NaN  2020-05-04   \n",
       "4  cdc6bb92-0ccb-4490-9866-ef142f09139d          NaN  2020-05-04   \n",
       "\n",
       "                    source passage_time  \n",
       "0  youtube_channel_reklama          NaT  \n",
       "1             facebook_ads          NaT  \n",
       "2    instagram_new_adverts          NaT  \n",
       "3             facebook_ads          NaT  \n",
       "4            yandex_direct          NaT  "
      ]
     },
     "execution_count": 17,
     "metadata": {},
     "output_type": "execute_result"
    }
   ],
   "source": [
    "lv1_finished = game_actions.query('event == \"finished_stage_1\"')\n",
    "for i in lv1_finished['user_id'].unique():\n",
    "    game_actions.loc[game_actions['user_id'] == i, 'passage_time' ] = game_actions.query('(user_id == @i) and (event == \"finished_stage_1\")')['event_datetime'] - game_actions.query('user_id == @i')['event_datetime'].min()\n",
    "game_actions.head()"
   ]
  },
  {
   "cell_type": "code",
   "execution_count": 18,
   "metadata": {},
   "outputs": [
    {
     "data": {
      "text/html": [
       "<div>\n",
       "<style scoped>\n",
       "    .dataframe tbody tr th:only-of-type {\n",
       "        vertical-align: middle;\n",
       "    }\n",
       "\n",
       "    .dataframe tbody tr th {\n",
       "        vertical-align: top;\n",
       "    }\n",
       "\n",
       "    .dataframe thead th {\n",
       "        text-align: right;\n",
       "    }\n",
       "</style>\n",
       "<table border=\"1\" class=\"dataframe\">\n",
       "  <thead>\n",
       "    <tr style=\"text-align: right;\">\n",
       "      <th></th>\n",
       "      <th>event_datetime</th>\n",
       "      <th>event</th>\n",
       "      <th>building_type</th>\n",
       "      <th>user_id</th>\n",
       "      <th>project_type</th>\n",
       "      <th>event_date</th>\n",
       "      <th>source</th>\n",
       "      <th>passage_time</th>\n",
       "    </tr>\n",
       "  </thead>\n",
       "  <tbody>\n",
       "    <tr>\n",
       "      <th>6659</th>\n",
       "      <td>2020-05-04 19:47:29</td>\n",
       "      <td>finished_stage_1</td>\n",
       "      <td>NaN</td>\n",
       "      <td>ced7b368-818f-48f6-9461-2346de0892c5</td>\n",
       "      <td>NaN</td>\n",
       "      <td>2020-05-04</td>\n",
       "      <td>instagram_new_adverts</td>\n",
       "      <td>0 days 19:34:08</td>\n",
       "    </tr>\n",
       "    <tr>\n",
       "      <th>13134</th>\n",
       "      <td>2020-05-05 13:22:09</td>\n",
       "      <td>finished_stage_1</td>\n",
       "      <td>NaN</td>\n",
       "      <td>7ef7fc89-2779-46ea-b328-9e5035b83af5</td>\n",
       "      <td>NaN</td>\n",
       "      <td>2020-05-05</td>\n",
       "      <td>facebook_ads</td>\n",
       "      <td>1 days 12:59:21</td>\n",
       "    </tr>\n",
       "    <tr>\n",
       "      <th>15274</th>\n",
       "      <td>2020-05-05 18:54:37</td>\n",
       "      <td>finished_stage_1</td>\n",
       "      <td>NaN</td>\n",
       "      <td>70db22b3-c2f4-43bc-94ea-51c8d2904a29</td>\n",
       "      <td>NaN</td>\n",
       "      <td>2020-05-05</td>\n",
       "      <td>youtube_channel_reklama</td>\n",
       "      <td>1 days 05:12:42</td>\n",
       "    </tr>\n",
       "    <tr>\n",
       "      <th>16284</th>\n",
       "      <td>2020-05-05 21:27:29</td>\n",
       "      <td>finished_stage_1</td>\n",
       "      <td>NaN</td>\n",
       "      <td>903fc9ef-ba97-4b12-9d5c-ac8d602fbd8b</td>\n",
       "      <td>NaN</td>\n",
       "      <td>2020-05-05</td>\n",
       "      <td>youtube_channel_reklama</td>\n",
       "      <td>1 days 20:30:27</td>\n",
       "    </tr>\n",
       "    <tr>\n",
       "      <th>19650</th>\n",
       "      <td>2020-05-06 06:02:22</td>\n",
       "      <td>finished_stage_1</td>\n",
       "      <td>NaN</td>\n",
       "      <td>58e077ba-feb1-4556-a5a0-d96bd04efa39</td>\n",
       "      <td>NaN</td>\n",
       "      <td>2020-05-06</td>\n",
       "      <td>facebook_ads</td>\n",
       "      <td>1 days 10:38:42</td>\n",
       "    </tr>\n",
       "  </tbody>\n",
       "</table>\n",
       "</div>"
      ],
      "text/plain": [
       "           event_datetime             event building_type  \\\n",
       "6659  2020-05-04 19:47:29  finished_stage_1           NaN   \n",
       "13134 2020-05-05 13:22:09  finished_stage_1           NaN   \n",
       "15274 2020-05-05 18:54:37  finished_stage_1           NaN   \n",
       "16284 2020-05-05 21:27:29  finished_stage_1           NaN   \n",
       "19650 2020-05-06 06:02:22  finished_stage_1           NaN   \n",
       "\n",
       "                                    user_id project_type  event_date  \\\n",
       "6659   ced7b368-818f-48f6-9461-2346de0892c5          NaN  2020-05-04   \n",
       "13134  7ef7fc89-2779-46ea-b328-9e5035b83af5          NaN  2020-05-05   \n",
       "15274  70db22b3-c2f4-43bc-94ea-51c8d2904a29          NaN  2020-05-05   \n",
       "16284  903fc9ef-ba97-4b12-9d5c-ac8d602fbd8b          NaN  2020-05-05   \n",
       "19650  58e077ba-feb1-4556-a5a0-d96bd04efa39          NaN  2020-05-06   \n",
       "\n",
       "                        source    passage_time  \n",
       "6659     instagram_new_adverts 0 days 19:34:08  \n",
       "13134             facebook_ads 1 days 12:59:21  \n",
       "15274  youtube_channel_reklama 1 days 05:12:42  \n",
       "16284  youtube_channel_reklama 1 days 20:30:27  \n",
       "19650             facebook_ads 1 days 10:38:42  "
      ]
     },
     "execution_count": 18,
     "metadata": {},
     "output_type": "execute_result"
    }
   ],
   "source": [
    "game_actions[game_actions['passage_time'].isna() == False].head()"
   ]
  },
  {
   "cell_type": "markdown",
   "metadata": {},
   "source": [
    "Для проверки гипотезы о существовании различий во времени прохождения уровня между пользователями завершившими проект и одержавшими победу над противником, необходимо перевести время затраченное на прохождения уровня в секунды."
   ]
  },
  {
   "cell_type": "code",
   "execution_count": 19,
   "metadata": {},
   "outputs": [],
   "source": [
    "# Переводим время затраченное на прохождения уровня в секунды\n",
    "for i in game_actions[game_actions['passage_time'].isna() == False].index:\n",
    "    game_actions.loc[i, 'passage_time'] = game_actions.loc[i, 'passage_time'].total_seconds() \n",
    "    \n",
    "\n",
    "   "
   ]
  },
  {
   "cell_type": "code",
   "execution_count": 20,
   "metadata": {
    "scrolled": true
   },
   "outputs": [
    {
     "data": {
      "text/html": [
       "<div>\n",
       "<style scoped>\n",
       "    .dataframe tbody tr th:only-of-type {\n",
       "        vertical-align: middle;\n",
       "    }\n",
       "\n",
       "    .dataframe tbody tr th {\n",
       "        vertical-align: top;\n",
       "    }\n",
       "\n",
       "    .dataframe thead th {\n",
       "        text-align: right;\n",
       "    }\n",
       "</style>\n",
       "<table border=\"1\" class=\"dataframe\">\n",
       "  <thead>\n",
       "    <tr style=\"text-align: right;\">\n",
       "      <th></th>\n",
       "      <th>event_datetime</th>\n",
       "      <th>event</th>\n",
       "      <th>building_type</th>\n",
       "      <th>user_id</th>\n",
       "      <th>project_type</th>\n",
       "      <th>event_date</th>\n",
       "      <th>source</th>\n",
       "      <th>passage_time</th>\n",
       "    </tr>\n",
       "  </thead>\n",
       "  <tbody>\n",
       "    <tr>\n",
       "      <th>6659</th>\n",
       "      <td>2020-05-04 19:47:29</td>\n",
       "      <td>finished_stage_1</td>\n",
       "      <td>NaN</td>\n",
       "      <td>ced7b368-818f-48f6-9461-2346de0892c5</td>\n",
       "      <td>NaN</td>\n",
       "      <td>2020-05-04</td>\n",
       "      <td>instagram_new_adverts</td>\n",
       "      <td>70448.0</td>\n",
       "    </tr>\n",
       "    <tr>\n",
       "      <th>13134</th>\n",
       "      <td>2020-05-05 13:22:09</td>\n",
       "      <td>finished_stage_1</td>\n",
       "      <td>NaN</td>\n",
       "      <td>7ef7fc89-2779-46ea-b328-9e5035b83af5</td>\n",
       "      <td>NaN</td>\n",
       "      <td>2020-05-05</td>\n",
       "      <td>facebook_ads</td>\n",
       "      <td>133161.0</td>\n",
       "    </tr>\n",
       "    <tr>\n",
       "      <th>15274</th>\n",
       "      <td>2020-05-05 18:54:37</td>\n",
       "      <td>finished_stage_1</td>\n",
       "      <td>NaN</td>\n",
       "      <td>70db22b3-c2f4-43bc-94ea-51c8d2904a29</td>\n",
       "      <td>NaN</td>\n",
       "      <td>2020-05-05</td>\n",
       "      <td>youtube_channel_reklama</td>\n",
       "      <td>105162.0</td>\n",
       "    </tr>\n",
       "    <tr>\n",
       "      <th>16284</th>\n",
       "      <td>2020-05-05 21:27:29</td>\n",
       "      <td>finished_stage_1</td>\n",
       "      <td>NaN</td>\n",
       "      <td>903fc9ef-ba97-4b12-9d5c-ac8d602fbd8b</td>\n",
       "      <td>NaN</td>\n",
       "      <td>2020-05-05</td>\n",
       "      <td>youtube_channel_reklama</td>\n",
       "      <td>160227.0</td>\n",
       "    </tr>\n",
       "    <tr>\n",
       "      <th>19650</th>\n",
       "      <td>2020-05-06 06:02:22</td>\n",
       "      <td>finished_stage_1</td>\n",
       "      <td>NaN</td>\n",
       "      <td>58e077ba-feb1-4556-a5a0-d96bd04efa39</td>\n",
       "      <td>NaN</td>\n",
       "      <td>2020-05-06</td>\n",
       "      <td>facebook_ads</td>\n",
       "      <td>124722.0</td>\n",
       "    </tr>\n",
       "  </tbody>\n",
       "</table>\n",
       "</div>"
      ],
      "text/plain": [
       "           event_datetime             event building_type  \\\n",
       "6659  2020-05-04 19:47:29  finished_stage_1           NaN   \n",
       "13134 2020-05-05 13:22:09  finished_stage_1           NaN   \n",
       "15274 2020-05-05 18:54:37  finished_stage_1           NaN   \n",
       "16284 2020-05-05 21:27:29  finished_stage_1           NaN   \n",
       "19650 2020-05-06 06:02:22  finished_stage_1           NaN   \n",
       "\n",
       "                                    user_id project_type  event_date  \\\n",
       "6659   ced7b368-818f-48f6-9461-2346de0892c5          NaN  2020-05-04   \n",
       "13134  7ef7fc89-2779-46ea-b328-9e5035b83af5          NaN  2020-05-05   \n",
       "15274  70db22b3-c2f4-43bc-94ea-51c8d2904a29          NaN  2020-05-05   \n",
       "16284  903fc9ef-ba97-4b12-9d5c-ac8d602fbd8b          NaN  2020-05-05   \n",
       "19650  58e077ba-feb1-4556-a5a0-d96bd04efa39          NaN  2020-05-06   \n",
       "\n",
       "                        source passage_time  \n",
       "6659     instagram_new_adverts      70448.0  \n",
       "13134             facebook_ads     133161.0  \n",
       "15274  youtube_channel_reklama     105162.0  \n",
       "16284  youtube_channel_reklama     160227.0  \n",
       "19650             facebook_ads     124722.0  "
      ]
     },
     "execution_count": 20,
     "metadata": {},
     "output_type": "execute_result"
    }
   ],
   "source": [
    "game_actions[game_actions['passage_time'].isna() == False].head()"
   ]
  },
  {
   "cell_type": "markdown",
   "metadata": {},
   "source": [
    "## Исследовательский анализ данных."
   ]
  },
  {
   "cell_type": "markdown",
   "metadata": {},
   "source": [
    "### Сегментация игроков по типу прохождения."
   ]
  },
  {
   "cell_type": "markdown",
   "metadata": {},
   "source": [
    "Делим игроков на: 1. Завершившие уровень, реализовав проект 2. Завершившие уровень, одержав победу 3. Игроки не закончившие 1 уровень"
   ]
  },
  {
   "cell_type": "code",
   "execution_count": 21,
   "metadata": {},
   "outputs": [],
   "source": [
    "# Пользователи, завершившие уровень, реализовав проект \n",
    "project_id = game_actions[game_actions['project_type'] == 'satellite_orbital_assembly']['user_id']\n",
    "project_users = game_actions.query('user_id in @project_id')"
   ]
  },
  {
   "cell_type": "code",
   "execution_count": 22,
   "metadata": {},
   "outputs": [],
   "source": [
    "#  id игроков завершившие уровень, одержав победу \n",
    "victory_id = game_actions.query('user_id not in @project_id').query('event == \"finished_stage_1\"')['user_id']\n",
    "# таблица игроков завершившие уровень, одержав победу\n",
    "victory_users = game_actions.query('user_id in @victory_id')"
   ]
  },
  {
   "cell_type": "code",
   "execution_count": 23,
   "metadata": {},
   "outputs": [],
   "source": [
    "# Игроки не закончившие 1 уровень\n",
    "users_in_game = game_actions.query('user_id not in @project_id and user_id not in @victory_id')\n",
    "\n"
   ]
  },
  {
   "cell_type": "code",
   "execution_count": 24,
   "metadata": {},
   "outputs": [
    {
     "name": "stdout",
     "output_type": "stream",
     "text": [
      "Количество уникальных игроков: 13576\n"
     ]
    }
   ],
   "source": [
    "# Количество уникальных игроков\n",
    "print('Количество уникальных игроков:', game_actions['user_id'].nunique())"
   ]
  },
  {
   "cell_type": "code",
   "execution_count": 25,
   "metadata": {},
   "outputs": [
    {
     "name": "stdout",
     "output_type": "stream",
     "text": [
      "Количество игроков, не завершивших первый уровень 7759\n"
     ]
    }
   ],
   "source": [
    "n = users_in_game['user_id'].nunique()\n",
    "print('Количество игроков, не завершивших первый уровень', n)"
   ]
  },
  {
   "cell_type": "code",
   "execution_count": 26,
   "metadata": {},
   "outputs": [
    {
     "name": "stdout",
     "output_type": "stream",
     "text": [
      "Количество игроков, завершивших первый уровень 5817\n"
     ]
    }
   ],
   "source": [
    "# Количество завершивших первый уровень\n",
    "lvl1_count = game_actions[game_actions['event'] == 'finished_stage_1' ]['user_id'].nunique()\n",
    "print('Количество игроков, завершивших первый уровень', lvl1_count)"
   ]
  },
  {
   "cell_type": "code",
   "execution_count": 27,
   "metadata": {
    "scrolled": true
   },
   "outputs": [
    {
     "name": "stdout",
     "output_type": "stream",
     "text": [
      "Количество игроков завершивших проект: 1866\n",
      "Количество игроков завершивших уровень, одержав победу : 3951\n"
     ]
    }
   ],
   "source": [
    "# Количество закончивших проект\n",
    "p = project_users['user_id'].nunique() \n",
    "print('Количество игроков завершивших проект:', p)\n",
    "\n",
    "v = victory_users['user_id'].nunique()\n",
    "print('Количество игроков завершивших уровень, одержав победу :', lvl1_count - game_actions[game_actions['project_type'] == 'satellite_orbital_assembly']['user_id'].nunique())"
   ]
  },
  {
   "cell_type": "markdown",
   "metadata": {},
   "source": [
    "Для оценки доли игроков завершивших 1й уровень различными способами и не завершивших уровень строим диаграмму. "
   ]
  },
  {
   "cell_type": "code",
   "execution_count": 28,
   "metadata": {},
   "outputs": [
    {
     "data": {
      "image/png": "[encoded data removed]",
      "text/plain": [
       "<Figure size 504x504 with 1 Axes>"
      ]
     },
     "metadata": {},
     "output_type": "display_data"
    }
   ],
   "source": [
    "all_users = pd.DataFrame(data = {'all_users': [n,p,v]}, index = ['not_finished', 'project','victory'])\n",
    "all_users.plot(kind = 'pie', y = 'all_users', title = 'Доли прошедших и непрошедших 1й уровень', figsize = (7,7),\n",
    "              autopct='%1.0f%%', pctdistance=1.1, labeldistance=1.2)\n",
    "plt.ylabel('Все игроки')\n",
    "plt.show()"
   ]
  },
  {
   "cell_type": "code",
   "execution_count": 29,
   "metadata": {},
   "outputs": [
    {
     "data": {
      "text/html": [
       "<div>\n",
       "<style scoped>\n",
       "    .dataframe tbody tr th:only-of-type {\n",
       "        vertical-align: middle;\n",
       "    }\n",
       "\n",
       "    .dataframe tbody tr th {\n",
       "        vertical-align: top;\n",
       "    }\n",
       "\n",
       "    .dataframe thead th {\n",
       "        text-align: right;\n",
       "    }\n",
       "</style>\n",
       "<table border=\"1\" class=\"dataframe\">\n",
       "  <thead>\n",
       "    <tr style=\"text-align: right;\">\n",
       "      <th>source</th>\n",
       "      <th>facebook_ads</th>\n",
       "      <th>instagram_new_adverts</th>\n",
       "      <th>yandex_direct</th>\n",
       "      <th>youtube_channel_reklama</th>\n",
       "    </tr>\n",
       "    <tr>\n",
       "      <th>day</th>\n",
       "      <th></th>\n",
       "      <th></th>\n",
       "      <th></th>\n",
       "      <th></th>\n",
       "    </tr>\n",
       "  </thead>\n",
       "  <tbody>\n",
       "    <tr>\n",
       "      <th>2020-05-03</th>\n",
       "      <td>935.882786</td>\n",
       "      <td>943.204717</td>\n",
       "      <td>969.139394</td>\n",
       "      <td>454.224943</td>\n",
       "    </tr>\n",
       "    <tr>\n",
       "      <th>2020-05-04</th>\n",
       "      <td>548.354480</td>\n",
       "      <td>502.925451</td>\n",
       "      <td>554.651494</td>\n",
       "      <td>259.073224</td>\n",
       "    </tr>\n",
       "    <tr>\n",
       "      <th>2020-05-05</th>\n",
       "      <td>260.185754</td>\n",
       "      <td>313.970984</td>\n",
       "      <td>308.232990</td>\n",
       "      <td>147.041741</td>\n",
       "    </tr>\n",
       "    <tr>\n",
       "      <th>2020-05-06</th>\n",
       "      <td>177.982200</td>\n",
       "      <td>173.071145</td>\n",
       "      <td>180.917099</td>\n",
       "      <td>88.506074</td>\n",
       "    </tr>\n",
       "    <tr>\n",
       "      <th>2020-05-07</th>\n",
       "      <td>111.766796</td>\n",
       "      <td>109.915254</td>\n",
       "      <td>114.429338</td>\n",
       "      <td>55.740645</td>\n",
       "    </tr>\n",
       "    <tr>\n",
       "      <th>2020-05-08</th>\n",
       "      <td>68.009276</td>\n",
       "      <td>71.578739</td>\n",
       "      <td>62.961630</td>\n",
       "      <td>40.217907</td>\n",
       "    </tr>\n",
       "    <tr>\n",
       "      <th>2020-05-09</th>\n",
       "      <td>38.723350</td>\n",
       "      <td>46.775400</td>\n",
       "      <td>42.779505</td>\n",
       "      <td>23.314669</td>\n",
       "    </tr>\n",
       "  </tbody>\n",
       "</table>\n",
       "</div>"
      ],
      "text/plain": [
       "source      facebook_ads  instagram_new_adverts  yandex_direct  \\\n",
       "day                                                              \n",
       "2020-05-03    935.882786             943.204717     969.139394   \n",
       "2020-05-04    548.354480             502.925451     554.651494   \n",
       "2020-05-05    260.185754             313.970984     308.232990   \n",
       "2020-05-06    177.982200             173.071145     180.917099   \n",
       "2020-05-07    111.766796             109.915254     114.429338   \n",
       "2020-05-08     68.009276              71.578739      62.961630   \n",
       "2020-05-09     38.723350              46.775400      42.779505   \n",
       "\n",
       "source      youtube_channel_reklama  \n",
       "day                                  \n",
       "2020-05-03               454.224943  \n",
       "2020-05-04               259.073224  \n",
       "2020-05-05               147.041741  \n",
       "2020-05-06                88.506074  \n",
       "2020-05-07                55.740645  \n",
       "2020-05-08                40.217907  \n",
       "2020-05-09                23.314669  "
      ]
     },
     "execution_count": 29,
     "metadata": {},
     "output_type": "execute_result"
    }
   ],
   "source": [
    "# Таблица затарат на рекламу по источникам\n",
    "ad_costs.pivot_table(index = 'day', values = 'cost', columns = 'source')#.reset_index()"
   ]
  },
  {
   "cell_type": "code",
   "execution_count": 30,
   "metadata": {},
   "outputs": [
    {
     "data": {
      "image/png": "[encoded data removed]",
      "text/plain": [
       "<Figure size 432x288 with 1 Axes>"
      ]
     },
     "metadata": {
      "needs_background": "light"
     },
     "output_type": "display_data"
    }
   ],
   "source": [
    "# Затраты на разные источники привлечения по датам\n",
    "ad_costs.pivot_table(index = 'day', values = 'cost', columns = 'source').plot()\n",
    "plt.xticks(rotation=45)\n",
    "plt.title('Стоимость рекламы из разных источников по датам')\n",
    "plt.xlabel('Дата')\n",
    "plt.ylabel('Стоимость')\n",
    "plt.show()"
   ]
  },
  {
   "cell_type": "markdown",
   "metadata": {},
   "source": [
    "Из пердставленного графика видим, что меньше всего средств потрачено на рекламу в youtube канале, затраты по остальным источникам сопоставимы."
   ]
  },
  {
   "cell_type": "code",
   "execution_count": 31,
   "metadata": {},
   "outputs": [
    {
     "name": "stdout",
     "output_type": "stream",
     "text": [
      "Минимальная дата 2020-05-04 00:00:01\n",
      "Максимальная дата 2020-06-05 12:32:49\n"
     ]
    }
   ],
   "source": [
    "print('Минимальная дата', game_actions['event_datetime'].min())\n",
    "print('Максимальная дата', game_actions['event_datetime'].max())"
   ]
  },
  {
   "cell_type": "markdown",
   "metadata": {},
   "source": [
    "### Динамика количества построек по дням"
   ]
  },
  {
   "cell_type": "markdown",
   "metadata": {},
   "source": [
    "Для понимания пользовательской активности строим таблицу и график количества построек по дням."
   ]
  },
  {
   "cell_type": "code",
   "execution_count": 32,
   "metadata": {
    "scrolled": true
   },
   "outputs": [
    {
     "data": {
      "text/html": [
       "<div>\n",
       "<style scoped>\n",
       "    .dataframe tbody tr th:only-of-type {\n",
       "        vertical-align: middle;\n",
       "    }\n",
       "\n",
       "    .dataframe tbody tr th {\n",
       "        vertical-align: top;\n",
       "    }\n",
       "\n",
       "    .dataframe thead th {\n",
       "        text-align: right;\n",
       "    }\n",
       "</style>\n",
       "<table border=\"1\" class=\"dataframe\">\n",
       "  <thead>\n",
       "    <tr style=\"text-align: right;\">\n",
       "      <th></th>\n",
       "      <th>event</th>\n",
       "    </tr>\n",
       "    <tr>\n",
       "      <th>event_date</th>\n",
       "      <th></th>\n",
       "    </tr>\n",
       "  </thead>\n",
       "  <tbody>\n",
       "    <tr>\n",
       "      <th>2020-05-04</th>\n",
       "      <td>8170</td>\n",
       "    </tr>\n",
       "    <tr>\n",
       "      <th>2020-05-05</th>\n",
       "      <td>9052</td>\n",
       "    </tr>\n",
       "    <tr>\n",
       "      <th>2020-05-06</th>\n",
       "      <td>9921</td>\n",
       "    </tr>\n",
       "    <tr>\n",
       "      <th>2020-05-07</th>\n",
       "      <td>10847</td>\n",
       "    </tr>\n",
       "    <tr>\n",
       "      <th>2020-05-08</th>\n",
       "      <td>12030</td>\n",
       "    </tr>\n",
       "    <tr>\n",
       "      <th>2020-05-09</th>\n",
       "      <td>13066</td>\n",
       "    </tr>\n",
       "    <tr>\n",
       "      <th>2020-05-10</th>\n",
       "      <td>15022</td>\n",
       "    </tr>\n",
       "    <tr>\n",
       "      <th>2020-05-11</th>\n",
       "      <td>7876</td>\n",
       "    </tr>\n",
       "    <tr>\n",
       "      <th>2020-05-12</th>\n",
       "      <td>7509</td>\n",
       "    </tr>\n",
       "    <tr>\n",
       "      <th>2020-05-13</th>\n",
       "      <td>7060</td>\n",
       "    </tr>\n",
       "    <tr>\n",
       "      <th>2020-05-14</th>\n",
       "      <td>6140</td>\n",
       "    </tr>\n",
       "    <tr>\n",
       "      <th>2020-05-15</th>\n",
       "      <td>5155</td>\n",
       "    </tr>\n",
       "    <tr>\n",
       "      <th>2020-05-16</th>\n",
       "      <td>4243</td>\n",
       "    </tr>\n",
       "    <tr>\n",
       "      <th>2020-05-17</th>\n",
       "      <td>3180</td>\n",
       "    </tr>\n",
       "    <tr>\n",
       "      <th>2020-05-18</th>\n",
       "      <td>2236</td>\n",
       "    </tr>\n",
       "    <tr>\n",
       "      <th>2020-05-19</th>\n",
       "      <td>1787</td>\n",
       "    </tr>\n",
       "    <tr>\n",
       "      <th>2020-05-20</th>\n",
       "      <td>1349</td>\n",
       "    </tr>\n",
       "    <tr>\n",
       "      <th>2020-05-21</th>\n",
       "      <td>988</td>\n",
       "    </tr>\n",
       "    <tr>\n",
       "      <th>2020-05-22</th>\n",
       "      <td>695</td>\n",
       "    </tr>\n",
       "    <tr>\n",
       "      <th>2020-05-23</th>\n",
       "      <td>509</td>\n",
       "    </tr>\n",
       "    <tr>\n",
       "      <th>2020-05-24</th>\n",
       "      <td>349</td>\n",
       "    </tr>\n",
       "    <tr>\n",
       "      <th>2020-05-25</th>\n",
       "      <td>255</td>\n",
       "    </tr>\n",
       "    <tr>\n",
       "      <th>2020-05-26</th>\n",
       "      <td>184</td>\n",
       "    </tr>\n",
       "    <tr>\n",
       "      <th>2020-05-27</th>\n",
       "      <td>120</td>\n",
       "    </tr>\n",
       "    <tr>\n",
       "      <th>2020-05-28</th>\n",
       "      <td>81</td>\n",
       "    </tr>\n",
       "    <tr>\n",
       "      <th>2020-05-29</th>\n",
       "      <td>49</td>\n",
       "    </tr>\n",
       "    <tr>\n",
       "      <th>2020-05-30</th>\n",
       "      <td>33</td>\n",
       "    </tr>\n",
       "    <tr>\n",
       "      <th>2020-05-31</th>\n",
       "      <td>19</td>\n",
       "    </tr>\n",
       "    <tr>\n",
       "      <th>2020-06-01</th>\n",
       "      <td>12</td>\n",
       "    </tr>\n",
       "    <tr>\n",
       "      <th>2020-06-02</th>\n",
       "      <td>6</td>\n",
       "    </tr>\n",
       "    <tr>\n",
       "      <th>2020-06-03</th>\n",
       "      <td>7</td>\n",
       "    </tr>\n",
       "    <tr>\n",
       "      <th>2020-06-04</th>\n",
       "      <td>4</td>\n",
       "    </tr>\n",
       "    <tr>\n",
       "      <th>2020-06-05</th>\n",
       "      <td>2</td>\n",
       "    </tr>\n",
       "  </tbody>\n",
       "</table>\n",
       "</div>"
      ],
      "text/plain": [
       "            event\n",
       "event_date       \n",
       "2020-05-04   8170\n",
       "2020-05-05   9052\n",
       "2020-05-06   9921\n",
       "2020-05-07  10847\n",
       "2020-05-08  12030\n",
       "2020-05-09  13066\n",
       "2020-05-10  15022\n",
       "2020-05-11   7876\n",
       "2020-05-12   7509\n",
       "2020-05-13   7060\n",
       "2020-05-14   6140\n",
       "2020-05-15   5155\n",
       "2020-05-16   4243\n",
       "2020-05-17   3180\n",
       "2020-05-18   2236\n",
       "2020-05-19   1787\n",
       "2020-05-20   1349\n",
       "2020-05-21    988\n",
       "2020-05-22    695\n",
       "2020-05-23    509\n",
       "2020-05-24    349\n",
       "2020-05-25    255\n",
       "2020-05-26    184\n",
       "2020-05-27    120\n",
       "2020-05-28     81\n",
       "2020-05-29     49\n",
       "2020-05-30     33\n",
       "2020-05-31     19\n",
       "2020-06-01     12\n",
       "2020-06-02      6\n",
       "2020-06-03      7\n",
       "2020-06-04      4\n",
       "2020-06-05      2"
      ]
     },
     "execution_count": 32,
     "metadata": {},
     "output_type": "execute_result"
    }
   ],
   "source": [
    "# Смотрим количество построек по дням\n",
    "game_actions[game_actions['event'] == 'building'].groupby('event_date').agg({'event':'count'})"
   ]
  },
  {
   "cell_type": "code",
   "execution_count": 33,
   "metadata": {},
   "outputs": [
    {
     "data": {
      "image/png": "[encoded data removed]",
      "text/plain": [
       "<Figure size 432x288 with 1 Axes>"
      ]
     },
     "metadata": {
      "needs_background": "light"
     },
     "output_type": "display_data"
    }
   ],
   "source": [
    "game_actions[game_actions['event'] == 'building'].groupby('event_date').agg({'event':'count'}).plot()\n",
    "plt.xlabel('Дата')\n",
    "plt.ylabel('Количество построек')\n",
    "plt.title('График количества построек по дням')\n",
    "plt.xticks(rotation = 70)\n",
    "plt.show()"
   ]
  },
  {
   "cell_type": "markdown",
   "metadata": {},
   "source": [
    "Максимум событий приходится на 10 мая."
   ]
  },
  {
   "cell_type": "code",
   "execution_count": 34,
   "metadata": {
    "scrolled": false
   },
   "outputs": [
    {
     "data": {
      "image/png": "[encoded data removed]",
      "text/plain": [
       "<Figure size 576x432 with 1 Axes>"
      ]
     },
     "metadata": {
      "needs_background": "light"
     },
     "output_type": "display_data"
    }
   ],
   "source": [
    "# Смотрим количество построек по дням и типу прохождения\n",
    "plt.figure(figsize = (8,6))\n",
    "plt.plot(victory_users[victory_users['event'] == 'building'].groupby('event_date').agg({'event':'count'}), label = 'victory')\n",
    "plt.plot(project_users[project_users['event'] == 'building'].groupby('event_date').agg({'event':'count'}), label = 'project')\n",
    "plt.plot(users_in_game[users_in_game['event'] == 'building'].groupby('event_date').agg({'event':'count'}), label = 'not_finished')\n",
    "plt.legend()\n",
    "plt.title('Динамика количества построек по дням и типу прохождения')\n",
    "\n",
    "plt.xticks(rotation = 70)\n",
    "plt.show()"
   ]
  },
  {
   "cell_type": "markdown",
   "metadata": {},
   "source": [
    "Из графика видно, что динамика активности у всех типов игроков схожа. Пик по количеству построек приходится на 10 мая, после чего идет резкое падение, что может быть связано с окончанием рекламной компании и постепенное снижение активности до минимума в конце месяца."
   ]
  },
  {
   "cell_type": "markdown",
   "metadata": {},
   "source": [
    " ### Динамика количества пользователей по дням"
   ]
  },
  {
   "cell_type": "code",
   "execution_count": 35,
   "metadata": {},
   "outputs": [
    {
     "data": {
      "image/png": "[encoded data removed]",
      "text/plain": [
       "<Figure size 648x432 with 1 Axes>"
      ]
     },
     "metadata": {
      "needs_background": "light"
     },
     "output_type": "display_data"
    }
   ],
   "source": [
    "# Количество пользователей по дням\n",
    "plt.figure(figsize = (9,6))\n",
    "plt.plot(game_actions.groupby('event_date').agg({'user_id':'nunique'}), label = 'Все игроки')\n",
    "# Количество пользователей, не завершивших уровень, по дням\n",
    "plt.plot(users_in_game.groupby('event_date').agg({'user_id':'nunique'}), label = 'Не завершившие уровень' )\n",
    "# Количество пользователей, завершивших уровень, по дням\n",
    "plt.plot(game_actions.query('user_id in @project_id or user_id in @victory_id').groupby('event_date').agg({'user_id':'nunique'}), label = 'Завершившие уровень' )\n",
    "plt.legend()\n",
    "plt.xticks(rotation = 70)\n",
    "plt.xlabel('Дата')\n",
    "plt.ylabel('Количество игроков')\n",
    "plt.title('Динамика количества пользователей по дням')\n",
    "plt.show()"
   ]
  },
  {
   "cell_type": "markdown",
   "metadata": {},
   "source": [
    "Динамика количества пользователей схожа с динамикой количества построек, здесь так же пик по количеству уникальных пользователей приходится на 10 мая, после чего идет резкое падение и постепенное снижение количества игроков до минимума в конце месяца."
   ]
  },
  {
   "cell_type": "markdown",
   "metadata": {},
   "source": [
    "Для выявления разницы в поведении пользователей, если таковая имеется строим график динамики количества пользователей по источникам."
   ]
  },
  {
   "cell_type": "code",
   "execution_count": 36,
   "metadata": {},
   "outputs": [
    {
     "data": {
      "image/png": "[encoded data removed]",
      "text/plain": [
       "<Figure size 648x360 with 1 Axes>"
      ]
     },
     "metadata": {
      "needs_background": "light"
     },
     "output_type": "display_data"
    }
   ],
   "source": [
    "plt.figure(figsize = (9,5))\n",
    "plt.xlabel('Дата')\n",
    "plt.ylabel('количество игроков')\n",
    "plt.title('Динамика количества пользователей по источникам')\n",
    "for i in game_actions['source'].unique():\n",
    "    plt.plot(game_actions.query('source == @i').groupby('event_date').agg({'user_id':'nunique'}), label = i)\n",
    "\n",
    "plt.legend()\n",
    "plt.xticks(rotation = 70)\n",
    "plt.show()"
   ]
  },
  {
   "cell_type": "markdown",
   "metadata": {},
   "source": [
    "На первый взгляд нет заметной разницы между поведением пользователей из разных источников, для более точного определения можно построить графики удержания данных пользователей."
   ]
  },
  {
   "cell_type": "markdown",
   "metadata": {},
   "source": [
    "### Удержание пользователей по источникам привлечения."
   ]
  },
  {
   "cell_type": "code",
   "execution_count": 37,
   "metadata": {
    "scrolled": true
   },
   "outputs": [
    {
     "data": {
      "text/html": [
       "<div>\n",
       "<style scoped>\n",
       "    .dataframe tbody tr th:only-of-type {\n",
       "        vertical-align: middle;\n",
       "    }\n",
       "\n",
       "    .dataframe tbody tr th {\n",
       "        vertical-align: top;\n",
       "    }\n",
       "\n",
       "    .dataframe thead th {\n",
       "        text-align: right;\n",
       "    }\n",
       "</style>\n",
       "<table border=\"1\" class=\"dataframe\">\n",
       "  <thead>\n",
       "    <tr style=\"text-align: right;\">\n",
       "      <th>source</th>\n",
       "      <th>facebook_ads</th>\n",
       "      <th>instagram_new_adverts</th>\n",
       "      <th>yandex_direct</th>\n",
       "      <th>youtube_channel_reklama</th>\n",
       "    </tr>\n",
       "    <tr>\n",
       "      <th>event_date</th>\n",
       "      <th></th>\n",
       "      <th></th>\n",
       "      <th></th>\n",
       "      <th></th>\n",
       "    </tr>\n",
       "  </thead>\n",
       "  <tbody>\n",
       "    <tr>\n",
       "      <th>2020-05-11</th>\n",
       "      <td>0.687097</td>\n",
       "      <td>0.622338</td>\n",
       "      <td>0.661266</td>\n",
       "      <td>0.627868</td>\n",
       "    </tr>\n",
       "    <tr>\n",
       "      <th>2020-05-12</th>\n",
       "      <td>0.619892</td>\n",
       "      <td>0.633203</td>\n",
       "      <td>0.620605</td>\n",
       "      <td>0.635702</td>\n",
       "    </tr>\n",
       "    <tr>\n",
       "      <th>2020-05-13</th>\n",
       "      <td>0.609677</td>\n",
       "      <td>0.627988</td>\n",
       "      <td>0.597065</td>\n",
       "      <td>0.615557</td>\n",
       "    </tr>\n",
       "    <tr>\n",
       "      <th>2020-05-14</th>\n",
       "      <td>0.543548</td>\n",
       "      <td>0.553672</td>\n",
       "      <td>0.564965</td>\n",
       "      <td>0.542250</td>\n",
       "    </tr>\n",
       "    <tr>\n",
       "      <th>2020-05-15</th>\n",
       "      <td>0.484409</td>\n",
       "      <td>0.510648</td>\n",
       "      <td>0.464995</td>\n",
       "      <td>0.501399</td>\n",
       "    </tr>\n",
       "    <tr>\n",
       "      <th>2020-05-16</th>\n",
       "      <td>0.405376</td>\n",
       "      <td>0.421990</td>\n",
       "      <td>0.427698</td>\n",
       "      <td>0.419698</td>\n",
       "    </tr>\n",
       "    <tr>\n",
       "      <th>2020-05-17</th>\n",
       "      <td>0.340323</td>\n",
       "      <td>0.312907</td>\n",
       "      <td>0.325894</td>\n",
       "      <td>0.356463</td>\n",
       "    </tr>\n",
       "    <tr>\n",
       "      <th>2020-05-18</th>\n",
       "      <td>0.231720</td>\n",
       "      <td>0.250761</td>\n",
       "      <td>0.241211</td>\n",
       "      <td>0.256295</td>\n",
       "    </tr>\n",
       "    <tr>\n",
       "      <th>2020-05-19</th>\n",
       "      <td>0.197312</td>\n",
       "      <td>0.199478</td>\n",
       "      <td>0.202385</td>\n",
       "      <td>0.203693</td>\n",
       "    </tr>\n",
       "    <tr>\n",
       "      <th>2020-05-20</th>\n",
       "      <td>0.174731</td>\n",
       "      <td>0.162538</td>\n",
       "      <td>0.149801</td>\n",
       "      <td>0.162843</td>\n",
       "    </tr>\n",
       "    <tr>\n",
       "      <th>2020-05-21</th>\n",
       "      <td>0.120430</td>\n",
       "      <td>0.122990</td>\n",
       "      <td>0.108530</td>\n",
       "      <td>0.120313</td>\n",
       "    </tr>\n",
       "    <tr>\n",
       "      <th>2020-05-22</th>\n",
       "      <td>0.086022</td>\n",
       "      <td>0.082138</td>\n",
       "      <td>0.081626</td>\n",
       "      <td>0.082820</td>\n",
       "    </tr>\n",
       "    <tr>\n",
       "      <th>2020-05-23</th>\n",
       "      <td>0.059677</td>\n",
       "      <td>0.061712</td>\n",
       "      <td>0.056558</td>\n",
       "      <td>0.062115</td>\n",
       "    </tr>\n",
       "    <tr>\n",
       "      <th>2020-05-24</th>\n",
       "      <td>0.038710</td>\n",
       "      <td>0.043459</td>\n",
       "      <td>0.045552</td>\n",
       "      <td>0.045327</td>\n",
       "    </tr>\n",
       "    <tr>\n",
       "      <th>2020-05-25</th>\n",
       "      <td>0.034946</td>\n",
       "      <td>0.035202</td>\n",
       "      <td>0.030266</td>\n",
       "      <td>0.033576</td>\n",
       "    </tr>\n",
       "    <tr>\n",
       "      <th>2020-05-26</th>\n",
       "      <td>0.022043</td>\n",
       "      <td>0.025641</td>\n",
       "      <td>0.020177</td>\n",
       "      <td>0.021824</td>\n",
       "    </tr>\n",
       "    <tr>\n",
       "      <th>2020-05-27</th>\n",
       "      <td>0.016129</td>\n",
       "      <td>0.014776</td>\n",
       "      <td>0.015592</td>\n",
       "      <td>0.013430</td>\n",
       "    </tr>\n",
       "    <tr>\n",
       "      <th>2020-05-28</th>\n",
       "      <td>0.010753</td>\n",
       "      <td>0.011299</td>\n",
       "      <td>0.008866</td>\n",
       "      <td>0.008954</td>\n",
       "    </tr>\n",
       "    <tr>\n",
       "      <th>2020-05-29</th>\n",
       "      <td>0.006452</td>\n",
       "      <td>0.009996</td>\n",
       "      <td>0.006726</td>\n",
       "      <td>0.004477</td>\n",
       "    </tr>\n",
       "    <tr>\n",
       "      <th>2020-05-30</th>\n",
       "      <td>0.003763</td>\n",
       "      <td>0.004346</td>\n",
       "      <td>0.003669</td>\n",
       "      <td>0.003917</td>\n",
       "    </tr>\n",
       "    <tr>\n",
       "      <th>2020-05-31</th>\n",
       "      <td>0.003226</td>\n",
       "      <td>0.001738</td>\n",
       "      <td>0.001529</td>\n",
       "      <td>0.003917</td>\n",
       "    </tr>\n",
       "    <tr>\n",
       "      <th>2020-06-01</th>\n",
       "      <td>0.002151</td>\n",
       "      <td>0.000869</td>\n",
       "      <td>0.002446</td>\n",
       "      <td>0.001119</td>\n",
       "    </tr>\n",
       "    <tr>\n",
       "      <th>2020-06-02</th>\n",
       "      <td>0.000538</td>\n",
       "      <td>0.001738</td>\n",
       "      <td>0.000917</td>\n",
       "      <td>0.001679</td>\n",
       "    </tr>\n",
       "    <tr>\n",
       "      <th>2020-06-03</th>\n",
       "      <td>0.002151</td>\n",
       "      <td>0.000435</td>\n",
       "      <td>0.000611</td>\n",
       "      <td>0.001119</td>\n",
       "    </tr>\n",
       "    <tr>\n",
       "      <th>2020-06-04</th>\n",
       "      <td>0.001613</td>\n",
       "      <td>0.000435</td>\n",
       "      <td>0.000917</td>\n",
       "      <td>NaN</td>\n",
       "    </tr>\n",
       "    <tr>\n",
       "      <th>2020-06-05</th>\n",
       "      <td>0.000538</td>\n",
       "      <td>0.000435</td>\n",
       "      <td>0.000306</td>\n",
       "      <td>0.000560</td>\n",
       "    </tr>\n",
       "  </tbody>\n",
       "</table>\n",
       "</div>"
      ],
      "text/plain": [
       "source      facebook_ads  instagram_new_adverts  yandex_direct  \\\n",
       "event_date                                                       \n",
       "2020-05-11      0.687097               0.622338       0.661266   \n",
       "2020-05-12      0.619892               0.633203       0.620605   \n",
       "2020-05-13      0.609677               0.627988       0.597065   \n",
       "2020-05-14      0.543548               0.553672       0.564965   \n",
       "2020-05-15      0.484409               0.510648       0.464995   \n",
       "2020-05-16      0.405376               0.421990       0.427698   \n",
       "2020-05-17      0.340323               0.312907       0.325894   \n",
       "2020-05-18      0.231720               0.250761       0.241211   \n",
       "2020-05-19      0.197312               0.199478       0.202385   \n",
       "2020-05-20      0.174731               0.162538       0.149801   \n",
       "2020-05-21      0.120430               0.122990       0.108530   \n",
       "2020-05-22      0.086022               0.082138       0.081626   \n",
       "2020-05-23      0.059677               0.061712       0.056558   \n",
       "2020-05-24      0.038710               0.043459       0.045552   \n",
       "2020-05-25      0.034946               0.035202       0.030266   \n",
       "2020-05-26      0.022043               0.025641       0.020177   \n",
       "2020-05-27      0.016129               0.014776       0.015592   \n",
       "2020-05-28      0.010753               0.011299       0.008866   \n",
       "2020-05-29      0.006452               0.009996       0.006726   \n",
       "2020-05-30      0.003763               0.004346       0.003669   \n",
       "2020-05-31      0.003226               0.001738       0.001529   \n",
       "2020-06-01      0.002151               0.000869       0.002446   \n",
       "2020-06-02      0.000538               0.001738       0.000917   \n",
       "2020-06-03      0.002151               0.000435       0.000611   \n",
       "2020-06-04      0.001613               0.000435       0.000917   \n",
       "2020-06-05      0.000538               0.000435       0.000306   \n",
       "\n",
       "source      youtube_channel_reklama  \n",
       "event_date                           \n",
       "2020-05-11                 0.627868  \n",
       "2020-05-12                 0.635702  \n",
       "2020-05-13                 0.615557  \n",
       "2020-05-14                 0.542250  \n",
       "2020-05-15                 0.501399  \n",
       "2020-05-16                 0.419698  \n",
       "2020-05-17                 0.356463  \n",
       "2020-05-18                 0.256295  \n",
       "2020-05-19                 0.203693  \n",
       "2020-05-20                 0.162843  \n",
       "2020-05-21                 0.120313  \n",
       "2020-05-22                 0.082820  \n",
       "2020-05-23                 0.062115  \n",
       "2020-05-24                 0.045327  \n",
       "2020-05-25                 0.033576  \n",
       "2020-05-26                 0.021824  \n",
       "2020-05-27                 0.013430  \n",
       "2020-05-28                 0.008954  \n",
       "2020-05-29                 0.004477  \n",
       "2020-05-30                 0.003917  \n",
       "2020-05-31                 0.003917  \n",
       "2020-06-01                 0.001119  \n",
       "2020-06-02                 0.001679  \n",
       "2020-06-03                 0.001119  \n",
       "2020-06-04                      NaN  \n",
       "2020-06-05                 0.000560  "
      ]
     },
     "metadata": {},
     "output_type": "display_data"
    }
   ],
   "source": [
    "# Таблица удержания по источникам привлечения, за размер когорты берем количество пользователей 10 мая(окончание рекламной компании) \n",
    "retention = game_actions.query('event_date > @dt.date(2020,5,9)').pivot_table(index = 'source', columns = 'event_date', \n",
    "                                                                   aggfunc = {'user_id':'nunique'})\n",
    "\n",
    "retention.columns = retention.columns.droplevel(0)\n",
    "retention = retention.rename(columns = {retention.columns[0]:'cohort_size'})\n",
    "retention = retention.div(retention['cohort_size'], axis = 0).drop(columns = 'cohort_size').T\n",
    "display(retention)\n",
    "\n",
    "\n",
    "\n"
   ]
  },
  {
   "cell_type": "code",
   "execution_count": 38,
   "metadata": {},
   "outputs": [
    {
     "data": {
      "image/png": "[encoded data removed]",
      "text/plain": [
       "<Figure size 648x360 with 1 Axes>"
      ]
     },
     "metadata": {
      "needs_background": "light"
     },
     "output_type": "display_data"
    }
   ],
   "source": [
    "# График удержания по источникам привлечения\n",
    "\n",
    "retention.plot(figsize = (9,5))\n",
    "plt.xticks(rotation = 70)\n",
    "plt.ylabel('коэффициент удержания')\n",
    "plt.title('График удержания по источникам привлечения')\n",
    "plt.xlabel('дата')\n",
    "plt.show()"
   ]
  },
  {
   "cell_type": "markdown",
   "metadata": {},
   "source": [
    "Построив графики удержания пользователей из разных источников привлечения видим, что между ними действительно нет значимой разницы."
   ]
  },
  {
   "cell_type": "markdown",
   "metadata": {},
   "source": [
    "Исходя их проведенного анализа можно сделать следующие выводы:\n",
    "- Игроков можно разделить по следующим категориям:\n",
    "  - игроки, завершившие уровень, реализовав проект \n",
    "  - игроки, завершившие уровень, одержав победу\n",
    "  - игроки, не закончившие 1й уровень\n",
    "- Доли завершивших и незавершивших 1й уровень: 57% - не завершили, 29% - завершили победой, 14% - завершили проект.\n",
    "- Реклама длилась по 9 мая включительно, максимум количества игроков приходится на 10 мая.\n",
    "- После завершения рекламы, игроки из категории не прошедших первый уровень быстрее теряют интерес к игре.\n",
    "- Количество игроков предпочитающих pvp значительно превышает количество pve игроков.\n",
    "- Удержание пользователей по источникам сопоставимо."
   ]
  },
  {
   "cell_type": "markdown",
   "metadata": {},
   "source": [
    "## Проверка гипотез"
   ]
  },
  {
   "cell_type": "markdown",
   "metadata": {},
   "source": [
    "### Гипотеза о существовании различий во времени прохождения уровня между пользователями завершившими проект и одержавшими победу над противником."
   ]
  },
  {
   "cell_type": "markdown",
   "metadata": {},
   "source": [
    "Для проверки гипотез, формируем нулевую гипотезу и альтернативную: \n",
    "- H0: Среднее время прохождения первого уровня между игроками завершившими проект и одержавшими победу над противником равно. \n",
    "- Н1: Среднее время прохождения первого уровня между игроками завершившими проект и одержавшими победу над противником различаются"
   ]
  },
  {
   "cell_type": "code",
   "execution_count": 39,
   "metadata": {},
   "outputs": [
    {
     "name": "stdout",
     "output_type": "stream",
     "text": [
      "<class 'pandas.core.frame.DataFrame'>\n",
      "Int64Index: 135639 entries, 0 to 135638\n",
      "Data columns (total 8 columns):\n",
      " #   Column          Non-Null Count   Dtype         \n",
      "---  ------          --------------   -----         \n",
      " 0   event_datetime  135639 non-null  datetime64[ns]\n",
      " 1   event           135639 non-null  object        \n",
      " 2   building_type   127956 non-null  object        \n",
      " 3   user_id         135639 non-null  object        \n",
      " 4   project_type    1866 non-null    object        \n",
      " 5   event_date      135639 non-null  object        \n",
      " 6   source          135639 non-null  object        \n",
      " 7   passage_time    5817 non-null    object        \n",
      "dtypes: datetime64[ns](1), object(7)\n",
      "memory usage: 13.3+ MB\n"
     ]
    }
   ],
   "source": [
    "game_actions.info()"
   ]
  },
  {
   "cell_type": "code",
   "execution_count": 40,
   "metadata": {},
   "outputs": [
    {
     "name": "stdout",
     "output_type": "stream",
     "text": [
      "7.256845329496682e-98\n",
      "Отвергаем нулевую гипотезу Н0\n"
     ]
    }
   ],
   "source": [
    "# Проверяем нулевую гипотезу о том, что среднее время прохождения первого уровня между игроками завершившими проект \n",
    "# и одержавшими победу над противником равно.\n",
    "\n",
    "array_1 = victory_users[victory_users['passage_time'].isna() == False]['passage_time']\n",
    "array_2 = project_users[project_users['passage_time'].isna() == False]['passage_time']\n",
    "#print(array_1)\n",
    "#print(array_2)\n",
    "alpha = 0.05\n",
    "result = st.ttest_ind(array_1, array_2)\n",
    "print(result.pvalue)\n",
    "if result.pvalue < alpha:\n",
    "    print('Отвергаем нулевую гипотезу Н0')\n",
    "else:\n",
    "    print('Не отвергаем нулевую гипотезу Н0')\n",
    "    "
   ]
  },
  {
   "cell_type": "markdown",
   "metadata": {},
   "source": [
    "После проверки, видим, что нулевую гипотезу можно отвергнуть. Гипотеза о том, что среднее время прохождения первого уровня между игроками завершившими проект и одержавшими победу над противником равно не верна."
   ]
  },
  {
   "cell_type": "markdown",
   "metadata": {},
   "source": [
    "### Гипотеза о существовании различий в количестве построек  у пользователей завершивших проект и одержавших победу над противником."
   ]
  },
  {
   "cell_type": "markdown",
   "metadata": {},
   "source": [
    "Для проверки гипотез, формируем нулевую гипотезу и альтернативную: \n",
    "- H0: Среднее количестве построек у пользователей завершивших проект и одержавших победу над противником равно. \n",
    "- Н1: Среднее количестве построек у пользователей завершивших проект и одержавших победу над противником различаются"
   ]
  },
  {
   "cell_type": "code",
   "execution_count": 41,
   "metadata": {},
   "outputs": [
    {
     "name": "stdout",
     "output_type": "stream",
     "text": [
      "0.0\n",
      "Отвергаем нулевую гипотезу Н0\n"
     ]
    }
   ],
   "source": [
    "# Проверяем нулевую гипотезу о том, что среднее количество построек у пользователей завершивших проект и одержавших победу над противником равно\n",
    "\n",
    "array_1 = victory_users.groupby('user_id').agg({'building_type':'count'}).reset_index()['building_type']\n",
    "array_2 = project_users.groupby('user_id').agg({'building_type':'count'}).reset_index()['building_type']\n",
    "#print(array_1)\n",
    "#print(array_2)\n",
    "alpha = 0.05\n",
    "result = st.ttest_ind(array_1, array_2)\n",
    "print(result.pvalue)\n",
    "if result.pvalue < alpha:\n",
    "    print('Отвергаем нулевую гипотезу Н0')\n",
    "else:\n",
    "    print('Не отвергаем нулевую гипотезу Н0')\n",
    "    "
   ]
  },
  {
   "cell_type": "markdown",
   "metadata": {},
   "source": [
    "После проверки, видим, что нулевую гипотезу можно отвергнуть. Гипотеза о том, что среднее количество построек у пользователей завершивших проект и одержавших победу над противником равно не верна."
   ]
  },
  {
   "cell_type": "markdown",
   "metadata": {},
   "source": [
    "## Формирование модели монетизации"
   ]
  },
  {
   "cell_type": "markdown",
   "metadata": {},
   "source": [
    "### Оценка окупаемости игроков, привлеченных из разных источников ."
   ]
  },
  {
   "cell_type": "code",
   "execution_count": 42,
   "metadata": {},
   "outputs": [
    {
     "data": {
      "text/html": [
       "<div>\n",
       "<style scoped>\n",
       "    .dataframe tbody tr th:only-of-type {\n",
       "        vertical-align: middle;\n",
       "    }\n",
       "\n",
       "    .dataframe tbody tr th {\n",
       "        vertical-align: top;\n",
       "    }\n",
       "\n",
       "    .dataframe thead th {\n",
       "        text-align: right;\n",
       "    }\n",
       "</style>\n",
       "<table border=\"1\" class=\"dataframe\">\n",
       "  <thead>\n",
       "    <tr style=\"text-align: right;\">\n",
       "      <th></th>\n",
       "      <th>source</th>\n",
       "      <th>cost</th>\n",
       "    </tr>\n",
       "  </thead>\n",
       "  <tbody>\n",
       "    <tr>\n",
       "      <th>3</th>\n",
       "      <td>youtube_channel_reklama</td>\n",
       "      <td>1068.119204</td>\n",
       "    </tr>\n",
       "    <tr>\n",
       "      <th>0</th>\n",
       "      <td>facebook_ads</td>\n",
       "      <td>2140.904643</td>\n",
       "    </tr>\n",
       "    <tr>\n",
       "      <th>1</th>\n",
       "      <td>instagram_new_adverts</td>\n",
       "      <td>2161.441691</td>\n",
       "    </tr>\n",
       "    <tr>\n",
       "      <th>2</th>\n",
       "      <td>yandex_direct</td>\n",
       "      <td>2233.111449</td>\n",
       "    </tr>\n",
       "  </tbody>\n",
       "</table>\n",
       "</div>"
      ],
      "text/plain": [
       "                    source         cost\n",
       "3  youtube_channel_reklama  1068.119204\n",
       "0             facebook_ads  2140.904643\n",
       "1    instagram_new_adverts  2161.441691\n",
       "2            yandex_direct  2233.111449"
      ]
     },
     "execution_count": 42,
     "metadata": {},
     "output_type": "execute_result"
    }
   ],
   "source": [
    "# Общая стоимость рекламы из разных каналов\n",
    "source_sum = ad_costs.groupby('source').agg({'cost':'sum'}).reset_index().sort_values(by = 'cost')\n",
    "source_sum"
   ]
  },
  {
   "cell_type": "code",
   "execution_count": 43,
   "metadata": {
    "scrolled": true
   },
   "outputs": [
    {
     "data": {
      "text/html": [
       "<div>\n",
       "<style scoped>\n",
       "    .dataframe tbody tr th:only-of-type {\n",
       "        vertical-align: middle;\n",
       "    }\n",
       "\n",
       "    .dataframe tbody tr th {\n",
       "        vertical-align: top;\n",
       "    }\n",
       "\n",
       "    .dataframe thead th {\n",
       "        text-align: right;\n",
       "    }\n",
       "</style>\n",
       "<table border=\"1\" class=\"dataframe\">\n",
       "  <thead>\n",
       "    <tr style=\"text-align: right;\">\n",
       "      <th></th>\n",
       "      <th>source</th>\n",
       "      <th>user_id</th>\n",
       "    </tr>\n",
       "  </thead>\n",
       "  <tbody>\n",
       "    <tr>\n",
       "      <th>3</th>\n",
       "      <td>youtube_channel_reklama</td>\n",
       "      <td>2686</td>\n",
       "    </tr>\n",
       "    <tr>\n",
       "      <th>0</th>\n",
       "      <td>facebook_ads</td>\n",
       "      <td>2726</td>\n",
       "    </tr>\n",
       "    <tr>\n",
       "      <th>1</th>\n",
       "      <td>instagram_new_adverts</td>\n",
       "      <td>3347</td>\n",
       "    </tr>\n",
       "    <tr>\n",
       "      <th>2</th>\n",
       "      <td>yandex_direct</td>\n",
       "      <td>4817</td>\n",
       "    </tr>\n",
       "  </tbody>\n",
       "</table>\n",
       "</div>"
      ],
      "text/plain": [
       "                    source  user_id\n",
       "3  youtube_channel_reklama     2686\n",
       "0             facebook_ads     2726\n",
       "1    instagram_new_adverts     3347\n",
       "2            yandex_direct     4817"
      ]
     },
     "execution_count": 43,
     "metadata": {},
     "output_type": "execute_result"
    }
   ],
   "source": [
    "# Количество игроков из каждого источника\n",
    "source_user_count = game_actions.groupby('source').agg({'user_id':'nunique'}).reset_index(). sort_values(by = 'user_id')\n",
    "source_user_count\n"
   ]
  },
  {
   "cell_type": "code",
   "execution_count": 44,
   "metadata": {},
   "outputs": [
    {
     "name": "stdout",
     "output_type": "stream",
     "text": [
      "Средняя стоимость привлечения одного пользователя:  0.56\n"
     ]
    }
   ],
   "source": [
    "# Средняя стоимость привлечения одного пользователя\n",
    "cac = round(ad_costs['cost'].sum()/game_actions['user_id'].nunique(), 2)\n",
    "print('Средняя стоимость привлечения одного пользователя: ',cac)"
   ]
  },
  {
   "cell_type": "markdown",
   "metadata": {},
   "source": [
    "Так как средняя стоимость привлечения одного пользователя равна  0.56 у.е., то и уровень окупаемости равен этому значению. "
   ]
  },
  {
   "cell_type": "code",
   "execution_count": 45,
   "metadata": {},
   "outputs": [
    {
     "data": {
      "text/html": [
       "<div>\n",
       "<style scoped>\n",
       "    .dataframe tbody tr th:only-of-type {\n",
       "        vertical-align: middle;\n",
       "    }\n",
       "\n",
       "    .dataframe tbody tr th {\n",
       "        vertical-align: top;\n",
       "    }\n",
       "\n",
       "    .dataframe thead th {\n",
       "        text-align: right;\n",
       "    }\n",
       "</style>\n",
       "<table border=\"1\" class=\"dataframe\">\n",
       "  <thead>\n",
       "    <tr style=\"text-align: right;\">\n",
       "      <th></th>\n",
       "      <th>source</th>\n",
       "      <th>user_id</th>\n",
       "      <th>cost</th>\n",
       "      <th>user_cost</th>\n",
       "      <th>color</th>\n",
       "    </tr>\n",
       "  </thead>\n",
       "  <tbody>\n",
       "    <tr>\n",
       "      <th>0</th>\n",
       "      <td>youtube_channel_reklama</td>\n",
       "      <td>2686</td>\n",
       "      <td>1068.119204</td>\n",
       "      <td>0.40</td>\n",
       "      <td>red</td>\n",
       "    </tr>\n",
       "    <tr>\n",
       "      <th>3</th>\n",
       "      <td>yandex_direct</td>\n",
       "      <td>4817</td>\n",
       "      <td>2233.111449</td>\n",
       "      <td>0.46</td>\n",
       "      <td>yellow</td>\n",
       "    </tr>\n",
       "    <tr>\n",
       "      <th>2</th>\n",
       "      <td>instagram_new_adverts</td>\n",
       "      <td>3347</td>\n",
       "      <td>2161.441691</td>\n",
       "      <td>0.65</td>\n",
       "      <td>blue</td>\n",
       "    </tr>\n",
       "    <tr>\n",
       "      <th>1</th>\n",
       "      <td>facebook_ads</td>\n",
       "      <td>2726</td>\n",
       "      <td>2140.904643</td>\n",
       "      <td>0.79</td>\n",
       "      <td>green</td>\n",
       "    </tr>\n",
       "  </tbody>\n",
       "</table>\n",
       "</div>"
      ],
      "text/plain": [
       "                    source  user_id         cost  user_cost   color\n",
       "0  youtube_channel_reklama     2686  1068.119204       0.40     red\n",
       "3            yandex_direct     4817  2233.111449       0.46  yellow\n",
       "2    instagram_new_adverts     3347  2161.441691       0.65    blue\n",
       "1             facebook_ads     2726  2140.904643       0.79   green"
      ]
     },
     "execution_count": 45,
     "metadata": {},
     "output_type": "execute_result"
    }
   ],
   "source": [
    "# Стоимость привлечения одного пользователя по источникам\n",
    "user_cost = source_user_count.merge(source_sum, on = 'source')\n",
    "user_cost['user_cost'] = user_cost['cost']/user_cost['user_id']\n",
    "user_cost = user_cost.sort_values(by = 'user_cost')\n",
    "user_cost['user_cost'] = round(user_cost['user_cost'], 2)\n",
    "# Для построения графика добавляем столбец с цветами для источников\n",
    "user_cost['color'] = ['red', 'yellow', 'blue', 'green']\n",
    "user_cost"
   ]
  },
  {
   "cell_type": "code",
   "execution_count": 46,
   "metadata": {},
   "outputs": [
    {
     "data": {
      "image/png": "[encoded data removed]",
      "text/plain": [
       "<Figure size 504x360 with 1 Axes>"
      ]
     },
     "metadata": {
      "needs_background": "light"
     },
     "output_type": "display_data"
    }
   ],
   "source": [
    "plt.figure(figsize = (7,5))\n",
    "sns.barplot(data = user_cost, y = 'source', x = 'user_cost')\n",
    "plt.ylabel('источник привлечения')\n",
    "plt.xlabel('стоимость привлечения')\n",
    "plt.title('Затраты на привлечение одного пользователя, по разным источникам ')\n",
    "plt.show()"
   ]
  },
  {
   "cell_type": "markdown",
   "metadata": {},
   "source": [
    "Из приведенных рассчетов и графика видим, что затраты на привлечение одного пользователя в каналах instagram и facebook значительно превышают затраты по каналам youtube и yandex_direct. При сопоставимом удержании и среднем количестве построек игроков из этих каналов, можно дать рекомендации отказаться от рекламы в instagram и facebook в пользу youtube и yandex_direct."
   ]
  },
  {
   "cell_type": "markdown",
   "metadata": {},
   "source": [
    "### Оценка среднего количества построек у игроков разных сегментов."
   ]
  },
  {
   "cell_type": "code",
   "execution_count": 47,
   "metadata": {},
   "outputs": [
    {
     "name": "stdout",
     "output_type": "stream",
     "text": [
      "Среднее количество построек у всех игроков:\n"
     ]
    },
    {
     "data": {
      "text/plain": [
       "9.43"
      ]
     },
     "execution_count": 47,
     "metadata": {},
     "output_type": "execute_result"
    }
   ],
   "source": [
    "# Среднее количество построек у всех игроков\n",
    "print('Среднее количество построек у всех игроков:')\n",
    "avg_build = round(game_actions[game_actions['event'] == 'building'].groupby('user_id').agg({'event':'count'})['event'].mean(), 2)\n",
    "avg_build"
   ]
  },
  {
   "cell_type": "code",
   "execution_count": 48,
   "metadata": {},
   "outputs": [
    {
     "name": "stdout",
     "output_type": "stream",
     "text": [
      "Среднее количество построек у игроков завершивших уровень, реализовав проект:\n"
     ]
    },
    {
     "data": {
      "text/plain": [
       "12.65"
      ]
     },
     "execution_count": 48,
     "metadata": {},
     "output_type": "execute_result"
    }
   ],
   "source": [
    "print('Среднее количество построек у игроков завершивших уровень, реализовав проект:')\n",
    "round(project_users[project_users['event'] == 'building'].groupby('user_id')['event'].count().mean(), 2)\n"
   ]
  },
  {
   "cell_type": "code",
   "execution_count": 49,
   "metadata": {},
   "outputs": [
    {
     "name": "stdout",
     "output_type": "stream",
     "text": [
      "Среднее количество построек у игроков завершивших уровень, одержав победу:\n"
     ]
    },
    {
     "data": {
      "text/plain": [
       "9.41"
      ]
     },
     "execution_count": 49,
     "metadata": {},
     "output_type": "execute_result"
    }
   ],
   "source": [
    "# Среднее количество событий на игрока\n",
    "print('Среднее количество построек у игроков завершивших уровень, одержав победу:')\n",
    "round(victory_users[victory_users['event'] == 'building'].groupby('user_id')['event'].count().mean(), 2)\n",
    "#victory_users['project_type'].unique()\n"
   ]
  },
  {
   "cell_type": "markdown",
   "metadata": {},
   "source": [
    "Игроки предпочитающие pve стиль прохождения сторят значительно больше построек."
   ]
  },
  {
   "cell_type": "markdown",
   "metadata": {},
   "source": [
    "### Оценка срока начала запуска рекламы."
   ]
  },
  {
   "cell_type": "code",
   "execution_count": 50,
   "metadata": {
    "scrolled": true
   },
   "outputs": [
    {
     "data": {
      "image/png": "[encoded data removed]",
      "text/plain": [
       "<Figure size 504x360 with 1 Axes>"
      ]
     },
     "metadata": {
      "needs_background": "light"
     },
     "output_type": "display_data"
    }
   ],
   "source": [
    "# График зависимости выручки от числа построек(показов рекламы) и окупаемости\n",
    "profit = {}\n",
    "for i in range(1, int(avg_build)+1):\n",
    "    profit[i] = i*0.07\n",
    "    \n",
    "profit = pd.DataFrame(data = profit, index = range(1)).T\n",
    "#display(profit)\n",
    "plt.figure(figsize = (7,5))\n",
    "plt.axhline(y = cac, color = 'red', linestyle = '--', label = 'уровень окупаемости')\n",
    "plt.plot(profit)\n",
    "plt.legend()\n",
    "plt.xlabel('количество построек')\n",
    "plt.ylabel('выручка')\n",
    "plt.title('График окупаемости')\n",
    "\n",
    "plt.show()"
   ]
  },
  {
   "cell_type": "markdown",
   "metadata": {},
   "source": [
    "Окупаемость наступает после 8 показов рекламы, при среднем количестве построек у игроков 9.43, можно рекомендовать такую модель монетизации, при которой рекламу начинаем показывать пользователю со второй постройки и до завершения уровня."
   ]
  },
  {
   "cell_type": "code",
   "execution_count": 51,
   "metadata": {},
   "outputs": [
    {
     "data": {
      "image/png": "[encoded data removed]",
      "text/plain": [
       "<Figure size 648x360 with 1 Axes>"
      ]
     },
     "metadata": {
      "needs_background": "light"
     },
     "output_type": "display_data"
    }
   ],
   "source": [
    "# График зависимости выручки от числа построек(показов рекламы) и окупаемости по каналам привлечения\n",
    "plt.figure(figsize = (9,5))\n",
    "\n",
    "for label, cac, color in (user_cost.loc[i, ['source', 'user_cost', 'color']] for i in user_cost.index):\n",
    "    \n",
    "    plt.axhline(y = cac, color = color, linestyle = '--', label = f'уровень окупаемости {label}')\n",
    "    \n",
    "plt.legend()\n",
    "plt.plot(profit)\n",
    "plt.xlabel('количество построек')\n",
    "plt.ylabel('выручка')\n",
    "plt.title('График окупаемости по каналам привлечения')\n",
    "plt.show()\n",
    "    "
   ]
  },
  {
   "cell_type": "markdown",
   "metadata": {},
   "source": [
    "Из представленного графика видим, что реклама окупается по каналам youtube и yandex direct. Каналы instagram и facebook не окупаются."
   ]
  },
  {
   "cell_type": "markdown",
   "metadata": {},
   "source": [
    "Оценка прибыли при использовании новой модели монетизации:"
   ]
  },
  {
   "cell_type": "code",
   "execution_count": 52,
   "metadata": {},
   "outputs": [
    {
     "name": "stdout",
     "output_type": "stream",
     "text": [
      "Средства потраченные на привлечение пользователей: 7603\n",
      "Количество показов рекламы игрокам в новой модели: 114380\n",
      "Выручка от рекламы по предложенной модели: 8006\n",
      "Прибыль от рекламы по предложенной модели: 403\n"
     ]
    }
   ],
   "source": [
    "print('Средства потраченные на привлечение пользователей:', int(ad_costs['cost'].sum()))\n",
    "\n",
    "adv = (game_actions.query('event == \"building\"').groupby('user_id').agg({'building_type':'count'})['building_type'] - 1).sum()\n",
    "print('Количество показов рекламы игрокам в новой модели:', adv)\n",
    "# Выручка от рекламы по предложенной модели.\n",
    "print('Выручка от рекламы по предложенной модели:', int(adv*0.07))\n",
    "print('Прибыль от рекламы по предложенной модели:', int((adv*0.07) - ad_costs['cost'].sum()) )\n"
   ]
  },
  {
   "cell_type": "markdown",
   "metadata": {},
   "source": [
    "В результате проведенного анализа мы видим, что:\n",
    "- Средняя стоимость привлечения одного пользователя составляет  0.56 у.е.\n",
    "- Среднее количество построек у всех игроков - 9.43\n",
    "- При стоимости показа рекламы 0,07 у.е. окупаемость наступает после 8 показов\n",
    "- При показе рекламы со второй постройки общая прибыль составит 403 у.е.\n",
    "\n",
    "Исходя из перечисленного, можно рекомндовать такую модель монетизациии, при которой рекламу начинаем показывать пользователю со второй постройки и до завершения уровня, при этих условиях реклама окупается."
   ]
  },
  {
   "cell_type": "markdown",
   "metadata": {},
   "source": [
    "## Вывод\n",
    "В данном исследовании были реализованы следующие шаги:\n",
    "- Загрузка и изучение данных:\n",
    " - Изучив данные, видим, что желательно удалить дубликат. \n",
    " - Изменить тип данных в столбце event_datetime таблицы game_actions и day в таблице ad_costs на datetime. \n",
    " - Имеются пропуски в таблице game_actions, но они подразумеваются структурой данных, в остальных случаях пропуски отсутствуют.\n",
    "\n",
    "- Предобрабртка данных:\n",
    " - Удалены дубликаты \n",
    " - Изменен тип данных в столбце event_datetime таблицы game_actions и day в таблице ad_costs на datetime .\n",
    " - Добавлена колонка с датой 'event_date', для возможности группировки по дням.\n",
    " - Объединены таблиц game_actions и user_source\n",
    " - Для проверки гипотезы добавлен столбец времени, затраченного на проходение - 'passage_time'.\n",
    "\n",
    "- Исследовательский анализ данных: \n",
    " - Проведена сегментация игроков по типу прохождения:\n",
    "    - игроки, завершившие уровень, реализовав проект \n",
    "    - игроки, завершившие уровень, одержав победу\n",
    "    - игроки, не закончившие 1й уровень\n",
    " - Доли завершивших и незавершивших 1й уровень: 57% - не завершили, 29% - завершили победой, 14% - завершили проект.\n",
    " - Реклама длилась по 9 мая включительно, максимум количества игроков приходится на 10 мая.\n",
    " - После завершения рекламы, игроки из категории не прошедших первый уровень быстрее теряют интерес к игре.\n",
    " - Количество игроков предпочитающих pvp значительно превышает количество pve игроков.\n",
    " - Удержание пользователей по источникам сопоставимо.\n",
    "- Проверка гипотез:\n",
    "  - H0: среднее время прохождения первого уровня между игроками завершившими проект и одержавшими победу над противником равно.\n",
    "    - После проверки, видим, что нулевую гипотезу можно отвергнуть. Гипотеза о том, что среднее время прохождения первого уровня между игроками завершившими проект и одержавшими победу над противником равно не верна.\n",
    "  - H0: среднее количество построек у пользователей завершивших проект и одержавших победу над противником равно.\n",
    "    - После проверки, видим, что нулевую гипотезу можно отвергнуть. Гипотеза о том, что среднее количество построек у пользователей завершивших проект и одержавших победу над противником равно не верна.\n",
    "- Формирование модели монетизации:\n",
    " - Средняя стоимость привлечения одного пользователя составляет  0.56 у.е.\n",
    " - Среднее количество построек у всех игроков - 9.43\n",
    " - При стоимости показа рекламы 0,07 у.е. окупаемость наступает после 8 показов\n",
    " - При показе рекламы со второй постройки общая прибыль составит 403 у.е.\n",
    "\n",
    "Исходя из перечисленного, можно рекомендовать такую модель монетизации, при которой рекламу начинаем показывать пользователю со второй постройки и до завершения уровня, при этих условиях реклама окупается.\n",
    " \n",
    "   \n",
    " "
   ]
  },
  {
   "cell_type": "markdown",
   "metadata": {},
   "source": [
    "## Рекомендации"
   ]
  },
  {
   "cell_type": "markdown",
   "metadata": {},
   "source": [
    "- Стоит уделить больше внимания pve стилю прохождения игры т.к. эти игроки строят большее количество сооружений и им можно показать больше рекламы.\n",
    "- Возможно стоит закупать больше рекламы на youtube и yandex direct\tт.к. удержание пользователей из всех четырех каналов привлечения сопоставимо, а стоимость привлечения одного клиента на данных каналах значительно ниже.\n",
    "- Каналы instagram и facebook не окупаются, возможно стоит от них отказаться."
   ]
  },
  {
   "cell_type": "code",
   "execution_count": null,
   "metadata": {},
   "outputs": [],
   "source": []
  }
 ],
 "metadata": {
  "ExecuteTimeLog": [
   {
    "duration": 428,
    "start_time": "2022-04-30T07:50:57.231Z"
   },
   {
    "duration": 211,
    "start_time": "2022-04-30T07:56:19.976Z"
   },
   {
    "duration": 18,
    "start_time": "2022-04-30T07:56:27.443Z"
   },
   {
    "duration": 9,
    "start_time": "2022-04-30T07:56:52.693Z"
   },
   {
    "duration": 8,
    "start_time": "2022-04-30T08:01:19.665Z"
   },
   {
    "duration": 37,
    "start_time": "2022-04-30T08:01:29.487Z"
   },
   {
    "duration": 243,
    "start_time": "2022-04-30T08:09:30.966Z"
   },
   {
    "duration": 78,
    "start_time": "2022-04-30T08:09:50.757Z"
   },
   {
    "duration": 19,
    "start_time": "2022-04-30T08:10:36.751Z"
   },
   {
    "duration": 19,
    "start_time": "2022-04-30T08:11:34.459Z"
   },
   {
    "duration": 11,
    "start_time": "2022-04-30T08:11:46.260Z"
   },
   {
    "duration": 29,
    "start_time": "2022-04-30T08:13:15.269Z"
   },
   {
    "duration": 32,
    "start_time": "2022-04-30T08:13:29.549Z"
   },
   {
    "duration": 10,
    "start_time": "2022-04-30T08:13:48.245Z"
   },
   {
    "duration": 29,
    "start_time": "2022-04-30T08:16:31.801Z"
   },
   {
    "duration": 21,
    "start_time": "2022-04-30T08:17:18.561Z"
   },
   {
    "duration": 7,
    "start_time": "2022-04-30T08:23:30.926Z"
   },
   {
    "duration": 182,
    "start_time": "2022-04-30T08:23:40.072Z"
   },
   {
    "duration": 177,
    "start_time": "2022-04-30T08:25:31.712Z"
   },
   {
    "duration": 173,
    "start_time": "2022-04-30T08:25:41.286Z"
   },
   {
    "duration": 170,
    "start_time": "2022-04-30T08:25:58.166Z"
   },
   {
    "duration": 28,
    "start_time": "2022-04-30T08:30:14.627Z"
   },
   {
    "duration": 6,
    "start_time": "2022-04-30T08:34:06.241Z"
   },
   {
    "duration": 13,
    "start_time": "2022-04-30T08:34:15.190Z"
   },
   {
    "duration": 7,
    "start_time": "2022-04-30T08:35:52.884Z"
   },
   {
    "duration": 22,
    "start_time": "2022-04-30T08:36:05.205Z"
   },
   {
    "duration": 21,
    "start_time": "2022-04-30T08:38:19.819Z"
   },
   {
    "duration": 15,
    "start_time": "2022-04-30T08:45:40.430Z"
   },
   {
    "duration": 10,
    "start_time": "2022-04-30T08:55:50.952Z"
   },
   {
    "duration": 11,
    "start_time": "2022-04-30T08:57:34.271Z"
   },
   {
    "duration": 9,
    "start_time": "2022-04-30T08:59:26.075Z"
   },
   {
    "duration": 15,
    "start_time": "2022-04-30T09:00:18.120Z"
   },
   {
    "duration": 15,
    "start_time": "2022-04-30T09:01:57.740Z"
   },
   {
    "duration": 23,
    "start_time": "2022-04-30T09:02:59.543Z"
   },
   {
    "duration": 12,
    "start_time": "2022-04-30T09:03:45.701Z"
   },
   {
    "duration": 8,
    "start_time": "2022-04-30T09:06:37.459Z"
   },
   {
    "duration": 20,
    "start_time": "2022-04-30T09:06:51.555Z"
   },
   {
    "duration": 16,
    "start_time": "2022-04-30T09:09:30.801Z"
   },
   {
    "duration": 32,
    "start_time": "2022-04-30T09:19:18.770Z"
   },
   {
    "duration": 19,
    "start_time": "2022-04-30T09:20:33.507Z"
   },
   {
    "duration": 240,
    "start_time": "2022-04-30T09:26:21.710Z"
   },
   {
    "duration": 28,
    "start_time": "2022-04-30T09:28:24.213Z"
   },
   {
    "duration": 40,
    "start_time": "2022-04-30T09:28:34.317Z"
   },
   {
    "duration": 44,
    "start_time": "2022-04-30T09:33:32.510Z"
   },
   {
    "duration": 52,
    "start_time": "2022-04-30T09:57:07.659Z"
   },
   {
    "duration": 50,
    "start_time": "2022-04-30T09:57:47.685Z"
   },
   {
    "duration": 65,
    "start_time": "2022-04-30T10:00:01.920Z"
   },
   {
    "duration": 3,
    "start_time": "2022-04-30T10:01:07.591Z"
   },
   {
    "duration": 230,
    "start_time": "2022-04-30T10:01:07.604Z"
   },
   {
    "duration": 36,
    "start_time": "2022-04-30T10:01:07.837Z"
   },
   {
    "duration": 204,
    "start_time": "2022-04-30T10:01:07.876Z"
   },
   {
    "duration": 16,
    "start_time": "2022-04-30T10:01:08.083Z"
   },
   {
    "duration": 8,
    "start_time": "2022-04-30T10:01:08.101Z"
   },
   {
    "duration": 14,
    "start_time": "2022-04-30T10:01:08.134Z"
   },
   {
    "duration": 16,
    "start_time": "2022-04-30T10:01:08.150Z"
   },
   {
    "duration": 77,
    "start_time": "2022-04-30T10:01:08.168Z"
   },
   {
    "duration": 29,
    "start_time": "2022-04-30T10:03:17.502Z"
   },
   {
    "duration": 61,
    "start_time": "2022-04-30T10:12:28.384Z"
   },
   {
    "duration": 8,
    "start_time": "2022-04-30T10:12:45.492Z"
   },
   {
    "duration": 48,
    "start_time": "2022-04-30T10:12:50.849Z"
   },
   {
    "duration": 46,
    "start_time": "2022-04-30T10:13:12.592Z"
   },
   {
    "duration": 12,
    "start_time": "2022-04-30T10:13:53.541Z"
   },
   {
    "duration": 36,
    "start_time": "2022-04-30T10:16:11.674Z"
   },
   {
    "duration": 25,
    "start_time": "2022-04-30T10:16:32.797Z"
   },
   {
    "duration": 10,
    "start_time": "2022-04-30T10:19:59.810Z"
   },
   {
    "duration": 10,
    "start_time": "2022-04-30T10:21:01.337Z"
   },
   {
    "duration": 17,
    "start_time": "2022-04-30T10:23:07.828Z"
   },
   {
    "duration": 10,
    "start_time": "2022-04-30T10:23:31.980Z"
   },
   {
    "duration": 15,
    "start_time": "2022-04-30T10:23:38.053Z"
   },
   {
    "duration": 16,
    "start_time": "2022-04-30T10:24:29.590Z"
   },
   {
    "duration": 70,
    "start_time": "2022-04-30T10:38:03.226Z"
   },
   {
    "duration": 22,
    "start_time": "2022-04-30T10:38:57.015Z"
   },
   {
    "duration": 11,
    "start_time": "2022-04-30T10:39:20.542Z"
   },
   {
    "duration": 30,
    "start_time": "2022-04-30T10:39:25.772Z"
   },
   {
    "duration": 15,
    "start_time": "2022-04-30T10:39:39.243Z"
   },
   {
    "duration": 9,
    "start_time": "2022-04-30T10:40:26.977Z"
   },
   {
    "duration": 73,
    "start_time": "2022-04-30T10:41:14.183Z"
   },
   {
    "duration": 9,
    "start_time": "2022-04-30T10:42:06.125Z"
   },
   {
    "duration": 30,
    "start_time": "2022-04-30T10:45:36.665Z"
   },
   {
    "duration": 137,
    "start_time": "2022-04-30T10:46:44.879Z"
   },
   {
    "duration": 148,
    "start_time": "2022-04-30T10:46:59.437Z"
   },
   {
    "duration": 26,
    "start_time": "2022-04-30T10:50:30.658Z"
   },
   {
    "duration": 61,
    "start_time": "2022-04-30T10:50:45.383Z"
   },
   {
    "duration": 40,
    "start_time": "2022-04-30T10:50:55.729Z"
   },
   {
    "duration": 10,
    "start_time": "2022-04-30T10:53:51.033Z"
   },
   {
    "duration": 12,
    "start_time": "2022-04-30T10:54:06.167Z"
   },
   {
    "duration": 11,
    "start_time": "2022-04-30T10:54:17.607Z"
   },
   {
    "duration": 11,
    "start_time": "2022-04-30T10:54:33.672Z"
   },
   {
    "duration": 28,
    "start_time": "2022-04-30T11:03:05.420Z"
   },
   {
    "duration": 16,
    "start_time": "2022-04-30T11:04:22.156Z"
   },
   {
    "duration": 22,
    "start_time": "2022-04-30T11:06:31.039Z"
   },
   {
    "duration": 27,
    "start_time": "2022-04-30T12:06:58.970Z"
   },
   {
    "duration": 10,
    "start_time": "2022-04-30T12:15:29.898Z"
   },
   {
    "duration": 7,
    "start_time": "2022-04-30T12:15:41.049Z"
   },
   {
    "duration": 27,
    "start_time": "2022-04-30T12:15:57.214Z"
   },
   {
    "duration": 9,
    "start_time": "2022-04-30T12:17:45.775Z"
   },
   {
    "duration": 10,
    "start_time": "2022-04-30T12:18:24.010Z"
   },
   {
    "duration": 118,
    "start_time": "2022-04-30T12:18:50.207Z"
   },
   {
    "duration": 22,
    "start_time": "2022-04-30T12:21:06.749Z"
   },
   {
    "duration": 10,
    "start_time": "2022-04-30T12:25:05.063Z"
   },
   {
    "duration": 8,
    "start_time": "2022-04-30T12:25:11.027Z"
   },
   {
    "duration": 16,
    "start_time": "2022-04-30T12:25:21.178Z"
   },
   {
    "duration": 13,
    "start_time": "2022-04-30T12:25:33.020Z"
   },
   {
    "duration": 23,
    "start_time": "2022-04-30T12:25:49.503Z"
   },
   {
    "duration": 691,
    "start_time": "2022-04-30T12:26:29.578Z"
   },
   {
    "duration": 18,
    "start_time": "2022-04-30T12:27:23.890Z"
   },
   {
    "duration": 3,
    "start_time": "2022-04-30T12:27:39.544Z"
   },
   {
    "duration": 9,
    "start_time": "2022-04-30T12:28:19.553Z"
   },
   {
    "duration": 8,
    "start_time": "2022-04-30T12:28:38.996Z"
   },
   {
    "duration": 316,
    "start_time": "2022-04-30T12:29:27.196Z"
   },
   {
    "duration": 213,
    "start_time": "2022-04-30T12:29:40.556Z"
   },
   {
    "duration": 16,
    "start_time": "2022-04-30T12:30:43.084Z"
   },
   {
    "duration": 16,
    "start_time": "2022-04-30T12:30:58.103Z"
   },
   {
    "duration": 237,
    "start_time": "2022-04-30T12:31:05.326Z"
   },
   {
    "duration": 20,
    "start_time": "2022-04-30T12:34:40.917Z"
   },
   {
    "duration": 19,
    "start_time": "2022-04-30T12:36:07.110Z"
   },
   {
    "duration": 208,
    "start_time": "2022-04-30T12:36:34.466Z"
   },
   {
    "duration": 180,
    "start_time": "2022-04-30T12:36:59.910Z"
   },
   {
    "duration": 989,
    "start_time": "2022-05-02T06:35:58.815Z"
   },
   {
    "duration": 237,
    "start_time": "2022-05-02T06:35:59.807Z"
   },
   {
    "duration": 38,
    "start_time": "2022-05-02T06:36:00.046Z"
   },
   {
    "duration": 206,
    "start_time": "2022-05-02T06:36:00.087Z"
   },
   {
    "duration": 16,
    "start_time": "2022-05-02T06:36:00.294Z"
   },
   {
    "duration": 94,
    "start_time": "2022-05-02T06:36:00.312Z"
   },
   {
    "duration": 22,
    "start_time": "2022-05-02T06:36:00.408Z"
   },
   {
    "duration": 13,
    "start_time": "2022-05-02T06:36:00.432Z"
   },
   {
    "duration": 52,
    "start_time": "2022-05-02T06:36:00.446Z"
   },
   {
    "duration": 11,
    "start_time": "2022-05-02T06:36:00.501Z"
   },
   {
    "duration": 20,
    "start_time": "2022-05-02T06:36:00.514Z"
   },
   {
    "duration": 171,
    "start_time": "2022-05-02T06:36:00.536Z"
   },
   {
    "duration": 62,
    "start_time": "2022-05-02T06:36:00.709Z"
   },
   {
    "duration": 11,
    "start_time": "2022-05-02T06:36:00.773Z"
   },
   {
    "duration": 22,
    "start_time": "2022-05-02T06:36:00.785Z"
   },
   {
    "duration": 15,
    "start_time": "2022-05-02T06:36:00.809Z"
   },
   {
    "duration": 108,
    "start_time": "2022-05-02T06:36:00.826Z"
   },
   {
    "duration": 0,
    "start_time": "2022-05-02T06:36:00.936Z"
   },
   {
    "duration": 0,
    "start_time": "2022-05-02T06:36:00.937Z"
   },
   {
    "duration": 0,
    "start_time": "2022-05-02T06:36:00.938Z"
   },
   {
    "duration": 0,
    "start_time": "2022-05-02T06:36:00.939Z"
   },
   {
    "duration": 0,
    "start_time": "2022-05-02T06:36:00.940Z"
   },
   {
    "duration": 32,
    "start_time": "2022-05-02T06:36:18.997Z"
   },
   {
    "duration": 45,
    "start_time": "2022-05-02T06:37:37.621Z"
   },
   {
    "duration": 49,
    "start_time": "2022-05-02T06:38:17.340Z"
   },
   {
    "duration": 48,
    "start_time": "2022-05-02T06:39:42.378Z"
   },
   {
    "duration": 51,
    "start_time": "2022-05-02T06:40:02.922Z"
   },
   {
    "duration": 32,
    "start_time": "2022-05-02T06:40:56.457Z"
   },
   {
    "duration": 52,
    "start_time": "2022-05-02T06:41:03.945Z"
   },
   {
    "duration": 3,
    "start_time": "2022-05-02T06:51:54.950Z"
   },
   {
    "duration": 236,
    "start_time": "2022-05-02T06:51:54.961Z"
   },
   {
    "duration": 43,
    "start_time": "2022-05-02T06:51:55.198Z"
   },
   {
    "duration": 202,
    "start_time": "2022-05-02T06:51:55.243Z"
   },
   {
    "duration": 16,
    "start_time": "2022-05-02T06:51:55.447Z"
   },
   {
    "duration": 87,
    "start_time": "2022-05-02T06:51:55.465Z"
   },
   {
    "duration": 22,
    "start_time": "2022-05-02T06:51:55.555Z"
   },
   {
    "duration": 11,
    "start_time": "2022-05-02T06:51:55.578Z"
   },
   {
    "duration": 35,
    "start_time": "2022-05-02T06:51:55.591Z"
   },
   {
    "duration": 11,
    "start_time": "2022-05-02T06:51:55.633Z"
   },
   {
    "duration": 11,
    "start_time": "2022-05-02T06:51:55.647Z"
   },
   {
    "duration": 166,
    "start_time": "2022-05-02T06:51:55.660Z"
   },
   {
    "duration": 56,
    "start_time": "2022-05-02T06:51:55.828Z"
   },
   {
    "duration": 11,
    "start_time": "2022-05-02T06:51:55.886Z"
   },
   {
    "duration": 40,
    "start_time": "2022-05-02T06:51:55.899Z"
   },
   {
    "duration": 14,
    "start_time": "2022-05-02T06:51:55.941Z"
   },
   {
    "duration": 32,
    "start_time": "2022-05-02T06:51:55.957Z"
   },
   {
    "duration": 77,
    "start_time": "2022-05-02T06:51:55.991Z"
   },
   {
    "duration": 76,
    "start_time": "2022-05-02T06:51:56.070Z"
   },
   {
    "duration": 20,
    "start_time": "2022-05-02T06:51:56.148Z"
   },
   {
    "duration": 236,
    "start_time": "2022-05-02T06:51:56.170Z"
   },
   {
    "duration": 5,
    "start_time": "2022-05-02T06:51:56.408Z"
   },
   {
    "duration": 14,
    "start_time": "2022-05-02T06:56:54.471Z"
   },
   {
    "duration": 54,
    "start_time": "2022-05-02T07:02:03.178Z"
   },
   {
    "duration": 276,
    "start_time": "2022-05-02T07:08:12.671Z"
   },
   {
    "duration": 218,
    "start_time": "2022-05-02T07:08:46.253Z"
   },
   {
    "duration": 266,
    "start_time": "2022-05-02T07:08:58.240Z"
   },
   {
    "duration": 215,
    "start_time": "2022-05-02T07:09:47.481Z"
   },
   {
    "duration": 886,
    "start_time": "2022-05-03T06:51:38.714Z"
   },
   {
    "duration": 1888,
    "start_time": "2022-05-03T06:51:39.603Z"
   },
   {
    "duration": 42,
    "start_time": "2022-05-03T06:51:41.492Z"
   },
   {
    "duration": 167,
    "start_time": "2022-05-03T06:51:41.536Z"
   },
   {
    "duration": 21,
    "start_time": "2022-05-03T06:51:41.705Z"
   },
   {
    "duration": 106,
    "start_time": "2022-05-03T06:51:41.728Z"
   },
   {
    "duration": 55,
    "start_time": "2022-05-03T06:51:41.836Z"
   },
   {
    "duration": 9,
    "start_time": "2022-05-03T06:51:41.892Z"
   },
   {
    "duration": 443,
    "start_time": "2022-05-03T06:51:41.903Z"
   },
   {
    "duration": 9,
    "start_time": "2022-05-03T06:51:42.349Z"
   },
   {
    "duration": 12,
    "start_time": "2022-05-03T06:51:42.359Z"
   },
   {
    "duration": 163,
    "start_time": "2022-05-03T06:51:42.373Z"
   },
   {
    "duration": 62,
    "start_time": "2022-05-03T06:51:42.538Z"
   },
   {
    "duration": 14,
    "start_time": "2022-05-03T06:51:42.602Z"
   },
   {
    "duration": 17,
    "start_time": "2022-05-03T06:51:42.618Z"
   },
   {
    "duration": 13,
    "start_time": "2022-05-03T06:51:42.637Z"
   },
   {
    "duration": 52,
    "start_time": "2022-05-03T06:51:42.651Z"
   },
   {
    "duration": 66,
    "start_time": "2022-05-03T06:51:42.705Z"
   },
   {
    "duration": 85,
    "start_time": "2022-05-03T06:51:42.772Z"
   },
   {
    "duration": 18,
    "start_time": "2022-05-03T06:51:42.859Z"
   },
   {
    "duration": 238,
    "start_time": "2022-05-03T06:51:42.879Z"
   },
   {
    "duration": 6,
    "start_time": "2022-05-03T06:51:43.119Z"
   },
   {
    "duration": 54,
    "start_time": "2022-05-03T06:51:43.126Z"
   },
   {
    "duration": 300,
    "start_time": "2022-05-03T06:51:43.182Z"
   },
   {
    "duration": 91,
    "start_time": "2022-05-03T06:51:43.483Z"
   },
   {
    "duration": 11,
    "start_time": "2022-05-03T06:52:27.673Z"
   },
   {
    "duration": 38,
    "start_time": "2022-05-03T06:53:21.851Z"
   },
   {
    "duration": 15,
    "start_time": "2022-05-03T06:54:30.859Z"
   },
   {
    "duration": 2,
    "start_time": "2022-05-03T06:54:37.673Z"
   },
   {
    "duration": 237,
    "start_time": "2022-05-03T06:54:37.680Z"
   },
   {
    "duration": 33,
    "start_time": "2022-05-03T06:54:37.920Z"
   },
   {
    "duration": 189,
    "start_time": "2022-05-03T06:54:37.955Z"
   },
   {
    "duration": 13,
    "start_time": "2022-05-03T06:54:38.146Z"
   },
   {
    "duration": 86,
    "start_time": "2022-05-03T06:54:38.161Z"
   },
   {
    "duration": 21,
    "start_time": "2022-05-03T06:54:38.249Z"
   },
   {
    "duration": 9,
    "start_time": "2022-05-03T06:54:38.272Z"
   },
   {
    "duration": 58,
    "start_time": "2022-05-03T06:54:38.282Z"
   },
   {
    "duration": 10,
    "start_time": "2022-05-03T06:54:38.342Z"
   },
   {
    "duration": 11,
    "start_time": "2022-05-03T06:54:38.354Z"
   },
   {
    "duration": 166,
    "start_time": "2022-05-03T06:54:38.367Z"
   },
   {
    "duration": 47,
    "start_time": "2022-05-03T06:54:38.535Z"
   },
   {
    "duration": 21,
    "start_time": "2022-05-03T06:54:38.584Z"
   },
   {
    "duration": 53,
    "start_time": "2022-05-03T06:54:38.607Z"
   },
   {
    "duration": 22,
    "start_time": "2022-05-03T06:54:38.662Z"
   },
   {
    "duration": 21,
    "start_time": "2022-05-03T06:54:38.686Z"
   },
   {
    "duration": 39,
    "start_time": "2022-05-03T06:54:38.709Z"
   },
   {
    "duration": 58,
    "start_time": "2022-05-03T06:54:38.749Z"
   },
   {
    "duration": 35,
    "start_time": "2022-05-03T06:54:38.809Z"
   },
   {
    "duration": 17,
    "start_time": "2022-05-03T06:54:38.846Z"
   },
   {
    "duration": 205,
    "start_time": "2022-05-03T06:54:38.865Z"
   },
   {
    "duration": 5,
    "start_time": "2022-05-03T06:54:39.072Z"
   },
   {
    "duration": 59,
    "start_time": "2022-05-03T06:54:39.078Z"
   },
   {
    "duration": 253,
    "start_time": "2022-05-03T06:54:39.138Z"
   },
   {
    "duration": 21,
    "start_time": "2022-05-03T06:54:39.393Z"
   },
   {
    "duration": 177,
    "start_time": "2022-05-03T06:54:39.416Z"
   },
   {
    "duration": 341,
    "start_time": "2022-05-03T06:55:36.098Z"
   },
   {
    "duration": 200,
    "start_time": "2022-05-03T06:56:02.681Z"
   },
   {
    "duration": 209,
    "start_time": "2022-05-03T06:56:50.724Z"
   },
   {
    "duration": 197,
    "start_time": "2022-05-03T06:57:08.975Z"
   },
   {
    "duration": 232,
    "start_time": "2022-05-03T07:00:49.474Z"
   },
   {
    "duration": 530,
    "start_time": "2022-05-03T07:02:44.516Z"
   },
   {
    "duration": 48,
    "start_time": "2022-05-03T07:03:39.693Z"
   },
   {
    "duration": 28,
    "start_time": "2022-05-03T07:04:23.740Z"
   },
   {
    "duration": 19,
    "start_time": "2022-05-03T07:07:48.642Z"
   },
   {
    "duration": 25,
    "start_time": "2022-05-03T07:09:36.659Z"
   },
   {
    "duration": 26,
    "start_time": "2022-05-03T07:11:00.963Z"
   },
   {
    "duration": 116,
    "start_time": "2022-05-03T07:11:29.620Z"
   },
   {
    "duration": 136,
    "start_time": "2022-05-03T07:11:53.766Z"
   },
   {
    "duration": 348,
    "start_time": "2022-05-03T07:12:39.399Z"
   },
   {
    "duration": 156,
    "start_time": "2022-05-03T07:12:46.096Z"
   },
   {
    "duration": 155,
    "start_time": "2022-05-03T07:13:13.161Z"
   },
   {
    "duration": 214,
    "start_time": "2022-05-03T07:13:54.379Z"
   },
   {
    "duration": 173,
    "start_time": "2022-05-03T07:15:38.852Z"
   },
   {
    "duration": 20,
    "start_time": "2022-05-03T07:29:31.688Z"
   },
   {
    "duration": 13,
    "start_time": "2022-05-03T07:31:01.132Z"
   },
   {
    "duration": 43,
    "start_time": "2022-05-03T07:33:41.301Z"
   },
   {
    "duration": 33,
    "start_time": "2022-05-03T07:34:57.045Z"
   },
   {
    "duration": 31,
    "start_time": "2022-05-03T07:35:24.967Z"
   },
   {
    "duration": 34,
    "start_time": "2022-05-03T07:35:41.328Z"
   },
   {
    "duration": 13,
    "start_time": "2022-05-03T07:39:49.516Z"
   },
   {
    "duration": 15,
    "start_time": "2022-05-03T07:41:02.860Z"
   },
   {
    "duration": 13,
    "start_time": "2022-05-03T07:41:24.160Z"
   },
   {
    "duration": 20,
    "start_time": "2022-05-03T08:33:33.522Z"
   },
   {
    "duration": 98567,
    "start_time": "2022-05-03T08:34:21.506Z"
   },
   {
    "duration": 115513,
    "start_time": "2022-05-03T08:42:19.143Z"
   },
   {
    "duration": 6,
    "start_time": "2022-05-03T08:49:07.915Z"
   },
   {
    "duration": 12,
    "start_time": "2022-05-03T08:49:17.097Z"
   },
   {
    "duration": 15,
    "start_time": "2022-05-03T08:52:17.477Z"
   },
   {
    "duration": 12,
    "start_time": "2022-05-03T08:54:23.137Z"
   },
   {
    "duration": 15,
    "start_time": "2022-05-03T08:54:35.868Z"
   },
   {
    "duration": 15,
    "start_time": "2022-05-03T08:58:45.114Z"
   },
   {
    "duration": 15,
    "start_time": "2022-05-03T09:01:50.580Z"
   },
   {
    "duration": 11,
    "start_time": "2022-05-03T09:09:56.649Z"
   },
   {
    "duration": 16,
    "start_time": "2022-05-03T09:11:16.768Z"
   },
   {
    "duration": 19,
    "start_time": "2022-05-03T09:13:36.471Z"
   },
   {
    "duration": 25,
    "start_time": "2022-05-03T09:13:49.310Z"
   },
   {
    "duration": 30,
    "start_time": "2022-05-03T09:14:46.200Z"
   },
   {
    "duration": 31,
    "start_time": "2022-05-03T09:15:08.172Z"
   },
   {
    "duration": 16,
    "start_time": "2022-05-03T09:15:32.731Z"
   },
   {
    "duration": 15,
    "start_time": "2022-05-03T09:16:36.217Z"
   },
   {
    "duration": 17,
    "start_time": "2022-05-03T09:17:00.238Z"
   },
   {
    "duration": 14,
    "start_time": "2022-05-03T09:17:46.880Z"
   },
   {
    "duration": 15,
    "start_time": "2022-05-03T09:18:05.940Z"
   },
   {
    "duration": 2,
    "start_time": "2022-05-03T18:41:32.941Z"
   },
   {
    "duration": 1014,
    "start_time": "2022-05-03T18:41:32.945Z"
   },
   {
    "duration": 30,
    "start_time": "2022-05-03T18:41:33.961Z"
   },
   {
    "duration": 141,
    "start_time": "2022-05-03T18:41:33.992Z"
   },
   {
    "duration": 13,
    "start_time": "2022-05-03T18:41:34.135Z"
   },
   {
    "duration": 84,
    "start_time": "2022-05-03T18:41:34.150Z"
   },
   {
    "duration": 1825,
    "start_time": "2022-05-03T18:41:34.236Z"
   },
   {
    "duration": 8,
    "start_time": "2022-05-03T18:41:36.063Z"
   },
   {
    "duration": 39,
    "start_time": "2022-05-03T18:41:36.073Z"
   },
   {
    "duration": 8,
    "start_time": "2022-05-03T18:41:36.113Z"
   },
   {
    "duration": 22,
    "start_time": "2022-05-03T18:41:36.123Z"
   },
   {
    "duration": 133,
    "start_time": "2022-05-03T18:41:36.146Z"
   },
   {
    "duration": 49,
    "start_time": "2022-05-03T18:41:36.281Z"
   },
   {
    "duration": 8,
    "start_time": "2022-05-03T18:41:36.332Z"
   },
   {
    "duration": 46,
    "start_time": "2022-05-03T18:41:36.342Z"
   },
   {
    "duration": 8,
    "start_time": "2022-05-03T18:41:41.394Z"
   },
   {
    "duration": 8,
    "start_time": "2022-05-03T18:41:49.485Z"
   },
   {
    "duration": 43,
    "start_time": "2022-05-03T18:42:00.368Z"
   },
   {
    "duration": 46,
    "start_time": "2022-05-03T18:42:15.821Z"
   },
   {
    "duration": 45,
    "start_time": "2022-05-03T18:43:33.464Z"
   },
   {
    "duration": 53,
    "start_time": "2022-05-03T18:49:00.758Z"
   },
   {
    "duration": 51,
    "start_time": "2022-05-03T18:49:25.192Z"
   },
   {
    "duration": 78,
    "start_time": "2022-05-03T18:53:37.237Z"
   },
   {
    "duration": 2,
    "start_time": "2022-05-03T19:19:12.433Z"
   },
   {
    "duration": 204,
    "start_time": "2022-05-03T19:19:12.437Z"
   },
   {
    "duration": 32,
    "start_time": "2022-05-03T19:19:12.643Z"
   },
   {
    "duration": 158,
    "start_time": "2022-05-03T19:19:12.677Z"
   },
   {
    "duration": 14,
    "start_time": "2022-05-03T19:19:12.837Z"
   },
   {
    "duration": 75,
    "start_time": "2022-05-03T19:19:12.853Z"
   },
   {
    "duration": 21,
    "start_time": "2022-05-03T19:19:12.930Z"
   },
   {
    "duration": 10,
    "start_time": "2022-05-03T19:19:12.952Z"
   },
   {
    "duration": 32,
    "start_time": "2022-05-03T19:19:12.963Z"
   },
   {
    "duration": 9,
    "start_time": "2022-05-03T19:19:12.997Z"
   },
   {
    "duration": 15,
    "start_time": "2022-05-03T19:19:13.008Z"
   },
   {
    "duration": 216,
    "start_time": "2022-05-03T19:19:13.024Z"
   },
   {
    "duration": 93,
    "start_time": "2022-05-03T19:19:13.241Z"
   },
   {
    "duration": 10,
    "start_time": "2022-05-03T19:19:13.336Z"
   },
   {
    "duration": 38,
    "start_time": "2022-05-03T19:19:13.348Z"
   },
   {
    "duration": 40,
    "start_time": "2022-05-03T19:19:22.537Z"
   },
   {
    "duration": 43,
    "start_time": "2022-05-03T19:19:34.521Z"
   },
   {
    "duration": 3,
    "start_time": "2022-05-03T19:19:41.216Z"
   },
   {
    "duration": 203,
    "start_time": "2022-05-03T19:19:41.221Z"
   },
   {
    "duration": 31,
    "start_time": "2022-05-03T19:19:41.426Z"
   },
   {
    "duration": 160,
    "start_time": "2022-05-03T19:19:41.458Z"
   },
   {
    "duration": 12,
    "start_time": "2022-05-03T19:19:41.621Z"
   },
   {
    "duration": 69,
    "start_time": "2022-05-03T19:19:41.635Z"
   },
   {
    "duration": 23,
    "start_time": "2022-05-03T19:19:41.706Z"
   },
   {
    "duration": 11,
    "start_time": "2022-05-03T19:19:41.730Z"
   },
   {
    "duration": 35,
    "start_time": "2022-05-03T19:19:41.742Z"
   },
   {
    "duration": 9,
    "start_time": "2022-05-03T19:19:41.778Z"
   },
   {
    "duration": 14,
    "start_time": "2022-05-03T19:19:41.790Z"
   },
   {
    "duration": 135,
    "start_time": "2022-05-03T19:19:41.806Z"
   },
   {
    "duration": 46,
    "start_time": "2022-05-03T19:19:41.942Z"
   },
   {
    "duration": 10,
    "start_time": "2022-05-03T19:19:41.999Z"
   },
   {
    "duration": 39,
    "start_time": "2022-05-03T19:19:42.010Z"
   },
   {
    "duration": 55,
    "start_time": "2022-05-03T19:19:42.050Z"
   },
   {
    "duration": 44,
    "start_time": "2022-05-03T19:19:49.543Z"
   },
   {
    "duration": 3,
    "start_time": "2022-05-03T19:19:54.885Z"
   },
   {
    "duration": 215,
    "start_time": "2022-05-03T19:19:54.890Z"
   },
   {
    "duration": 31,
    "start_time": "2022-05-03T19:19:55.107Z"
   },
   {
    "duration": 173,
    "start_time": "2022-05-03T19:19:55.139Z"
   },
   {
    "duration": 13,
    "start_time": "2022-05-03T19:19:55.314Z"
   },
   {
    "duration": 75,
    "start_time": "2022-05-03T19:19:55.328Z"
   },
   {
    "duration": 21,
    "start_time": "2022-05-03T19:19:55.405Z"
   },
   {
    "duration": 9,
    "start_time": "2022-05-03T19:19:55.428Z"
   },
   {
    "duration": 34,
    "start_time": "2022-05-03T19:19:55.438Z"
   },
   {
    "duration": 9,
    "start_time": "2022-05-03T19:19:55.473Z"
   },
   {
    "duration": 18,
    "start_time": "2022-05-03T19:19:55.484Z"
   },
   {
    "duration": 128,
    "start_time": "2022-05-03T19:19:55.504Z"
   },
   {
    "duration": 47,
    "start_time": "2022-05-03T19:19:55.633Z"
   },
   {
    "duration": 27,
    "start_time": "2022-05-03T19:19:55.682Z"
   },
   {
    "duration": 38,
    "start_time": "2022-05-03T19:19:55.711Z"
   },
   {
    "duration": 56,
    "start_time": "2022-05-03T19:19:55.750Z"
   },
   {
    "duration": 799,
    "start_time": "2022-05-04T11:51:51.314Z"
   },
   {
    "duration": 672,
    "start_time": "2022-05-04T11:51:52.115Z"
   },
   {
    "duration": 34,
    "start_time": "2022-05-04T11:51:52.789Z"
   },
   {
    "duration": 188,
    "start_time": "2022-05-04T11:51:52.826Z"
   },
   {
    "duration": 14,
    "start_time": "2022-05-04T11:51:53.016Z"
   },
   {
    "duration": 83,
    "start_time": "2022-05-04T11:51:53.031Z"
   },
   {
    "duration": 1510,
    "start_time": "2022-05-04T11:51:53.116Z"
   },
   {
    "duration": 10,
    "start_time": "2022-05-04T11:51:54.627Z"
   },
   {
    "duration": 51,
    "start_time": "2022-05-04T11:51:54.638Z"
   },
   {
    "duration": 10,
    "start_time": "2022-05-04T11:51:54.692Z"
   },
   {
    "duration": 11,
    "start_time": "2022-05-04T11:51:54.704Z"
   },
   {
    "duration": 144,
    "start_time": "2022-05-04T11:51:54.717Z"
   },
   {
    "duration": 57,
    "start_time": "2022-05-04T11:51:54.863Z"
   },
   {
    "duration": 26,
    "start_time": "2022-05-04T11:51:54.922Z"
   },
   {
    "duration": 40,
    "start_time": "2022-05-04T11:51:54.950Z"
   },
   {
    "duration": 61,
    "start_time": "2022-05-04T11:51:54.991Z"
   },
   {
    "duration": 136136,
    "start_time": "2022-05-04T11:51:55.054Z"
   },
   {
    "duration": 14,
    "start_time": "2022-05-04T11:54:11.192Z"
   },
   {
    "duration": 48,
    "start_time": "2022-05-04T11:54:11.208Z"
   },
   {
    "duration": 39,
    "start_time": "2022-05-04T11:54:11.259Z"
   },
   {
    "duration": 16,
    "start_time": "2022-05-04T11:54:11.300Z"
   },
   {
    "duration": 39,
    "start_time": "2022-05-04T11:54:11.318Z"
   },
   {
    "duration": 19,
    "start_time": "2022-05-04T11:54:11.360Z"
   },
   {
    "duration": 18,
    "start_time": "2022-05-04T11:54:11.381Z"
   },
   {
    "duration": 50,
    "start_time": "2022-05-04T11:54:11.401Z"
   },
   {
    "duration": 24,
    "start_time": "2022-05-04T11:54:11.454Z"
   },
   {
    "duration": 255,
    "start_time": "2022-05-04T11:54:11.480Z"
   },
   {
    "duration": 12,
    "start_time": "2022-05-04T11:54:11.738Z"
   },
   {
    "duration": 53,
    "start_time": "2022-05-04T11:54:11.752Z"
   },
   {
    "duration": 269,
    "start_time": "2022-05-04T11:54:11.806Z"
   },
   {
    "duration": 15,
    "start_time": "2022-05-04T11:54:12.077Z"
   },
   {
    "duration": 191,
    "start_time": "2022-05-04T11:54:12.093Z"
   },
   {
    "duration": 1852,
    "start_time": "2022-05-04T11:59:42.512Z"
   },
   {
    "duration": 27,
    "start_time": "2022-05-04T11:59:51.417Z"
   },
   {
    "duration": 22,
    "start_time": "2022-05-04T12:02:40.431Z"
   },
   {
    "duration": 168,
    "start_time": "2022-05-04T12:03:40.265Z"
   },
   {
    "duration": 36,
    "start_time": "2022-05-04T12:06:24.711Z"
   },
   {
    "duration": 22,
    "start_time": "2022-05-04T12:09:54.763Z"
   },
   {
    "duration": 186,
    "start_time": "2022-05-04T12:10:37.264Z"
   },
   {
    "duration": 17,
    "start_time": "2022-05-04T12:13:36.418Z"
   },
   {
    "duration": 11,
    "start_time": "2022-05-04T12:13:58.864Z"
   },
   {
    "duration": 12,
    "start_time": "2022-05-04T12:14:10.119Z"
   },
   {
    "duration": 315,
    "start_time": "2022-05-04T12:14:21.253Z"
   },
   {
    "duration": 299,
    "start_time": "2022-05-04T12:14:38.771Z"
   },
   {
    "duration": 82,
    "start_time": "2022-05-04T16:45:20.309Z"
   },
   {
    "duration": 742,
    "start_time": "2022-05-04T17:04:44.258Z"
   },
   {
    "duration": 206,
    "start_time": "2022-05-04T17:04:45.003Z"
   },
   {
    "duration": 38,
    "start_time": "2022-05-04T17:04:45.210Z"
   },
   {
    "duration": 189,
    "start_time": "2022-05-04T17:04:45.250Z"
   },
   {
    "duration": 15,
    "start_time": "2022-05-04T17:04:45.440Z"
   },
   {
    "duration": 86,
    "start_time": "2022-05-04T17:04:45.456Z"
   },
   {
    "duration": 17,
    "start_time": "2022-05-04T17:04:45.544Z"
   },
   {
    "duration": 11,
    "start_time": "2022-05-04T17:04:45.562Z"
   },
   {
    "duration": 32,
    "start_time": "2022-05-04T17:04:45.574Z"
   },
   {
    "duration": 24,
    "start_time": "2022-05-04T17:04:45.608Z"
   },
   {
    "duration": 12,
    "start_time": "2022-05-04T17:04:45.634Z"
   },
   {
    "duration": 159,
    "start_time": "2022-05-04T17:04:45.648Z"
   },
   {
    "duration": 57,
    "start_time": "2022-05-04T17:04:45.809Z"
   },
   {
    "duration": 10,
    "start_time": "2022-05-04T17:04:45.868Z"
   },
   {
    "duration": 57,
    "start_time": "2022-05-04T17:04:45.879Z"
   },
   {
    "duration": 44,
    "start_time": "2022-05-04T17:04:45.938Z"
   },
   {
    "duration": 114966,
    "start_time": "2022-05-04T17:04:45.984Z"
   },
   {
    "duration": 11,
    "start_time": "2022-05-04T17:06:40.952Z"
   },
   {
    "duration": 16,
    "start_time": "2022-05-04T17:06:40.965Z"
   },
   {
    "duration": 62,
    "start_time": "2022-05-04T17:06:40.982Z"
   },
   {
    "duration": 25,
    "start_time": "2022-05-04T17:06:41.046Z"
   },
   {
    "duration": 14,
    "start_time": "2022-05-04T17:06:41.073Z"
   },
   {
    "duration": 34,
    "start_time": "2022-05-04T17:06:41.089Z"
   },
   {
    "duration": 19,
    "start_time": "2022-05-04T17:06:41.125Z"
   },
   {
    "duration": 235,
    "start_time": "2022-05-04T17:06:41.146Z"
   },
   {
    "duration": 5,
    "start_time": "2022-05-04T17:06:41.383Z"
   },
   {
    "duration": 54,
    "start_time": "2022-05-04T17:06:41.390Z"
   },
   {
    "duration": 244,
    "start_time": "2022-05-04T17:06:41.448Z"
   },
   {
    "duration": 15,
    "start_time": "2022-05-04T17:06:41.695Z"
   },
   {
    "duration": 161,
    "start_time": "2022-05-04T17:06:41.724Z"
   },
   {
    "duration": 10,
    "start_time": "2022-05-04T17:06:41.887Z"
   },
   {
    "duration": 205,
    "start_time": "2022-05-04T17:06:41.899Z"
   },
   {
    "duration": 23,
    "start_time": "2022-05-04T17:06:42.105Z"
   },
   {
    "duration": 18,
    "start_time": "2022-05-04T17:06:42.130Z"
   },
   {
    "duration": 11,
    "start_time": "2022-05-04T17:08:19.868Z"
   },
   {
    "duration": 54,
    "start_time": "2022-05-04T17:13:14.971Z"
   },
   {
    "duration": 67,
    "start_time": "2022-05-04T17:13:26.788Z"
   },
   {
    "duration": 73,
    "start_time": "2022-05-04T17:13:49.251Z"
   },
   {
    "duration": 50,
    "start_time": "2022-05-04T17:14:59.700Z"
   },
   {
    "duration": 10,
    "start_time": "2022-05-04T17:16:37.328Z"
   },
   {
    "duration": 8,
    "start_time": "2022-05-04T17:16:44.456Z"
   },
   {
    "duration": 8,
    "start_time": "2022-05-04T17:16:59.382Z"
   },
   {
    "duration": 10,
    "start_time": "2022-05-04T17:17:16.834Z"
   },
   {
    "duration": 9,
    "start_time": "2022-05-04T17:19:01.289Z"
   },
   {
    "duration": 10,
    "start_time": "2022-05-04T17:19:25.416Z"
   },
   {
    "duration": 12,
    "start_time": "2022-05-04T17:20:44.512Z"
   },
   {
    "duration": 20,
    "start_time": "2022-05-04T18:12:50.449Z"
   },
   {
    "duration": 36,
    "start_time": "2022-05-04T18:12:51.160Z"
   },
   {
    "duration": 24,
    "start_time": "2022-05-04T18:12:51.755Z"
   },
   {
    "duration": 15,
    "start_time": "2022-05-04T18:12:52.453Z"
   },
   {
    "duration": 14,
    "start_time": "2022-05-04T18:12:53.053Z"
   },
   {
    "duration": 20,
    "start_time": "2022-05-04T18:12:54.243Z"
   },
   {
    "duration": 284,
    "start_time": "2022-05-04T18:12:54.912Z"
   },
   {
    "duration": 5,
    "start_time": "2022-05-04T18:12:55.503Z"
   },
   {
    "duration": 42,
    "start_time": "2022-05-04T18:12:57.643Z"
   },
   {
    "duration": 606,
    "start_time": "2022-05-04T18:13:14.562Z"
   },
   {
    "duration": 737,
    "start_time": "2022-05-04T18:13:15.171Z"
   },
   {
    "duration": 37,
    "start_time": "2022-05-04T18:13:15.910Z"
   },
   {
    "duration": 164,
    "start_time": "2022-05-04T18:13:15.949Z"
   },
   {
    "duration": 18,
    "start_time": "2022-05-04T18:13:16.114Z"
   },
   {
    "duration": 67,
    "start_time": "2022-05-04T18:13:16.134Z"
   },
   {
    "duration": 43,
    "start_time": "2022-05-04T18:13:16.203Z"
   },
   {
    "duration": 9,
    "start_time": "2022-05-04T18:13:16.248Z"
   },
   {
    "duration": 42,
    "start_time": "2022-05-04T18:13:16.258Z"
   },
   {
    "duration": 10,
    "start_time": "2022-05-04T18:13:16.303Z"
   },
   {
    "duration": 16,
    "start_time": "2022-05-04T18:13:16.315Z"
   },
   {
    "duration": 144,
    "start_time": "2022-05-04T18:13:16.333Z"
   },
   {
    "duration": 65,
    "start_time": "2022-05-04T18:13:16.478Z"
   },
   {
    "duration": 10,
    "start_time": "2022-05-04T18:13:16.544Z"
   },
   {
    "duration": 38,
    "start_time": "2022-05-04T18:13:16.556Z"
   },
   {
    "duration": 62,
    "start_time": "2022-05-04T18:13:16.596Z"
   },
   {
    "duration": 120768,
    "start_time": "2022-05-04T18:13:16.660Z"
   },
   {
    "duration": 14,
    "start_time": "2022-05-04T18:15:17.430Z"
   },
   {
    "duration": 19,
    "start_time": "2022-05-04T18:15:17.445Z"
   },
   {
    "duration": 35,
    "start_time": "2022-05-04T18:15:17.465Z"
   },
   {
    "duration": 50,
    "start_time": "2022-05-04T18:15:17.502Z"
   },
   {
    "duration": 13,
    "start_time": "2022-05-04T18:15:17.554Z"
   },
   {
    "duration": 12,
    "start_time": "2022-05-04T18:15:17.569Z"
   },
   {
    "duration": 45,
    "start_time": "2022-05-04T18:15:17.583Z"
   },
   {
    "duration": 240,
    "start_time": "2022-05-04T18:15:17.630Z"
   },
   {
    "duration": 4,
    "start_time": "2022-05-04T18:15:17.872Z"
   },
   {
    "duration": 55,
    "start_time": "2022-05-04T18:15:17.878Z"
   },
   {
    "duration": 254,
    "start_time": "2022-05-04T18:15:17.936Z"
   },
   {
    "duration": 170,
    "start_time": "2022-05-04T18:15:18.192Z"
   },
   {
    "duration": 10,
    "start_time": "2022-05-04T18:15:18.364Z"
   },
   {
    "duration": 202,
    "start_time": "2022-05-04T18:15:18.376Z"
   },
   {
    "duration": 57,
    "start_time": "2022-05-04T18:15:18.580Z"
   },
   {
    "duration": 9,
    "start_time": "2022-05-04T18:15:18.639Z"
   },
   {
    "duration": 16,
    "start_time": "2022-05-04T18:15:18.650Z"
   },
   {
    "duration": 16,
    "start_time": "2022-05-04T18:15:18.668Z"
   },
   {
    "duration": 53,
    "start_time": "2022-05-04T18:15:18.686Z"
   },
   {
    "duration": 848,
    "start_time": "2022-05-06T07:10:00.971Z"
   },
   {
    "duration": 728,
    "start_time": "2022-05-06T07:10:01.821Z"
   },
   {
    "duration": 38,
    "start_time": "2022-05-06T07:10:02.550Z"
   },
   {
    "duration": 220,
    "start_time": "2022-05-06T07:10:02.589Z"
   },
   {
    "duration": 16,
    "start_time": "2022-05-06T07:10:02.811Z"
   },
   {
    "duration": 107,
    "start_time": "2022-05-06T07:10:02.829Z"
   },
   {
    "duration": 34,
    "start_time": "2022-05-06T07:10:02.938Z"
   },
   {
    "duration": 12,
    "start_time": "2022-05-06T07:10:02.973Z"
   },
   {
    "duration": 63,
    "start_time": "2022-05-06T07:10:02.986Z"
   },
   {
    "duration": 12,
    "start_time": "2022-05-06T07:10:03.051Z"
   },
   {
    "duration": 23,
    "start_time": "2022-05-06T07:10:03.065Z"
   },
   {
    "duration": 171,
    "start_time": "2022-05-06T07:10:03.089Z"
   },
   {
    "duration": 59,
    "start_time": "2022-05-06T07:10:03.262Z"
   },
   {
    "duration": 10,
    "start_time": "2022-05-06T07:10:03.324Z"
   },
   {
    "duration": 55,
    "start_time": "2022-05-06T07:10:03.336Z"
   },
   {
    "duration": 53,
    "start_time": "2022-05-06T07:10:03.393Z"
   },
   {
    "duration": 117842,
    "start_time": "2022-05-06T07:10:03.448Z"
   },
   {
    "duration": 15,
    "start_time": "2022-05-06T07:12:01.291Z"
   },
   {
    "duration": 21,
    "start_time": "2022-05-06T07:12:01.308Z"
   },
   {
    "duration": 66,
    "start_time": "2022-05-06T07:12:01.330Z"
   },
   {
    "duration": 35,
    "start_time": "2022-05-06T07:13:05.227Z"
   },
   {
    "duration": 2021,
    "start_time": "2022-05-06T07:14:06.554Z"
   },
   {
    "duration": 33,
    "start_time": "2022-05-06T07:14:23.042Z"
   },
   {
    "duration": 42,
    "start_time": "2022-05-06T07:15:25.274Z"
   },
   {
    "duration": 15,
    "start_time": "2022-05-06T07:19:56.921Z"
   },
   {
    "duration": 13,
    "start_time": "2022-05-06T07:21:54.786Z"
   },
   {
    "duration": 16,
    "start_time": "2022-05-06T07:22:19.933Z"
   },
   {
    "duration": 14,
    "start_time": "2022-05-06T07:22:22.588Z"
   },
   {
    "duration": 1112,
    "start_time": "2022-05-06T16:29:22.847Z"
   },
   {
    "duration": 438,
    "start_time": "2022-05-06T16:29:23.964Z"
   },
   {
    "duration": 56,
    "start_time": "2022-05-06T16:29:24.404Z"
   },
   {
    "duration": 265,
    "start_time": "2022-05-06T16:29:24.462Z"
   },
   {
    "duration": 21,
    "start_time": "2022-05-06T16:29:24.730Z"
   },
   {
    "duration": 140,
    "start_time": "2022-05-06T16:29:24.753Z"
   },
   {
    "duration": 37,
    "start_time": "2022-05-06T16:29:24.895Z"
   },
   {
    "duration": 15,
    "start_time": "2022-05-06T16:29:24.934Z"
   },
   {
    "duration": 101,
    "start_time": "2022-05-06T16:29:24.952Z"
   },
   {
    "duration": 15,
    "start_time": "2022-05-06T16:29:25.055Z"
   },
   {
    "duration": 18,
    "start_time": "2022-05-06T16:29:25.073Z"
   },
   {
    "duration": 249,
    "start_time": "2022-05-06T16:29:25.093Z"
   },
   {
    "duration": 102,
    "start_time": "2022-05-06T16:29:25.344Z"
   },
   {
    "duration": 17,
    "start_time": "2022-05-06T16:29:25.451Z"
   },
   {
    "duration": 82,
    "start_time": "2022-05-06T16:29:25.470Z"
   },
   {
    "duration": 89,
    "start_time": "2022-05-06T16:29:25.554Z"
   },
   {
    "duration": 194323,
    "start_time": "2022-05-06T16:29:25.645Z"
   },
   {
    "duration": 21,
    "start_time": "2022-05-06T16:32:39.970Z"
   },
   {
    "duration": 50,
    "start_time": "2022-05-06T16:32:39.993Z"
   },
   {
    "duration": 62,
    "start_time": "2022-05-06T16:32:40.045Z"
   },
   {
    "duration": 37,
    "start_time": "2022-05-06T16:32:40.124Z"
   },
   {
    "duration": 62,
    "start_time": "2022-05-06T16:32:40.164Z"
   },
   {
    "duration": 24,
    "start_time": "2022-05-06T16:32:40.228Z"
   },
   {
    "duration": 22,
    "start_time": "2022-05-06T16:32:40.254Z"
   },
   {
    "duration": 64,
    "start_time": "2022-05-06T16:32:40.278Z"
   },
   {
    "duration": 29,
    "start_time": "2022-05-06T16:32:40.345Z"
   },
   {
    "duration": 397,
    "start_time": "2022-05-06T16:32:40.376Z"
   },
   {
    "duration": 6,
    "start_time": "2022-05-06T16:32:40.776Z"
   },
   {
    "duration": 87,
    "start_time": "2022-05-06T16:32:40.783Z"
   },
   {
    "duration": 460,
    "start_time": "2022-05-06T16:32:40.873Z"
   },
   {
    "duration": 308,
    "start_time": "2022-05-06T16:32:41.336Z"
   },
   {
    "duration": 18,
    "start_time": "2022-05-06T16:32:41.646Z"
   },
   {
    "duration": 353,
    "start_time": "2022-05-06T16:32:41.666Z"
   },
   {
    "duration": 87,
    "start_time": "2022-05-06T16:32:42.024Z"
   },
   {
    "duration": 15,
    "start_time": "2022-05-06T16:32:42.125Z"
   },
   {
    "duration": 22,
    "start_time": "2022-05-06T16:32:42.143Z"
   },
   {
    "duration": 27,
    "start_time": "2022-05-06T16:32:42.168Z"
   },
   {
    "duration": 32,
    "start_time": "2022-05-06T16:32:42.226Z"
   },
   {
    "duration": 198,
    "start_time": "2022-05-06T16:38:31.700Z"
   },
   {
    "duration": 14,
    "start_time": "2022-05-06T16:38:57.909Z"
   },
   {
    "duration": 25,
    "start_time": "2022-05-06T16:40:16.792Z"
   },
   {
    "duration": 27,
    "start_time": "2022-05-06T16:41:28.219Z"
   },
   {
    "duration": 4,
    "start_time": "2022-05-06T16:44:47.320Z"
   },
   {
    "duration": 23,
    "start_time": "2022-05-06T16:45:04.150Z"
   },
   {
    "duration": 13,
    "start_time": "2022-05-06T16:46:30.562Z"
   },
   {
    "duration": 21,
    "start_time": "2022-05-06T16:46:53.071Z"
   },
   {
    "duration": 12,
    "start_time": "2022-05-06T16:47:03.033Z"
   },
   {
    "duration": 11,
    "start_time": "2022-05-06T16:47:21.014Z"
   },
   {
    "duration": 10,
    "start_time": "2022-05-06T16:47:43.128Z"
   },
   {
    "duration": 10,
    "start_time": "2022-05-06T16:48:44.802Z"
   },
   {
    "duration": 13,
    "start_time": "2022-05-06T16:49:14.766Z"
   },
   {
    "duration": 11,
    "start_time": "2022-05-06T16:50:17.232Z"
   },
   {
    "duration": 11,
    "start_time": "2022-05-06T16:50:26.144Z"
   },
   {
    "duration": 15,
    "start_time": "2022-05-06T16:51:38.766Z"
   },
   {
    "duration": 306,
    "start_time": "2022-05-06T16:51:45.264Z"
   },
   {
    "duration": 14,
    "start_time": "2022-05-06T16:51:55.000Z"
   },
   {
    "duration": 467,
    "start_time": "2022-05-06T16:52:46.525Z"
   },
   {
    "duration": 93,
    "start_time": "2022-05-06T16:56:06.587Z"
   },
   {
    "duration": 10,
    "start_time": "2022-05-06T16:56:13.368Z"
   },
   {
    "duration": 95,
    "start_time": "2022-05-06T16:56:36.348Z"
   },
   {
    "duration": 14,
    "start_time": "2022-05-06T16:59:42.355Z"
   },
   {
    "duration": 10,
    "start_time": "2022-05-06T17:00:24.894Z"
   },
   {
    "duration": 10,
    "start_time": "2022-05-06T17:01:05.319Z"
   },
   {
    "duration": 14,
    "start_time": "2022-05-06T17:01:25.023Z"
   },
   {
    "duration": 236,
    "start_time": "2022-05-06T17:01:46.715Z"
   },
   {
    "duration": 228,
    "start_time": "2022-05-06T17:03:05.280Z"
   },
   {
    "duration": 257,
    "start_time": "2022-05-06T17:03:31.883Z"
   },
   {
    "duration": 248,
    "start_time": "2022-05-06T17:04:05.651Z"
   },
   {
    "duration": 458,
    "start_time": "2022-05-06T17:16:23.370Z"
   },
   {
    "duration": 269,
    "start_time": "2022-05-06T17:16:53.441Z"
   },
   {
    "duration": 269,
    "start_time": "2022-05-06T17:18:23.266Z"
   },
   {
    "duration": 263,
    "start_time": "2022-05-06T17:18:43.041Z"
   },
   {
    "duration": 476,
    "start_time": "2022-05-06T17:34:09.942Z"
   },
   {
    "duration": 35,
    "start_time": "2022-05-06T17:35:15.124Z"
   },
   {
    "duration": 21,
    "start_time": "2022-05-06T17:35:57.176Z"
   },
   {
    "duration": 22,
    "start_time": "2022-05-06T17:36:52.048Z"
   },
   {
    "duration": 137,
    "start_time": "2022-05-06T17:37:23.888Z"
   },
   {
    "duration": 33,
    "start_time": "2022-05-06T17:37:32.310Z"
   },
   {
    "duration": 23,
    "start_time": "2022-05-06T17:37:59.864Z"
   },
   {
    "duration": 360,
    "start_time": "2022-05-06T17:38:39.301Z"
   },
   {
    "duration": 370,
    "start_time": "2022-05-06T17:40:46.730Z"
   },
   {
    "duration": 554,
    "start_time": "2022-05-06T17:41:46.947Z"
   },
   {
    "duration": 393,
    "start_time": "2022-05-06T17:42:05.352Z"
   },
   {
    "duration": 394,
    "start_time": "2022-05-06T17:42:15.944Z"
   },
   {
    "duration": 395,
    "start_time": "2022-05-06T17:42:28.582Z"
   },
   {
    "duration": 485,
    "start_time": "2022-05-06T17:42:43.192Z"
   },
   {
    "duration": 14,
    "start_time": "2022-05-06T17:48:31.046Z"
   },
   {
    "duration": 16,
    "start_time": "2022-05-06T17:48:49.414Z"
   },
   {
    "duration": 307,
    "start_time": "2022-05-06T17:49:01.515Z"
   },
   {
    "duration": 296,
    "start_time": "2022-05-06T17:51:53.356Z"
   },
   {
    "duration": 22,
    "start_time": "2022-05-06T17:52:08.172Z"
   },
   {
    "duration": 11,
    "start_time": "2022-05-06T17:52:41.726Z"
   },
   {
    "duration": 24,
    "start_time": "2022-05-06T17:52:50.261Z"
   },
   {
    "duration": 12,
    "start_time": "2022-05-06T17:53:10.769Z"
   },
   {
    "duration": 975,
    "start_time": "2022-05-06T18:32:43.318Z"
   },
   {
    "duration": 622,
    "start_time": "2022-05-06T18:33:23.476Z"
   },
   {
    "duration": 360,
    "start_time": "2022-05-06T18:36:36.797Z"
   },
   {
    "duration": 433,
    "start_time": "2022-05-06T18:40:47.009Z"
   },
   {
    "duration": 434,
    "start_time": "2022-05-06T18:41:08.437Z"
   },
   {
    "duration": 455,
    "start_time": "2022-05-06T18:42:05.173Z"
   },
   {
    "duration": 792,
    "start_time": "2022-05-06T18:42:17.351Z"
   },
   {
    "duration": 834,
    "start_time": "2022-05-06T18:43:04.909Z"
   },
   {
    "duration": 19,
    "start_time": "2022-05-06T19:06:05.645Z"
   },
   {
    "duration": 26,
    "start_time": "2022-05-06T19:07:31.238Z"
   },
   {
    "duration": 12,
    "start_time": "2022-05-06T19:09:33.552Z"
   },
   {
    "duration": 32,
    "start_time": "2022-05-06T19:09:56.517Z"
   },
   {
    "duration": 41,
    "start_time": "2022-05-06T19:10:53.814Z"
   },
   {
    "duration": 21,
    "start_time": "2022-05-06T19:15:38.780Z"
   },
   {
    "duration": 892,
    "start_time": "2022-05-06T19:16:33.088Z"
   },
   {
    "duration": 221,
    "start_time": "2022-05-06T19:16:42.588Z"
   },
   {
    "duration": 92,
    "start_time": "2022-05-06T19:19:35.379Z"
   },
   {
    "duration": 111,
    "start_time": "2022-05-06T19:22:29.063Z"
   },
   {
    "duration": 19,
    "start_time": "2022-05-06T19:23:02.546Z"
   },
   {
    "duration": 14,
    "start_time": "2022-05-06T19:27:05.608Z"
   },
   {
    "duration": 13,
    "start_time": "2022-05-06T19:27:11.462Z"
   },
   {
    "duration": 5,
    "start_time": "2022-05-06T19:30:56.387Z"
   },
   {
    "duration": 5,
    "start_time": "2022-05-06T19:31:09.086Z"
   },
   {
    "duration": 16,
    "start_time": "2022-05-06T19:32:18.610Z"
   },
   {
    "duration": 14,
    "start_time": "2022-05-06T19:35:36.689Z"
   },
   {
    "duration": 21,
    "start_time": "2022-05-06T19:35:47.067Z"
   },
   {
    "duration": 18040,
    "start_time": "2022-05-06T19:36:58.784Z"
   },
   {
    "duration": 69,
    "start_time": "2022-05-06T19:37:52.856Z"
   },
   {
    "duration": 25,
    "start_time": "2022-05-06T19:38:25.784Z"
   },
   {
    "duration": 26,
    "start_time": "2022-05-06T19:38:41.792Z"
   },
   {
    "duration": 39,
    "start_time": "2022-05-06T19:38:41.820Z"
   },
   {
    "duration": 105,
    "start_time": "2022-05-06T19:38:41.862Z"
   },
   {
    "duration": 63,
    "start_time": "2022-05-06T19:38:41.971Z"
   },
   {
    "duration": 47,
    "start_time": "2022-05-06T19:38:42.041Z"
   },
   {
    "duration": 42,
    "start_time": "2022-05-06T19:38:42.090Z"
   },
   {
    "duration": 32,
    "start_time": "2022-05-06T19:38:42.140Z"
   },
   {
    "duration": 59,
    "start_time": "2022-05-06T19:38:42.175Z"
   },
   {
    "duration": 405,
    "start_time": "2022-05-06T19:38:42.236Z"
   },
   {
    "duration": 34,
    "start_time": "2022-05-06T19:38:42.648Z"
   },
   {
    "duration": 335,
    "start_time": "2022-05-06T19:38:42.684Z"
   },
   {
    "duration": 10,
    "start_time": "2022-05-06T19:38:43.027Z"
   },
   {
    "duration": 94,
    "start_time": "2022-05-06T19:38:43.040Z"
   },
   {
    "duration": 366,
    "start_time": "2022-05-06T19:38:43.136Z"
   },
   {
    "duration": 46,
    "start_time": "2022-05-06T19:38:43.505Z"
   },
   {
    "duration": 0,
    "start_time": "2022-05-06T19:38:43.554Z"
   },
   {
    "duration": 0,
    "start_time": "2022-05-06T19:38:43.560Z"
   },
   {
    "duration": 0,
    "start_time": "2022-05-06T19:38:43.562Z"
   },
   {
    "duration": 0,
    "start_time": "2022-05-06T19:38:43.564Z"
   },
   {
    "duration": 0,
    "start_time": "2022-05-06T19:38:43.566Z"
   },
   {
    "duration": 0,
    "start_time": "2022-05-06T19:38:43.568Z"
   },
   {
    "duration": 0,
    "start_time": "2022-05-06T19:38:43.570Z"
   },
   {
    "duration": 0,
    "start_time": "2022-05-06T19:38:43.573Z"
   },
   {
    "duration": 0,
    "start_time": "2022-05-06T19:38:43.575Z"
   },
   {
    "duration": 0,
    "start_time": "2022-05-06T19:38:43.577Z"
   },
   {
    "duration": 0,
    "start_time": "2022-05-06T19:38:43.580Z"
   },
   {
    "duration": 612,
    "start_time": "2022-05-06T19:39:53.856Z"
   },
   {
    "duration": 519,
    "start_time": "2022-05-06T19:40:29.456Z"
   },
   {
    "duration": 20,
    "start_time": "2022-05-06T19:40:43.952Z"
   },
   {
    "duration": 24,
    "start_time": "2022-05-06T19:50:03.759Z"
   },
   {
    "duration": 23,
    "start_time": "2022-05-06T19:50:20.654Z"
   },
   {
    "duration": 21,
    "start_time": "2022-05-06T19:54:50.176Z"
   },
   {
    "duration": 8,
    "start_time": "2022-05-06T19:55:39.265Z"
   },
   {
    "duration": 22,
    "start_time": "2022-05-06T19:56:57.396Z"
   },
   {
    "duration": 16,
    "start_time": "2022-05-06T20:00:57.628Z"
   },
   {
    "duration": 45,
    "start_time": "2022-05-06T20:01:12.057Z"
   },
   {
    "duration": 37,
    "start_time": "2022-05-06T20:01:45.641Z"
   },
   {
    "duration": 37,
    "start_time": "2022-05-06T20:02:18.558Z"
   },
   {
    "duration": 26,
    "start_time": "2022-05-06T20:03:11.100Z"
   },
   {
    "duration": 28,
    "start_time": "2022-05-06T20:03:23.528Z"
   },
   {
    "duration": 30,
    "start_time": "2022-05-06T20:04:00.345Z"
   },
   {
    "duration": 24,
    "start_time": "2022-05-06T20:04:05.052Z"
   },
   {
    "duration": 132,
    "start_time": "2022-05-06T20:04:16.992Z"
   },
   {
    "duration": 21,
    "start_time": "2022-05-06T20:04:35.252Z"
   },
   {
    "duration": 34,
    "start_time": "2022-05-06T20:07:49.520Z"
   },
   {
    "duration": 2333,
    "start_time": "2022-05-07T16:17:52.187Z"
   },
   {
    "duration": 563,
    "start_time": "2022-05-07T16:17:54.524Z"
   },
   {
    "duration": 60,
    "start_time": "2022-05-07T16:17:55.089Z"
   },
   {
    "duration": 503,
    "start_time": "2022-05-07T16:17:55.152Z"
   },
   {
    "duration": 51,
    "start_time": "2022-05-07T16:17:55.658Z"
   },
   {
    "duration": 181,
    "start_time": "2022-05-07T16:17:55.712Z"
   },
   {
    "duration": 54,
    "start_time": "2022-05-07T16:17:55.896Z"
   },
   {
    "duration": 20,
    "start_time": "2022-05-07T16:17:55.953Z"
   },
   {
    "duration": 134,
    "start_time": "2022-05-07T16:17:55.976Z"
   },
   {
    "duration": 21,
    "start_time": "2022-05-07T16:17:56.117Z"
   },
   {
    "duration": 16,
    "start_time": "2022-05-07T16:17:56.141Z"
   },
   {
    "duration": 316,
    "start_time": "2022-05-07T16:17:56.159Z"
   },
   {
    "duration": 123,
    "start_time": "2022-05-07T16:17:56.481Z"
   },
   {
    "duration": 23,
    "start_time": "2022-05-07T16:17:56.612Z"
   },
   {
    "duration": 115,
    "start_time": "2022-05-07T16:17:56.638Z"
   },
   {
    "duration": 91,
    "start_time": "2022-05-07T16:17:56.759Z"
   },
   {
    "duration": 246385,
    "start_time": "2022-05-07T16:17:56.852Z"
   },
   {
    "duration": 22,
    "start_time": "2022-05-07T16:22:03.240Z"
   },
   {
    "duration": 19335,
    "start_time": "2022-05-07T16:22:03.282Z"
   },
   {
    "duration": 80,
    "start_time": "2022-05-07T16:22:22.620Z"
   },
   {
    "duration": 39,
    "start_time": "2022-05-07T16:22:22.702Z"
   },
   {
    "duration": 103,
    "start_time": "2022-05-07T16:22:22.744Z"
   },
   {
    "duration": 64,
    "start_time": "2022-05-07T16:22:22.850Z"
   },
   {
    "duration": 79,
    "start_time": "2022-05-07T16:22:22.917Z"
   },
   {
    "duration": 27,
    "start_time": "2022-05-07T16:22:22.998Z"
   },
   {
    "duration": 22,
    "start_time": "2022-05-07T16:22:23.027Z"
   },
   {
    "duration": 64,
    "start_time": "2022-05-07T16:22:23.051Z"
   },
   {
    "duration": 408,
    "start_time": "2022-05-07T16:22:23.118Z"
   },
   {
    "duration": 34,
    "start_time": "2022-05-07T16:22:23.528Z"
   },
   {
    "duration": 437,
    "start_time": "2022-05-07T16:22:23.564Z"
   },
   {
    "duration": 11,
    "start_time": "2022-05-07T16:22:24.004Z"
   },
   {
    "duration": 99,
    "start_time": "2022-05-07T16:22:24.018Z"
   },
   {
    "duration": 498,
    "start_time": "2022-05-07T16:22:24.120Z"
   },
   {
    "duration": 455,
    "start_time": "2022-05-07T16:22:24.621Z"
   },
   {
    "duration": 716,
    "start_time": "2022-05-07T16:22:25.083Z"
   },
   {
    "duration": 57,
    "start_time": "2022-05-07T16:22:25.801Z"
   },
   {
    "duration": 44,
    "start_time": "2022-05-07T16:22:25.861Z"
   },
   {
    "duration": 40,
    "start_time": "2022-05-07T16:22:25.910Z"
   },
   {
    "duration": 95,
    "start_time": "2022-05-07T16:22:25.953Z"
   },
   {
    "duration": 34,
    "start_time": "2022-05-07T16:22:26.050Z"
   },
   {
    "duration": 21,
    "start_time": "2022-05-07T16:22:26.090Z"
   },
   {
    "duration": 31,
    "start_time": "2022-05-07T16:22:26.114Z"
   },
   {
    "duration": 65,
    "start_time": "2022-05-07T16:22:26.147Z"
   },
   {
    "duration": 233,
    "start_time": "2022-05-07T16:26:39.970Z"
   },
   {
    "duration": 16,
    "start_time": "2022-05-07T16:26:45.311Z"
   },
   {
    "duration": 20,
    "start_time": "2022-05-07T16:27:30.345Z"
   },
   {
    "duration": 12,
    "start_time": "2022-05-07T16:27:51.308Z"
   },
   {
    "duration": 55,
    "start_time": "2022-05-07T16:28:34.724Z"
   },
   {
    "duration": 58,
    "start_time": "2022-05-07T16:29:55.571Z"
   },
   {
    "duration": 53,
    "start_time": "2022-05-07T16:30:16.008Z"
   },
   {
    "duration": 213,
    "start_time": "2022-05-07T16:32:09.107Z"
   },
   {
    "duration": 42,
    "start_time": "2022-05-07T16:32:52.319Z"
   },
   {
    "duration": 197,
    "start_time": "2022-05-07T16:33:09.601Z"
   },
   {
    "duration": 227,
    "start_time": "2022-05-07T16:33:41.007Z"
   },
   {
    "duration": 105,
    "start_time": "2022-05-07T16:34:25.929Z"
   },
   {
    "duration": 267,
    "start_time": "2022-05-07T16:34:26.953Z"
   },
   {
    "duration": 110,
    "start_time": "2022-05-07T16:34:53.567Z"
   },
   {
    "duration": 215,
    "start_time": "2022-05-07T16:34:54.543Z"
   },
   {
    "duration": 268,
    "start_time": "2022-05-07T16:35:53.131Z"
   },
   {
    "duration": 311,
    "start_time": "2022-05-07T16:36:24.273Z"
   },
   {
    "duration": 346,
    "start_time": "2022-05-07T16:37:21.192Z"
   },
   {
    "duration": 297,
    "start_time": "2022-05-07T16:37:31.768Z"
   },
   {
    "duration": 338,
    "start_time": "2022-05-07T16:38:01.155Z"
   },
   {
    "duration": 32,
    "start_time": "2022-05-07T18:05:26.781Z"
   },
   {
    "duration": 428,
    "start_time": "2022-05-07T18:06:13.358Z"
   },
   {
    "duration": 443,
    "start_time": "2022-05-07T18:07:22.730Z"
   },
   {
    "duration": 324,
    "start_time": "2022-05-07T18:08:10.035Z"
   },
   {
    "duration": 23,
    "start_time": "2022-05-07T18:12:58.738Z"
   },
   {
    "duration": 147,
    "start_time": "2022-05-07T18:18:26.248Z"
   },
   {
    "duration": 142,
    "start_time": "2022-05-07T18:19:43.761Z"
   },
   {
    "duration": 135,
    "start_time": "2022-05-07T18:20:02.909Z"
   },
   {
    "duration": 128,
    "start_time": "2022-05-07T18:22:26.017Z"
   },
   {
    "duration": 6,
    "start_time": "2022-05-07T18:22:39.976Z"
   },
   {
    "duration": 14,
    "start_time": "2022-05-07T18:22:57.823Z"
   },
   {
    "duration": 7,
    "start_time": "2022-05-07T18:23:13.440Z"
   },
   {
    "duration": 6,
    "start_time": "2022-05-07T18:23:18.304Z"
   },
   {
    "duration": 12,
    "start_time": "2022-05-07T18:25:27.488Z"
   },
   {
    "duration": 297,
    "start_time": "2022-05-07T18:25:53.292Z"
   },
   {
    "duration": 240,
    "start_time": "2022-05-07T18:27:32.344Z"
   },
   {
    "duration": 262,
    "start_time": "2022-05-07T18:27:48.512Z"
   },
   {
    "duration": 251,
    "start_time": "2022-05-07T18:28:14.748Z"
   },
   {
    "duration": 232,
    "start_time": "2022-05-07T18:28:34.427Z"
   },
   {
    "duration": 198,
    "start_time": "2022-05-07T18:28:49.872Z"
   },
   {
    "duration": 259,
    "start_time": "2022-05-07T18:38:25.541Z"
   },
   {
    "duration": 9,
    "start_time": "2022-05-07T18:38:30.864Z"
   },
   {
    "duration": 38,
    "start_time": "2022-05-07T18:39:13.378Z"
   },
   {
    "duration": 26,
    "start_time": "2022-05-07T18:41:18.219Z"
   },
   {
    "duration": 9,
    "start_time": "2022-05-07T18:42:22.638Z"
   },
   {
    "duration": 32,
    "start_time": "2022-05-07T18:42:35.145Z"
   },
   {
    "duration": 29,
    "start_time": "2022-05-07T18:42:58.700Z"
   },
   {
    "duration": 39,
    "start_time": "2022-05-07T18:43:54.362Z"
   },
   {
    "duration": 28,
    "start_time": "2022-05-07T18:44:31.817Z"
   },
   {
    "duration": 28,
    "start_time": "2022-05-07T18:44:57.795Z"
   },
   {
    "duration": 244,
    "start_time": "2022-05-07T18:45:28.315Z"
   },
   {
    "duration": 21,
    "start_time": "2022-05-07T18:46:14.400Z"
   },
   {
    "duration": 20,
    "start_time": "2022-05-07T18:46:41.516Z"
   },
   {
    "duration": 261,
    "start_time": "2022-05-07T18:46:53.716Z"
   },
   {
    "duration": 72,
    "start_time": "2022-05-07T18:51:30.902Z"
   },
   {
    "duration": 265,
    "start_time": "2022-05-07T18:52:07.997Z"
   },
   {
    "duration": 289,
    "start_time": "2022-05-07T18:52:24.196Z"
   },
   {
    "duration": 276,
    "start_time": "2022-05-07T18:55:00.570Z"
   },
   {
    "duration": 404,
    "start_time": "2022-05-07T18:55:25.168Z"
   },
   {
    "duration": 365,
    "start_time": "2022-05-07T18:56:25.931Z"
   },
   {
    "duration": 314,
    "start_time": "2022-05-07T18:57:22.957Z"
   },
   {
    "duration": 392,
    "start_time": "2022-05-07T18:59:25.257Z"
   },
   {
    "duration": 387,
    "start_time": "2022-05-07T19:00:02.640Z"
   },
   {
    "duration": 565,
    "start_time": "2022-05-07T19:00:30.180Z"
   },
   {
    "duration": 467,
    "start_time": "2022-05-07T19:00:43.002Z"
   },
   {
    "duration": 323,
    "start_time": "2022-05-07T19:13:26.019Z"
   },
   {
    "duration": 36,
    "start_time": "2022-05-07T19:19:25.588Z"
   },
   {
    "duration": 34,
    "start_time": "2022-05-07T19:22:20.456Z"
   },
   {
    "duration": 491,
    "start_time": "2022-05-07T19:22:27.695Z"
   },
   {
    "duration": 530,
    "start_time": "2022-05-07T19:23:00.051Z"
   },
   {
    "duration": 692,
    "start_time": "2022-05-07T19:23:47.916Z"
   },
   {
    "duration": 733,
    "start_time": "2022-05-07T19:25:08.725Z"
   },
   {
    "duration": 478,
    "start_time": "2022-05-07T19:25:24.044Z"
   },
   {
    "duration": 615,
    "start_time": "2022-05-07T19:25:33.697Z"
   },
   {
    "duration": 637,
    "start_time": "2022-05-07T19:27:00.886Z"
   },
   {
    "duration": 797,
    "start_time": "2022-05-07T19:28:05.041Z"
   },
   {
    "duration": 324,
    "start_time": "2022-05-07T19:30:41.972Z"
   },
   {
    "duration": 21,
    "start_time": "2022-05-07T19:31:24.651Z"
   },
   {
    "duration": 28,
    "start_time": "2022-05-07T19:31:25.609Z"
   },
   {
    "duration": 22,
    "start_time": "2022-05-07T19:32:04.007Z"
   },
   {
    "duration": 20,
    "start_time": "2022-05-07T19:32:47.609Z"
   },
   {
    "duration": 19,
    "start_time": "2022-05-07T19:33:13.265Z"
   },
   {
    "duration": 42,
    "start_time": "2022-05-07T19:33:16.194Z"
   },
   {
    "duration": 106,
    "start_time": "2022-05-07T19:33:43.722Z"
   },
   {
    "duration": 30,
    "start_time": "2022-05-07T19:33:45.782Z"
   },
   {
    "duration": 13,
    "start_time": "2022-05-07T19:33:52.595Z"
   },
   {
    "duration": 244,
    "start_time": "2022-05-07T19:33:53.578Z"
   },
   {
    "duration": 19,
    "start_time": "2022-05-07T19:34:38.417Z"
   },
   {
    "duration": 11,
    "start_time": "2022-05-07T19:55:38.866Z"
   },
   {
    "duration": 545,
    "start_time": "2022-05-07T19:55:47.209Z"
   },
   {
    "duration": 52,
    "start_time": "2022-05-07T19:56:33.206Z"
   },
   {
    "duration": 68,
    "start_time": "2022-05-07T19:56:54.067Z"
   },
   {
    "duration": 50,
    "start_time": "2022-05-07T19:57:04.136Z"
   },
   {
    "duration": 4,
    "start_time": "2022-05-07T19:57:28.819Z"
   },
   {
    "duration": 44,
    "start_time": "2022-05-07T19:57:40.651Z"
   },
   {
    "duration": 56,
    "start_time": "2022-05-07T19:57:47.014Z"
   },
   {
    "duration": 36,
    "start_time": "2022-05-07T19:57:59.410Z"
   },
   {
    "duration": 159,
    "start_time": "2022-05-07T20:01:54.459Z"
   },
   {
    "duration": 165,
    "start_time": "2022-05-07T20:10:10.710Z"
   },
   {
    "duration": 117,
    "start_time": "2022-05-07T20:11:29.781Z"
   },
   {
    "duration": 138,
    "start_time": "2022-05-07T20:11:50.486Z"
   },
   {
    "duration": 55,
    "start_time": "2022-05-07T20:12:17.008Z"
   },
   {
    "duration": 131,
    "start_time": "2022-05-07T20:12:36.407Z"
   },
   {
    "duration": 151,
    "start_time": "2022-05-07T20:14:46.177Z"
   },
   {
    "duration": 135,
    "start_time": "2022-05-07T20:15:34.166Z"
   },
   {
    "duration": 116,
    "start_time": "2022-05-07T20:16:00.189Z"
   },
   {
    "duration": 116,
    "start_time": "2022-05-07T20:16:19.514Z"
   },
   {
    "duration": 90,
    "start_time": "2022-05-07T20:17:00.409Z"
   },
   {
    "duration": 166,
    "start_time": "2022-05-07T20:17:13.681Z"
   },
   {
    "duration": 669,
    "start_time": "2022-05-07T20:17:30.605Z"
   },
   {
    "duration": 146,
    "start_time": "2022-05-07T20:19:08.958Z"
   },
   {
    "duration": 104,
    "start_time": "2022-05-07T20:19:30.138Z"
   },
   {
    "duration": 119,
    "start_time": "2022-05-07T20:19:47.686Z"
   },
   {
    "duration": 182,
    "start_time": "2022-05-07T20:20:09.732Z"
   },
   {
    "duration": 177,
    "start_time": "2022-05-07T20:21:44.851Z"
   },
   {
    "duration": 172,
    "start_time": "2022-05-07T20:23:32.750Z"
   },
   {
    "duration": 132,
    "start_time": "2022-05-07T20:24:01.725Z"
   },
   {
    "duration": 127,
    "start_time": "2022-05-07T20:24:17.942Z"
   },
   {
    "duration": 121,
    "start_time": "2022-05-07T20:24:33.276Z"
   },
   {
    "duration": 165,
    "start_time": "2022-05-07T20:25:31.445Z"
   },
   {
    "duration": 2216,
    "start_time": "2022-05-07T20:25:38.978Z"
   },
   {
    "duration": 2664,
    "start_time": "2022-05-07T20:25:53.904Z"
   },
   {
    "duration": 2193,
    "start_time": "2022-05-07T20:25:59.551Z"
   },
   {
    "duration": 107,
    "start_time": "2022-05-07T20:26:52.273Z"
   },
   {
    "duration": 102,
    "start_time": "2022-05-07T20:27:14.660Z"
   },
   {
    "duration": 99,
    "start_time": "2022-05-07T20:27:46.646Z"
   },
   {
    "duration": 99,
    "start_time": "2022-05-07T20:28:13.834Z"
   },
   {
    "duration": 99,
    "start_time": "2022-05-07T20:28:42.924Z"
   },
   {
    "duration": 134,
    "start_time": "2022-05-07T20:29:01.343Z"
   },
   {
    "duration": 98,
    "start_time": "2022-05-07T20:29:05.987Z"
   },
   {
    "duration": 105,
    "start_time": "2022-05-07T20:29:20.218Z"
   },
   {
    "duration": 107,
    "start_time": "2022-05-07T20:29:44.768Z"
   },
   {
    "duration": 151,
    "start_time": "2022-05-07T20:30:09.555Z"
   },
   {
    "duration": 131,
    "start_time": "2022-05-07T20:31:32.957Z"
   },
   {
    "duration": 164,
    "start_time": "2022-05-07T20:32:15.499Z"
   },
   {
    "duration": 302,
    "start_time": "2022-05-07T20:32:37.179Z"
   },
   {
    "duration": 316,
    "start_time": "2022-05-07T20:32:52.625Z"
   },
   {
    "duration": 326,
    "start_time": "2022-05-07T20:33:07.054Z"
   },
   {
    "duration": 348,
    "start_time": "2022-05-07T20:33:57.775Z"
   },
   {
    "duration": 312,
    "start_time": "2022-05-07T20:37:49.831Z"
   },
   {
    "duration": 126,
    "start_time": "2022-05-07T20:38:12.718Z"
   },
   {
    "duration": 327,
    "start_time": "2022-05-07T20:38:22.827Z"
   },
   {
    "duration": 319,
    "start_time": "2022-05-07T20:38:38.116Z"
   },
   {
    "duration": 495,
    "start_time": "2022-05-07T20:39:15.870Z"
   },
   {
    "duration": 593,
    "start_time": "2022-05-07T20:39:24.569Z"
   },
   {
    "duration": 252,
    "start_time": "2022-05-07T20:40:31.007Z"
   },
   {
    "duration": 302,
    "start_time": "2022-05-07T20:42:19.361Z"
   },
   {
    "duration": 15,
    "start_time": "2022-05-07T20:43:18.582Z"
   },
   {
    "duration": 531,
    "start_time": "2022-05-07T20:43:31.104Z"
   },
   {
    "duration": 302,
    "start_time": "2022-05-07T20:43:51.372Z"
   },
   {
    "duration": 269,
    "start_time": "2022-05-07T20:43:57.318Z"
   },
   {
    "duration": 380,
    "start_time": "2022-05-07T20:44:06.037Z"
   },
   {
    "duration": 405,
    "start_time": "2022-05-07T20:44:23.942Z"
   },
   {
    "duration": 424,
    "start_time": "2022-05-07T20:44:30.702Z"
   },
   {
    "duration": 397,
    "start_time": "2022-05-07T20:44:42.475Z"
   },
   {
    "duration": 479,
    "start_time": "2022-05-07T20:45:14.584Z"
   },
   {
    "duration": 680,
    "start_time": "2022-05-07T20:45:42.357Z"
   },
   {
    "duration": 368,
    "start_time": "2022-05-07T20:46:12.281Z"
   },
   {
    "duration": 399,
    "start_time": "2022-05-07T20:46:48.422Z"
   },
   {
    "duration": 368,
    "start_time": "2022-05-07T20:47:17.740Z"
   },
   {
    "duration": 504,
    "start_time": "2022-05-07T20:47:27.541Z"
   },
   {
    "duration": 134,
    "start_time": "2022-05-07T20:47:42.925Z"
   },
   {
    "duration": 656,
    "start_time": "2022-05-07T20:50:32.947Z"
   },
   {
    "duration": 245,
    "start_time": "2022-05-07T20:56:17.777Z"
   },
   {
    "duration": 413,
    "start_time": "2022-05-07T20:56:26.112Z"
   },
   {
    "duration": 243,
    "start_time": "2022-05-07T20:56:52.447Z"
   },
   {
    "duration": 14,
    "start_time": "2022-05-07T21:18:12.131Z"
   },
   {
    "duration": 12,
    "start_time": "2022-05-07T21:21:49.027Z"
   },
   {
    "duration": 12,
    "start_time": "2022-05-07T21:22:25.029Z"
   },
   {
    "duration": 14,
    "start_time": "2022-05-07T21:22:34.581Z"
   },
   {
    "duration": 13,
    "start_time": "2022-05-07T21:23:16.258Z"
   },
   {
    "duration": 4,
    "start_time": "2022-05-07T21:28:53.957Z"
   },
   {
    "duration": 33,
    "start_time": "2022-05-07T21:29:21.533Z"
   },
   {
    "duration": 3414,
    "start_time": "2022-05-07T21:32:16.596Z"
   },
   {
    "duration": 1235,
    "start_time": "2022-05-07T21:33:14.278Z"
   },
   {
    "duration": 40,
    "start_time": "2022-05-07T21:37:10.367Z"
   },
   {
    "duration": 10,
    "start_time": "2022-05-07T21:38:57.334Z"
   },
   {
    "duration": 7,
    "start_time": "2022-05-07T21:41:32.043Z"
   },
   {
    "duration": 4,
    "start_time": "2022-05-07T21:44:12.633Z"
   },
   {
    "duration": 98,
    "start_time": "2022-05-07T21:44:51.116Z"
   },
   {
    "duration": 8,
    "start_time": "2022-05-07T21:45:00.903Z"
   },
   {
    "duration": 6,
    "start_time": "2022-05-07T21:45:19.874Z"
   },
   {
    "duration": 13,
    "start_time": "2022-05-07T21:45:53.495Z"
   },
   {
    "duration": 12,
    "start_time": "2022-05-07T21:46:21.477Z"
   },
   {
    "duration": 12,
    "start_time": "2022-05-07T21:54:09.096Z"
   },
   {
    "duration": 5,
    "start_time": "2022-05-07T21:54:32.770Z"
   },
   {
    "duration": 11,
    "start_time": "2022-05-07T21:57:37.825Z"
   },
   {
    "duration": 6,
    "start_time": "2022-05-07T21:58:41.808Z"
   },
   {
    "duration": 13,
    "start_time": "2022-05-07T21:59:06.601Z"
   },
   {
    "duration": 104,
    "start_time": "2022-05-07T22:10:18.407Z"
   },
   {
    "duration": 11,
    "start_time": "2022-05-07T22:10:48.029Z"
   },
   {
    "duration": 21,
    "start_time": "2022-05-07T22:12:31.432Z"
   },
   {
    "duration": 14,
    "start_time": "2022-05-07T22:12:44.879Z"
   },
   {
    "duration": 345,
    "start_time": "2022-05-07T22:13:34.547Z"
   },
   {
    "duration": 25,
    "start_time": "2022-05-07T22:15:17.237Z"
   },
   {
    "duration": 19,
    "start_time": "2022-05-07T22:15:41.044Z"
   },
   {
    "duration": 24,
    "start_time": "2022-05-07T22:17:00.990Z"
   },
   {
    "duration": 13,
    "start_time": "2022-05-07T22:17:43.660Z"
   },
   {
    "duration": 23,
    "start_time": "2022-05-07T22:17:56.235Z"
   },
   {
    "duration": 340,
    "start_time": "2022-05-07T22:18:55.404Z"
   },
   {
    "duration": 267,
    "start_time": "2022-05-07T22:19:10.691Z"
   },
   {
    "duration": 279,
    "start_time": "2022-05-07T22:19:52.470Z"
   },
   {
    "duration": 43,
    "start_time": "2022-05-07T22:20:19.619Z"
   },
   {
    "duration": 263,
    "start_time": "2022-05-07T22:20:35.361Z"
   },
   {
    "duration": 350,
    "start_time": "2022-05-07T22:20:42.863Z"
   },
   {
    "duration": 362,
    "start_time": "2022-05-07T22:21:29.630Z"
   },
   {
    "duration": 369,
    "start_time": "2022-05-07T22:22:01.704Z"
   },
   {
    "duration": 332,
    "start_time": "2022-05-07T22:22:47.219Z"
   },
   {
    "duration": 71,
    "start_time": "2022-05-08T07:28:46.597Z"
   },
   {
    "duration": 1678,
    "start_time": "2022-05-08T07:28:53.401Z"
   },
   {
    "duration": 388,
    "start_time": "2022-05-08T07:28:55.083Z"
   },
   {
    "duration": 46,
    "start_time": "2022-05-08T07:28:55.473Z"
   },
   {
    "duration": 231,
    "start_time": "2022-05-08T07:28:55.522Z"
   },
   {
    "duration": 19,
    "start_time": "2022-05-08T07:28:55.755Z"
   },
   {
    "duration": 121,
    "start_time": "2022-05-08T07:28:55.777Z"
   },
   {
    "duration": 37,
    "start_time": "2022-05-08T07:28:55.900Z"
   },
   {
    "duration": 19,
    "start_time": "2022-05-08T07:28:55.940Z"
   },
   {
    "duration": 114,
    "start_time": "2022-05-08T07:28:55.961Z"
   },
   {
    "duration": 14,
    "start_time": "2022-05-08T07:28:56.080Z"
   },
   {
    "duration": 16,
    "start_time": "2022-05-08T07:28:56.096Z"
   },
   {
    "duration": 237,
    "start_time": "2022-05-08T07:28:56.114Z"
   },
   {
    "duration": 78,
    "start_time": "2022-05-08T07:28:56.354Z"
   },
   {
    "duration": 18,
    "start_time": "2022-05-08T07:28:56.451Z"
   },
   {
    "duration": 81,
    "start_time": "2022-05-08T07:28:56.471Z"
   },
   {
    "duration": 75,
    "start_time": "2022-05-08T07:28:56.554Z"
   },
   {
    "duration": 172608,
    "start_time": "2022-05-08T07:28:56.632Z"
   },
   {
    "duration": 26,
    "start_time": "2022-05-08T07:31:49.242Z"
   },
   {
    "duration": 16822,
    "start_time": "2022-05-08T07:31:49.271Z"
   },
   {
    "duration": 70,
    "start_time": "2022-05-08T07:32:06.096Z"
   },
   {
    "duration": 29,
    "start_time": "2022-05-08T07:32:06.169Z"
   },
   {
    "duration": 83,
    "start_time": "2022-05-08T07:32:06.200Z"
   },
   {
    "duration": 35,
    "start_time": "2022-05-08T07:32:06.286Z"
   },
   {
    "duration": 58,
    "start_time": "2022-05-08T07:32:06.323Z"
   },
   {
    "duration": 23,
    "start_time": "2022-05-08T07:32:06.384Z"
   },
   {
    "duration": 50,
    "start_time": "2022-05-08T07:32:06.409Z"
   },
   {
    "duration": 29,
    "start_time": "2022-05-08T07:32:06.461Z"
   },
   {
    "duration": 290,
    "start_time": "2022-05-08T07:32:06.495Z"
   },
   {
    "duration": 29,
    "start_time": "2022-05-08T07:32:06.787Z"
   },
   {
    "duration": 312,
    "start_time": "2022-05-08T07:32:06.818Z"
   },
   {
    "duration": 19,
    "start_time": "2022-05-08T07:32:07.133Z"
   },
   {
    "duration": 67,
    "start_time": "2022-05-08T07:32:07.155Z"
   },
   {
    "duration": 507,
    "start_time": "2022-05-08T07:32:07.225Z"
   },
   {
    "duration": 381,
    "start_time": "2022-05-08T07:32:07.735Z"
   },
   {
    "duration": 470,
    "start_time": "2022-05-08T07:32:08.119Z"
   },
   {
    "duration": 471,
    "start_time": "2022-05-08T07:32:08.592Z"
   },
   {
    "duration": 107,
    "start_time": "2022-05-08T07:32:09.066Z"
   },
   {
    "duration": 367,
    "start_time": "2022-05-08T07:32:09.175Z"
   },
   {
    "duration": 57,
    "start_time": "2022-05-08T07:32:09.552Z"
   },
   {
    "duration": 41,
    "start_time": "2022-05-08T07:32:09.611Z"
   },
   {
    "duration": 37,
    "start_time": "2022-05-08T07:32:09.654Z"
   },
   {
    "duration": 98,
    "start_time": "2022-05-08T07:32:09.693Z"
   },
   {
    "duration": 226,
    "start_time": "2022-05-08T07:32:09.793Z"
   },
   {
    "duration": 15,
    "start_time": "2022-05-08T07:32:10.021Z"
   },
   {
    "duration": 234,
    "start_time": "2022-05-08T07:32:10.038Z"
   },
   {
    "duration": 40,
    "start_time": "2022-05-08T07:32:10.274Z"
   },
   {
    "duration": 43,
    "start_time": "2022-05-08T07:32:10.316Z"
   },
   {
    "duration": 249,
    "start_time": "2022-05-08T07:32:10.361Z"
   },
   {
    "duration": 94,
    "start_time": "2022-05-08T07:32:10.612Z"
   },
   {
    "duration": 22,
    "start_time": "2022-05-08T07:32:10.708Z"
   },
   {
    "duration": 31,
    "start_time": "2022-05-08T07:32:10.753Z"
   },
   {
    "duration": 267,
    "start_time": "2022-05-08T07:32:10.787Z"
   },
   {
    "duration": 334,
    "start_time": "2022-05-08T07:32:11.057Z"
   },
   {
    "duration": 104,
    "start_time": "2022-05-08T07:33:31.887Z"
   },
   {
    "duration": 167,
    "start_time": "2022-05-08T07:34:03.386Z"
   },
   {
    "duration": 79,
    "start_time": "2022-05-08T07:34:22.418Z"
   },
   {
    "duration": 78,
    "start_time": "2022-05-08T07:34:49.544Z"
   },
   {
    "duration": 24,
    "start_time": "2022-05-08T07:35:05.862Z"
   },
   {
    "duration": 31,
    "start_time": "2022-05-08T07:35:19.489Z"
   },
   {
    "duration": 1552,
    "start_time": "2022-05-08T09:22:26.030Z"
   },
   {
    "duration": 280,
    "start_time": "2022-05-08T09:22:27.585Z"
   },
   {
    "duration": 48,
    "start_time": "2022-05-08T09:22:27.868Z"
   },
   {
    "duration": 248,
    "start_time": "2022-05-08T09:22:27.918Z"
   },
   {
    "duration": 19,
    "start_time": "2022-05-08T09:22:28.170Z"
   },
   {
    "duration": 130,
    "start_time": "2022-05-08T09:22:28.191Z"
   },
   {
    "duration": 30,
    "start_time": "2022-05-08T09:22:28.324Z"
   },
   {
    "duration": 14,
    "start_time": "2022-05-08T09:22:28.358Z"
   },
   {
    "duration": 47,
    "start_time": "2022-05-08T09:22:28.375Z"
   },
   {
    "duration": 27,
    "start_time": "2022-05-08T09:22:28.425Z"
   },
   {
    "duration": 22,
    "start_time": "2022-05-08T09:22:28.455Z"
   },
   {
    "duration": 241,
    "start_time": "2022-05-08T09:22:28.479Z"
   },
   {
    "duration": 88,
    "start_time": "2022-05-08T09:22:28.722Z"
   },
   {
    "duration": 16,
    "start_time": "2022-05-08T09:22:28.815Z"
   },
   {
    "duration": 63,
    "start_time": "2022-05-08T09:22:28.852Z"
   },
   {
    "duration": 83,
    "start_time": "2022-05-08T09:22:28.917Z"
   },
   {
    "duration": 184984,
    "start_time": "2022-05-08T09:22:29.002Z"
   },
   {
    "duration": 20,
    "start_time": "2022-05-08T09:25:33.989Z"
   },
   {
    "duration": 18299,
    "start_time": "2022-05-08T09:25:34.011Z"
   },
   {
    "duration": 76,
    "start_time": "2022-05-08T09:25:52.312Z"
   },
   {
    "duration": 26,
    "start_time": "2022-05-08T09:25:52.391Z"
   },
   {
    "duration": 82,
    "start_time": "2022-05-08T09:25:52.419Z"
   },
   {
    "duration": 49,
    "start_time": "2022-05-08T09:25:52.504Z"
   },
   {
    "duration": 43,
    "start_time": "2022-05-08T09:25:52.556Z"
   },
   {
    "duration": 22,
    "start_time": "2022-05-08T09:25:52.602Z"
   },
   {
    "duration": 50,
    "start_time": "2022-05-08T09:25:52.626Z"
   },
   {
    "duration": 44,
    "start_time": "2022-05-08T09:25:52.679Z"
   },
   {
    "duration": 451,
    "start_time": "2022-05-08T09:25:52.751Z"
   },
   {
    "duration": 52,
    "start_time": "2022-05-08T09:25:53.205Z"
   },
   {
    "duration": 308,
    "start_time": "2022-05-08T09:25:53.260Z"
   },
   {
    "duration": 8,
    "start_time": "2022-05-08T09:25:53.570Z"
   },
   {
    "duration": 91,
    "start_time": "2022-05-08T09:25:53.583Z"
   },
   {
    "duration": 523,
    "start_time": "2022-05-08T09:25:53.677Z"
   },
   {
    "duration": 391,
    "start_time": "2022-05-08T09:25:54.203Z"
   },
   {
    "duration": 498,
    "start_time": "2022-05-08T09:25:54.596Z"
   },
   {
    "duration": 759,
    "start_time": "2022-05-08T09:25:55.097Z"
   },
   {
    "duration": 127,
    "start_time": "2022-05-08T09:25:55.859Z"
   },
   {
    "duration": 443,
    "start_time": "2022-05-08T09:25:55.989Z"
   },
   {
    "duration": 93,
    "start_time": "2022-05-08T09:25:56.435Z"
   },
   {
    "duration": 37,
    "start_time": "2022-05-08T09:25:56.531Z"
   },
   {
    "duration": 43,
    "start_time": "2022-05-08T09:25:56.575Z"
   },
   {
    "duration": 109,
    "start_time": "2022-05-08T09:25:56.620Z"
   },
   {
    "duration": 283,
    "start_time": "2022-05-08T09:25:56.731Z"
   },
   {
    "duration": 15,
    "start_time": "2022-05-08T09:25:57.016Z"
   },
   {
    "duration": 264,
    "start_time": "2022-05-08T09:25:57.053Z"
   },
   {
    "duration": 48,
    "start_time": "2022-05-08T09:25:57.319Z"
   },
   {
    "duration": 23,
    "start_time": "2022-05-08T09:25:57.370Z"
   },
   {
    "duration": 269,
    "start_time": "2022-05-08T09:25:57.396Z"
   },
   {
    "duration": 99,
    "start_time": "2022-05-08T09:25:57.668Z"
   },
   {
    "duration": 23,
    "start_time": "2022-05-08T09:25:57.769Z"
   },
   {
    "duration": 29,
    "start_time": "2022-05-08T09:25:57.794Z"
   },
   {
    "duration": 257,
    "start_time": "2022-05-08T09:25:57.852Z"
   },
   {
    "duration": 344,
    "start_time": "2022-05-08T09:25:58.111Z"
   },
   {
    "duration": 71,
    "start_time": "2022-05-08T09:43:02.311Z"
   },
   {
    "duration": 1513,
    "start_time": "2022-05-08T09:43:08.163Z"
   },
   {
    "duration": 275,
    "start_time": "2022-05-08T09:43:09.678Z"
   },
   {
    "duration": 69,
    "start_time": "2022-05-08T09:43:09.956Z"
   },
   {
    "duration": 294,
    "start_time": "2022-05-08T09:43:10.029Z"
   },
   {
    "duration": 29,
    "start_time": "2022-05-08T09:43:10.325Z"
   },
   {
    "duration": 125,
    "start_time": "2022-05-08T09:43:10.356Z"
   },
   {
    "duration": 25,
    "start_time": "2022-05-08T09:43:10.484Z"
   },
   {
    "duration": 15,
    "start_time": "2022-05-08T09:43:10.512Z"
   },
   {
    "duration": 41,
    "start_time": "2022-05-08T09:43:10.552Z"
   },
   {
    "duration": 16,
    "start_time": "2022-05-08T09:43:10.597Z"
   },
   {
    "duration": 37,
    "start_time": "2022-05-08T09:43:10.615Z"
   },
   {
    "duration": 253,
    "start_time": "2022-05-08T09:43:10.654Z"
   },
   {
    "duration": 91,
    "start_time": "2022-05-08T09:43:10.910Z"
   },
   {
    "duration": 15,
    "start_time": "2022-05-08T09:43:11.003Z"
   },
   {
    "duration": 81,
    "start_time": "2022-05-08T09:43:11.020Z"
   },
   {
    "duration": 89,
    "start_time": "2022-05-08T09:43:11.103Z"
   },
   {
    "duration": 209961,
    "start_time": "2022-05-08T09:43:11.194Z"
   },
   {
    "duration": 21,
    "start_time": "2022-05-08T09:46:41.157Z"
   },
   {
    "duration": 17629,
    "start_time": "2022-05-08T09:46:41.181Z"
   },
   {
    "duration": 88,
    "start_time": "2022-05-08T09:46:58.812Z"
   },
   {
    "duration": 28,
    "start_time": "2022-05-08T09:46:58.903Z"
   },
   {
    "duration": 83,
    "start_time": "2022-05-08T09:46:58.934Z"
   },
   {
    "duration": 56,
    "start_time": "2022-05-08T09:46:59.019Z"
   },
   {
    "duration": 46,
    "start_time": "2022-05-08T09:46:59.077Z"
   },
   {
    "duration": 47,
    "start_time": "2022-05-08T09:46:59.125Z"
   },
   {
    "duration": 33,
    "start_time": "2022-05-08T09:46:59.175Z"
   },
   {
    "duration": 64,
    "start_time": "2022-05-08T09:46:59.211Z"
   },
   {
    "duration": 472,
    "start_time": "2022-05-08T09:46:59.285Z"
   },
   {
    "duration": 43,
    "start_time": "2022-05-08T09:46:59.760Z"
   },
   {
    "duration": 336,
    "start_time": "2022-05-08T09:46:59.805Z"
   },
   {
    "duration": 13,
    "start_time": "2022-05-08T09:47:00.143Z"
   },
   {
    "duration": 103,
    "start_time": "2022-05-08T09:47:00.158Z"
   },
   {
    "duration": 628,
    "start_time": "2022-05-08T09:47:00.263Z"
   },
   {
    "duration": 414,
    "start_time": "2022-05-08T09:47:00.894Z"
   },
   {
    "duration": 574,
    "start_time": "2022-05-08T09:47:01.310Z"
   },
   {
    "duration": 588,
    "start_time": "2022-05-08T09:47:01.886Z"
   },
   {
    "duration": 135,
    "start_time": "2022-05-08T09:47:02.476Z"
   },
   {
    "duration": 443,
    "start_time": "2022-05-08T09:47:02.613Z"
   },
   {
    "duration": 94,
    "start_time": "2022-05-08T09:47:03.059Z"
   },
   {
    "duration": 23,
    "start_time": "2022-05-08T09:47:03.156Z"
   },
   {
    "duration": 75,
    "start_time": "2022-05-08T09:47:03.181Z"
   },
   {
    "duration": 105,
    "start_time": "2022-05-08T09:47:03.259Z"
   },
   {
    "duration": 247,
    "start_time": "2022-05-08T09:47:03.368Z"
   },
   {
    "duration": 17,
    "start_time": "2022-05-08T09:47:03.618Z"
   },
   {
    "duration": 241,
    "start_time": "2022-05-08T09:47:03.652Z"
   },
   {
    "duration": 55,
    "start_time": "2022-05-08T09:47:03.897Z"
   },
   {
    "duration": 27,
    "start_time": "2022-05-08T09:47:03.955Z"
   },
   {
    "duration": 396,
    "start_time": "2022-05-08T09:47:03.986Z"
   },
   {
    "duration": 142,
    "start_time": "2022-05-08T09:47:04.385Z"
   },
   {
    "duration": 39,
    "start_time": "2022-05-08T09:47:04.530Z"
   },
   {
    "duration": 33,
    "start_time": "2022-05-08T09:47:04.571Z"
   },
   {
    "duration": 288,
    "start_time": "2022-05-08T09:47:04.606Z"
   },
   {
    "duration": 345,
    "start_time": "2022-05-08T09:47:04.896Z"
   },
   {
    "duration": 340,
    "start_time": "2022-05-08T09:50:16.916Z"
   },
   {
    "duration": 734,
    "start_time": "2022-05-08T09:50:40.511Z"
   },
   {
    "duration": 569,
    "start_time": "2022-05-08T09:51:32.371Z"
   },
   {
    "duration": 523,
    "start_time": "2022-05-08T09:52:06.664Z"
   },
   {
    "duration": 1934,
    "start_time": "2022-05-08T09:54:07.221Z"
   },
   {
    "duration": 394,
    "start_time": "2022-05-08T09:54:09.158Z"
   },
   {
    "duration": 78,
    "start_time": "2022-05-08T09:54:09.555Z"
   },
   {
    "duration": 398,
    "start_time": "2022-05-08T09:54:09.635Z"
   },
   {
    "duration": 36,
    "start_time": "2022-05-08T09:54:10.037Z"
   },
   {
    "duration": 168,
    "start_time": "2022-05-08T09:54:10.076Z"
   },
   {
    "duration": 29,
    "start_time": "2022-05-08T09:54:10.251Z"
   },
   {
    "duration": 19,
    "start_time": "2022-05-08T09:54:10.283Z"
   },
   {
    "duration": 62,
    "start_time": "2022-05-08T09:54:10.305Z"
   },
   {
    "duration": 21,
    "start_time": "2022-05-08T09:54:10.370Z"
   },
   {
    "duration": 16,
    "start_time": "2022-05-08T09:54:10.393Z"
   },
   {
    "duration": 263,
    "start_time": "2022-05-08T09:54:10.411Z"
   },
   {
    "duration": 93,
    "start_time": "2022-05-08T09:54:10.676Z"
   },
   {
    "duration": 16,
    "start_time": "2022-05-08T09:54:10.774Z"
   },
   {
    "duration": 86,
    "start_time": "2022-05-08T09:54:10.793Z"
   },
   {
    "duration": 95,
    "start_time": "2022-05-08T09:54:10.881Z"
   },
   {
    "duration": 201206,
    "start_time": "2022-05-08T09:54:10.978Z"
   },
   {
    "duration": 27,
    "start_time": "2022-05-08T09:57:32.186Z"
   },
   {
    "duration": 17526,
    "start_time": "2022-05-08T09:57:32.216Z"
   },
   {
    "duration": 60,
    "start_time": "2022-05-08T09:57:49.744Z"
   },
   {
    "duration": 27,
    "start_time": "2022-05-08T09:57:49.806Z"
   },
   {
    "duration": 60,
    "start_time": "2022-05-08T09:57:49.852Z"
   },
   {
    "duration": 57,
    "start_time": "2022-05-08T09:57:49.915Z"
   },
   {
    "duration": 43,
    "start_time": "2022-05-08T09:57:49.975Z"
   },
   {
    "duration": 44,
    "start_time": "2022-05-08T09:57:50.020Z"
   },
   {
    "duration": 28,
    "start_time": "2022-05-08T09:57:50.067Z"
   },
   {
    "duration": 54,
    "start_time": "2022-05-08T09:57:50.098Z"
   },
   {
    "duration": 301,
    "start_time": "2022-05-08T09:57:50.155Z"
   },
   {
    "duration": 29,
    "start_time": "2022-05-08T09:57:50.459Z"
   },
   {
    "duration": 326,
    "start_time": "2022-05-08T09:57:50.491Z"
   },
   {
    "duration": 8,
    "start_time": "2022-05-08T09:57:50.819Z"
   },
   {
    "duration": 123,
    "start_time": "2022-05-08T09:57:50.829Z"
   },
   {
    "duration": 777,
    "start_time": "2022-05-08T09:57:50.955Z"
   },
   {
    "duration": 578,
    "start_time": "2022-05-08T09:57:51.735Z"
   },
   {
    "duration": 715,
    "start_time": "2022-05-08T09:57:52.316Z"
   },
   {
    "duration": 500,
    "start_time": "2022-05-08T09:57:53.034Z"
   },
   {
    "duration": 107,
    "start_time": "2022-05-08T09:57:53.536Z"
   },
   {
    "duration": 368,
    "start_time": "2022-05-08T09:57:53.652Z"
   },
   {
    "duration": 65,
    "start_time": "2022-05-08T09:57:54.023Z"
   },
   {
    "duration": 17,
    "start_time": "2022-05-08T09:57:54.090Z"
   },
   {
    "duration": 61,
    "start_time": "2022-05-08T09:57:54.113Z"
   },
   {
    "duration": 91,
    "start_time": "2022-05-08T09:57:54.176Z"
   },
   {
    "duration": 236,
    "start_time": "2022-05-08T09:57:54.270Z"
   },
   {
    "duration": 18,
    "start_time": "2022-05-08T09:57:54.508Z"
   },
   {
    "duration": 327,
    "start_time": "2022-05-08T09:57:54.528Z"
   },
   {
    "duration": 48,
    "start_time": "2022-05-08T09:57:54.858Z"
   },
   {
    "duration": 45,
    "start_time": "2022-05-08T09:57:54.908Z"
   },
   {
    "duration": 273,
    "start_time": "2022-05-08T09:57:54.956Z"
   },
   {
    "duration": 96,
    "start_time": "2022-05-08T09:57:55.232Z"
   },
   {
    "duration": 50,
    "start_time": "2022-05-08T09:57:55.331Z"
   },
   {
    "duration": 34,
    "start_time": "2022-05-08T09:57:55.384Z"
   },
   {
    "duration": 301,
    "start_time": "2022-05-08T09:57:55.420Z"
   },
   {
    "duration": 353,
    "start_time": "2022-05-08T09:57:55.724Z"
   },
   {
    "duration": 1703,
    "start_time": "2022-05-09T07:38:54.076Z"
   },
   {
    "duration": 321,
    "start_time": "2022-05-09T07:38:55.782Z"
   },
   {
    "duration": 68,
    "start_time": "2022-05-09T07:38:56.106Z"
   },
   {
    "duration": 337,
    "start_time": "2022-05-09T07:38:56.177Z"
   },
   {
    "duration": 28,
    "start_time": "2022-05-09T07:38:56.518Z"
   },
   {
    "duration": 98,
    "start_time": "2022-05-09T07:38:56.548Z"
   },
   {
    "duration": 23,
    "start_time": "2022-05-09T07:38:56.648Z"
   },
   {
    "duration": 10,
    "start_time": "2022-05-09T07:38:56.673Z"
   },
   {
    "duration": 38,
    "start_time": "2022-05-09T07:38:56.685Z"
   },
   {
    "duration": 11,
    "start_time": "2022-05-09T07:38:56.725Z"
   },
   {
    "duration": 13,
    "start_time": "2022-05-09T07:38:56.737Z"
   },
   {
    "duration": 182,
    "start_time": "2022-05-09T07:38:56.752Z"
   },
   {
    "duration": 58,
    "start_time": "2022-05-09T07:38:56.936Z"
   },
   {
    "duration": 29,
    "start_time": "2022-05-09T07:38:56.998Z"
   },
   {
    "duration": 43,
    "start_time": "2022-05-09T07:38:57.029Z"
   },
   {
    "duration": 73,
    "start_time": "2022-05-09T07:38:57.074Z"
   },
   {
    "duration": 174337,
    "start_time": "2022-05-09T07:38:57.149Z"
   },
   {
    "duration": 15,
    "start_time": "2022-05-09T07:41:51.488Z"
   },
   {
    "duration": 12166,
    "start_time": "2022-05-09T07:41:51.504Z"
   },
   {
    "duration": 70,
    "start_time": "2022-05-09T07:42:03.672Z"
   },
   {
    "duration": 23,
    "start_time": "2022-05-09T07:42:03.744Z"
   },
   {
    "duration": 66,
    "start_time": "2022-05-09T07:42:03.769Z"
   },
   {
    "duration": 27,
    "start_time": "2022-05-09T07:42:03.837Z"
   },
   {
    "duration": 33,
    "start_time": "2022-05-09T07:42:03.866Z"
   },
   {
    "duration": 34,
    "start_time": "2022-05-09T07:42:03.901Z"
   },
   {
    "duration": 18,
    "start_time": "2022-05-09T07:42:03.936Z"
   },
   {
    "duration": 24,
    "start_time": "2022-05-09T07:42:03.956Z"
   },
   {
    "duration": 208,
    "start_time": "2022-05-09T07:42:03.982Z"
   },
   {
    "duration": 32,
    "start_time": "2022-05-09T07:42:04.192Z"
   },
   {
    "duration": 317,
    "start_time": "2022-05-09T07:42:04.226Z"
   },
   {
    "duration": 6,
    "start_time": "2022-05-09T07:42:04.546Z"
   },
   {
    "duration": 52,
    "start_time": "2022-05-09T07:42:04.554Z"
   },
   {
    "duration": 414,
    "start_time": "2022-05-09T07:42:04.608Z"
   },
   {
    "duration": 273,
    "start_time": "2022-05-09T07:42:05.024Z"
   },
   {
    "duration": 345,
    "start_time": "2022-05-09T07:42:05.299Z"
   },
   {
    "duration": 327,
    "start_time": "2022-05-09T07:42:05.646Z"
   },
   {
    "duration": 91,
    "start_time": "2022-05-09T07:42:05.974Z"
   },
   {
    "duration": 372,
    "start_time": "2022-05-09T07:42:06.067Z"
   },
   {
    "duration": 91,
    "start_time": "2022-05-09T07:42:06.442Z"
   },
   {
    "duration": 18,
    "start_time": "2022-05-09T07:42:06.535Z"
   },
   {
    "duration": 62,
    "start_time": "2022-05-09T07:42:06.559Z"
   },
   {
    "duration": 100,
    "start_time": "2022-05-09T07:42:06.624Z"
   },
   {
    "duration": 227,
    "start_time": "2022-05-09T07:42:06.727Z"
   },
   {
    "duration": 18,
    "start_time": "2022-05-09T07:42:06.956Z"
   },
   {
    "duration": 155,
    "start_time": "2022-05-09T07:42:06.976Z"
   },
   {
    "duration": 32,
    "start_time": "2022-05-09T07:42:07.132Z"
   },
   {
    "duration": 17,
    "start_time": "2022-05-09T07:42:07.166Z"
   },
   {
    "duration": 188,
    "start_time": "2022-05-09T07:42:07.184Z"
   },
   {
    "duration": 83,
    "start_time": "2022-05-09T07:42:07.374Z"
   },
   {
    "duration": 17,
    "start_time": "2022-05-09T07:42:07.459Z"
   },
   {
    "duration": 23,
    "start_time": "2022-05-09T07:42:07.477Z"
   },
   {
    "duration": 244,
    "start_time": "2022-05-09T07:42:07.524Z"
   },
   {
    "duration": 224,
    "start_time": "2022-05-09T07:42:07.770Z"
   },
   {
    "duration": 206,
    "start_time": "2022-05-09T08:00:33.097Z"
   },
   {
    "duration": 52,
    "start_time": "2022-05-09T11:37:15.774Z"
   },
   {
    "duration": 1380,
    "start_time": "2022-05-09T11:37:23.691Z"
   },
   {
    "duration": 230,
    "start_time": "2022-05-09T11:37:25.073Z"
   },
   {
    "duration": 3,
    "start_time": "2022-05-09T11:37:28.860Z"
   },
   {
    "duration": 255,
    "start_time": "2022-05-09T11:37:28.865Z"
   },
   {
    "duration": 36,
    "start_time": "2022-05-09T11:37:29.122Z"
   },
   {
    "duration": 207,
    "start_time": "2022-05-09T11:37:29.161Z"
   },
   {
    "duration": 15,
    "start_time": "2022-05-09T11:37:29.371Z"
   },
   {
    "duration": 90,
    "start_time": "2022-05-09T11:37:29.388Z"
   },
   {
    "duration": 18,
    "start_time": "2022-05-09T11:37:29.479Z"
   },
   {
    "duration": 11,
    "start_time": "2022-05-09T11:37:29.508Z"
   },
   {
    "duration": 29,
    "start_time": "2022-05-09T11:37:29.520Z"
   },
   {
    "duration": 10,
    "start_time": "2022-05-09T11:37:29.551Z"
   },
   {
    "duration": 9,
    "start_time": "2022-05-09T11:37:29.564Z"
   },
   {
    "duration": 180,
    "start_time": "2022-05-09T11:37:29.575Z"
   },
   {
    "duration": 68,
    "start_time": "2022-05-09T11:37:29.757Z"
   },
   {
    "duration": 12,
    "start_time": "2022-05-09T11:37:29.826Z"
   },
   {
    "duration": 42,
    "start_time": "2022-05-09T11:37:29.839Z"
   },
   {
    "duration": 67,
    "start_time": "2022-05-09T11:37:29.883Z"
   },
   {
    "duration": 125008,
    "start_time": "2022-05-09T11:37:29.952Z"
   },
   {
    "duration": 13,
    "start_time": "2022-05-09T11:39:34.962Z"
   },
   {
    "duration": 10507,
    "start_time": "2022-05-09T11:39:34.976Z"
   },
   {
    "duration": 51,
    "start_time": "2022-05-09T11:39:45.485Z"
   },
   {
    "duration": 19,
    "start_time": "2022-05-09T11:39:45.537Z"
   },
   {
    "duration": 59,
    "start_time": "2022-05-09T11:39:45.558Z"
   },
   {
    "duration": 25,
    "start_time": "2022-05-09T11:39:45.620Z"
   },
   {
    "duration": 31,
    "start_time": "2022-05-09T11:39:45.647Z"
   },
   {
    "duration": 43,
    "start_time": "2022-05-09T11:39:45.679Z"
   },
   {
    "duration": 26,
    "start_time": "2022-05-09T11:39:45.724Z"
   },
   {
    "duration": 29,
    "start_time": "2022-05-09T11:39:45.752Z"
   },
   {
    "duration": 220,
    "start_time": "2022-05-09T11:39:45.807Z"
   },
   {
    "duration": 26,
    "start_time": "2022-05-09T11:39:46.032Z"
   },
   {
    "duration": 322,
    "start_time": "2022-05-09T11:39:46.060Z"
   },
   {
    "duration": 24,
    "start_time": "2022-05-09T11:39:46.384Z"
   },
   {
    "duration": 66,
    "start_time": "2022-05-09T11:39:46.411Z"
   },
   {
    "duration": 459,
    "start_time": "2022-05-09T11:39:46.480Z"
   },
   {
    "duration": 304,
    "start_time": "2022-05-09T11:39:46.941Z"
   },
   {
    "duration": 384,
    "start_time": "2022-05-09T11:39:47.247Z"
   },
   {
    "duration": 341,
    "start_time": "2022-05-09T11:39:47.632Z"
   },
   {
    "duration": 76,
    "start_time": "2022-05-09T11:39:47.975Z"
   },
   {
    "duration": 291,
    "start_time": "2022-05-09T11:39:48.053Z"
   },
   {
    "duration": 47,
    "start_time": "2022-05-09T11:39:48.346Z"
   },
   {
    "duration": 22,
    "start_time": "2022-05-09T11:39:48.394Z"
   },
   {
    "duration": 31,
    "start_time": "2022-05-09T11:39:48.418Z"
   },
   {
    "duration": 87,
    "start_time": "2022-05-09T11:39:48.451Z"
   },
   {
    "duration": 161,
    "start_time": "2022-05-09T11:39:48.540Z"
   },
   {
    "duration": 12,
    "start_time": "2022-05-09T11:39:48.707Z"
   },
   {
    "duration": 165,
    "start_time": "2022-05-09T11:39:48.721Z"
   },
   {
    "duration": 43,
    "start_time": "2022-05-09T11:39:48.888Z"
   },
   {
    "duration": 20,
    "start_time": "2022-05-09T11:39:48.933Z"
   },
   {
    "duration": 185,
    "start_time": "2022-05-09T11:39:48.955Z"
   },
   {
    "duration": 72,
    "start_time": "2022-05-09T11:39:49.142Z"
   },
   {
    "duration": 19,
    "start_time": "2022-05-09T11:39:49.216Z"
   },
   {
    "duration": 23,
    "start_time": "2022-05-09T11:39:49.237Z"
   },
   {
    "duration": 212,
    "start_time": "2022-05-09T11:39:49.262Z"
   },
   {
    "duration": 256,
    "start_time": "2022-05-09T11:39:49.476Z"
   },
   {
    "duration": 5,
    "start_time": "2022-05-09T11:39:49.734Z"
   },
   {
    "duration": 5,
    "start_time": "2022-05-09T11:43:20.680Z"
   },
   {
    "duration": 16,
    "start_time": "2022-05-09T11:44:06.267Z"
   },
   {
    "duration": 67,
    "start_time": "2022-05-09T11:46:36.705Z"
   },
   {
    "duration": 67,
    "start_time": "2022-05-09T11:46:54.208Z"
   },
   {
    "duration": 59,
    "start_time": "2022-05-09T11:47:02.523Z"
   },
   {
    "duration": 54,
    "start_time": "2022-05-09T11:47:38.284Z"
   },
   {
    "duration": 49,
    "start_time": "2022-05-09T11:48:31.455Z"
   },
   {
    "duration": 53,
    "start_time": "2022-05-09T11:49:43.141Z"
   },
   {
    "duration": 54,
    "start_time": "2022-05-09T11:51:10.564Z"
   },
   {
    "duration": 65,
    "start_time": "2022-05-09T11:52:23.141Z"
   },
   {
    "duration": 55,
    "start_time": "2022-05-09T11:53:34.133Z"
   },
   {
    "duration": 55,
    "start_time": "2022-05-09T11:54:06.485Z"
   },
   {
    "duration": 57,
    "start_time": "2022-05-09T11:54:17.032Z"
   },
   {
    "duration": 54,
    "start_time": "2022-05-09T11:56:45.902Z"
   },
   {
    "duration": 55,
    "start_time": "2022-05-09T12:00:25.833Z"
   },
   {
    "duration": 52,
    "start_time": "2022-05-09T12:00:59.332Z"
   },
   {
    "duration": 54,
    "start_time": "2022-05-09T12:01:12.869Z"
   },
   {
    "duration": 57,
    "start_time": "2022-05-09T12:30:11.020Z"
   },
   {
    "duration": 53,
    "start_time": "2022-05-09T12:30:30.730Z"
   },
   {
    "duration": 1885,
    "start_time": "2022-05-09T17:16:03.876Z"
   },
   {
    "duration": 293,
    "start_time": "2022-05-09T17:16:05.764Z"
   },
   {
    "duration": 52,
    "start_time": "2022-05-09T17:16:06.059Z"
   },
   {
    "duration": 256,
    "start_time": "2022-05-09T17:16:06.114Z"
   },
   {
    "duration": 25,
    "start_time": "2022-05-09T17:16:06.374Z"
   },
   {
    "duration": 131,
    "start_time": "2022-05-09T17:16:06.400Z"
   },
   {
    "duration": 36,
    "start_time": "2022-05-09T17:16:06.533Z"
   },
   {
    "duration": 22,
    "start_time": "2022-05-09T17:16:06.571Z"
   },
   {
    "duration": 65,
    "start_time": "2022-05-09T17:16:06.595Z"
   },
   {
    "duration": 20,
    "start_time": "2022-05-09T17:16:06.663Z"
   },
   {
    "duration": 21,
    "start_time": "2022-05-09T17:16:06.685Z"
   },
   {
    "duration": 325,
    "start_time": "2022-05-09T17:16:06.709Z"
   },
   {
    "duration": 157,
    "start_time": "2022-05-09T17:16:07.037Z"
   },
   {
    "duration": 17,
    "start_time": "2022-05-09T17:16:07.199Z"
   },
   {
    "duration": 87,
    "start_time": "2022-05-09T17:16:07.218Z"
   },
   {
    "duration": 87,
    "start_time": "2022-05-09T17:16:07.307Z"
   },
   {
    "duration": 192946,
    "start_time": "2022-05-09T17:16:07.397Z"
   },
   {
    "duration": 20,
    "start_time": "2022-05-09T17:19:20.346Z"
   },
   {
    "duration": 16673,
    "start_time": "2022-05-09T17:19:20.392Z"
   },
   {
    "duration": 63,
    "start_time": "2022-05-09T17:19:37.068Z"
   },
   {
    "duration": 26,
    "start_time": "2022-05-09T17:19:37.134Z"
   },
   {
    "duration": 81,
    "start_time": "2022-05-09T17:19:37.162Z"
   },
   {
    "duration": 34,
    "start_time": "2022-05-09T17:19:37.245Z"
   },
   {
    "duration": 46,
    "start_time": "2022-05-09T17:19:37.281Z"
   },
   {
    "duration": 21,
    "start_time": "2022-05-09T17:19:37.329Z"
   },
   {
    "duration": 45,
    "start_time": "2022-05-09T17:19:37.352Z"
   },
   {
    "duration": 29,
    "start_time": "2022-05-09T17:19:37.399Z"
   },
   {
    "duration": 300,
    "start_time": "2022-05-09T17:19:37.430Z"
   },
   {
    "duration": 26,
    "start_time": "2022-05-09T17:19:37.732Z"
   },
   {
    "duration": 320,
    "start_time": "2022-05-09T17:19:37.761Z"
   },
   {
    "duration": 14,
    "start_time": "2022-05-09T17:19:38.084Z"
   },
   {
    "duration": 75,
    "start_time": "2022-05-09T17:19:38.101Z"
   },
   {
    "duration": 630,
    "start_time": "2022-05-09T17:19:38.178Z"
   },
   {
    "duration": 386,
    "start_time": "2022-05-09T17:19:38.810Z"
   },
   {
    "duration": 469,
    "start_time": "2022-05-09T17:19:39.198Z"
   },
   {
    "duration": 576,
    "start_time": "2022-05-09T17:19:39.669Z"
   },
   {
    "duration": 104,
    "start_time": "2022-05-09T17:19:40.248Z"
   },
   {
    "duration": 366,
    "start_time": "2022-05-09T17:19:40.355Z"
   },
   {
    "duration": 55,
    "start_time": "2022-05-09T17:19:40.723Z"
   },
   {
    "duration": 16,
    "start_time": "2022-05-09T17:19:40.793Z"
   },
   {
    "duration": 35,
    "start_time": "2022-05-09T17:19:40.815Z"
   },
   {
    "duration": 99,
    "start_time": "2022-05-09T17:19:40.852Z"
   },
   {
    "duration": 231,
    "start_time": "2022-05-09T17:19:40.954Z"
   },
   {
    "duration": 19,
    "start_time": "2022-05-09T17:19:41.187Z"
   },
   {
    "duration": 212,
    "start_time": "2022-05-09T17:19:41.208Z"
   },
   {
    "duration": 39,
    "start_time": "2022-05-09T17:19:41.422Z"
   },
   {
    "duration": 43,
    "start_time": "2022-05-09T17:19:41.463Z"
   },
   {
    "duration": 247,
    "start_time": "2022-05-09T17:19:41.509Z"
   },
   {
    "duration": 88,
    "start_time": "2022-05-09T17:19:41.758Z"
   },
   {
    "duration": 20,
    "start_time": "2022-05-09T17:19:41.849Z"
   },
   {
    "duration": 48,
    "start_time": "2022-05-09T17:19:41.871Z"
   },
   {
    "duration": 261,
    "start_time": "2022-05-09T17:19:41.922Z"
   },
   {
    "duration": 316,
    "start_time": "2022-05-09T17:19:42.193Z"
   },
   {
    "duration": 87,
    "start_time": "2022-05-09T17:19:42.511Z"
   },
   {
    "duration": 76,
    "start_time": "2022-05-09T20:53:20.949Z"
   },
   {
    "duration": 1249,
    "start_time": "2022-05-09T20:53:27.644Z"
   },
   {
    "duration": 763,
    "start_time": "2022-05-09T20:53:28.895Z"
   },
   {
    "duration": 67,
    "start_time": "2022-05-09T20:53:29.659Z"
   },
   {
    "duration": 330,
    "start_time": "2022-05-09T20:53:29.728Z"
   },
   {
    "duration": 36,
    "start_time": "2022-05-09T20:53:30.060Z"
   },
   {
    "duration": 84,
    "start_time": "2022-05-09T20:53:30.098Z"
   },
   {
    "duration": 24,
    "start_time": "2022-05-09T20:53:30.193Z"
   },
   {
    "duration": 10,
    "start_time": "2022-05-09T20:53:30.219Z"
   },
   {
    "duration": 48,
    "start_time": "2022-05-09T20:53:30.231Z"
   },
   {
    "duration": 12,
    "start_time": "2022-05-09T20:53:30.281Z"
   },
   {
    "duration": 18,
    "start_time": "2022-05-09T20:53:30.294Z"
   },
   {
    "duration": 170,
    "start_time": "2022-05-09T20:53:30.313Z"
   },
   {
    "duration": 66,
    "start_time": "2022-05-09T20:53:30.484Z"
   },
   {
    "duration": 11,
    "start_time": "2022-05-09T20:53:30.552Z"
   },
   {
    "duration": 94,
    "start_time": "2022-05-09T20:53:30.565Z"
   },
   {
    "duration": 57,
    "start_time": "2022-05-09T20:53:30.660Z"
   },
   {
    "duration": 148267,
    "start_time": "2022-05-09T20:53:30.719Z"
   },
   {
    "duration": 14,
    "start_time": "2022-05-09T20:55:58.993Z"
   },
   {
    "duration": 10752,
    "start_time": "2022-05-09T20:55:59.009Z"
   },
   {
    "duration": 49,
    "start_time": "2022-05-09T20:56:09.763Z"
   },
   {
    "duration": 28,
    "start_time": "2022-05-09T20:56:09.813Z"
   },
   {
    "duration": 77,
    "start_time": "2022-05-09T20:56:09.844Z"
   },
   {
    "duration": 36,
    "start_time": "2022-05-09T20:56:09.923Z"
   },
   {
    "duration": 62,
    "start_time": "2022-05-09T20:56:09.961Z"
   },
   {
    "duration": 16,
    "start_time": "2022-05-09T20:56:10.025Z"
   },
   {
    "duration": 20,
    "start_time": "2022-05-09T20:56:10.043Z"
   },
   {
    "duration": 48,
    "start_time": "2022-05-09T20:56:10.065Z"
   },
   {
    "duration": 196,
    "start_time": "2022-05-09T20:56:10.118Z"
   },
   {
    "duration": 19,
    "start_time": "2022-05-09T20:56:10.316Z"
   },
   {
    "duration": 216,
    "start_time": "2022-05-09T20:56:10.337Z"
   },
   {
    "duration": 5,
    "start_time": "2022-05-09T20:56:10.555Z"
   },
   {
    "duration": 66,
    "start_time": "2022-05-09T20:56:10.562Z"
   },
   {
    "duration": 374,
    "start_time": "2022-05-09T20:56:10.629Z"
   },
   {
    "duration": 259,
    "start_time": "2022-05-09T20:56:11.005Z"
   },
   {
    "duration": 328,
    "start_time": "2022-05-09T20:56:11.266Z"
   },
   {
    "duration": 318,
    "start_time": "2022-05-09T20:56:11.596Z"
   },
   {
    "duration": 78,
    "start_time": "2022-05-09T20:56:11.916Z"
   },
   {
    "duration": 235,
    "start_time": "2022-05-09T20:56:11.996Z"
   },
   {
    "duration": 58,
    "start_time": "2022-05-09T20:56:12.233Z"
   },
   {
    "duration": 13,
    "start_time": "2022-05-09T20:56:12.293Z"
   },
   {
    "duration": 28,
    "start_time": "2022-05-09T20:56:12.308Z"
   },
   {
    "duration": 82,
    "start_time": "2022-05-09T20:56:12.338Z"
   },
   {
    "duration": 147,
    "start_time": "2022-05-09T20:56:12.422Z"
   },
   {
    "duration": 12,
    "start_time": "2022-05-09T20:56:12.571Z"
   },
   {
    "duration": 145,
    "start_time": "2022-05-09T20:56:12.593Z"
   },
   {
    "duration": 53,
    "start_time": "2022-05-09T20:56:12.740Z"
   },
   {
    "duration": 22,
    "start_time": "2022-05-09T20:56:12.795Z"
   },
   {
    "duration": 165,
    "start_time": "2022-05-09T20:56:12.819Z"
   },
   {
    "duration": 65,
    "start_time": "2022-05-09T20:56:12.986Z"
   },
   {
    "duration": 16,
    "start_time": "2022-05-09T20:56:13.053Z"
   },
   {
    "duration": 38,
    "start_time": "2022-05-09T20:56:13.071Z"
   },
   {
    "duration": 257,
    "start_time": "2022-05-09T20:56:13.111Z"
   },
   {
    "duration": 327,
    "start_time": "2022-05-09T20:56:13.371Z"
   },
   {
    "duration": 101,
    "start_time": "2022-05-09T20:56:13.700Z"
   },
   {
    "duration": 10,
    "start_time": "2022-05-09T21:50:56.367Z"
   },
   {
    "duration": 117,
    "start_time": "2022-05-09T21:50:57.317Z"
   },
   {
    "duration": 56,
    "start_time": "2022-05-10T14:46:03.166Z"
   },
   {
    "duration": 1399,
    "start_time": "2022-05-10T18:01:02.123Z"
   },
   {
    "duration": 706,
    "start_time": "2022-05-10T18:01:03.525Z"
   },
   {
    "duration": 35,
    "start_time": "2022-05-10T18:01:04.233Z"
   },
   {
    "duration": 200,
    "start_time": "2022-05-10T18:01:04.270Z"
   },
   {
    "duration": 14,
    "start_time": "2022-05-10T18:01:04.472Z"
   },
   {
    "duration": 128,
    "start_time": "2022-05-10T18:01:04.492Z"
   },
   {
    "duration": 22,
    "start_time": "2022-05-10T18:01:04.621Z"
   },
   {
    "duration": 10,
    "start_time": "2022-05-10T18:01:04.645Z"
   },
   {
    "duration": 47,
    "start_time": "2022-05-10T18:01:04.656Z"
   },
   {
    "duration": 15,
    "start_time": "2022-05-10T18:01:04.708Z"
   },
   {
    "duration": 14,
    "start_time": "2022-05-10T18:01:04.724Z"
   },
   {
    "duration": 265,
    "start_time": "2022-05-10T18:01:04.741Z"
   },
   {
    "duration": 108,
    "start_time": "2022-05-10T18:01:05.008Z"
   },
   {
    "duration": 15,
    "start_time": "2022-05-10T18:01:05.119Z"
   },
   {
    "duration": 87,
    "start_time": "2022-05-10T18:01:05.137Z"
   },
   {
    "duration": 62,
    "start_time": "2022-05-10T18:01:05.226Z"
   },
   {
    "duration": 136640,
    "start_time": "2022-05-10T18:01:05.290Z"
   },
   {
    "duration": 18,
    "start_time": "2022-05-10T18:03:21.932Z"
   },
   {
    "duration": 11770,
    "start_time": "2022-05-10T18:03:21.953Z"
   },
   {
    "duration": 44,
    "start_time": "2022-05-10T18:03:33.725Z"
   },
   {
    "duration": 34,
    "start_time": "2022-05-10T18:03:33.770Z"
   },
   {
    "duration": 41,
    "start_time": "2022-05-10T18:03:33.806Z"
   },
   {
    "duration": 23,
    "start_time": "2022-05-10T18:03:33.849Z"
   },
   {
    "duration": 66,
    "start_time": "2022-05-10T18:03:33.874Z"
   },
   {
    "duration": 15,
    "start_time": "2022-05-10T18:03:33.943Z"
   },
   {
    "duration": 34,
    "start_time": "2022-05-10T18:03:33.960Z"
   },
   {
    "duration": 22,
    "start_time": "2022-05-10T18:03:34.005Z"
   },
   {
    "duration": 191,
    "start_time": "2022-05-10T18:03:34.031Z"
   },
   {
    "duration": 19,
    "start_time": "2022-05-10T18:03:34.224Z"
   },
   {
    "duration": 216,
    "start_time": "2022-05-10T18:03:34.245Z"
   },
   {
    "duration": 6,
    "start_time": "2022-05-10T18:03:34.463Z"
   },
   {
    "duration": 64,
    "start_time": "2022-05-10T18:03:34.470Z"
   },
   {
    "duration": 378,
    "start_time": "2022-05-10T18:03:34.536Z"
   },
   {
    "duration": 263,
    "start_time": "2022-05-10T18:03:34.916Z"
   },
   {
    "duration": 361,
    "start_time": "2022-05-10T18:03:35.181Z"
   },
   {
    "duration": 379,
    "start_time": "2022-05-10T18:03:35.543Z"
   },
   {
    "duration": 85,
    "start_time": "2022-05-10T18:03:35.924Z"
   },
   {
    "duration": 237,
    "start_time": "2022-05-10T18:03:36.011Z"
   },
   {
    "duration": 52,
    "start_time": "2022-05-10T18:03:36.250Z"
   },
   {
    "duration": 17,
    "start_time": "2022-05-10T18:03:36.304Z"
   },
   {
    "duration": 40,
    "start_time": "2022-05-10T18:03:36.324Z"
   },
   {
    "duration": 36,
    "start_time": "2022-05-10T18:03:36.366Z"
   },
   {
    "duration": 91,
    "start_time": "2022-05-10T18:03:36.405Z"
   },
   {
    "duration": 33,
    "start_time": "2022-05-10T18:03:36.498Z"
   },
   {
    "duration": 15,
    "start_time": "2022-05-10T18:03:36.532Z"
   },
   {
    "duration": 162,
    "start_time": "2022-05-10T18:03:36.549Z"
   },
   {
    "duration": 57,
    "start_time": "2022-05-10T18:03:36.713Z"
   },
   {
    "duration": 38,
    "start_time": "2022-05-10T18:03:36.772Z"
   },
   {
    "duration": 24,
    "start_time": "2022-05-10T18:03:36.812Z"
   },
   {
    "duration": 180,
    "start_time": "2022-05-10T18:03:36.838Z"
   },
   {
    "duration": 212,
    "start_time": "2022-05-10T18:03:37.020Z"
   },
   {
    "duration": 65,
    "start_time": "2022-05-10T18:03:37.233Z"
   }
  ],
  "kernelspec": {
   "display_name": "Python 3",
   "language": "python",
   "name": "python3"
  },
  "language_info": {
   "codemirror_mode": {
    "name": "ipython",
    "version": 3
   },
   "file_extension": ".py",
   "mimetype": "text/x-python",
   "name": "python",
   "nbconvert_exporter": "python",
   "pygments_lexer": "ipython3",
   "version": "3.8.5"
  },
  "toc": {
   "base_numbering": 1,
   "nav_menu": {},
   "number_sections": true,
   "sideBar": true,
   "skip_h1_title": true,
   "title_cell": "Содержание",
   "title_sidebar": "Contents",
   "toc_cell": true,
   "toc_position": {
    "height": "calc(100% - 180px)",
    "left": "10px",
    "top": "150px",
    "width": "165px"
   },
   "toc_section_display": true,
   "toc_window_display": true
  }
 },
 "nbformat": 4,
 "nbformat_minor": 2
}
